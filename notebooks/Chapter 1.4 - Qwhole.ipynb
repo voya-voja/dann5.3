{
 "cells": [
  {
   "cell_type": "markdown",
   "id": "7139167c",
   "metadata": {},
   "source": [
    "# Chapter 1.4 - Qwhole\n",
    "\n",
    "This chapter covers how to set Qwhole variables, create quantum expressions and assignments with those variables, and solve those expressions and assignments.\n",
    "\n",
    "**Qwhole, Quantum whole number**, is a quantum type supporting instantiation of variables and operations with those variables, which can have values within the set of positive integers (i.e. 0, 1, 2, 3, etc.).\n",
    "\n",
    "To start you must import the *Qwhole* class from d5 module of dann5 package.\n",
    "\n",
    "As with previously discussed quantum types, an instance of *Qwhole* can be created without any parameters, which will initialize the unidentified instance with *0* quantum bits and a value of *0*. Using the *id()* method of *Qwhole* an instance can be renamed at a later point of quantum program definition."
   ]
  },
  {
   "cell_type": "code",
   "execution_count": 1,
   "id": "5aa69982",
   "metadata": {},
   "outputs": [
    {
     "name": "stdout",
     "output_type": "stream",
     "text": [
      "\\0q:0\\\n",
      "id\\0q:0\\\n"
     ]
    }
   ],
   "source": [
    "from dann5.d5 import Qwhole\n",
    "q_whole = Qwhole()\n",
    "print(q_whole)\n",
    "\n",
    "q_whole.id(\"id\")\n",
    "print(q_whole)"
   ]
  },
  {
   "cell_type": "markdown",
   "id": "477c547e",
   "metadata": {},
   "source": [
    "The identity in quantum space can be set by using the *Qwhole* constructor with the string parameter at initialization resulting in an object which will still have *0* q-bits and a value of *0*.\n",
    "\n",
    "It is possible to use *resize()* method to increase or decrease the number of *Qbit*-s contained by *Qwhole* instance. In the following example, the number of q-bits within *q_whole* is first increased from 0 to 4, and then decreased to 2 q-bits. \n",
    "\n",
    "- **Note**: A *0* q-bit *Qwhole* instance is considered undefined in quantum space and the call of *resize()* method will add *Qbit*-s in superposition (*S*) state initializing an **unknown (*U*)** *Qwhole* instance."
   ]
  },
  {
   "cell_type": "code",
   "execution_count": 2,
   "id": "8a021e92",
   "metadata": {},
   "outputs": [
    {
     "name": "stdout",
     "output_type": "stream",
     "text": [
      "q_whole\\0q:0\\\n",
      "0\n",
      "q_whole\\4q:U\\\n",
      "q_whole\\4q:q_whole3\\S\\;q_whole2\\S\\;q_whole1\\S\\;q_whole0\\S\\;\\\n",
      "q_whole\\2q:q_whole1\\S\\;q_whole0\\S\\;\\\n"
     ]
    }
   ],
   "source": [
    "q_whole = Qwhole(\"q_whole\")\n",
    "print(q_whole)\n",
    "print(q_whole.value())\n",
    "\n",
    "q_whole.resize(4)\n",
    "print(q_whole)\n",
    "print(q_whole.toString(True))\n",
    "\n",
    "q_whole.resize(2)\n",
    "print(q_whole.toString(True))"
   ]
  },
  {
   "cell_type": "markdown",
   "id": "565e7207",
   "metadata": {},
   "source": [
    "- **Note**: While both of the initializations described above are valid, for continued use and ease of reading, it is recommended that at the time of initialization the quantum variables are identifiable in quantum space with allocated number of required *Qbit*-s.\n",
    "\n",
    "To define identifiable *Qwhole* variables and allocate their quantum bits, is to use a contractor with the number of quantum bits you would like to use as the first parameter and the name (id) of the variable in quantum space as the second parameter, as shown in the next example for *Qhole* variables *kurt* and *john*.\n",
    "\n",
    "These variables are initialized with 3 quantum bits and an unknown (*U*) value. The number of required quantum bits to be allocated depends on the scope of expected values in a valid solution of a quantum program. For example, if you expect that the valid solutions should be able to include the number 9 for a variable, you should allocate at least 4 quantum bits. \n",
    "\n",
    "As *kurt* and *john* Qwhole varaiables have 3 *Qbit*s allocated, it means their valid solutions can include numbers from *0 (0b000)* to *7 (0b111)*."
   ]
  },
  {
   "cell_type": "code",
   "execution_count": 3,
   "id": "4dda181e",
   "metadata": {},
   "outputs": [
    {
     "name": "stdout",
     "output_type": "stream",
     "text": [
      "kurt\\3q:U\\\n",
      "john\\3q:U\\\n"
     ]
    }
   ],
   "source": [
    "kurt = Qwhole(3, \"kurt\")\n",
    "john = Qwhole(3, \"john\")\n",
    "\n",
    "print(kurt)\n",
    "print(john)"
   ]
  },
  {
   "cell_type": "markdown",
   "id": "766621c0",
   "metadata": {},
   "source": [
    "As we have seen in the previous chapters, the definition and use of a constant in dann5 is same as definition and use of any other quantum variable. In this case we are setting the *Qwhole* variable *_10* to the value of *10*. To define *_10*, we use *Qwhole* constructor with a string parameter as the first argument to name the variable in the quantum space, and a integer value as the second parameter to define the determined value of that *Qwhole* variable. \n",
    "\n",
    "> In order to easily distinguish constants from variables we recommend using the syntax as in the following code cell.\n",
    "\n",
    "- **Note**: We are able to cast *Qwhole* type to *Qbin* type which will allow for application of all *Qbin* operators and operations and presentation of q-bits in *Qwhole* instance in binary format and when that is needed."
   ]
  },
  {
   "cell_type": "code",
   "execution_count": 4,
   "id": "1baa5035",
   "metadata": {},
   "outputs": [
    {
     "name": "stdout",
     "output_type": "stream",
     "text": [
      "Numeric value:\t\t_10\\4q:10\\;\n",
      "Binary equvalent:\t_10\\4q:1010\\;\n"
     ]
    }
   ],
   "source": [
    "_10 = Qwhole(\"_10\", 10)\n",
    "\n",
    "from dann5.d5 import Qbin\n",
    "print(\"Numeric value:\\t\\t{};\\nBinary equvalent:\\t{};\".format(_10, Qbin(_10)))"
   ]
  },
  {
   "cell_type": "markdown",
   "id": "86a4a5d1",
   "metadata": {},
   "source": [
    "## Qwhole expressions\n",
    "A **quantum expression** can be created by using quantum-whole variables and their arithmetic operations, such as simple addition. \n",
    "\n",
    "When printing out the *expression1* variable, we see the quantum addition operation between two *Qwhole* variables, and the number of quantum-bits allocated to each of the variables, followed by their initialized values, which in this case are unknown (*U*)."
   ]
  },
  {
   "cell_type": "code",
   "execution_count": 5,
   "id": "03ad314c",
   "metadata": {},
   "outputs": [
    {
     "name": "stdout",
     "output_type": "stream",
     "text": [
      "(kurt\\3q:U\\ + john\\3q:U\\)\n"
     ]
    }
   ],
   "source": [
    "expression1 = kurt + john\n",
    "\n",
    "print(expression1)"
   ]
  },
  {
   "cell_type": "markdown",
   "id": "ee5dbc9a",
   "metadata": {},
   "source": [
    "When we printout d5vc by using *toString()* method with decomposed parameter set to *True*, on a q-bit level we see the use of \".+\", which represents a half-adder has two *Qbit* inputs and two *Qbit* outputs, as a result and carryover q-bits.\n",
    "\n",
    "In this context the *Qbit* full-adder (or just adder) is present used in line two and three of the *expression1* d5vc. The full-adder has 3 *Qbit* inputs, e.g. *kurt1, john1*, and *#[_+30]* representing a carryover from the half-adder with result *Qbit* with id *_+30* (i.e. line 0). \n",
    "\n",
    "> _+00\\S\\ = kurt0\\S\\ **.+** john0\\S\\; \n",
    ">\n",
    "> \\_+01\\S\\ = kurt1\\S\\ **+** john1\\S\\ **+** #[_+00]\\S\\; \n",
    "\n",
    "- **Note**: The sharp symbol (*#*) over (*[]*) a variable name indicates a *Qbit* carryover output of the *Qbit* addition with the resulting *Qbit* output with the same name.\n",
    "\n",
    "The Python string *replace()* method allows the d5vc string representation to be formatted line by line when needed.\n",
    "\n",
    "- **Note**: *_+0* variable has been initialized with 4 quantum-bits, which are needed since adding two 3 quantum bit variables together can create results that need one more quantum bit to properly present all the possible values in the set of valid solutions."
   ]
  },
  {
   "cell_type": "code",
   "execution_count": 6,
   "id": "3cbd4a51",
   "metadata": {},
   "outputs": [
    {
     "name": "stdout",
     "output_type": "stream",
     "text": [
      "_+00\\S\\ = kurt0\\S\\ .+ john0\\S\\;\n",
      " _+01\\S\\ = kurt1\\S\\ + john1\\S\\ + #[_+00]\\S\\;\n",
      " _+02\\S\\ = kurt2\\S\\ + john2\\S\\ + #[_+01]\\S\\;\n",
      " _+03\\S\\ = #[_+02]\\S\\;\n",
      " \n"
     ]
    }
   ],
   "source": [
    "print(expression1.toString(True).replace(\";\", \";\\n\"))"
   ]
  },
  {
   "cell_type": "markdown",
   "id": "e10f7d80",
   "metadata": {},
   "source": [
    "As before to solve a *Qwhole* expression we will import the Solver and activate the dann5 default solver instance.\n",
    "\n",
    "The valid solution set must include all possible results of the addition of two variables with 3 bits, which means that each variable can be any number between *0* and *7*. \n",
    "\n",
    "- **Note**: The solution set will include all possible combinations including when *kurt* is *6* and *john* is *4*, and the opposite combination where *kurt* is *4* and *john* is *6*, which means 2\\**3 (2 on 3) for *kurt* and 2\\**3 for *john* makes a total of 2\\**6 solutions, or 64 possible combinations in a valid solution set for the *expression1*. "
   ]
  },
  {
   "cell_type": "code",
   "execution_count": 7,
   "id": "11e9e6f6",
   "metadata": {},
   "outputs": [
    {
     "name": "stdout",
     "output_type": "stream",
     "text": [
      "_+0\\4b:0\\; kurt\\3b:0\\; john\\3b:0\\\n",
      "_+0\\4b:8\\; kurt\\3b:4\\; john\\3b:4\\\n",
      "_+0\\4b:4\\; kurt\\3b:4\\; john\\3b:0\\\n",
      "_+0\\4b:4\\; kurt\\3b:0\\; john\\3b:4\\\n",
      "_+0\\4b:2\\; kurt\\3b:2\\; john\\3b:0\\\n",
      "_+0\\4b:2\\; kurt\\3b:0\\; john\\3b:2\\\n",
      "_+0\\4b:10\\; kurt\\3b:6\\; john\\3b:4\\\n",
      "_+0\\4b:10\\; kurt\\3b:4\\; john\\3b:6\\\n",
      "_+0\\4b:6\\; kurt\\3b:6\\; john\\3b:0\\\n",
      "_+0\\4b:6\\; kurt\\3b:2\\; john\\3b:4\\\n",
      "_+0\\4b:6\\; kurt\\3b:4\\; john\\3b:2\\\n",
      "_+0\\4b:6\\; kurt\\3b:0\\; john\\3b:6\\\n",
      "_+0\\4b:1\\; kurt\\3b:1\\; john\\3b:0\\\n",
      "_+0\\4b:1\\; kurt\\3b:0\\; john\\3b:1\\\n",
      "_+0\\4b:9\\; kurt\\3b:5\\; john\\3b:4\\\n",
      "_+0\\4b:9\\; kurt\\3b:4\\; john\\3b:5\\\n",
      "_+0\\4b:5\\; kurt\\3b:5\\; john\\3b:0\\\n",
      "_+0\\4b:5\\; kurt\\3b:1\\; john\\3b:4\\\n",
      "_+0\\4b:5\\; kurt\\3b:4\\; john\\3b:1\\\n",
      "_+0\\4b:5\\; kurt\\3b:0\\; john\\3b:5\\\n",
      "_+0\\4b:3\\; kurt\\3b:3\\; john\\3b:0\\\n",
      "_+0\\4b:3\\; kurt\\3b:1\\; john\\3b:2\\\n",
      "_+0\\4b:3\\; kurt\\3b:2\\; john\\3b:1\\\n",
      "_+0\\4b:3\\; kurt\\3b:0\\; john\\3b:3\\\n",
      "_+0\\4b:11\\; kurt\\3b:7\\; john\\3b:4\\\n",
      "_+0\\4b:11\\; kurt\\3b:5\\; john\\3b:6\\\n",
      "_+0\\4b:11\\; kurt\\3b:6\\; john\\3b:5\\\n",
      "_+0\\4b:11\\; kurt\\3b:4\\; john\\3b:7\\\n",
      "_+0\\4b:7\\; kurt\\3b:7\\; john\\3b:0\\\n",
      "_+0\\4b:7\\; kurt\\3b:3\\; john\\3b:4\\\n",
      "_+0\\4b:7\\; kurt\\3b:5\\; john\\3b:2\\\n",
      "_+0\\4b:7\\; kurt\\3b:1\\; john\\3b:6\\\n",
      "_+0\\4b:7\\; kurt\\3b:6\\; john\\3b:1\\\n",
      "_+0\\4b:7\\; kurt\\3b:2\\; john\\3b:5\\\n",
      "_+0\\4b:7\\; kurt\\3b:4\\; john\\3b:3\\\n",
      "_+0\\4b:7\\; kurt\\3b:0\\; john\\3b:7\\\n",
      "_+0\\4b:2\\; kurt\\3b:1\\; john\\3b:1\\\n",
      "_+0\\4b:10\\; kurt\\3b:5\\; john\\3b:5\\\n",
      "_+0\\4b:6\\; kurt\\3b:5\\; john\\3b:1\\\n",
      "_+0\\4b:6\\; kurt\\3b:1\\; john\\3b:5\\\n",
      "_+0\\4b:8\\; kurt\\3b:6\\; john\\3b:2\\\n",
      "_+0\\4b:8\\; kurt\\3b:2\\; john\\3b:6\\\n",
      "_+0\\4b:4\\; kurt\\3b:2\\; john\\3b:2\\\n",
      "_+0\\4b:12\\; kurt\\3b:6\\; john\\3b:6\\\n",
      "_+0\\4b:9\\; kurt\\3b:7\\; john\\3b:2\\\n",
      "_+0\\4b:9\\; kurt\\3b:3\\; john\\3b:6\\\n",
      "_+0\\4b:9\\; kurt\\3b:6\\; john\\3b:3\\\n",
      "_+0\\4b:9\\; kurt\\3b:2\\; john\\3b:7\\\n",
      "_+0\\4b:5\\; kurt\\3b:3\\; john\\3b:2\\\n",
      "_+0\\4b:5\\; kurt\\3b:2\\; john\\3b:3\\\n",
      "_+0\\4b:13\\; kurt\\3b:7\\; john\\3b:6\\\n",
      "_+0\\4b:13\\; kurt\\3b:6\\; john\\3b:7\\\n",
      "_+0\\4b:8\\; kurt\\3b:7\\; john\\3b:1\\\n",
      "_+0\\4b:8\\; kurt\\3b:3\\; john\\3b:5\\\n",
      "_+0\\4b:8\\; kurt\\3b:5\\; john\\3b:3\\\n",
      "_+0\\4b:8\\; kurt\\3b:1\\; john\\3b:7\\\n",
      "_+0\\4b:4\\; kurt\\3b:3\\; john\\3b:1\\\n",
      "_+0\\4b:4\\; kurt\\3b:1\\; john\\3b:3\\\n",
      "_+0\\4b:12\\; kurt\\3b:7\\; john\\3b:5\\\n",
      "_+0\\4b:12\\; kurt\\3b:5\\; john\\3b:7\\\n",
      "_+0\\4b:10\\; kurt\\3b:7\\; john\\3b:3\\\n",
      "_+0\\4b:10\\; kurt\\3b:3\\; john\\3b:7\\\n",
      "_+0\\4b:6\\; kurt\\3b:3\\; john\\3b:3\\\n",
      "_+0\\4b:14\\; kurt\\3b:7\\; john\\3b:7\\\n",
      "\n"
     ]
    }
   ],
   "source": [
    "from dann5.dwave import Solver\n",
    "Solver.Active()\n",
    "print(expression1.solve())"
   ]
  },
  {
   "cell_type": "markdown",
   "id": "3f040744",
   "metadata": {},
   "source": [
    "## Qwhole assignments\n",
    "\n",
    "We reset the *expression1* variable to reuse it in creation of a **quantum assignment** and we use *_10* *Qhole* variable, defined earlier in this chapter, as the *assignment1* assignee. The printout of the *assignment* in quantum space is shown below. The *_10* has allocated 4 q-bits with a value of *10*, and unknown (*U*) variables *kurt* and *john* have allocated q-bits."
   ]
  },
  {
   "cell_type": "code",
   "execution_count": 8,
   "id": "169dff28",
   "metadata": {},
   "outputs": [
    {
     "name": "stdout",
     "output_type": "stream",
     "text": [
      "_10\\4q:10\\ = (kurt\\3q:U\\ + john\\3q:U\\)\n"
     ]
    }
   ],
   "source": [
    "expression1.reset()\n",
    "assignment1 = _10.assign(expression1)\n",
    "\n",
    "print(assignment1)"
   ]
  },
  {
   "cell_type": "markdown",
   "id": "0ac7e435",
   "metadata": {},
   "source": [
    "By solving the *assignment1* the valid solution set will contain the combinations of values for *kurt* and *john* that add up to *10*. This is a subset of valid solutions generated when the *expression1* was solved earlier."
   ]
  },
  {
   "cell_type": "code",
   "execution_count": 9,
   "id": "a7ad8f17",
   "metadata": {},
   "outputs": [
    {
     "name": "stdout",
     "output_type": "stream",
     "text": [
      "_10\\4b:10\\; kurt\\3b:6\\; john\\3b:4\\\n",
      "_10\\4b:10\\; kurt\\3b:4\\; john\\3b:6\\\n",
      "_10\\4b:10\\; kurt\\3b:5\\; john\\3b:5\\\n",
      "_10\\4b:10\\; kurt\\3b:7\\; john\\3b:3\\\n",
      "_10\\4b:10\\; kurt\\3b:3\\; john\\3b:7\\\n",
      "\n"
     ]
    }
   ],
   "source": [
    "print(assignment1.solve())"
   ]
  },
  {
   "cell_type": "markdown",
   "id": "3403091f",
   "metadata": {},
   "source": [
    "- **Note**: Since we can cast types from *Qwhole* to *Qbin* we can also define quantum expressions and assignments using the cast instances. Also, *Qbin* operations and operators can be applied against instances of *Qwhole* type. \n",
    "\n",
    "- **Note**: The quantum arithmetic operations are exclusively available for instances of *Qwhole* type, and they cannot be used  with instances of *Qbin* type. \n",
    "\n",
    "For example, the following code will not work:\n",
    "\n",
    ">_11 = **Qbin**(\"_11\", Bits(11))\n",
    ">\n",
    "> assignment2 = _11.assign(kurt **+** john)\n",
    ">\n",
    "> print(assignment2.solve())\n",
    "\n",
    "But if you change the expression to use a quantum bitwise operation *AND (&)*, as shown below, it will work:\n"
   ]
  },
  {
   "cell_type": "code",
   "execution_count": 10,
   "id": "5c09cf6f",
   "metadata": {},
   "outputs": [
    {
     "name": "stdout",
     "output_type": "stream",
     "text": [
      "_11\\4b:1011\\; kurt\\3b:3\\; john\\3b:3\\\n",
      "_11\\4b:1011\\; kurt\\3b:7\\; john\\3b:3\\\n",
      "_11\\4b:1011\\; kurt\\3b:3\\; john\\3b:7\\\n",
      "\n"
     ]
    }
   ],
   "source": [
    "from dann5.d5 import Bits\n",
    "_11 = Qbin(\"_11\", Bits(11))\n",
    "\n",
    "assignment2 = _11.assign(kurt & john)\n",
    "print(assignment2.solve())"
   ]
  },
  {
   "cell_type": "markdown",
   "id": "6cc9a67a",
   "metadata": {},
   "source": [
    "## Qwhole arithmetic operations\n",
    "The operations possible for Qwhole values are the basic arithmetic operations, being **addition (*+*), subtraction (*-*), multiplication (*) and division (*/*)**.\n",
    "\n",
    "There are differences between the addition/multiplication operations and the subtraction/division operations and how they are used on *Qwhole* variables. This is mainly because addition/multiplication are commutative, while subtraction/division are not.\n",
    "\n",
    "Dann5 rules for Subtraction/Division:\n",
    ">\n",
    "> 1) The dividend/minuend variable (left side of operator) will get quantum-bits added automatically if needed to allow for an integrity of the expression to be preserved.\n",
    ">\n",
    "> 2) The divisor/subtrahend variable (right side of operator) will have the same number of quantum bits as specified.\n",
    "\n",
    "For example, we have two unknown (*U*) *Qwhole* variables, *carl* as a minuend and *betty* as a subtrahend, defined with 3 q-bits each. The expected result of the quantum subtraction expression *carl - betty* is *6*, represented with *_6* *Qwhole* constant, which is an assignee of the quantum assignment *assignment3*."
   ]
  },
  {
   "cell_type": "code",
   "execution_count": 11,
   "id": "e70b76f3",
   "metadata": {},
   "outputs": [
    {
     "name": "stdout",
     "output_type": "stream",
     "text": [
      "_6\\3q:6\\ = (carl\\4q:U\\ - betty\\3q:U\\)\n",
      "_6\\3b:6\\; carl\\4b:10\\; betty\\3b:4\\\n",
      "_6\\3b:6\\; carl\\4b:6\\; betty\\3b:0\\\n",
      "_6\\3b:6\\; carl\\4b:11\\; betty\\3b:5\\\n",
      "_6\\3b:6\\; carl\\4b:7\\; betty\\3b:1\\\n",
      "_6\\3b:6\\; carl\\4b:8\\; betty\\3b:2\\\n",
      "_6\\3b:6\\; carl\\4b:12\\; betty\\3b:6\\\n",
      "_6\\3b:6\\; carl\\4b:9\\; betty\\3b:3\\\n",
      "_6\\3b:6\\; carl\\4b:13\\; betty\\3b:7\\\n",
      "\n"
     ]
    }
   ],
   "source": [
    "carl = Qwhole(3, \"carl\")\n",
    "betty = Qwhole(3, \"betty\")\n",
    "_6 = Qwhole(\"_6\", 6)\n",
    "\n",
    "assignment3 = _6.assign(carl - betty)\n",
    "print(assignment3)\n",
    "\n",
    "print(assignment3.solve())"
   ]
  },
  {
   "cell_type": "markdown",
   "id": "b42a1934",
   "metadata": {},
   "source": [
    "As you can see from the above output the number of quantum bits allocated to the variable *carl* has increased, with the highest value being \"13\". This demonstrates that the number of quantum bits allocated to the variable *betty* controls the number of possible solutions. As we can see all *8* combinations of numbers that are allowed in 3 quantum-bits (0-7) are present in the list of possible solutions."
   ]
  },
  {
   "cell_type": "markdown",
   "id": "570506e8",
   "metadata": {},
   "source": [
    "## Try it\n",
    "Feel free to use the cell below to experiment with different *Qwhole* operations and variables:\n",
    "\n",
    "- **Note**: when using multiplication/division operations do not set more than 3 quantum bits per variable as the time to solve those operations on the simulator will be quite high. In later chapters when we cover sending information to the quantum computers when we will be able to use higher number of quantum-bits."
   ]
  },
  {
   "cell_type": "code",
   "execution_count": 12,
   "id": "dcbc1a9d",
   "metadata": {},
   "outputs": [
    {
     "name": "stdout",
     "output_type": "stream",
     "text": [
      "result2\\6q:24\\ = (roger\\3q:U\\ * bobby\\3q:U\\)\n",
      "result2\\6b:24\\; roger\\3b:4\\; bobby\\3b:6\\\n",
      "result2\\6b:24\\; roger\\3b:6\\; bobby\\3b:4\\\n",
      "\n"
     ]
    }
   ],
   "source": [
    "from dann5.d5 import Qwhole\n",
    "roger = Qwhole(3, \"roger\")\n",
    "bobby = Qwhole(3, \"bobby\")\n",
    "result2 = Qwhole(\"result2\", 24)\n",
    "\n",
    "assignment2 = result2.assign(roger * bobby)\n",
    "print(assignment2)\n",
    "\n",
    "print(assignment2.solve())"
   ]
  },
  {
   "cell_type": "markdown",
   "id": "6505ec31",
   "metadata": {},
   "source": [
    "In **the next chapter** we will cover ***Qint* type**. In chapter 2.4., we will expand and look at how *Qwhoole* operations and operands are used to define more complex quantum expressions and assignments."
   ]
  }
 ],
 "metadata": {
  "kernelspec": {
   "display_name": "Python 3 (ipykernel)",
   "language": "python",
   "name": "python3"
  },
  "language_info": {
   "codemirror_mode": {
    "name": "ipython",
    "version": 3
   },
   "file_extension": ".py",
   "mimetype": "text/x-python",
   "name": "python",
   "nbconvert_exporter": "python",
   "pygments_lexer": "ipython3",
   "version": "3.10.6"
  }
 },
 "nbformat": 4,
 "nbformat_minor": 5
}
