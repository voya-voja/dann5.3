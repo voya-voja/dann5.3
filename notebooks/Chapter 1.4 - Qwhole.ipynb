{
 "cells": [
  {
   "cell_type": "markdown",
   "id": "7139167c",
   "metadata": {},
   "source": [
    "# Chapter 1.4 - Qwhole\n",
    "\n",
    "In this section of chapter 1 we will be walking through how to set Qwhole variables, create expressions and assignments with those variables and solve those expressions and assignments.\n",
    "\n",
    "Qwhole Quantum whole numbers, Qwhole is a quantum type supporting instantiation of and operations over variables which can have values comprised of any positive integers (e.g. 1, 2, 3, etc.)\n",
    "\n",
    "To start you must import the Qwhole class from dann5.\n",
    "\n",
    "An instance of Qhwhole can be created by use of a default constructor parameter, which will initialize the unidentified instance in a state of value 0 with 0 bit:"
   ]
  },
  {
   "cell_type": "code",
   "execution_count": 11,
   "id": "5aa69982",
   "metadata": {},
   "outputs": [
    {
     "name": "stdout",
     "output_type": "stream",
     "text": [
      "\\0:0\\\n"
     ]
    }
   ],
   "source": [
    "from dann5.d5 import Qwhole\n",
    "q_whole = Qwhole()\n",
    "print(q_whole)"
   ]
  },
  {
   "cell_type": "markdown",
   "id": "477c547e",
   "metadata": {},
   "source": [
    "We can also set the name of the vairable within the quatum space: "
   ]
  },
  {
   "cell_type": "code",
   "execution_count": 12,
   "id": "8a021e92",
   "metadata": {},
   "outputs": [
    {
     "name": "stdout",
     "output_type": "stream",
     "text": [
      "q_whole\\0:0\\\n"
     ]
    }
   ],
   "source": [
    "q_whole = Qwhole(\"q_whole\")\n",
    "print(q_whole)"
   ]
  },
  {
   "cell_type": "markdown",
   "id": "565e7207",
   "metadata": {},
   "source": [
    "While both these are possible it is recommended that you name all your variables within the quantum space for continued use and ease of reading. T\n",
    "\n",
    "he way to define Qwhole variables and allocate bits for them to use is to put the number of bits you would like to use as the first parameter and the name as the second.\n",
    "\n",
    "Now we see in the output of these variables they have 3 bits and are undefined. The number of bits to put is dependent on what values for whole numbers you are looking to use in your expression."
   ]
  },
  {
   "cell_type": "code",
   "execution_count": 13,
   "id": "4dda181e",
   "metadata": {},
   "outputs": [
    {
     "name": "stdout",
     "output_type": "stream",
     "text": [
      "kurt\\3:U\\\n",
      "john\\3:U\\\n"
     ]
    }
   ],
   "source": [
    "kurt = Qwhole(3, \"kurt\")\n",
    "john = Qwhole(3, \"john\")\n",
    "\n",
    "print(kurt)\n",
    "print(john)"
   ]
  },
  {
   "cell_type": "code",
   "execution_count": 16,
   "id": "03ad314c",
   "metadata": {},
   "outputs": [
    {
     "name": "stdout",
     "output_type": "stream",
     "text": [
      "(kurt\\3:U\\ & john\\3:U\\)\n",
      "_&10\\S\\ = kurt0\\S\\ & john0\\S\\; _&11\\S\\ = kurt1\\S\\ & john1\\S\\; _&12\\S\\ = kurt2\\S\\ & john2\\S\\; \n"
     ]
    }
   ],
   "source": [
    "# change this to addition for simplicity in first round of solving\n",
    "# then do the AND expression\n",
    "expression = kurt & john\n",
    "\n",
    "print(expression)\n",
    "print(expression.toString(True))"
   ]
  },
  {
   "cell_type": "code",
   "execution_count": 15,
   "id": "11e9e6f6",
   "metadata": {},
   "outputs": [
    {
     "name": "stdout",
     "output_type": "stream",
     "text": [
      "_+0\\4:0\\; kurt\\3:0\\; john\\3:0\\\n",
      "_+0\\4:8\\; kurt\\3:4\\; john\\3:4\\\n",
      "_+0\\4:4\\; kurt\\3:4\\; john\\3:0\\\n",
      "_+0\\4:4\\; kurt\\3:0\\; john\\3:4\\\n",
      "_+0\\4:2\\; kurt\\3:2\\; john\\3:0\\\n",
      "_+0\\4:2\\; kurt\\3:0\\; john\\3:2\\\n",
      "_+0\\4:10\\; kurt\\3:6\\; john\\3:4\\\n",
      "_+0\\4:10\\; kurt\\3:4\\; john\\3:6\\\n",
      "_+0\\4:6\\; kurt\\3:6\\; john\\3:0\\\n",
      "_+0\\4:6\\; kurt\\3:2\\; john\\3:4\\\n",
      "_+0\\4:6\\; kurt\\3:4\\; john\\3:2\\\n",
      "_+0\\4:6\\; kurt\\3:0\\; john\\3:6\\\n",
      "_+0\\4:1\\; kurt\\3:1\\; john\\3:0\\\n",
      "_+0\\4:1\\; kurt\\3:0\\; john\\3:1\\\n",
      "_+0\\4:9\\; kurt\\3:5\\; john\\3:4\\\n",
      "_+0\\4:9\\; kurt\\3:4\\; john\\3:5\\\n",
      "_+0\\4:5\\; kurt\\3:5\\; john\\3:0\\\n",
      "_+0\\4:5\\; kurt\\3:1\\; john\\3:4\\\n",
      "_+0\\4:5\\; kurt\\3:4\\; john\\3:1\\\n",
      "_+0\\4:5\\; kurt\\3:0\\; john\\3:5\\\n",
      "_+0\\4:3\\; kurt\\3:3\\; john\\3:0\\\n",
      "_+0\\4:3\\; kurt\\3:1\\; john\\3:2\\\n",
      "_+0\\4:3\\; kurt\\3:2\\; john\\3:1\\\n",
      "_+0\\4:3\\; kurt\\3:0\\; john\\3:3\\\n",
      "_+0\\4:11\\; kurt\\3:7\\; john\\3:4\\\n",
      "_+0\\4:11\\; kurt\\3:5\\; john\\3:6\\\n",
      "_+0\\4:11\\; kurt\\3:6\\; john\\3:5\\\n",
      "_+0\\4:11\\; kurt\\3:4\\; john\\3:7\\\n",
      "_+0\\4:7\\; kurt\\3:7\\; john\\3:0\\\n",
      "_+0\\4:7\\; kurt\\3:3\\; john\\3:4\\\n",
      "_+0\\4:7\\; kurt\\3:5\\; john\\3:2\\\n",
      "_+0\\4:7\\; kurt\\3:1\\; john\\3:6\\\n",
      "_+0\\4:7\\; kurt\\3:6\\; john\\3:1\\\n",
      "_+0\\4:7\\; kurt\\3:2\\; john\\3:5\\\n",
      "_+0\\4:7\\; kurt\\3:4\\; john\\3:3\\\n",
      "_+0\\4:7\\; kurt\\3:0\\; john\\3:7\\\n",
      "_+0\\4:2\\; kurt\\3:1\\; john\\3:1\\\n",
      "_+0\\4:10\\; kurt\\3:5\\; john\\3:5\\\n",
      "_+0\\4:6\\; kurt\\3:5\\; john\\3:1\\\n",
      "_+0\\4:6\\; kurt\\3:1\\; john\\3:5\\\n",
      "_+0\\4:8\\; kurt\\3:6\\; john\\3:2\\\n",
      "_+0\\4:8\\; kurt\\3:2\\; john\\3:6\\\n",
      "_+0\\4:4\\; kurt\\3:2\\; john\\3:2\\\n",
      "_+0\\4:12\\; kurt\\3:6\\; john\\3:6\\\n",
      "_+0\\4:9\\; kurt\\3:7\\; john\\3:2\\\n",
      "_+0\\4:9\\; kurt\\3:3\\; john\\3:6\\\n",
      "_+0\\4:9\\; kurt\\3:6\\; john\\3:3\\\n",
      "_+0\\4:9\\; kurt\\3:2\\; john\\3:7\\\n",
      "_+0\\4:5\\; kurt\\3:3\\; john\\3:2\\\n",
      "_+0\\4:5\\; kurt\\3:2\\; john\\3:3\\\n",
      "_+0\\4:13\\; kurt\\3:7\\; john\\3:6\\\n",
      "_+0\\4:13\\; kurt\\3:6\\; john\\3:7\\\n",
      "_+0\\4:8\\; kurt\\3:7\\; john\\3:1\\\n",
      "_+0\\4:8\\; kurt\\3:3\\; john\\3:5\\\n",
      "_+0\\4:8\\; kurt\\3:5\\; john\\3:3\\\n",
      "_+0\\4:8\\; kurt\\3:1\\; john\\3:7\\\n",
      "_+0\\4:4\\; kurt\\3:3\\; john\\3:1\\\n",
      "_+0\\4:4\\; kurt\\3:1\\; john\\3:3\\\n",
      "_+0\\4:12\\; kurt\\3:7\\; john\\3:5\\\n",
      "_+0\\4:12\\; kurt\\3:5\\; john\\3:7\\\n",
      "_+0\\4:10\\; kurt\\3:7\\; john\\3:3\\\n",
      "_+0\\4:10\\; kurt\\3:3\\; john\\3:7\\\n",
      "_+0\\4:6\\; kurt\\3:3\\; john\\3:3\\\n",
      "_+0\\4:14\\; kurt\\3:7\\; john\\3:7\\\n",
      "\n"
     ]
    }
   ],
   "source": [
    "from dann5.dwave import Solver\n",
    "Solver.Active()\n",
    "print(expression.solve())"
   ]
  },
  {
   "cell_type": "code",
   "execution_count": 7,
   "id": "1baa5035",
   "metadata": {},
   "outputs": [
    {
     "name": "stdout",
     "output_type": "stream",
     "text": [
      "10\\4b:1010\\\n"
     ]
    }
   ],
   "source": [
    "from dann5.d5 import Qbin\n",
    "from dann5.d5 import Bits\n",
    "_10 = Qbin(\"10\", Bits(10))\n",
    "print(_10)"
   ]
  },
  {
   "cell_type": "code",
   "execution_count": 17,
   "id": "169dff28",
   "metadata": {},
   "outputs": [
    {
     "name": "stdout",
     "output_type": "stream",
     "text": [
      "10\\4b:1010\\ = (kurt\\3:U\\ & john\\3:U\\)\n"
     ]
    }
   ],
   "source": [
    "expression.reset()\n",
    "assignment = _10.assign(expression)\n",
    "\n",
    "print(assignment)"
   ]
  },
  {
   "cell_type": "code",
   "execution_count": 18,
   "id": "a7ad8f17",
   "metadata": {},
   "outputs": [
    {
     "name": "stdout",
     "output_type": "stream",
     "text": [
      "10\\4:1010\\; kurt\\3:2\\; john\\3:2\\\n",
      "10\\4:1010\\; kurt\\3:6\\; john\\3:2\\\n",
      "10\\4:1010\\; kurt\\3:3\\; john\\3:2\\\n",
      "10\\4:1010\\; kurt\\3:7\\; john\\3:2\\\n",
      "10\\4:1010\\; kurt\\3:2\\; john\\3:6\\\n",
      "10\\4:1010\\; kurt\\3:3\\; john\\3:6\\\n",
      "10\\4:1010\\; kurt\\3:2\\; john\\3:3\\\n",
      "10\\4:1010\\; kurt\\3:6\\; john\\3:3\\\n",
      "10\\4:1010\\; kurt\\3:2\\; john\\3:7\\\n",
      "\n"
     ]
    }
   ],
   "source": [
    "print(assignment.solve())"
   ]
  },
  {
   "cell_type": "code",
   "execution_count": null,
   "id": "fd9795cd",
   "metadata": {},
   "outputs": [],
   "source": []
  }
 ],
 "metadata": {
  "kernelspec": {
   "display_name": "Python 3 (ipykernel)",
   "language": "python",
   "name": "python3"
  },
  "language_info": {
   "codemirror_mode": {
    "name": "ipython",
    "version": 3
   },
   "file_extension": ".py",
   "mimetype": "text/x-python",
   "name": "python",
   "nbconvert_exporter": "python",
   "pygments_lexer": "ipython3",
   "version": "3.10.11"
  }
 },
 "nbformat": 4,
 "nbformat_minor": 5
}
