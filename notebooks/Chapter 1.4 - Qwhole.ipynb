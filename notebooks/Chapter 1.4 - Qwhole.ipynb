{
 "cells": [
  {
   "cell_type": "markdown",
   "id": "7139167c",
   "metadata": {},
   "source": [
    "# Chapter 1.4 - Qwhole\n",
    "\n",
    "In this section of chapter 1 we will be walking through how to set Qwhole variables, create expressions and assignments with those variables and solve those expressions and assignments.\n",
    "\n",
    "Qwhole, Quantum whole numbers, is a quantum type supporting instantiation of and operations with variables, that can have values comprised of any positive integers (e.g. 0, 1, 2, 3, etc.)\n",
    "\n",
    "To start you must import the Qwhole class from dann5.\n",
    "\n",
    "An instance of Qwhole can be created by use of a default constructor parameter, which will initialize the unidentified instance in a state of value 0 with 0 quantum bits. Using the id() method we can rename the instance at a later point."
   ]
  },
  {
   "cell_type": "code",
   "execution_count": 4,
   "id": "5aa69982",
   "metadata": {},
   "outputs": [
    {
     "name": "stdout",
     "output_type": "stream",
     "text": [
      "\\0:0\\\n",
      "id\\0:0\\\n"
     ]
    }
   ],
   "source": [
    "from dann5.d5 import Qwhole\n",
    "q_whole = Qwhole()\n",
    "print(q_whole)\n",
    "\n",
    "q_whole.id(\"id\")\n",
    "print(q_whole)"
   ]
  },
  {
   "cell_type": "markdown",
   "id": "477c547e",
   "metadata": {},
   "source": [
    "Using the Qwhole constructor that includes the string parameter we can set the name at initialization and the object will still have 0 quantum bits and a value of 0."
   ]
  },
  {
   "cell_type": "code",
   "execution_count": 5,
   "id": "8a021e92",
   "metadata": {},
   "outputs": [
    {
     "name": "stdout",
     "output_type": "stream",
     "text": [
      "q_whole\\0:0\\\n"
     ]
    }
   ],
   "source": [
    "q_whole = Qwhole(\"q_whole\")\n",
    "print(q_whole)"
   ]
  },
  {
   "cell_type": "markdown",
   "id": "565e7207",
   "metadata": {},
   "source": [
    "While both of the ways above are possible it is recommended that you name all your variables within the quantum space for continued use and ease of reading.\n",
    "\n",
    "The way to define Qwhole variables and allocate quantum bits for them to be used, is to put the number of quantum bits you would like to use as the first parameter and the name of the variable as the second.\n",
    "\n",
    "Now we see in the output of these variables they have 3 quantum bits and a value of unknown (**U**). The number of quantum bits to put is dependent on what values of the whole numbers you are looking to use in your expression. For example if you expect your variable should be able to include the number 9, you should allocate at least 4 quantum bits."
   ]
  },
  {
   "cell_type": "code",
   "execution_count": 6,
   "id": "4dda181e",
   "metadata": {},
   "outputs": [
    {
     "name": "stdout",
     "output_type": "stream",
     "text": [
      "kurt\\3:U\\\n",
      "john\\3:U\\\n"
     ]
    }
   ],
   "source": [
    "kurt = Qwhole(3, \"kurt\")\n",
    "john = Qwhole(3, \"john\")\n",
    "\n",
    "print(kurt)\n",
    "print(john)"
   ]
  },
  {
   "cell_type": "markdown",
   "id": "86a4a5d1",
   "metadata": {},
   "source": [
    "Now we can create an expression for quantum whole variables, unlike prior sections, we will be using a simple addition operator. \n",
    "\n",
    "When printing out the expression1 variable, we see the two Qwhole variables it is comprised of, and the number of quantum bits allocated to each, followed by their values, which in this case is still unknown (**U**)"
   ]
  },
  {
   "cell_type": "code",
   "execution_count": 7,
   "id": "03ad314c",
   "metadata": {},
   "outputs": [
    {
     "name": "stdout",
     "output_type": "stream",
     "text": [
      "(kurt\\3:U\\ + john\\3:U\\)\n"
     ]
    }
   ],
   "source": [
    "expression1 = kurt + john\n",
    "\n",
    "print(expression1)"
   ]
  },
  {
   "cell_type": "markdown",
   "id": "ee5dbc9a",
   "metadata": {},
   "source": [
    "In the decomposed output below we will see the \".+\" represents half adder has two quantum bit output and one carry over quantum bit output\n",
    "\n",
    "In this context the full adder is present on line two and three. Full adder is comprised of 3 inputs kurt1, john1 and carry over from _+30 (#[_+30]). \n",
    "\n",
    "The sharp symbol over a variable indicates it is a carry over variable.\n",
    "\n",
    "Mention the replace() function will format to line by line, or it will print out in a full one line string.\n",
    "\n",
    ">_+30\\S\\ = kurt0\\S\\ **.+** john0\\S\\; \n",
    ">\n",
    ">_+31\\S\\ = kurt1\\S\\ + john1\\S\\ + #[_+30]\\S\\; \n",
    ">\n",
    ">_+32\\S\\ = kurt2\\S\\ + john2\\S\\ + #[_+31]\\S\\; \n",
    ">\n",
    ">_+33\\S\\ = #[_+32]\\S\\; "
   ]
  },
  {
   "cell_type": "code",
   "execution_count": 8,
   "id": "3cbd4a51",
   "metadata": {},
   "outputs": [
    {
     "name": "stdout",
     "output_type": "stream",
     "text": [
      "_+00\\S\\ = kurt0\\S\\ .+ john0\\S\\;\n",
      " _+01\\S\\ = kurt1\\S\\ + john1\\S\\ + #[_+00]\\S\\;\n",
      " _+02\\S\\ = kurt2\\S\\ + john2\\S\\ + #[_+01]\\S\\;\n",
      " _+03\\S\\ = #[_+02]\\S\\;\n",
      " \n"
     ]
    }
   ],
   "source": [
    "print(expression1.toString(True).replace(\";\", \";\\n\"))"
   ]
  },
  {
   "cell_type": "markdown",
   "id": "e10f7d80",
   "metadata": {},
   "source": [
    "We import the Solver to solve the equation.\n",
    "\n",
    "_+0 variable has been given 4 quantum bits as it is needed since adding two 3 quantum bit variables together will create results that need one more quantum bit to properly store the values.\n",
    "\n",
    "All possible solutions for the addition of two 3 bit variables, which means any number from 0-7. \n",
    "\n",
    "It will show a possible combinations including when kurt is 6 and john is 4, there will be the opposite where kurt is 4 and john is 6.\n",
    "\n",
    "2^3 for kurt and 2^3 for john makes a total of 2^6 solutions which is 64 possible combinations. "
   ]
  },
  {
   "cell_type": "code",
   "execution_count": 9,
   "id": "11e9e6f6",
   "metadata": {},
   "outputs": [
    {
     "name": "stdout",
     "output_type": "stream",
     "text": [
      "_+0\\4:0\\; kurt\\3:0\\; john\\3:0\\\n",
      "_+0\\4:8\\; kurt\\3:4\\; john\\3:4\\\n",
      "_+0\\4:4\\; kurt\\3:4\\; john\\3:0\\\n",
      "_+0\\4:4\\; kurt\\3:0\\; john\\3:4\\\n",
      "_+0\\4:2\\; kurt\\3:2\\; john\\3:0\\\n",
      "_+0\\4:2\\; kurt\\3:0\\; john\\3:2\\\n",
      "_+0\\4:10\\; kurt\\3:6\\; john\\3:4\\\n",
      "_+0\\4:10\\; kurt\\3:4\\; john\\3:6\\\n",
      "_+0\\4:6\\; kurt\\3:6\\; john\\3:0\\\n",
      "_+0\\4:6\\; kurt\\3:2\\; john\\3:4\\\n",
      "_+0\\4:6\\; kurt\\3:4\\; john\\3:2\\\n",
      "_+0\\4:6\\; kurt\\3:0\\; john\\3:6\\\n",
      "_+0\\4:1\\; kurt\\3:1\\; john\\3:0\\\n",
      "_+0\\4:1\\; kurt\\3:0\\; john\\3:1\\\n",
      "_+0\\4:9\\; kurt\\3:5\\; john\\3:4\\\n",
      "_+0\\4:9\\; kurt\\3:4\\; john\\3:5\\\n",
      "_+0\\4:5\\; kurt\\3:5\\; john\\3:0\\\n",
      "_+0\\4:5\\; kurt\\3:1\\; john\\3:4\\\n",
      "_+0\\4:5\\; kurt\\3:4\\; john\\3:1\\\n",
      "_+0\\4:5\\; kurt\\3:0\\; john\\3:5\\\n",
      "_+0\\4:3\\; kurt\\3:3\\; john\\3:0\\\n",
      "_+0\\4:3\\; kurt\\3:1\\; john\\3:2\\\n",
      "_+0\\4:3\\; kurt\\3:2\\; john\\3:1\\\n",
      "_+0\\4:3\\; kurt\\3:0\\; john\\3:3\\\n",
      "_+0\\4:11\\; kurt\\3:7\\; john\\3:4\\\n",
      "_+0\\4:11\\; kurt\\3:5\\; john\\3:6\\\n",
      "_+0\\4:11\\; kurt\\3:6\\; john\\3:5\\\n",
      "_+0\\4:11\\; kurt\\3:4\\; john\\3:7\\\n",
      "_+0\\4:7\\; kurt\\3:7\\; john\\3:0\\\n",
      "_+0\\4:7\\; kurt\\3:3\\; john\\3:4\\\n",
      "_+0\\4:7\\; kurt\\3:5\\; john\\3:2\\\n",
      "_+0\\4:7\\; kurt\\3:1\\; john\\3:6\\\n",
      "_+0\\4:7\\; kurt\\3:6\\; john\\3:1\\\n",
      "_+0\\4:7\\; kurt\\3:2\\; john\\3:5\\\n",
      "_+0\\4:7\\; kurt\\3:4\\; john\\3:3\\\n",
      "_+0\\4:7\\; kurt\\3:0\\; john\\3:7\\\n",
      "_+0\\4:2\\; kurt\\3:1\\; john\\3:1\\\n",
      "_+0\\4:10\\; kurt\\3:5\\; john\\3:5\\\n",
      "_+0\\4:6\\; kurt\\3:5\\; john\\3:1\\\n",
      "_+0\\4:6\\; kurt\\3:1\\; john\\3:5\\\n",
      "_+0\\4:8\\; kurt\\3:6\\; john\\3:2\\\n",
      "_+0\\4:8\\; kurt\\3:2\\; john\\3:6\\\n",
      "_+0\\4:4\\; kurt\\3:2\\; john\\3:2\\\n",
      "_+0\\4:12\\; kurt\\3:6\\; john\\3:6\\\n",
      "_+0\\4:9\\; kurt\\3:7\\; john\\3:2\\\n",
      "_+0\\4:9\\; kurt\\3:3\\; john\\3:6\\\n",
      "_+0\\4:9\\; kurt\\3:6\\; john\\3:3\\\n",
      "_+0\\4:9\\; kurt\\3:2\\; john\\3:7\\\n",
      "_+0\\4:5\\; kurt\\3:3\\; john\\3:2\\\n",
      "_+0\\4:5\\; kurt\\3:2\\; john\\3:3\\\n",
      "_+0\\4:13\\; kurt\\3:7\\; john\\3:6\\\n",
      "_+0\\4:13\\; kurt\\3:6\\; john\\3:7\\\n",
      "_+0\\4:8\\; kurt\\3:7\\; john\\3:1\\\n",
      "_+0\\4:8\\; kurt\\3:3\\; john\\3:5\\\n",
      "_+0\\4:8\\; kurt\\3:5\\; john\\3:3\\\n",
      "_+0\\4:8\\; kurt\\3:1\\; john\\3:7\\\n",
      "_+0\\4:4\\; kurt\\3:3\\; john\\3:1\\\n",
      "_+0\\4:4\\; kurt\\3:1\\; john\\3:3\\\n",
      "_+0\\4:12\\; kurt\\3:7\\; john\\3:5\\\n",
      "_+0\\4:12\\; kurt\\3:5\\; john\\3:7\\\n",
      "_+0\\4:10\\; kurt\\3:7\\; john\\3:3\\\n",
      "_+0\\4:10\\; kurt\\3:3\\; john\\3:7\\\n",
      "_+0\\4:6\\; kurt\\3:3\\; john\\3:3\\\n",
      "_+0\\4:14\\; kurt\\3:7\\; john\\3:7\\\n",
      "\n"
     ]
    }
   ],
   "source": [
    "from dann5.dwave import Solver\n",
    "Solver.Active()\n",
    "print(expression1.solve())"
   ]
  },
  {
   "cell_type": "markdown",
   "id": "77c113e2",
   "metadata": {},
   "source": [
    "To set the result, we use another Qwhole constructor with a string parameter as the first argument to name the variable in the quantum space, and a integer value as the second parameter to define the determined value of that Qwhole variable. \n",
    "\n",
    "In this case we are setting the variable _10 to the value of 10. We are able to cast Qwhole types to Qbin types which will allow for that same number to be represented in binary if that is needed."
   ]
  },
  {
   "cell_type": "code",
   "execution_count": 10,
   "id": "1baa5035",
   "metadata": {},
   "outputs": [
    {
     "name": "stdout",
     "output_type": "stream",
     "text": [
      "_10\\4:10\\\n",
      "_10\\4b:1010\\\n"
     ]
    }
   ],
   "source": [
    "from dann5.d5 import Qbin\n",
    "_10 = Qwhole(\"_10\", 10)\n",
    "\n",
    "print(_10)\n",
    "print(Qbin(_10))"
   ]
  },
  {
   "cell_type": "markdown",
   "id": "3f040744",
   "metadata": {},
   "source": [
    "Now we reset the expression1 variable and then create an assignment using the result variable defined in the above cell. Now we see when printing out the assignment we have allocated 4 bits to the result variable with a value of 10 and 3 bits to both expression variables with values of unknown (**U**)."
   ]
  },
  {
   "cell_type": "code",
   "execution_count": 11,
   "id": "169dff28",
   "metadata": {},
   "outputs": [
    {
     "name": "stdout",
     "output_type": "stream",
     "text": [
      "_10\\4:10\\ = (kurt\\3:U\\ + john\\3:U\\)\n"
     ]
    }
   ],
   "source": [
    "expression1.reset()\n",
    "assignment1 = _10.assign(expression1)\n",
    "\n",
    "print(assignment1)"
   ]
  },
  {
   "cell_type": "markdown",
   "id": "0ac7e435",
   "metadata": {},
   "source": [
    "Now we can solve the assignment and as opposed to the solve for the expression we will only see the combinations of values for kurt and john that add up to 10."
   ]
  },
  {
   "cell_type": "code",
   "execution_count": 12,
   "id": "a7ad8f17",
   "metadata": {},
   "outputs": [
    {
     "name": "stdout",
     "output_type": "stream",
     "text": [
      "_10\\4:10\\; kurt\\3:6\\; john\\3:4\\\n",
      "_10\\4:10\\; kurt\\3:4\\; john\\3:6\\\n",
      "_10\\4:10\\; kurt\\3:5\\; john\\3:5\\\n",
      "_10\\4:10\\; kurt\\3:7\\; john\\3:3\\\n",
      "_10\\4:10\\; kurt\\3:3\\; john\\3:7\\\n",
      "\n"
     ]
    }
   ],
   "source": [
    "print(assignment1.solve())"
   ]
  },
  {
   "cell_type": "markdown",
   "id": "3403091f",
   "metadata": {},
   "source": [
    "**Note**: since we can switch types from Qwhole to Qbin we can also then do expressions/assignments with those switched values. However, the arthimetic operations that work on Qwhole types do not work on Qbin types and the same is true for bitwise operations working for Qbin types and not Qwhole types. \n",
    "\n",
    "For example, the following code will not work:\n",
    "\n",
    ">_11 = **Qbin**(\"_11\", Bits(11))\n",
    ">\n",
    "> assignment2 = _11.assign(kurt **+** john)\n",
    ">\n",
    "> print(assignment2.solve())\n",
    "\n",
    "But if you change the expression to be a bitwise operation of \"AND\" as shown below it will work: "
   ]
  },
  {
   "cell_type": "code",
   "execution_count": 19,
   "id": "5c09cf6f",
   "metadata": {},
   "outputs": [
    {
     "name": "stdout",
     "output_type": "stream",
     "text": [
      "_11\\4:1011\\; kurt\\3:3\\; john\\3:3\\\n",
      "_11\\4:1011\\; kurt\\3:7\\; john\\3:3\\\n",
      "_11\\4:1011\\; kurt\\3:3\\; john\\3:7\\\n",
      "\n"
     ]
    }
   ],
   "source": [
    "from dann5.d5 import Bits\n",
    "_11 = Qbin(\"_11\", Bits(11))\n",
    "\n",
    "assignment2 = _11.assign(kurt & john)\n",
    "print(assignment2.solve())"
   ]
  },
  {
   "cell_type": "markdown",
   "id": "6cc9a67a",
   "metadata": {},
   "source": [
    "The operations possible for Qwhole values are the basic arithmetic operations, being addition (+), substraction (-), multiplication (*) and division(/).\n",
    "\n",
    "There are differences between the addition/multiplication operations and the subtraction/division operations and how they are used on quantum variables. This is mainly due to the fact that addition/multiplication are commutative, while subtraction/division are not.\n",
    "\n",
    "Rules for Subtraction/Division:\n",
    "\n",
    "1) The dividend/minuend variable (left side of operator) will get quantum bits added automatically to allow for more solutions to be displayed.\n",
    "\n",
    "2) The divisor/subtrahend variable (right side of operator) will have the same number of quantum bits as specified.\n",
    "\n",
    "For example, we have two variables with 3 bits each subtracted together to create a target result of 7. We will need additional bits in the first variable to see all the results:"
   ]
  },
  {
   "cell_type": "code",
   "execution_count": 12,
   "id": "e70b76f3",
   "metadata": {},
   "outputs": [
    {
     "name": "stdout",
     "output_type": "stream",
     "text": [
      "result2\\4:6\\ = (carl\\5:U\\ - betty\\3:U\\)\n",
      "result2\\4:6\\; carl\\5:6\\; betty\\3:0\\\n",
      "result2\\4:6\\; carl\\5:7\\; betty\\3:1\\\n",
      "result2\\4:6\\; carl\\5:10\\; betty\\3:4\\\n",
      "result2\\4:6\\; carl\\5:11\\; betty\\3:5\\\n",
      "result2\\4:6\\; carl\\5:8\\; betty\\3:2\\\n",
      "result2\\4:6\\; carl\\5:12\\; betty\\3:6\\\n",
      "result2\\4:6\\; carl\\5:9\\; betty\\3:3\\\n",
      "result2\\4:6\\; carl\\5:13\\; betty\\3:7\\\n",
      "\n"
     ]
    }
   ],
   "source": [
    "carl = Qwhole(3, \"carl\")\n",
    "betty = Qwhole(3, \"betty\")\n",
    "result3 = Qwhole(\"result2\", 6)\n",
    "\n",
    "assignment3 = result3.assign(carl - betty)\n",
    "print(assignment3)\n",
    "\n",
    "print(assignment3.solve())"
   ]
  },
  {
   "cell_type": "markdown",
   "id": "b42a1934",
   "metadata": {},
   "source": [
    "As you can see from the above output the number of quantum bits allocated to the variable carl has increased, with the highest value being \"13\". This demonstrates that the number of quantum bits allocated to the variable betty controls the number of possible solutions. As we can see all 8 combinations of numbers that are allowed in 3 quantum bits (0-7) are present in the list of possible solutions."
   ]
  },
  {
   "cell_type": "markdown",
   "id": "570506e8",
   "metadata": {},
   "source": [
    "Feel free to use the cell below to experiment with different operations and numbers:\n",
    "\n",
    "**Note**: when using multiplication/division operations do not set more than 3 quantum bits per variable as the time to solve those operations on the simulator will be quite high. In later chapters when we cover sending information to the dwave quantum computer we will be able to use higher number of quantum bits."
   ]
  },
  {
   "cell_type": "code",
   "execution_count": 20,
   "id": "dcbc1a9d",
   "metadata": {},
   "outputs": [
    {
     "name": "stdout",
     "output_type": "stream",
     "text": [
      "result2\\6:24\\ = (roger\\3:U\\ * bobby\\3:U\\)\n",
      "result2\\6:24\\; roger\\3:4\\; bobby\\3:6\\\n",
      "result2\\6:24\\; roger\\3:6\\; bobby\\3:4\\\n",
      "\n"
     ]
    }
   ],
   "source": [
    "from dann5.d5 import Qwhole\n",
    "roger = Qwhole(3, \"roger\")\n",
    "bobby = Qwhole(3, \"bobby\")\n",
    "result2 = Qwhole(\"result2\", 24)\n",
    "\n",
    "assignment2 = result2.assign(roger * bobby)\n",
    "print(assignment2)\n",
    "\n",
    "print(assignment2.solve())"
   ]
  },
  {
   "cell_type": "markdown",
   "id": "6505ec31",
   "metadata": {},
   "source": [
    "In the next section of this chapter we will cover Qint type."
   ]
  }
 ],
 "metadata": {
  "kernelspec": {
   "display_name": "Python 3 (ipykernel)",
   "language": "python",
   "name": "python3"
  },
  "language_info": {
   "codemirror_mode": {
    "name": "ipython",
    "version": 3
   },
   "file_extension": ".py",
   "mimetype": "text/x-python",
   "name": "python",
   "nbconvert_exporter": "python",
   "pygments_lexer": "ipython3",
   "version": "3.10.11"
  }
 },
 "nbformat": 4,
 "nbformat_minor": 5
}
