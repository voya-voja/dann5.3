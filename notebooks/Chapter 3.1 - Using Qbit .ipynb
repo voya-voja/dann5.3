{
 "cells": [
  {
   "cell_type": "markdown",
   "id": "b5a31799",
   "metadata": {},
   "source": [
    "# Chapter 3.1 - Solving Problems Using Qbit Expressions and Assignments\n",
    "\n",
    "In this chapter we will be walking through how to use Qbit variables in more complex expressions and assignments to define real world problems and break them down into an expression and assignments that can be solved by a quantum computer or simulator.\n",
    "\n",
    "First we are going to ensure that a default quantum solver is active."
   ]
  },
  {
   "cell_type": "code",
   "execution_count": 1,
   "id": "23d714b7",
   "metadata": {},
   "outputs": [
    {
     "name": "stdout",
     "output_type": "stream",
     "text": [
      "<dann5.d5o.D5QuboSolver object at 0x0000019C47BA9A30>\n"
     ]
    }
   ],
   "source": [
    "from dann5.dwave import Solver\n",
    "print(Solver.Active())"
   ]
  },
  {
   "cell_type": "markdown",
   "id": "4cf5fe74",
   "metadata": {},
   "source": [
    "## Solving \"Friends and Enemies\" Problem\n",
    "\n",
    "We are going to see how we can generate a Qbit expression/assignment to solve The problem called \"Friends and Enemies\": \n",
    "\n",
    "Given a set of people and information about some pairs of people that are friends and some pairs that are enemies….\n",
    "\n",
    "How do we write a program that finds a solution in which all the friend and enemy relationships are correctly grouped?\n",
    "\n",
    "If we are to use Qbit, we can identify 2 tribes, the 0 tribe and the 1 tribe. Everyone within the tribe is a friend, while the 0 tribe members are always enemies with the members of the tribe 1. This is an example of a valid solution for this problem:\n",
    "\n",
    "> X (Xavier): 0\n",
    ">\n",
    "> Y (Yolanda): 0\n",
    ">\n",
    "> Z (Zeke): 1\n",
    ">\n",
    "> W (Wanda): 1\n",
    "\n",
    "We can say that: \n",
    "> X and Y, or W and Z are friends as they have same qbit values.\n",
    ">\n",
    "> Y and Z (or any other combination) are enemies as they have different qubit values.\n",
    "\n",
    "**Can we describe a problem using quantum bitwise logic to find all he possible solution?**\n"
   ]
  },
  {
   "cell_type": "markdown",
   "id": "40a4b25a",
   "metadata": {},
   "source": [
    "To start we need to define all of the tribes' members. That we do by setting the *Qbit* variables: *w, x, y* and *z* in superposition state."
   ]
  },
  {
   "cell_type": "code",
   "execution_count": 2,
   "id": "0f35e577",
   "metadata": {},
   "outputs": [
    {
     "name": "stdout",
     "output_type": "stream",
     "text": [
      "wanda\\S\\\n",
      "xaviar\\S\\\n",
      "yolanda\\S\\\n",
      "zeke\\S\\\n"
     ]
    }
   ],
   "source": [
    "from dann5.d5 import Qbit\n",
    "\n",
    "x = Qbit(\"xaviar\")\n",
    "y = Qbit(\"yolanda\")\n",
    "z = Qbit(\"zeke\")\n",
    "w = Qbit(\"wanda\")\n",
    "_1 = Qbit(\"_1\", 1)\n",
    "\n",
    "print(w)\n",
    "print(x)\n",
    "print(y)\n",
    "print(z)"
   ]
  },
  {
   "cell_type": "markdown",
   "id": "3b36ab27",
   "metadata": {},
   "source": [
    "The key pieces of information to create an expression for any scenario are the following:\n",
    "\n",
    "> 1) That XOR: \"**^**\" is same as an **\"unlike\"** function, so if you want two variables to be enemies use this. \n",
    ">\n",
    "> 2) That NXOR: ~(var1 ^ var2) or var1.nxor(var2) is same as a **\"like\"** function. So, if you want two variables to be friends use this.\n",
    ">\n",
    "> 3) When we solve only an expression the solution will include all possible options. So, it will include solutions where all the relationships are not correct, i.e. the expression results to *0* (which can be thought of as incorrect).\n",
    ">\n",
    "> 4) So, by assigning all the possible solutions to *1* we will get all the possibilities where the relationships are correct. \n",
    "\n",
    "With the following four rules in mind, we can now write out the above relationships as a following assignment:"
   ]
  },
  {
   "cell_type": "code",
   "execution_count": 3,
   "id": "ffd1e515",
   "metadata": {},
   "outputs": [
    {
     "name": "stdout",
     "output_type": "stream",
     "text": [
      "_1\\1\\ = (((xaviar\\S\\ !^ yolanda\\S\\) & (yolanda\\S\\ ^ zeke\\S\\)) & (zeke\\S\\ !^ wanda\\S\\))\n",
      "\n",
      "_1\\1\\ = _&0\\S\\ & _!^1\\S\\;\n",
      " _&0\\S\\ = _!^0\\S\\ & _^0\\S\\;\n",
      " _!^0\\S\\ = xaviar\\S\\ !^ yolanda\\S\\;\n",
      " _^0\\S\\ = yolanda\\S\\ ^ zeke\\S\\;\n",
      " _!^1\\S\\ = zeke\\S\\ !^ wanda\\S\\;\n",
      " \n"
     ]
    }
   ],
   "source": [
    "fEAssignment = _1.assign(x.alike(y) & y.unlike(z) & z.alike(w));\n",
    "\n",
    "# Same as:\n",
    "# _1.assign(x.nxor(y) & ((y ^ z) & z.nxor(w)))\n",
    "# _1._(~(x ^ y) & ((y ^ z) & ~(z ^ w)))\n",
    "\n",
    "print(fEAssignment)\n",
    "print()\n",
    "print(fEAssignment.toString(True).replace(\";\", \";\\n\"))"
   ]
  },
  {
   "cell_type": "markdown",
   "id": "6b2d869a",
   "metadata": {},
   "source": [
    "**Note**: If we used *_1. _ (~(x ^ y) & ((y ^ z) & ~(z ^ w)))* assignment, in its d5vc we would see an invert rule declared. As in tildeXpr and tildeAssign examples, in chapter 2.1. This would mean that the element on the left side of the ~ operator has to have inverted values of the variable on the right side of the tilde operator.\n",
    "\n",
    "**Note**: The above expression is most optimal, we can add OR operator to list all possible scenarios where *x* and *y* are enemies to *z* and *w*, but that will create longer d5vc with more quantum logical nodes due to an increased number of auto-generated quantum auxiliary variables. The d5vc of such quantum assignment will run longer on a simulator or it will require a larger number of physical quantum-bits when executed on a quantum computer, without changing the end result.\n",
    "\n",
    "So, we can write any expression with these 4 people where some are friends and some are enemies. And the quantum computing simulator will come up with all the possibilities where all of the relationships are true."
   ]
  },
  {
   "cell_type": "markdown",
   "id": "1b628cba",
   "metadata": {},
   "source": [
    "### Qbinder and use of quantum *compute()* method \n",
    "\n",
    "Now to solve the assignment we have defined above we will use a slightly different approach.\n",
    "\n",
    "We will import the Qbinder class and use it to display the solutions of the assignment defined above.\n",
    "\n",
    "We will start by defining a quantum binder variable and adding the Qbit variables into it usign the \"**<<**\" symbol (stream operator):\n",
    "\n",
    "> Qbinder_var_name = Qbinder() << var1 << var2 << var3 ... \n",
    "\n",
    "We will then use the ***compute()*** function instead of solve to get the solutions (in this case in format of quantum evaluations). As in case of *solve()* method the *compute()* function returns a list of possible solutions that we can iterate over and print out:"
   ]
  },
  {
   "cell_type": "code",
   "execution_count": 4,
   "id": "99b3e99b",
   "metadata": {
    "scrolled": true
   },
   "outputs": [
    {
     "name": "stdout",
     "output_type": "stream",
     "text": [
      "#[_!^0]: 1; #[_!^1]: 0; #[_^0]: 0; _!^0: 1; _!^1: 1; _&0: 1; _^0: 1; wanda: 0; xaviar: 1; yolanda: 1; zeke: 0; \n",
      "\n",
      "#[_!^0]: 0; #[_!^1]: 1; #[_^0]: 0; _!^0: 1; _!^1: 1; _&0: 1; _^0: 1; wanda: 1; xaviar: 0; yolanda: 0; zeke: 1; \n",
      "\n"
     ]
    }
   ],
   "source": [
    "from dann5.d5 import Qbinder\n",
    "\n",
    "qbinder = Qbinder() << x << y << z << w\n",
    "\n",
    "evaluations = fEAssignment.compute()\n",
    "for evaluation in evaluations:\n",
    "    print('{}\\n'.format(evaluation))"
   ]
  },
  {
   "cell_type": "markdown",
   "id": "c01cec39",
   "metadata": {},
   "source": [
    "Finally to see only the relevant variables that we have defined with their solution values, we will add the list of solutions (quantum evaluations variable) to the qbinder variable and print it. "
   ]
  },
  {
   "cell_type": "code",
   "execution_count": 5,
   "id": "41f559a6",
   "metadata": {},
   "outputs": [
    {
     "name": "stdout",
     "output_type": "stream",
     "text": [
      "xaviar\\S\\ yolanda\\S\\ zeke\\S\\ wanda\\S\\ {\n",
      "xaviar\\1\\ yolanda\\1\\ zeke\\0\\ wanda\\0\\ \n",
      "xaviar\\0\\ yolanda\\0\\ zeke\\1\\ wanda\\1\\ \n",
      "}\n"
     ]
    }
   ],
   "source": [
    "qbinder.add(evaluations);\n",
    "print(qbinder)"
   ]
  },
  {
   "cell_type": "markdown",
   "id": "b72b3bf7",
   "metadata": {},
   "source": [
    "We see there are two possible solutions to the constraints we have imposed through quantum program  that describes the original friends and enemies problem. \n",
    "\n",
    "To refresh here the conditions were: \n",
    "\n",
    "X & Y and W & Z: Friends\n",
    "\n",
    "Y & Z: Enemies\n",
    "\n",
    "And we know that anyone belonging to tribe 0 cannot be friends with anyone from tribe 1. And all members of a tribe are friends. So we see that in the two solutions, both conditions are satisfied. Taking the first as an example:\n",
    "\n",
    "> xaviar\\0\\ yolanda\\0\\ zeke\\1\\ wanda\\1\\ \n",
    "\n",
    "Xaviar and Yolanda are in Tribe 0 so they are friends. Wanda and Zeke are in tribe 1 so they are friends. And Yolanda and Zeke are in two different tribes so they are enemies.\n",
    "\n"
   ]
  },
  {
   "attachments": {
    "image.png": {
     "image/png": "[encoded data removed]"
    }
   },
   "cell_type": "markdown",
   "id": "9339b1b9",
   "metadata": {},
   "source": [
    "## Solving vertices and edges problems\n",
    "\n",
    "> **The prblem**: For a given geometric shape we need to identify the maximum number of vertices which are not connected with an edge.\n",
    "\n",
    "Here we are going to explore how to use Qbit operators, operations, expressions, and assignments to find the solutions for the problem in case of different shapes.\n",
    "\n",
    "### Two vertices with an edge problem\n",
    "\n",
    "![image.png](attachment:image.png)\n",
    "\n",
    "We will initialize in superposition state two Qbit variables representing vertex 1 and vertex 2 from the figure above."
   ]
  },
  {
   "cell_type": "code",
   "execution_count": 6,
   "id": "c5a761e6",
   "metadata": {},
   "outputs": [
    {
     "name": "stdout",
     "output_type": "stream",
     "text": [
      "v1\\S\\ v2\\S\\ vI\\1\\\n"
     ]
    }
   ],
   "source": [
    "v1 = Qbit(\"v1\"); v2 = Qbit(\"v2\"); vIdentified = Qbit(\"vI\", 1)\n",
    "print(v1, v2, vIdentified)"
   ]
  },
  {
   "cell_type": "markdown",
   "id": "adcfda0f",
   "metadata": {},
   "source": [
    "The edge between vertices v1 and 2 we will describe with a quantum operation *XOR (^)* to express the rule that only one of them at the time can have value *1*. "
   ]
  },
  {
   "cell_type": "code",
   "execution_count": 7,
   "id": "6c52d196",
   "metadata": {},
   "outputs": [
    {
     "name": "stdout",
     "output_type": "stream",
     "text": [
      "Solutions for: v1\\S\\ v2\\S\\ {\n",
      "v1\\0\\ v2\\1\\ \n",
      "v1\\1\\ v2\\0\\ \n",
      "}\n"
     ]
    }
   ],
   "source": [
    "assignment2 = vIdentified.assign(v1 ^ v2)\n",
    "\n",
    "vertices = Qbinder() << v1 << v2\n",
    "\n",
    "vertices.add(assignment2.compute())\n",
    "print(\"Solutions for:\", vertices)"
   ]
  },
  {
   "attachments": {
    "image.png": {
     "image/png": "[encoded data removed]"
    }
   },
   "cell_type": "markdown",
   "id": "cef88872",
   "metadata": {},
   "source": [
    "### A triangle problem and triangular dependency constrain\n",
    "\n",
    "from the triangle below we can conclude that only one vertex should be identified at any point of time.\n",
    "\n",
    "![image.png](attachment:image.png)\n",
    "\n",
    "To solve problem we can logically state that:\n",
    "> vertex 1 has to be different from antennas 2 and 3, or\n",
    ">\n",
    "> vertex 2 has to be different from antennas 1 and 3, or\n",
    ">\n",
    "> vertex 3 has to be different from antennas 1 and 2.\n",
    "\n",
    "We are writing an *assignment3* stating the above conditions using *XOR (unlike)* when when have to have different values."
   ]
  },
  {
   "cell_type": "code",
   "execution_count": 8,
   "id": "96f9eea9",
   "metadata": {},
   "outputs": [
    {
     "name": "stdout",
     "output_type": "stream",
     "text": [
      "vI\\1\\ = ((((v1\\S\\ ^ v2\\S\\) & (v1\\S\\ ^ v3\\S\\)) | ((v2\\S\\ ^ v1\\S\\) & (v2\\S\\ ^ v3\\S\\))) | ((v3\\S\\ ^ v1\\S\\) & (v3\\S\\ ^ v2\\S\\))) \n",
      "\n",
      "vI\\1\\ = _|0\\S\\ | _&4\\S\\; _|0\\S\\ = _&2\\S\\ | _&3\\S\\; _&2\\S\\ = _^2\\S\\ & _^3\\S\\; _^2\\S\\ = v1\\S\\ ^ v2\\S\\; _^3\\S\\ = v1\\S\\ ^ v3\\S\\; _&3\\S\\ = _^4\\S\\ & _^5\\S\\; _^4\\S\\ = v2\\S\\ ^ v1\\S\\; _^5\\S\\ = v2\\S\\ ^ v3\\S\\; _&4\\S\\ = _^6\\S\\ & _^7\\S\\; _^6\\S\\ = v3\\S\\ ^ v1\\S\\; _^7\\S\\ = v3\\S\\ ^ v2\\S\\;  \n",
      "\n",
      "Solutions for: v1\\S\\ v2\\S\\ v3\\S\\ {\n",
      "v1\\0\\ v2\\0\\ v3\\1\\ \n",
      "v1\\0\\ v2\\1\\ v3\\0\\ \n",
      "v1\\1\\ v2\\0\\ v3\\0\\ \n",
      "v1\\0\\ v2\\1\\ v3\\1\\ \n",
      "v1\\1\\ v2\\0\\ v3\\1\\ \n",
      "v1\\1\\ v2\\1\\ v3\\0\\ \n",
      "}\n"
     ]
    }
   ],
   "source": [
    "v3= Qbit(\"v3\");\n",
    "vertices.reset()\n",
    "vertices = vertices << v3;\n",
    "\n",
    "assignment3 = vIdentified.assign(((v1 ^ v2) & (v1 ^ v3)) | ((v2 ^ v1) & (v2 ^ v3)) | ((v3 ^ v1) & (v3 ^ v2)))\n",
    "print(assignment3,\"\\n\")\n",
    "print(assignment3.toString(True), \"\\n\")\n",
    "\n",
    "evaluations = assignment3.compute()\n",
    "\n",
    "vertices.add(evaluations)\n",
    "print(\"Solutions for:\", vertices)"
   ]
  },
  {
   "cell_type": "markdown",
   "id": "4d4ad1d3",
   "metadata": {},
   "source": [
    "As we print and solve our initial quantum assignment for the three antennas problem, we see two problems:\n",
    "\n",
    "1. The solutions are valid as we set the rules to ensure that one vertex is different than the other two. So, if we accept that regardless of the *assignment3* being correct (1) or incorrect (0), as long as one vertex is different than the other two, we have identified two sets of valid solutions:\n",
    "\n",
    "    - one in which *1* means a vertex is identified:\n",
    "        > v1\\0\\ v2\\0\\ v3\\1\\ \n",
    "        >\n",
    "        > v1\\0\\ v2\\1\\ v3\\0\\ \n",
    "        >\n",
    "        > v1\\1\\ v2\\0\\ v3\\0\\ \n",
    "\n",
    "    - and, the other in which *0* means the vertex is identified:\n",
    "        > v1\\0\\ v2\\1\\ v3\\1\\ \n",
    "        >\n",
    "        > v1\\1\\ v2\\0\\ v3\\1\\ \n",
    "        >\n",
    "        > v1\\1\\ v2\\1\\ v3\\0\\ \n",
    "\n",
    "\n",
    "2. The quantum assignment describing our initial rules is quite long, with a large number of d5vc sub-assignments, which is resulting in a complex quantum code with many logical nodes, due to auto-generated auxiliary quantum variables. \n",
    "\n",
    "To further improve our solution, we should try to simplify the assignment before we focus on eliminating solutions in which value *0* means the vertex is identified.\n",
    "\n",
    "We can use logical operations transformations to simplify the *assignment3* to a form that is shown in the following code example. We will see that the solutions have stayed the same."
   ]
  },
  {
   "cell_type": "code",
   "execution_count": 9,
   "id": "764706e0",
   "metadata": {},
   "outputs": [
    {
     "name": "stdout",
     "output_type": "stream",
     "text": [
      "vI\\1\\ = (((v1\\S\\ ^ v2\\S\\) | (v1\\S\\ ^ v3\\S\\)) | (v2\\S\\ ^ v3\\S\\)) \n",
      "\n",
      "vI\\1\\ = _|2\\S\\ | _^10\\S\\; _|2\\S\\ = _^8\\S\\ | _^9\\S\\; _^8\\S\\ = v1\\S\\ ^ v2\\S\\; _^9\\S\\ = v1\\S\\ ^ v3\\S\\; _^10\\S\\ = v2\\S\\ ^ v3\\S\\;  \n",
      "\n",
      "Solutions for  v1\\S\\ v2\\S\\ v3\\S\\ {\n",
      "v1\\1\\ v2\\0\\ v3\\0\\ \n",
      "v1\\0\\ v2\\0\\ v3\\1\\ \n",
      "v1\\0\\ v2\\1\\ v3\\0\\ \n",
      "v1\\1\\ v2\\0\\ v3\\1\\ \n",
      "v1\\0\\ v2\\1\\ v3\\1\\ \n",
      "v1\\1\\ v2\\1\\ v3\\0\\ \n",
      "}\n"
     ]
    }
   ],
   "source": [
    "vertices.reset()\n",
    "\n",
    "assignment3 = vIdentified.assign((v1 ^ v2) | (v1 ^ v3) | (v2 ^ v3))\n",
    "print(assignment3,\"\\n\")\n",
    "print(assignment3.toString(True), \"\\n\")\n",
    "\n",
    "vertices.add(assignment3.compute())\n",
    "print(\"Solutions for \", vertices)"
   ]
  },
  {
   "cell_type": "markdown",
   "id": "3bd056b1",
   "metadata": {},
   "source": [
    "It is possible to further optimize the *assignment3*, because in the case of the close figure, such is a triangle, we can omit one of the edges and still get the same solutions. As it is shown in the following code example, we have simplified the assignment and its d5vc footprint, while preserving the same set of the solutions."
   ]
  },
  {
   "cell_type": "code",
   "execution_count": 10,
   "id": "39e269b5",
   "metadata": {},
   "outputs": [
    {
     "name": "stdout",
     "output_type": "stream",
     "text": [
      "vI\\1\\ = ((v1\\S\\ ^ v2\\S\\) | (v1\\S\\ ^ v3\\S\\)) \n",
      "\n",
      "vI\\1\\ = _^11\\S\\ | _^12\\S\\; _^11\\S\\ = v1\\S\\ ^ v2\\S\\; _^12\\S\\ = v1\\S\\ ^ v3\\S\\;  \n",
      "\n",
      "Solutions for  v1\\S\\ v2\\S\\ v3\\S\\ {\n",
      "v1\\0\\ v2\\0\\ v3\\1\\ \n",
      "v1\\0\\ v2\\1\\ v3\\0\\ \n",
      "v1\\0\\ v2\\1\\ v3\\1\\ \n",
      "v1\\1\\ v2\\0\\ v3\\0\\ \n",
      "v1\\1\\ v2\\0\\ v3\\1\\ \n",
      "v1\\1\\ v2\\1\\ v3\\0\\ \n",
      "}\n"
     ]
    }
   ],
   "source": [
    "vertices.reset()\n",
    "\n",
    "assignment3 = vIdentified.assign((v1 ^ v2) | (v1 ^ v3))\n",
    "print(assignment3,\"\\n\")\n",
    "print(assignment3.toString(True), \"\\n\")\n",
    "\n",
    "vertices.add(assignment3.compute())\n",
    "print(\"Solutions for \", vertices)"
   ]
  },
  {
   "cell_type": "markdown",
   "id": "06bba1a7",
   "metadata": {},
   "source": [
    "To eliminate a scenario when *0* value means a vertex is identified, we need to add a constraint to the assignment. We can observe that we would like to keep the solutions when only one antenna is *1*, which we can describe with triangular dependency expression that always is correct (*1*):\n",
    "\n",
    "> v1.alike(v2).alike(v3)\n",
    "\n",
    "- if vertex 1 is *1*, \n",
    "    \n",
    "    - v1.alike(v2) can be *0* when vertex 2 is *0*\n",
    "          \n",
    "        - so vertex 3 has to be *0* as it is alike *0* (v1.alike(v2))\n",
    "         \n",
    "    - if v1.alike(v2) is *1*, it would mean vertex 2 has to be *1*\n",
    "        \n",
    "        - which would mean vertex 3 has to be *1* as well, but such a combination is impossible due to the rule \n",
    "             \n",
    "            > (v1 ^ v2) | (v1 ^ v3)\n",
    "       \n",
    "You can test other scenarios in which vertex 1 is *0*, and you will find out that one of the other two vertices than will have to be *1*.\n",
    "\n",
    "- **Note**: If for some reason, we would like *0* to be a correct state we can use a modified triangular dependency constrain\n",
    "> v1.unlike(v2).alike(v3)"
   ]
  },
  {
   "cell_type": "code",
   "execution_count": 11,
   "id": "b305ad01",
   "metadata": {},
   "outputs": [
    {
     "name": "stdout",
     "output_type": "stream",
     "text": [
      "Solutions for: v1\\S\\ v2\\S\\ v3\\S\\ {\n",
      "v1\\0\\ v2\\1\\ v3\\0\\ \n",
      "v1\\1\\ v2\\0\\ v3\\0\\ \n",
      "v1\\0\\ v2\\0\\ v3\\1\\ \n",
      "}\n"
     ]
    }
   ],
   "source": [
    "vertices.reset()\n",
    "\n",
    "assignment3 = vIdentified.assign(((v1 ^ v2) | (v1 ^ v3)) & (v1.alike(v2).alike(v3)))\n",
    "\n",
    "vertices.add(assignment3.compute())\n",
    "print(\"Solutions for:\", vertices)"
   ]
  },
  {
   "cell_type": "markdown",
   "id": "6f1cc4a3",
   "metadata": {},
   "source": [
    "Also, we can define the triangle problem using *not-equal (!=)* operator to relate different neighboring vertices with a constrain that the sum *(XOR (^))* of the vertices has to be an odd number. Knowing that the left-most argument of a quantum operator is an output quantum variable, we need just one of all different neighboring vertices relationships to be correct."
   ]
  },
  {
   "cell_type": "code",
   "execution_count": 12,
   "id": "e013385a",
   "metadata": {},
   "outputs": [
    {
     "name": "stdout",
     "output_type": "stream",
     "text": [
      "vI\\1\\ = ((((v1\\S\\ != v2\\S\\) | (v2\\S\\ != v3\\S\\)) | (v3\\S\\ != v1\\S\\)) & ((v1\\S\\ ^ v2\\S\\) ^ v3\\S\\)) \n",
      "\n",
      "vI\\1\\ = _|7\\S\\ & _^16\\S\\;\n",
      " _|7\\S\\ = _|6\\S\\ | v3\\S\\;\n",
      " _|6\\S\\ = v1\\S\\ | v2\\S\\;\n",
      " v1\\S\\ != v2\\S\\;\n",
      " v2\\S\\ != v3\\S\\;\n",
      " v3\\S\\ != v1\\S\\;\n",
      " _^16\\S\\ = _^15\\S\\ ^ v3\\S\\;\n",
      " _^15\\S\\ = v1\\S\\ ^ v2\\S\\;\n",
      " \n",
      "Solutions for: v1\\S\\ v2\\S\\ v3\\S\\ {\n",
      "v1\\0\\ v2\\0\\ v3\\1\\ \n",
      "v1\\0\\ v2\\1\\ v3\\0\\ \n",
      "v1\\1\\ v2\\0\\ v3\\0\\ \n",
      "}\n"
     ]
    }
   ],
   "source": [
    "triangleAssign = vIdentified.assign(((v1 != v2) | (v2 != v3) | (v3 != v1)) & (v1 ^ v2 ^ v3))\n",
    "print(triangleAssign, \"\\n\")\n",
    "print(triangleAssign.toString(True).replace(\";\", \";\\n\"))\n",
    "\n",
    "vertices.reset()\n",
    "vertices.add(triangleAssign.compute())\n",
    "print(\"Solutions for:\", vertices)"
   ]
  },
  {
   "cell_type": "markdown",
   "id": "ac3bccb8",
   "metadata": {},
   "source": [
    "### A rectangle problem\n",
    "\n",
    "First, we will add the 4th vertex to the *vertices* quantum bundle to optimize presentation of calculated solutions."
   ]
  },
  {
   "cell_type": "code",
   "execution_count": 13,
   "id": "30da9de0",
   "metadata": {},
   "outputs": [
    {
     "name": "stdout",
     "output_type": "stream",
     "text": [
      "v1\\S\\ v2\\S\\ v3\\S\\ v4\\S\\ \n"
     ]
    }
   ],
   "source": [
    "v4 = Qbit(\"v4\")\n",
    "vertices.reset()\n",
    "vertices = vertices << v4\n",
    "print(vertices)"
   ]
  },
  {
   "attachments": {
    "image.png": {
     "image/png": "[encoded data removed]"
    }
   },
   "cell_type": "markdown",
   "id": "235d02a3",
   "metadata": {},
   "source": [
    "![image.png](attachment:image.png)\n",
    "\n",
    "When four vertices are organized as a closed rectangle, like it is presented above, we can find the optimal solutions by stating that that neighboring vertices have to be different, as in the code below:"
   ]
  },
  {
   "cell_type": "code",
   "execution_count": 14,
   "id": "e139ae9d",
   "metadata": {},
   "outputs": [
    {
     "name": "stdout",
     "output_type": "stream",
     "text": [
      "Solutions for  v1\\S\\ v2\\S\\ v3\\S\\ v4\\S\\ {\n",
      "v1\\0\\ v2\\1\\ v3\\0\\ v4\\1\\ \n",
      "v1\\1\\ v2\\0\\ v3\\1\\ v4\\0\\ \n",
      "}\n"
     ]
    }
   ],
   "source": [
    "rectangleAssignment = vIdentified.assign((v1 ^ v2) & (v2 ^ v3) & (v3 ^ v4))\n",
    "\n",
    "vertices.add(rectangleAssignment.compute())\n",
    "print(\"Solutions for \", vertices)"
   ]
  },
  {
   "cell_type": "markdown",
   "id": "6afb4eea",
   "metadata": {},
   "source": [
    "### A pentagon problem\n",
    "\n",
    "First, we will add the 5th vertex to the *vertices* quantum bundle to optimize presentation of calculated solutions."
   ]
  },
  {
   "cell_type": "code",
   "execution_count": 15,
   "id": "3c5aedaf",
   "metadata": {},
   "outputs": [
    {
     "name": "stdout",
     "output_type": "stream",
     "text": [
      "v1\\S\\ v2\\S\\ v3\\S\\ v4\\S\\ v5\\S\\ \n"
     ]
    }
   ],
   "source": [
    "v5 = Qbit(\"v5\")\n",
    "vertices.reset()\n",
    "vertices = vertices << v5\n",
    "print(vertices)"
   ]
  },
  {
   "attachments": {
    "image.png": {
     "image/png": "[encoded data removed]"
    }
   },
   "cell_type": "markdown",
   "id": "edf65de4",
   "metadata": {},
   "source": [
    "![image.png](attachment:image.png)\n",
    "\n",
    "Let first look at a problem where vertices form a pentagon as depicted in the figure above. We can easily describe the problem using *NOT-EQUAL (!=)* quantum condition operators combined with *AND (&)* quantum logical operation as it is represented with the quantum expression *pentagonXpr* in the code example below.\n",
    "\n",
    "Within 10 quantum evaluations of this problem, we see two sets of solutions:\n",
    "- one where value *1* represents identified vertices, solution lines:\n",
    "    > line 1 vertex 3 and 5 are identified\n",
    "    >\n",
    "    > line 2 vertex 2 and 5 are identified\n",
    "    >\n",
    "    > line 3 vertex 2 and 4 are identified\n",
    "    >\n",
    "    > line 6 vertex 1 and 4 are identified\n",
    "    >\n",
    "    > line 7 vertex 1 and 3 are identified\n",
    "    \n",
    "- and the other where value *0* represents identified vertices, lines:\n",
    "    \n",
    "    > line 4 vertex 1 and 3 are identified\n",
    "    >\n",
    "    > line 5 vertex 1 and 4 are identified\n",
    "    >\n",
    "    > line 8 vertex 2 and 4 are identified\n",
    "    >\n",
    "    > line 9 vertex 2 and 5 are identified\n",
    "    >\n",
    "    > line 10 vertex 3 and 5 are identified\n",
    "    \n",
    "- ***A CHALENGE***: Can we somehow define a simple constrain to single out just one set without significantly increasing the complexity of d5vc?"
   ]
  },
  {
   "cell_type": "code",
   "execution_count": 16,
   "id": "c25563c2",
   "metadata": {},
   "outputs": [
    {
     "name": "stdout",
     "output_type": "stream",
     "text": [
      "(((((v1\\S\\ != v2\\S\\) | (v2\\S\\ != v3\\S\\)) | (v3\\S\\ != v4\\S\\)) | (v4\\S\\ != v5\\S\\)) | (v5\\S\\ != v1\\S\\)) \n",
      "\n",
      "_|11\\S\\ = _|10\\S\\ | v5\\S\\;\n",
      " _|10\\S\\ = _|9\\S\\ | v4\\S\\;\n",
      " _|9\\S\\ = _|8\\S\\ | v3\\S\\;\n",
      " _|8\\S\\ = v1\\S\\ | v2\\S\\;\n",
      " v1\\S\\ != v2\\S\\;\n",
      " v2\\S\\ != v3\\S\\;\n",
      " v3\\S\\ != v4\\S\\;\n",
      " v4\\S\\ != v5\\S\\;\n",
      " v5\\S\\ != v1\\S\\;\n",
      " \n",
      "Solutions for: v1\\S\\ v2\\S\\ v3\\S\\ v4\\S\\ v5\\S\\ {\n",
      "v1\\0\\ v2\\0\\ v3\\1\\ v4\\0\\ v5\\1\\ \n",
      "v1\\0\\ v2\\1\\ v3\\0\\ v4\\0\\ v5\\1\\ \n",
      "v1\\0\\ v2\\1\\ v3\\0\\ v4\\1\\ v5\\0\\ \n",
      "v1\\0\\ v2\\1\\ v3\\0\\ v4\\1\\ v5\\1\\ \n",
      "v1\\0\\ v2\\1\\ v3\\1\\ v4\\0\\ v5\\1\\ \n",
      "v1\\1\\ v2\\0\\ v3\\0\\ v4\\1\\ v5\\0\\ \n",
      "v1\\1\\ v2\\0\\ v3\\1\\ v4\\0\\ v5\\0\\ \n",
      "v1\\1\\ v2\\0\\ v3\\1\\ v4\\0\\ v5\\1\\ \n",
      "v1\\1\\ v2\\0\\ v3\\1\\ v4\\1\\ v5\\0\\ \n",
      "v1\\1\\ v2\\1\\ v3\\0\\ v4\\1\\ v5\\0\\ \n",
      "}\n"
     ]
    }
   ],
   "source": [
    "pentagonXpr = (v1 != v2) | (v2 != v3) | (v3 != v4) | (v4 != v5) | (v5 != v1)\n",
    "print(pentagonXpr, \"\\n\")\n",
    "print(pentagonXpr.toString(True).replace(\";\", \";\\n\"))\n",
    "\n",
    "vertices.add(pentagonXpr.compute())\n",
    "print(\"Solutions for:\", vertices)"
   ]
  },
  {
   "cell_type": "markdown",
   "id": "bfdcb895",
   "metadata": {},
   "source": [
    "**If you need help here is one of the problem definitions!**\n",
    "\n",
    "Following up on the definition of the triangle problem using *not-equal (!=)* operator to relate different neighboring vertices we can assume that the constrain that the sum *(XOR (^))* of the vertices has to be an even number this time. \n",
    "\n",
    "In the following code example we are augmenting the definition of *pentagonXpr* with the sum constraint using *NAND (!&)* quantum operation to enforce that the sum of vertices is an even number."
   ]
  },
  {
   "cell_type": "code",
   "execution_count": 17,
   "id": "713f32a5",
   "metadata": {},
   "outputs": [
    {
     "name": "stdout",
     "output_type": "stream",
     "text": [
      "vI\\1\\ = ((((((v1\\S\\ != v2\\S\\) | (v2\\S\\ != v3\\S\\)) | (v3\\S\\ != v4\\S\\)) | (v4\\S\\ != v5\\S\\)) | (v5\\S\\ != v1\\S\\)) !& ((((v1\\S\\ ^ v2\\S\\) ^ v3\\S\\) ^ v4\\S\\) ^ v5\\S\\)) \n",
      "\n",
      "vI\\1\\ = _|11\\S\\ !& _^23\\S\\;\n",
      " _|11\\S\\ = _|10\\S\\ | v5\\S\\;\n",
      " _|10\\S\\ = _|9\\S\\ | v4\\S\\;\n",
      " _|9\\S\\ = _|8\\S\\ | v3\\S\\;\n",
      " _|8\\S\\ = v1\\S\\ | v2\\S\\;\n",
      " v1\\S\\ != v2\\S\\;\n",
      " v2\\S\\ != v3\\S\\;\n",
      " v3\\S\\ != v4\\S\\;\n",
      " v4\\S\\ != v5\\S\\;\n",
      " v5\\S\\ != v1\\S\\;\n",
      " _^23\\S\\ = _^22\\S\\ ^ v5\\S\\;\n",
      " _^22\\S\\ = _^21\\S\\ ^ v4\\S\\;\n",
      " _^21\\S\\ = _^20\\S\\ ^ v3\\S\\;\n",
      " _^20\\S\\ = v1\\S\\ ^ v2\\S\\;\n",
      " \n",
      "Solutions for: v1\\S\\ v2\\S\\ v3\\S\\ v4\\S\\ v5\\S\\ {\n",
      "v1\\0\\ v2\\0\\ v3\\1\\ v4\\0\\ v5\\1\\ \n",
      "v1\\0\\ v2\\1\\ v3\\0\\ v4\\0\\ v5\\1\\ \n",
      "v1\\1\\ v2\\0\\ v3\\1\\ v4\\0\\ v5\\0\\ \n",
      "v1\\0\\ v2\\1\\ v3\\0\\ v4\\1\\ v5\\0\\ \n",
      "v1\\1\\ v2\\0\\ v3\\0\\ v4\\1\\ v5\\0\\ \n",
      "}\n"
     ]
    }
   ],
   "source": [
    "pentagonXpr.reset()\n",
    "pentagonAssign = vIdentified.assign(pentagonXpr.nand(v1 ^ v2 ^ v3 ^ v4 ^ v5))\n",
    "print(pentagonAssign, \"\\n\")\n",
    "print(pentagonAssign.toString(True).replace(\";\", \";\\n\"))\n",
    "\n",
    "vertices.reset()\n",
    "vertices.add(pentagonAssign.compute())\n",
    "print(\"Solutions for:\", vertices)"
   ]
  },
  {
   "attachments": {
    "image.png": {
     "image/png": "[encoded data removed]"
    }
   },
   "cell_type": "markdown",
   "id": "fc7a5034",
   "metadata": {},
   "source": [
    "### A house problem\n",
    "\n",
    "The following interference pattern of vertices forms a figure like a house.\n",
    "\n",
    "![image.png](attachment:image.png)\n",
    "\n",
    "To solve a house shaped vertices identification problem, we can use previously explained triangle and rectangle quantum assignments and combine them into a quantum block of code called *houseBlock*. In the following example we can see the structure of *houseBlock* of quantum code with two quantum assignments."
   ]
  },
  {
   "cell_type": "code",
   "execution_count": 18,
   "id": "6b43166d",
   "metadata": {},
   "outputs": [
    {
     "name": "stdout",
     "output_type": "stream",
     "text": [
      "{\n",
      "\tvI\\1\\ = (((v2\\S\\ ^ v1\\S\\) & (v2\\S\\ ^ v3\\S\\)) | ((v3\\S\\ ^ v2\\S\\) & (v3\\S\\ ^ v4\\S\\)));\n",
      "\tvI\\1\\ = (((v1\\S\\ ^ v4\\S\\) | (v1\\S\\ ^ v5\\S\\)) & ((v1\\S\\ !^ v4\\S\\) !^ v5\\S\\));\n",
      "}\n",
      "Solutions for: v1\\S\\ v2\\S\\ v3\\S\\ v4\\S\\ v5\\S\\ {\n",
      "v1\\0\\ v2\\1\\ v3\\0\\ v4\\1\\ v5\\0\\ \n",
      "v1\\1\\ v2\\0\\ v3\\1\\ v4\\0\\ v5\\0\\ \n",
      "v1\\0\\ v2\\0\\ v3\\1\\ v4\\0\\ v5\\1\\ \n",
      "v1\\0\\ v2\\1\\ v3\\0\\ v4\\0\\ v5\\1\\ \n",
      "}\n"
     ]
    }
   ],
   "source": [
    "roof = vIdentified.assign(((v1 ^ v4)| (v1 ^ v5)) & v1.alike(v4).alike(v5))\n",
    "walls = vIdentified.assign(((v2 ^ v1) & (v2 ^ v3)) | ((v3 ^ v2) & (v3 ^ v4)))\n",
    "\n",
    "from dann5.d5 import Qblock\n",
    "houseBlock = Qblock() << walls << roof\n",
    "print(houseBlock)\n",
    "\n",
    "vertices.reset()\n",
    "vertices.add(houseBlock.compute())\n",
    "print(\"Solutions for:\", vertices)"
   ]
  },
  {
   "cell_type": "markdown",
   "id": "11534a9d",
   "metadata": {},
   "source": [
    "### A hexagon problem\n",
    "\n",
    "First, we will add the 6th vertex to the *vertices* quantum bundle to optimize presentation of calculated solutions."
   ]
  },
  {
   "cell_type": "code",
   "execution_count": 19,
   "id": "fcc4eda3",
   "metadata": {},
   "outputs": [
    {
     "name": "stdout",
     "output_type": "stream",
     "text": [
      "v1\\S\\ v2\\S\\ v3\\S\\ v4\\S\\ v5\\S\\ v6\\S\\ \n"
     ]
    }
   ],
   "source": [
    "v6 = Qbit(\"v6\");\n",
    "vertices.reset()\n",
    "vertices = vertices << v6\n",
    "print(vertices)"
   ]
  },
  {
   "attachments": {
    "image.png": {
     "image/png": "[encoded data removed]"
    }
   },
   "cell_type": "markdown",
   "id": "02ec945a",
   "metadata": {},
   "source": [
    "![image.png](attachment:image.png)\n",
    "\n",
    "Based on 2 and 4 vertices problems we can assume that any problem of a closed shape with an even number of vertices that neighboring vertices have to be different. This principle can be describe using the following expression:\n",
    "\n",
    "$$\n",
    " expression = \\&_{i = 1}^{2n - 1}\\ (vertex_{i} != vertex_{i + 1})\\ \\& \\ (vertex_{2n} != vertex_{1})\n",
    "$$\n",
    "> where 2n is number of vertices, e.g. in this case 2n = 6, n = 3 \n",
    "\n",
    "For six vertices organized as a closed hexagon, like presented the figure above, the described generic expression is presented with the following code:"
   ]
  },
  {
   "cell_type": "code",
   "execution_count": 20,
   "id": "3ac74dfd",
   "metadata": {},
   "outputs": [
    {
     "name": "stdout",
     "output_type": "stream",
     "text": [
      "[v1\\S\\, v2\\S\\, v3\\S\\, v4\\S\\, v5\\S\\, v6\\S\\] \n",
      "\n",
      "((((((v6\\S\\ != v1\\S\\) & (v1\\S\\ != v2\\S\\)) & (v2\\S\\ != v3\\S\\)) & (v3\\S\\ != v4\\S\\)) & (v4\\S\\ != v5\\S\\)) & (v5\\S\\ != v6\\S\\)) \n",
      "\n",
      "Solutions for: v1\\S\\ v2\\S\\ v3\\S\\ v4\\S\\ v5\\S\\ v6\\S\\ {\n",
      "v1\\0\\ v2\\1\\ v3\\0\\ v4\\1\\ v5\\0\\ v6\\1\\ \n",
      "v1\\1\\ v2\\0\\ v3\\1\\ v4\\0\\ v5\\1\\ v6\\0\\ \n",
      "}\n"
     ]
    }
   ],
   "source": [
    "verticesList = [Qbit(\"v{}\".format(count + 1)) for count in range(0, 6)]\n",
    "print(verticesList, \"\\n\")\n",
    "\n",
    "hexagonXpr = verticesList[5] != verticesList[0] # initialize expression\n",
    "for count in range(0, 5):\n",
    "    hexagonXpr = (hexagonXpr & (verticesList[count] != verticesList[count + 1]))\n",
    "print(hexagonXpr, \"\\n\")\n",
    "\n",
    "vertices.reset()\n",
    "vertices.add(hexagonXpr.compute())\n",
    "print(\"Solutions for:\", vertices)"
   ]
  },
  {
   "cell_type": "markdown",
   "id": "d728b34e",
   "metadata": {},
   "source": [
    "### A heptagon problem\n",
    "\n",
    "First, we will add the 6th vertex to the *vertices* quantum bundle to optimize presentation of calculated solutions."
   ]
  },
  {
   "cell_type": "code",
   "execution_count": 21,
   "id": "3f93d7bf",
   "metadata": {},
   "outputs": [
    {
     "name": "stdout",
     "output_type": "stream",
     "text": [
      "v1\\S\\ v2\\S\\ v3\\S\\ v4\\S\\ v5\\S\\ v6\\S\\ v7\\S\\ \n"
     ]
    }
   ],
   "source": [
    "v7 = Qbit(\"v7\");\n",
    "vertices.reset()\n",
    "vertices = vertices << v7\n",
    "print(vertices)"
   ]
  },
  {
   "attachments": {
    "image-2.png": {
     "image/png": "[encoded data removed]"
    }
   },
   "cell_type": "markdown",
   "id": "7ed606b1",
   "metadata": {},
   "source": [
    "![image-2.png](attachment:image-2.png)\n",
    "\n",
    "Based on 3 and 5 vertices problems we can assume that any problem of a closed shape with an odd number of vertices that neighboring vertices have to be different and their sum (Xor) has to be odd or even interchangably. This principle can be describe using the following expressions:\n",
    "\n",
    "$$\n",
    " expression_{notequal} = |_{ i = 1}^{ 2n}\\ (vertex_{i} != vertex_{i + 1})\\ | \\ (vertex_{2n + 1} != vertex_{1})\n",
    "$$\n",
    "\n",
    "$$\n",
    " expression_{sum} = Xor_{ i = 1}^{ 2n + 1}\\ vertex_{i}\n",
    "$$\n",
    "\n",
    "> When creating a quantum assignment using the above quantum expressions we will **use *AND (&)* when the n is an odd** number and ***NAND (!&)* when the *n* is an even** number\n",
    "\n",
    "\n",
    "For seven vertices organized as a closed heptagon, like presented the figure above, the described generic expressions are presented with the following code:"
   ]
  },
  {
   "cell_type": "code",
   "execution_count": 22,
   "id": "3be9bb89",
   "metadata": {},
   "outputs": [
    {
     "name": "stdout",
     "output_type": "stream",
     "text": [
      "[v1\\S\\, v2\\S\\, v3\\S\\, v4\\S\\, v5\\S\\, v6\\S\\, v7\\S\\] \n",
      "\n",
      "vI\\1\\ = ((((((((v7\\S\\ != v1\\S\\) | (v1\\S\\ != v2\\S\\)) | (v2\\S\\ != v3\\S\\)) | (v3\\S\\ != v4\\S\\)) | (v4\\S\\ != v5\\S\\)) | (v5\\S\\ != v6\\S\\)) | (v6\\S\\ != v7\\S\\)) & ((((((v7\\S\\ ^ v1\\S\\) ^ v2\\S\\) ^ v3\\S\\) ^ v4\\S\\) ^ v5\\S\\) ^ v6\\S\\)) \n",
      "\n",
      "Solutions for: v1\\S\\ v2\\S\\ v3\\S\\ v4\\S\\ v5\\S\\ v6\\S\\ v7\\S\\ {\n",
      "v1\\0\\ v2\\1\\ v3\\0\\ v4\\1\\ v5\\0\\ v6\\1\\ v7\\0\\ \n",
      "v1\\1\\ v2\\0\\ v3\\0\\ v4\\1\\ v5\\0\\ v6\\1\\ v7\\0\\ \n",
      "v1\\0\\ v2\\1\\ v3\\0\\ v4\\0\\ v5\\1\\ v6\\0\\ v7\\1\\ \n",
      "v1\\0\\ v2\\1\\ v3\\0\\ v4\\1\\ v5\\0\\ v6\\0\\ v7\\1\\ \n",
      "v1\\1\\ v2\\0\\ v3\\1\\ v4\\0\\ v5\\0\\ v6\\1\\ v7\\0\\ \n",
      "v1\\0\\ v2\\0\\ v3\\1\\ v4\\0\\ v5\\1\\ v6\\0\\ v7\\1\\ \n",
      "v1\\1\\ v2\\0\\ v3\\1\\ v4\\0\\ v5\\1\\ v6\\0\\ v7\\0\\ \n",
      "}\n"
     ]
    }
   ],
   "source": [
    "verticesList = [Qbit(\"v{}\".format(count + 1)) for count in range(0, 7)]\n",
    "print(verticesList, \"\\n\")\n",
    "\n",
    "heptagonXprNe = verticesList[6] != verticesList[0] # initialize expression\n",
    "heptagonXprSum = verticesList[6]                   # initialize expression\n",
    "for count in range(0, 6):\n",
    "    heptagonXprNe = (heptagonXprNe | (verticesList[count] != verticesList[count + 1]))\n",
    "    heptagonXprSum = heptagonXprSum ^ verticesList[count]\n",
    "    \n",
    "heptagonAssign = vIdentified.assign(heptagonXprNe & heptagonXprSum)\n",
    "print(heptagonAssign, \"\\n\")\n",
    "\n",
    "vertices.reset()\n",
    "vertices.add(heptagonAssign.compute())\n",
    "print(\"Solutions for:\", vertices)"
   ]
  },
  {
   "cell_type": "markdown",
   "id": "ccb8affc",
   "metadata": {},
   "source": [
    "In **the next chapter, 3.2**, we will be covering the ***Qbool* expressions and assignments to solve practical problems**."
   ]
  }
 ],
 "metadata": {
  "kernelspec": {
   "display_name": "Python 3 (ipykernel)",
   "language": "python",
   "name": "python3"
  },
  "language_info": {
   "codemirror_mode": {
    "name": "ipython",
    "version": 3
   },
   "file_extension": ".py",
   "mimetype": "text/x-python",
   "name": "python",
   "nbconvert_exporter": "python",
   "pygments_lexer": "ipython3",
   "version": "3.10.4"
  }
 },
 "nbformat": 4,
 "nbformat_minor": 5
}
