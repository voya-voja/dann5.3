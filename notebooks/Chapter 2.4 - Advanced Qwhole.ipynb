{
 "cells": [
  {
   "cell_type": "markdown",
   "id": "d28b31dc",
   "metadata": {},
   "source": [
    "# Chapter 2.4 - Advanced Qwhole\n",
    "\n",
    "In this section of chapter 2 we will be walking through how to use Qwhole variables in more complex expressions and assignments by chaining multiple arithmetic operations together. We will also see how to apply Qwhole and qunatum expressions to solve mathematical problems that would take classical computers long amounts of time to solve.\n",
    "\n",
    "To start we will import the Qwhole class from dann5 and create our complex expressions:"
   ]
  },
  {
   "cell_type": "markdown",
   "id": "fda02232",
   "metadata": {},
   "source": [
    "Mention Half adder inputs outputs as well as Full adder inputs and outputs.\n",
    "\n",
    "Add complex expression for arithmetic operations.\n",
    "\n",
    "Add prime number solution and RSA solution."
   ]
  },
  {
   "attachments": {},
   "cell_type": "markdown",
   "id": "2e53c288",
   "metadata": {},
   "source": []
  },
  {
   "cell_type": "code",
   "execution_count": null,
   "id": "2559db55",
   "metadata": {},
   "outputs": [],
   "source": []
  }
 ],
 "metadata": {
  "kernelspec": {
   "display_name": "Python 3 (ipykernel)",
   "language": "python",
   "name": "python3"
  },
  "language_info": {
   "codemirror_mode": {
    "name": "ipython",
    "version": 3
   },
   "file_extension": ".py",
   "mimetype": "text/x-python",
   "name": "python",
   "nbconvert_exporter": "python",
   "pygments_lexer": "ipython3",
   "version": "3.10.11"
  }
 },
 "nbformat": 4,
 "nbformat_minor": 5
}
