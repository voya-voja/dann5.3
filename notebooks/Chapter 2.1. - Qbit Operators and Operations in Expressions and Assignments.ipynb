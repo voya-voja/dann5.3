{
 "cells": [
  {
   "cell_type": "markdown",
   "id": "8d28b98d",
   "metadata": {},
   "source": [
    "# Chapter 2.1. - Qbit Operators and Operations in Expressions and Assignments\n",
    "\n",
    "In this chapter we will be introducing Qbit operators and operations and talking about their differences. Also, we will use them to form more complex expressions and assignments by chaining multiple operations and operators together. In some cases, the use of complex expressions and assignments is quite strait forward. However, as in some cases complex expressions and assignments might result in unexpected solutions, we will investigate some of the possible consequences of chaining certain operators and operations.\n",
    "\n",
    "First, let import the ***Qbit* class from d5 module of dann5 quantum programming package** and then initialize three *Qbit* variables, *x*, *y* and *z*, as we have discussed in chapter 1.1."
   ]
  },
  {
   "cell_type": "code",
   "execution_count": 1,
   "id": "2fcd5107",
   "metadata": {},
   "outputs": [
    {
     "name": "stdout",
     "output_type": "stream",
     "text": [
      "x\\S\\ y\\S\\ z\\S\\\n"
     ]
    }
   ],
   "source": [
    "from dann5.d5 import Qbit\n",
    "x = Qbit(\"x\"); y = Qbit(\"y\"); z = Qbit(\"z\");\n",
    "print(x, y, z)"
   ]
  },
  {
   "cell_type": "markdown",
   "id": "e4e74085",
   "metadata": {},
   "source": [
    "Also, we need to activate the default solver, which will be used to solve quantum problems in this chapter."
   ]
  },
  {
   "cell_type": "code",
   "execution_count": 2,
   "id": "f0b6cb0c",
   "metadata": {},
   "outputs": [
    {
     "name": "stdout",
     "output_type": "stream",
     "text": [
      "<dann5.d5o.D5QuboSolver object at 0x10f51a1b0>\n"
     ]
    }
   ],
   "source": [
    "from dann5.dwave import Solver\n",
    "print(Solver.Active())"
   ]
  },
  {
   "cell_type": "markdown",
   "id": "f354b217",
   "metadata": {},
   "source": [
    "## Qbit comparison operators\n",
    "\n",
    "Qbit comparison operators create a relationship between one input and one output Qbit variable. In a way they are allowing a programmer to define entanglement rules between two q-bits. Thus, the values in a valid solution are enforced on variables to satisfy the specific operator, e.g.\n",
    "> x == y, creates an equal relationship between quantum variables, which enforces that x and y are always equal in a valid solution."
   ]
  },
  {
   "cell_type": "code",
   "execution_count": 3,
   "id": "b4f6e939",
   "metadata": {},
   "outputs": [
    {
     "name": "stdout",
     "output_type": "stream",
     "text": [
      "(x\\S\\ == y\\S\\)\n",
      "x\\S\\ == y\\S\\; \n",
      "x\\0\\; y\\0\\\n",
      "x\\1\\; y\\1\\\n",
      "\n"
     ]
    }
   ],
   "source": [
    "eqXpr = x == y\n",
    "print(eqXpr)\n",
    "print(eqXpr.toString(True))\n",
    "print(eqXpr.solve())"
   ]
  },
  {
   "cell_type": "markdown",
   "id": "e054bf28",
   "metadata": {},
   "source": [
    "Similarly,\n",
    "> *x != y*, creates an not equal relationship between quantum variables, which enforces that *x* and *y* are always to have different values in a valid solution."
   ]
  },
  {
   "cell_type": "code",
   "execution_count": 4,
   "id": "8d5346b4",
   "metadata": {},
   "outputs": [
    {
     "name": "stdout",
     "output_type": "stream",
     "text": [
      "(x\\S\\ != y\\S\\)\n",
      "x\\S\\ != y\\S\\; \n",
      "x\\0\\; y\\1\\\n",
      "x\\1\\; y\\0\\\n",
      "\n"
     ]
    }
   ],
   "source": [
    "neXpr = x != y\n",
    "print(neXpr)\n",
    "print(neXpr.toString(True))\n",
    "print(neXpr.solve())"
   ]
  },
  {
   "cell_type": "markdown",
   "id": "008388b8",
   "metadata": {},
   "source": [
    "In addition to **equal (==)** and **not-equal (!=)** operators Qbit variables can be **less, greater, less-n-equal and greater-n-equal** by using **<, >, <= and >= operators** respectfully:"
   ]
  },
  {
   "cell_type": "code",
   "execution_count": 5,
   "id": "334b71ca",
   "metadata": {},
   "outputs": [
    {
     "name": "stdout",
     "output_type": "stream",
     "text": [
      "(x\\S\\ < y\\S\\)\n",
      "x\\S\\ < y\\S\\; \n",
      "x\\0\\; y\\1\\\n",
      "\n"
     ]
    }
   ],
   "source": [
    "ltXpr = x < y\n",
    "print(ltXpr)\n",
    "print(ltXpr.toString(True))\n",
    "print(ltXpr.solve())"
   ]
  },
  {
   "cell_type": "code",
   "execution_count": 6,
   "id": "9bbb7d87",
   "metadata": {},
   "outputs": [
    {
     "name": "stdout",
     "output_type": "stream",
     "text": [
      "(x\\S\\ > y\\S\\)\n",
      "x\\S\\ > y\\S\\; \n",
      "x\\1\\; y\\0\\\n",
      "\n"
     ]
    }
   ],
   "source": [
    "gtXpr = x > y\n",
    "print(gtXpr)\n",
    "print(gtXpr.toString(True))\n",
    "print(gtXpr.solve())"
   ]
  },
  {
   "cell_type": "code",
   "execution_count": 7,
   "id": "b25db037",
   "metadata": {},
   "outputs": [
    {
     "name": "stdout",
     "output_type": "stream",
     "text": [
      "(x\\S\\ <= y\\S\\)\n",
      "x\\S\\ <= y\\S\\; \n",
      "x\\0\\; y\\0\\\n",
      "x\\0\\; y\\1\\\n",
      "x\\1\\; y\\1\\\n",
      "\n"
     ]
    }
   ],
   "source": [
    "leXpr = x <= y\n",
    "print(leXpr)\n",
    "print(leXpr.toString(True))\n",
    "print(leXpr.solve())"
   ]
  },
  {
   "cell_type": "code",
   "execution_count": 8,
   "id": "5c4e4a0d",
   "metadata": {},
   "outputs": [
    {
     "name": "stdout",
     "output_type": "stream",
     "text": [
      "(x\\S\\ >= y\\S\\)\n",
      "x\\S\\ >= y\\S\\; \n",
      "x\\0\\; y\\0\\\n",
      "x\\1\\; y\\0\\\n",
      "x\\1\\; y\\1\\\n",
      "\n"
     ]
    }
   ],
   "source": [
    "geXpr = x >= y\n",
    "print(geXpr)\n",
    "print(geXpr.toString(True))\n",
    "print(geXpr.solve())"
   ]
  },
  {
   "cell_type": "markdown",
   "id": "bf2549f8",
   "metadata": {},
   "source": [
    "## Qbit bitwise operator\n",
    "\n",
    "Additionally, **inversion ~** (tilde) is a unary Qbit bitwise operator, where an automatically generated Qbit inverted variable is introduced. \n",
    "> In the following example an inversion of a *Qbit* variable with id *x* is a dann5 system generated *Qbit* variable *~x*.\n",
    "\n",
    "From the first printout we see the inversion expression in quantum space, and from the solutions we see that we have defined the rule where *~x* has opposite value from *x*."
   ]
  },
  {
   "cell_type": "code",
   "execution_count": 9,
   "id": "f661241c",
   "metadata": {},
   "outputs": [
    {
     "name": "stdout",
     "output_type": "stream",
     "text": [
      "(~x\\S\\ ~ x\\S\\)\n",
      "~x\\1\\; x\\0\\\n",
      "~x\\0\\; x\\1\\\n",
      "\n"
     ]
    }
   ],
   "source": [
    "xI = ~x\n",
    "print(xI)\n",
    "print(xI.solve())"
   ]
  },
  {
   "cell_type": "markdown",
   "id": "71c67b33",
   "metadata": {},
   "source": [
    "## Qbit operations\n",
    "\n",
    "Qbit operations always have two Qbit input arguments and at least a resulting Qbit output. Qbit **and(&)** and **or(|)** operations are those with one resulting Qbit variable. As we see in the example below, the resulting output variables are automatically generated with the names *_&(plus-number)* or *_|(plus-number)*."
   ]
  },
  {
   "cell_type": "code",
   "execution_count": 10,
   "id": "bb464503",
   "metadata": {},
   "outputs": [
    {
     "name": "stdout",
     "output_type": "stream",
     "text": [
      "(x\\S\\ & y\\S\\)\n",
      "_&0\\S\\ = x\\S\\ & y\\S\\; \n",
      "_&0\\0\\; x\\0\\; y\\0\\\n",
      "_&0\\0\\; x\\0\\; y\\1\\\n",
      "_&0\\0\\; x\\1\\; y\\0\\\n",
      "_&0\\1\\; x\\1\\; y\\1\\\n",
      "\n"
     ]
    }
   ],
   "source": [
    "andXpr = (x & y)\n",
    "print(andXpr)\n",
    "print(andXpr.toString(True))\n",
    "print(andXpr.solve())"
   ]
  },
  {
   "cell_type": "code",
   "execution_count": 11,
   "id": "594ff840",
   "metadata": {},
   "outputs": [
    {
     "name": "stdout",
     "output_type": "stream",
     "text": [
      "(x\\S\\ | y\\S\\)\n",
      "_|0\\S\\ = x\\S\\ | y\\S\\; \n",
      "_|0\\0\\; x\\0\\; y\\0\\\n",
      "_|0\\1\\; x\\0\\; y\\1\\\n",
      "_|0\\1\\; x\\1\\; y\\0\\\n",
      "_|0\\1\\; x\\1\\; y\\1\\\n",
      "\n"
     ]
    }
   ],
   "source": [
    "orXpr = (x | y)\n",
    "print(orXpr)\n",
    "print(orXpr.toString(True))\n",
    "print(orXpr.solve())"
   ]
  },
  {
   "cell_type": "markdown",
   "id": "83944d15",
   "metadata": {},
   "source": [
    "Qbit **nand** and **nor** are operations with two input arguments, which can be either Qbit or Qbit expression (QbitExpr) and with one resulting and one auxiliary Qbit output. These operations are implemented as Qbit methods and in expression presentations represented with *!&* and *!|* symbols. The resulting Qbit outputs, in the example below, are automatically generated names *_!&(plus-number)* or *_!|(plus-number)* and they can be seen in the solution and in the corresponding qubos. The auxiliary Qbit output variables with automatically generated names *?!&(plus-number)* or *?!|(plus-number)* show up only in the corresponding qubos, as they are required nodes for the QUBO transformation."
   ]
  },
  {
   "cell_type": "code",
   "execution_count": 12,
   "id": "02410b54",
   "metadata": {},
   "outputs": [
    {
     "name": "stdout",
     "output_type": "stream",
     "text": [
      "(x\\S\\ !& y\\S\\)\n",
      "_!&0\\S\\ = x\\S\\ !& y\\S\\; \n",
      "_!&0\\1\\; x\\0\\; y\\0\\\n",
      "_!&0\\1\\; x\\0\\; y\\1\\\n",
      "_!&0\\1\\; x\\1\\; y\\0\\\n",
      "_!&0\\0\\; x\\1\\; y\\1\\\n",
      "\n"
     ]
    }
   ],
   "source": [
    "nandXpr = x.nand(y)\n",
    "print(nandXpr)\n",
    "print(nandXpr.toString(True))\n",
    "print(nandXpr.solve())"
   ]
  },
  {
   "cell_type": "code",
   "execution_count": 13,
   "id": "41c05041",
   "metadata": {},
   "outputs": [
    {
     "name": "stdout",
     "output_type": "stream",
     "text": [
      "(x\\S\\ !| y\\S\\)\n",
      "_!|0\\S\\ = x\\S\\ !| y\\S\\; \n",
      "_!|0\\0\\; x\\0\\; y\\1\\\n",
      "_!|0\\0\\; x\\1\\; y\\0\\\n",
      "_!|0\\1\\; x\\0\\; y\\0\\\n",
      "_!|0\\0\\; x\\1\\; y\\1\\\n",
      "\n"
     ]
    }
   ],
   "source": [
    "norXpr = x.nor(y)\n",
    "print(norXpr)\n",
    "print(norXpr.toString(True))\n",
    "print(norXpr.solve())"
   ]
  },
  {
   "cell_type": "markdown",
   "id": "13182374",
   "metadata": {},
   "source": [
    "*Qbit* **xor(^)** and **nxor** are addition operations with two input arguments, which can be *Qbit* or *Qbit* expression and with one resulting and one carryforward *Qbit* output. The resulting *Qbit* output, in below example, is *_^#*, where *#* is an autogenerated number.\n",
    "\n",
    "- **Note**: The second, carryover, *Qbit* output variable, e.g. *#[_^0]* will show up only in QUBO, as it is required node of the QUBO transformation. The QUBO transformations of quantum variables will be discussed in chapter 4.1. Also, we will cover **carryover** variables when we cover Half-Adder and Full- Adder Opertionsin chapter 2.4."
   ]
  },
  {
   "cell_type": "code",
   "execution_count": 14,
   "id": "4bbf5932",
   "metadata": {},
   "outputs": [
    {
     "name": "stdout",
     "output_type": "stream",
     "text": [
      "(x\\S\\ ^ y\\S\\)\n",
      "_^0\\S\\ = x\\S\\ ^ y\\S\\; \n",
      "_^0\\0\\; x\\0\\; y\\0\\\n",
      "_^0\\1\\; x\\0\\; y\\1\\\n",
      "_^0\\1\\; x\\1\\; y\\0\\\n",
      "_^0\\0\\; x\\1\\; y\\1\\\n",
      "\n"
     ]
    }
   ],
   "source": [
    "xorXpr = (x ^ y)\n",
    "print(xorXpr)\n",
    "print(xorXpr.toString(True))\n",
    "print(xorXpr.solve())"
   ]
  },
  {
   "cell_type": "markdown",
   "id": "a0ff7500",
   "metadata": {},
   "source": [
    "The nxor is implemented as *Qbit* method and in expression presentations represented with *!^* symbols. The resulting Qbool outputs, in below example, is *_!^(#)*, where *#* is an autogenerated number."
   ]
  },
  {
   "cell_type": "code",
   "execution_count": 15,
   "id": "8ca9e019",
   "metadata": {},
   "outputs": [
    {
     "name": "stdout",
     "output_type": "stream",
     "text": [
      "(x\\S\\ !^ y\\S\\)\n",
      "_!^0\\S\\ = x\\S\\ !^ y\\S\\; \n",
      "_!^0\\0\\; x\\0\\; y\\1\\\n",
      "_!^0\\0\\; x\\1\\; y\\0\\\n",
      "_!^0\\1\\; x\\0\\; y\\0\\\n",
      "_!^0\\1\\; x\\1\\; y\\1\\\n",
      "\n"
     ]
    }
   ],
   "source": [
    "nxorXpr = x.nxor(y)\n",
    "print(nxorXpr)\n",
    "print(nxorXpr.toString(True))\n",
    "print(nxorXpr.solve())"
   ]
  },
  {
   "cell_type": "markdown",
   "id": "3929fa68",
   "metadata": {},
   "source": [
    "- **NOTE**: Qbit **xor** and **unlike** operations are interchangeable, while **nxor** and **alike** operations are interchangeable.\n",
    "\n",
    "Both **unlike** and **like** operations are implemented as Qbit methods, as shown in the example below."
   ]
  },
  {
   "cell_type": "code",
   "execution_count": 16,
   "id": "e796c62f",
   "metadata": {},
   "outputs": [
    {
     "name": "stdout",
     "output_type": "stream",
     "text": [
      "(x\\S\\ ^ y\\S\\)\n",
      "_^1\\S\\ = x\\S\\ ^ y\\S\\; \n",
      "_^1\\0\\; x\\0\\; y\\0\\\n",
      "_^1\\1\\; x\\0\\; y\\1\\\n",
      "_^1\\1\\; x\\1\\; y\\0\\\n",
      "_^1\\0\\; x\\1\\; y\\1\\\n",
      "\n"
     ]
    }
   ],
   "source": [
    "unlikeXpr = x.unlike(y)\n",
    "print(unlikeXpr)\n",
    "print(unlikeXpr.toString(True))\n",
    "print(unlikeXpr.solve())"
   ]
  },
  {
   "cell_type": "code",
   "execution_count": 17,
   "id": "33fa863e",
   "metadata": {},
   "outputs": [
    {
     "name": "stdout",
     "output_type": "stream",
     "text": [
      "(x\\S\\ !^ y\\S\\)\n",
      "_!^1\\S\\ = x\\S\\ !^ y\\S\\; \n",
      "_!^1\\0\\; x\\0\\; y\\1\\\n",
      "_!^1\\0\\; x\\1\\; y\\0\\\n",
      "_!^1\\1\\; x\\0\\; y\\0\\\n",
      "_!^1\\1\\; x\\1\\; y\\1\\\n",
      "\n"
     ]
    }
   ],
   "source": [
    "alikeXpr = x.alike(y)\n",
    "print(alikeXpr)\n",
    "print(alikeXpr.toString(True))\n",
    "print(alikeXpr.solve())"
   ]
  },
  {
   "cell_type": "markdown",
   "id": "d5699ef1",
   "metadata": {},
   "source": [
    "## Use of operators and operations in complex Qbit expressions\n",
    "\n",
    "We can chain *Qbit* comparison operators into a complex quantum expression as in the following code cell. In this example we have stated two rules:\n",
    "1. *x* has to be different that *y*, and\n",
    "2. *z* has to be greater than output of quantum expression *(x != y)*\n",
    "\n",
    "From the printouts below we see in the first line the definition of the expression in quantum space very similar to our Python definition of quantum expression *comparisonsXpr*:\n",
    "> (z\\S\\ > (x\\S\\ != y\\S\\))\n",
    "\n",
    "From it we see that all three quantum variables, *x, y* and *z*, are initialized in superposition state.\n",
    "The second printout:\n",
    "> z\\S\\ > x\\S\\; x\\S\\ != y\\S\\;\n",
    "\n",
    "represents the dann5 virtual code (d5vc) of the quantum expression *comparisonsXpr*. It states the two rules. Firstly, that *x* has to be different than *y*, and secondly that *z* has to be greater than *x*, as *x*, on the left of the quantum not-equal operator (*!=*) is considered an output variable of the relationship.\n",
    "\n",
    "- **Note**: It is important to remember the following three dann5 virtual code properties of quantum comparison operators:\n",
    "    > 1. Quantum comparison operators define a relationship between one output and one input quantum variable.\n",
    "    >\n",
    "    > 2. The output variable is always on the left of the comparison operator.\n",
    "    >\n",
    "    > 3. The output variable will become an input variable of a higher operator (or operation) when chained in a complex expression."
   ]
  },
  {
   "cell_type": "code",
   "execution_count": 18,
   "id": "32f34f13",
   "metadata": {},
   "outputs": [
    {
     "name": "stdout",
     "output_type": "stream",
     "text": [
      "(z\\S\\ > (x\\S\\ != y\\S\\))\n",
      "z\\S\\ > x\\S\\; x\\S\\ != y\\S\\; \n",
      "z\\1\\; x\\0\\; y\\1\\\n",
      "\n"
     ]
    }
   ],
   "source": [
    "comparisonsXpr = (z > (x != y))\n",
    "print(comparisonsXpr)\n",
    "print(comparisonsXpr.toString(True))\n",
    "print(comparisonsXpr.solve())"
   ]
  },
  {
   "cell_type": "markdown",
   "id": "4832e7f2",
   "metadata": {},
   "source": [
    "Similarly we can chain use other quantum comparison operators to chain them into a complex expression."
   ]
  },
  {
   "cell_type": "code",
   "execution_count": 19,
   "id": "ba107ba1",
   "metadata": {},
   "outputs": [
    {
     "name": "stdout",
     "output_type": "stream",
     "text": [
      "z >= (x != y):\n",
      "z\\0\\; x\\0\\; y\\0\\\n",
      "z\\1\\; x\\0\\; y\\0\\\n",
      "z\\1\\; x\\1\\; y\\1\\\n",
      "\n"
     ]
    }
   ],
   "source": [
    "print('z >= (x != y):\\n{}'.format((z >= (x == y)).solve()))"
   ]
  },
  {
   "cell_type": "code",
   "execution_count": 20,
   "id": "977ada5d",
   "metadata": {},
   "outputs": [
    {
     "name": "stdout",
     "output_type": "stream",
     "text": [
      "z < (x != y):\n",
      "z\\0\\; x\\1\\; y\\0\\\n",
      "z\\0\\; x\\1\\; y\\1\\\n",
      "\n"
     ]
    }
   ],
   "source": [
    "print('z < (x != y):\\n{}'.format((z < (x >= y)).solve()))"
   ]
  },
  {
   "cell_type": "code",
   "execution_count": 21,
   "id": "968e4b47",
   "metadata": {},
   "outputs": [
    {
     "name": "stdout",
     "output_type": "stream",
     "text": [
      "z <= (x != y):\n",
      "z\\0\\; x\\1\\; y\\0\\\n",
      "z\\1\\; x\\1\\; y\\0\\\n",
      "\n"
     ]
    }
   ],
   "source": [
    "print('z <= (x != y):\\n{}'.format((z <= (x > y)).solve()))"
   ]
  },
  {
   "cell_type": "markdown",
   "id": "2cbbbee6",
   "metadata": {},
   "source": [
    "When defining a complex Qbit expression mixing operators and operations it is important to remember that operators enforce intended relationship between its *in* and *out* operands so the operator statement is always correct (true). The operations are exploring all possible solutions between in and out operands regardless of the operation's result. These differences between operators and assignments will be further explored in this and following chapters of this section.\n",
    "\n",
    "Here is an example of a complex Qbit expression mixing operators *== and !=* with operations *|, & and ^*."
   ]
  },
  {
   "cell_type": "code",
   "execution_count": 22,
   "id": "5de522b7",
   "metadata": {},
   "outputs": [
    {
     "name": "stdout",
     "output_type": "stream",
     "text": [
      "Expression:(((b\\1\\ & x\\S\\) != z\\S\\) | ((y\\S\\ ^ _0_\\0\\) == z\\S\\))\n",
      "\n",
      "Expression d5vc:\n",
      "_|1\\S\\ = _&1\\S\\ | _^2\\S\\;\n",
      " _&1\\S\\ != z\\S\\;\n",
      " _&1\\S\\ = b\\1\\ & x\\S\\;\n",
      " _^2\\S\\ == z\\S\\;\n",
      " _^2\\S\\ = y\\S\\ ^ _0_\\0\\;\n",
      " \n"
     ]
    }
   ],
   "source": [
    "b = Qbit(\"b\", 1); _0_ = Qbit(\"_0_\", 0)\n",
    "\n",
    "xComplex = ((b & x) != z) | ((y ^ _0_) == z)\n",
    "print(\"Expression:{}\\n\".format(xComplex))\n",
    "print(\"Expression d5vc:\\n{}\".format(xComplex.toString(True).replace(\";\", \";\\n\")))"
   ]
  },
  {
   "cell_type": "markdown",
   "id": "4f4a9690",
   "metadata": {},
   "source": [
    "We can create a relationship graph (below) based on *expression d5vc* of a statement **((z != (b & x)) | (z == (y ^ _ 0_)))**, where *x, y* and *z* are *Qbit*-s in superposition state, *b* and *_0_* are *Qbit* variables (constants) set to *1* and *0*, respectfully:\n",
    ">\t                                     _|1/S/\n",
    ">\n",
    ">\t                   _&1/S/\t           |\t          \t_^2/S/\n",
    ">\n",
    ">\t          _&1/S/\t !=\t   z/S/\t\t       _^2/S/\t   == \t\tz/S/\n",
    ">\n",
    ">       b/1/\t&\tx/S/\t\t\t            y/S/\t^\t_0_/0/\n",
    "\n",
    "The *_|3, _&3 and _^3* are automatically generated result variables for *or*, *and*, and *xor* operations respectfully. All automatically generated result and auxiliary variables are set to superposition state, as at least one of the operations' input argument variables is in superposition state."
   ]
  },
  {
   "cell_type": "code",
   "execution_count": 23,
   "id": "d5785059",
   "metadata": {},
   "outputs": [
    {
     "name": "stdout",
     "output_type": "stream",
     "text": [
      "*** SOLUTION ***\n",
      "_|1\\1\\; _&1\\0\\; b\\1\\; x\\0\\; z\\1\\; _^2\\1\\; y\\1\\; _0_\\0\\; z\\1\\\n",
      "_|1\\1\\; _&1\\1\\; b\\1\\; x\\1\\; z\\0\\; _^2\\0\\; y\\0\\; _0_\\0\\; z\\0\\\n",
      "\n"
     ]
    }
   ],
   "source": [
    "print(\"*** SOLUTION ***\\n{}\".format(xComplex.solve()))"
   ]
  },
  {
   "cell_type": "markdown",
   "id": "e9c55a87",
   "metadata": {},
   "source": [
    "There are 2 valid solutions enforced by equal and not-equal operators:\n",
    "1. Solution x/0/, y/1/ and z/1/ is valid:\n",
    ">\t                                     _|1/1/\n",
    ">\n",
    ">\t                    _&1/0/\t           |\t          \t_^2/1/\n",
    ">\n",
    ">\t          _&1/0/\t !=\t   z/1/\t\t       _^2/1/\t   == \t\tz/1/\n",
    ">\n",
    ">       b/1/\t&\tx/0/\t\t\t           y/1/\t^\t_0_/0/\n",
    "2. Solution x/1/, y/0/ and z/0/ is valid\n",
    ">\t                                     _|1/1/\n",
    ">\n",
    ">\t                    _&1/1/\t           |\t          \t_^2/0/\n",
    ">\n",
    ">\t          _&1/1/\t !=\t   z/0/\t\t       _^2/0/\t   == \t\tz/0/\n",
    ">\n",
    ">       b/1/\t&\tx/1/\t\t\t           y/0/\t^\t_0_/0/"
   ]
  },
  {
   "cell_type": "markdown",
   "id": "5cd40d19",
   "metadata": {},
   "source": [
    "Again, let create five quantum bit variables (a0-a4) to be used in following complex expressions.\n",
    "\n",
    "- **Note**: Qbit variables a0 and a3 have deterministic values, 1 and 0, respectfully, while a1, a2 and a3 are initialized in superposition state (unknown value)."
   ]
  },
  {
   "cell_type": "code",
   "execution_count": 24,
   "id": "b358b41b",
   "metadata": {},
   "outputs": [
    {
     "name": "stdout",
     "output_type": "stream",
     "text": [
      "a0\\1\\\n",
      "a1\\S\\\n",
      "a2\\S\\\n",
      "a3\\0\\\n",
      "a4\\S\\\n"
     ]
    }
   ],
   "source": [
    "a0 = Qbit(\"a0\", 1) \n",
    "a1 = Qbit(\"a1\")\n",
    "a2 = Qbit(\"a2\")\n",
    "a3 = Qbit(\"a3\", 0)\n",
    "a4 = Qbit(\"a4\")\n",
    "\n",
    "print(a0)\n",
    "print(a1)\n",
    "print(a2)\n",
    "print(a3)\n",
    "print(a4)"
   ]
  },
  {
   "cell_type": "markdown",
   "id": "d873e9ad",
   "metadata": {},
   "source": [
    "Within the *dann5* package there is a distinct difference between **quantum bitwise operations** (i.e. xor, and, or) and **quantum comparison operators** (i.e. ==, !=, <, >, ~). \n",
    "\n",
    "When we see quantum comparison operators, we can think of them as rules for the sets of possibilities given. With them, we are creating a relationship between quantum variables and/or quantum expressions that will be enforced in every solution presented. For instance, the following code symbolizes that the *XOR operation between variable a2 and variable a3 must always be equal to the value of a4*.\n",
    "\n",
    "> ((a2\\S\\ ^ a3\\0\\) == a4\\S\\))\n",
    "\n",
    "In the following example we are creating a complex expression using AND, OR and XOR operations, equal quantum operator and quantum bit variables a0-a4:"
   ]
  },
  {
   "cell_type": "code",
   "execution_count": 25,
   "id": "d212ae06",
   "metadata": {},
   "outputs": [
    {
     "name": "stdout",
     "output_type": "stream",
     "text": [
      "((a0\\1\\ & a1\\S\\) | ((a2\\S\\ ^ a3\\0\\) == a4\\S\\))\n"
     ]
    }
   ],
   "source": [
    "expression = (a0 & a1) | ((a2 ^ a3) == a4)\n",
    "print(expression)"
   ]
  },
  {
   "cell_type": "markdown",
   "id": "d59b4291",
   "metadata": {},
   "source": [
    "The above example can be presented as **dann5 virtual code** (d5vc). When using *toString()* function with the *decomposed* line output option set to *True*, the first line in the output is always from outermost operation (top, e.g. OR operation) to innermost (down, e.g. AND operation down the left branch of the operational tree, and equal operator followed by XOR operation, down the right branch of the operational tree). \n",
    "\n",
    "Priority of operators is enforced by syntax, which is the same as in classical computing. In this case, since we are using Python, the priority of operators in Python determines the order.\n",
    "\n",
    "So, the 1st line of the d5vc of the above expression is OR operation between the left and right sub expressions, e.g. AND and XOR:\n",
    "\n",
    "> _|8\\S\\ = _&16\\S\\ **|** _^20\\S\\;\n",
    "\n",
    "In the third line of the d5vc we see the equal rule that we created in the expression. The d5vc contains **an auxiliary quantum variable** _^0\\S\\, which represents a result of the XOR quantum operation between quantum variables a2 and a3:\n",
    "\n",
    "> **_^0\\S\\** == a4\\S\\;\n",
    "\n",
    "So, this (3rd) and the fourth d5vc line are result of the following code from the above expression: \n",
    "\n",
    "> (a2\\S\\ ^ a3\\0\\) == a4\\S\\"
   ]
  },
  {
   "cell_type": "code",
   "execution_count": 26,
   "id": "193f71e5",
   "metadata": {},
   "outputs": [
    {
     "name": "stdout",
     "output_type": "stream",
     "text": [
      "((a0\\1\\ & a1\\S\\) | ((a2\\S\\ ^ a3\\0\\) == a4\\S\\)) \n",
      "\n",
      "_|2\\S\\ = _&2\\S\\ | _^3\\S\\;\n",
      " _&2\\S\\ = a0\\1\\ & a1\\S\\;\n",
      " _^3\\S\\ == a4\\S\\;\n",
      " _^3\\S\\ = a2\\S\\ ^ a3\\0\\;\n",
      " \n"
     ]
    }
   ],
   "source": [
    "print(expression, \"\\n\")\n",
    "print(expression.toString(True).replace(\";\", \";\\n\"))"
   ]
  },
  {
   "cell_type": "markdown",
   "id": "44468fd4",
   "metadata": {},
   "source": [
    "Now if we examine the first line in the expression d5vc we will see that the auxiliary quantum variable  _^0\\S\\ is used in the first line as a right operand of the OR operation. This is due to the fact that since  _^0\\S\\ and the a4 variable must have the same value we can interchangeably use them in the expression d5vc.\n",
    "\n",
    "The d5vc generator, however, does not anticipate which variable you would like to pass to the next d5vc line. Simply it takes the left variable of a quantum comparison operator (e.g. ==) and passes that variable to the higher-level quantum operation / operator. As it is shown in the below code, when we switch them around, we will now see the a4 quantum variable in the first line:\n",
    "\n",
    "> _|1\\S\\ = _&3\\S\\ | **a4\\S\\**; \n",
    "\n",
    "**Note**: When reviewing d5vc, make sure to double check the number next to the operation symbol for each generated quantum auxiliary variable. It will increase so that every quantum auxiliary variable of a new operation is unique. This is especially important when using two or more of the same operators in your code.\n",
    "\n",
    "**Note**: All other quantum bitwise operations (XOR, NOR, AND, NAND & NXOR) work as described OR operation above. All other quantum comparison operators (!=, <, >, <=, >=) work similar to the above described == operator."
   ]
  },
  {
   "cell_type": "code",
   "execution_count": 27,
   "id": "3d33ee81",
   "metadata": {},
   "outputs": [
    {
     "name": "stdout",
     "output_type": "stream",
     "text": [
      "((a0\\1\\ & a1\\S\\) | ((a2\\S\\ ^ a3\\0\\) == a4\\S\\)) \n",
      "\n",
      "_|2\\S\\ = _&2\\S\\ | _^3\\S\\;\n",
      " _&2\\S\\ = a0\\1\\ & a1\\S\\;\n",
      " _^3\\S\\ == a4\\S\\;\n",
      " _^3\\S\\ = a2\\S\\ ^ a3\\0\\;\n",
      " \n",
      "((a0\\1\\ & a1\\S\\) | (a4\\S\\ == (a2\\S\\ ^ a3\\0\\))) \n",
      "\n",
      "_|3\\S\\ = _&3\\S\\ | a4\\S\\;\n",
      " _&3\\S\\ = a0\\1\\ & a1\\S\\;\n",
      " a4\\S\\ == _^4\\S\\;\n",
      " _^4\\S\\ = a2\\S\\ ^ a3\\0\\;\n",
      " \n"
     ]
    }
   ],
   "source": [
    "print(expression, \"\\n\")\n",
    "print(expression.toString(True).replace(\";\", \";\\n\"))\n",
    "\n",
    "expression1 = (a0 & a1) | (a4 == (a2 ^ a3))\n",
    "print(expression1, \"\\n\")\n",
    "print(expression1.toString(True).replace(\";\", \";\\n\"))"
   ]
  },
  {
   "cell_type": "markdown",
   "id": "035df72d",
   "metadata": {},
   "source": [
    "**Note** Tilde function (~) is unique as it is a quantum unary operator, but it functionality is same as != quantum comparison operator with auto-generated inverted quantum variable, which name starts with ~ symbol.\n",
    "\n",
    "In the below example, the tildeXpr expression has auto-generated quantum auxiliary variable **~_1** in superposition state. Later we will see that its solutions have to have inverted values of the valid solutions of quantum auxiliary variable **_1|**."
   ]
  },
  {
   "cell_type": "code",
   "execution_count": 28,
   "id": "e44b7aaf",
   "metadata": {},
   "outputs": [
    {
     "name": "stdout",
     "output_type": "stream",
     "text": [
      "(~_|3\\S\\ ~ ((a0\\1\\ & a1\\S\\) | (a4\\S\\ == (a2\\S\\ ^ a3\\0\\)))) \n",
      "\n",
      "~_|3\\S\\ ~ _|3\\S\\;\n",
      " _|3\\S\\ = _&3\\S\\ | a4\\S\\;\n",
      " _&3\\S\\ = a0\\1\\ & a1\\S\\;\n",
      " a4\\S\\ == _^4\\S\\;\n",
      " _^4\\S\\ = a2\\S\\ ^ a3\\0\\;\n",
      " \n"
     ]
    }
   ],
   "source": [
    "tildeXpr = ~expression1\n",
    "print(tildeXpr, \"\\n\")\n",
    "print(tildeXpr.toString(True).replace(\";\", \";\\n\"))"
   ]
  },
  {
   "cell_type": "markdown",
   "id": "259c7cae",
   "metadata": {},
   "source": [
    "### Solving a quantum expression\n",
    "\n",
    "Now we can import the solver from dann5's dwave module, activate the default solver, and solve the quantum expressions. \n",
    "\n",
    "The most important variables to look at are the a1, a2, a3, a4 and the OR operation resulting auxiliary variable. We can then grab the solution values for these variables and test them against the original expression or the expression d5vc:\n",
    "\n",
    "> ((a0\\1\\ & a1\\S\\) | (a4\\S\\ == (a2\\S\\ ^ a3\\0\\)))"
   ]
  },
  {
   "cell_type": "code",
   "execution_count": 29,
   "id": "367d0768",
   "metadata": {},
   "outputs": [
    {
     "name": "stdout",
     "output_type": "stream",
     "text": [
      "_|2\\0\\; _&2\\0\\; a0\\1\\; a1\\0\\; _^3\\0\\; a2\\0\\; a3\\0\\; a4\\0\\\n",
      "_|2\\1\\; _&2\\0\\; a0\\1\\; a1\\0\\; _^3\\1\\; a2\\1\\; a3\\0\\; a4\\1\\\n",
      "_|2\\1\\; _&2\\1\\; a0\\1\\; a1\\1\\; _^3\\0\\; a2\\0\\; a3\\0\\; a4\\0\\\n",
      "_|2\\1\\; _&2\\1\\; a0\\1\\; a1\\1\\; _^3\\1\\; a2\\1\\; a3\\0\\; a4\\1\\\n",
      "\n"
     ]
    }
   ],
   "source": [
    "from dann5.dwave import Solver \n",
    "Solver.Active() \n",
    "print(expression.solve())"
   ]
  },
  {
   "cell_type": "markdown",
   "id": "79245720",
   "metadata": {},
   "source": [
    "When using the *solve()* method the solution values for  all calculated quantum variable values in an expression will be listed including auto-generated-quantum auxiliary variables. From the above generated solutions, the line below is a one possible solution for the values. You can double check that these values will work for every code line of the expressions d5vc."
   ]
  },
  {
   "cell_type": "markdown",
   "id": "bc558093",
   "metadata": {},
   "source": [
    "Now we are solving the secondary expression we have created where we flipped the left side and right side of the equal (==) quantum comparison operator. As we can see by analyzing the solutions, the values are the same, only the order to which the variables are outputted from left to right has changed:"
   ]
  },
  {
   "cell_type": "code",
   "execution_count": 30,
   "id": "f925e131",
   "metadata": {},
   "outputs": [
    {
     "name": "stdout",
     "output_type": "stream",
     "text": [
      "_|3\\0\\; _&3\\0\\; a0\\1\\; a1\\0\\; a4\\0\\; _^4\\0\\; a2\\0\\; a3\\0\\\n",
      "_|3\\1\\; _&3\\0\\; a0\\1\\; a1\\0\\; a4\\1\\; _^4\\1\\; a2\\1\\; a3\\0\\\n",
      "_|3\\1\\; _&3\\1\\; a0\\1\\; a1\\1\\; a4\\0\\; _^4\\0\\; a2\\0\\; a3\\0\\\n",
      "_|3\\1\\; _&3\\1\\; a0\\1\\; a1\\1\\; a4\\1\\; _^4\\1\\; a2\\1\\; a3\\0\\\n",
      "\n"
     ]
    }
   ],
   "source": [
    "print(expression1.solve())"
   ]
  },
  {
   "cell_type": "markdown",
   "id": "b5172dd8",
   "metadata": {},
   "source": [
    "When the *tildeXpr* quantum expression is solved we see that resulting **~_|1** quantum auxiliary variable has inverted values compared to the **_|1** quantum auxiliary variable."
   ]
  },
  {
   "cell_type": "code",
   "execution_count": 31,
   "id": "eaf42901",
   "metadata": {},
   "outputs": [
    {
     "name": "stdout",
     "output_type": "stream",
     "text": [
      "~_|3\\1\\; _|3\\0\\; _&3\\0\\; a0\\1\\; a1\\0\\; a4\\0\\; _^4\\0\\; a2\\0\\; a3\\0\\\n",
      "~_|3\\0\\; _|3\\1\\; _&3\\0\\; a0\\1\\; a1\\0\\; a4\\1\\; _^4\\1\\; a2\\1\\; a3\\0\\\n",
      "~_|3\\0\\; _|3\\1\\; _&3\\1\\; a0\\1\\; a1\\1\\; a4\\0\\; _^4\\0\\; a2\\0\\; a3\\0\\\n",
      "~_|3\\0\\; _|3\\1\\; _&3\\1\\; a0\\1\\; a1\\1\\; a4\\1\\; _^4\\1\\; a2\\1\\; a3\\0\\\n",
      "\n"
     ]
    }
   ],
   "source": [
    "print(tildeXpr.solve())"
   ]
  },
  {
   "cell_type": "markdown",
   "id": "8b2793d9",
   "metadata": {},
   "source": [
    "### Solving a quantum assignment\n",
    "\n",
    "Now we can limit the scope of the solutions by setting an assignment. In the code below we will now request all solutions that have a final value of 1 for the entire expression.\n",
    "\n",
    "- **Note**: To assign an expression to a resulting quantum variable we can use ***variable.assign(expression)*** or ***variable._(expression)*** methods."
   ]
  },
  {
   "cell_type": "code",
   "execution_count": 32,
   "id": "d56c4d51",
   "metadata": {},
   "outputs": [],
   "source": [
    "ar = Qbit(\"ar\",1)\n",
    "qAssign = ar._((a0 & a1) | ((a2 ^ a3) == a4))"
   ]
  },
  {
   "cell_type": "markdown",
   "id": "d16b9273",
   "metadata": {},
   "source": [
    "After printing the assignment d5vc we see that it is exactly the same as the expression d5vc. In the quantum assignment the specified quantum variable (e.g. **ar\\1\\)** is used instead of an auto-generated quantum variable of the first (top) quantum operation:"
   ]
  },
  {
   "cell_type": "code",
   "execution_count": 33,
   "id": "98e4ac37",
   "metadata": {},
   "outputs": [
    {
     "name": "stdout",
     "output_type": "stream",
     "text": [
      "\n",
      " ar\\1\\ = ((a0\\1\\ & a1\\S\\) | ((a2\\S\\ ^ a3\\0\\) == a4\\S\\)) \n",
      "\n",
      " ar\\1\\ = _&4\\S\\ | _^5\\S\\;\n",
      " _&4\\S\\ = a0\\1\\ & a1\\S\\;\n",
      " _^5\\S\\ == a4\\S\\;\n",
      " _^5\\S\\ = a2\\S\\ ^ a3\\0\\;\n",
      " \n",
      "\n"
     ]
    }
   ],
   "source": [
    "print(\"\\n {} \\n\\n {}\\n\".format(qAssign, \n",
    "                                   qAssign.toString(True).replace(\";\", \";\\n\")))"
   ]
  },
  {
   "cell_type": "markdown",
   "id": "0839ed1c",
   "metadata": {},
   "source": [
    "We can solve the assignment and see that we do not get all 4 possible outputs, but only the 3 that had a final value of 1: "
   ]
  },
  {
   "cell_type": "code",
   "execution_count": 34,
   "id": "8ca3bd61",
   "metadata": {},
   "outputs": [
    {
     "name": "stdout",
     "output_type": "stream",
     "text": [
      "ar\\1\\; _&4\\0\\; a0\\1\\; a1\\0\\; _^5\\1\\; a2\\1\\; a3\\0\\; a4\\1\\\n",
      "ar\\1\\; _&4\\1\\; a0\\1\\; a1\\1\\; _^5\\0\\; a2\\0\\; a3\\0\\; a4\\0\\\n",
      "ar\\1\\; _&4\\1\\; a0\\1\\; a1\\1\\; _^5\\1\\; a2\\1\\; a3\\0\\; a4\\1\\\n",
      "\n"
     ]
    }
   ],
   "source": [
    "print(qAssign.solve())"
   ]
  },
  {
   "cell_type": "markdown",
   "id": "58d926d9",
   "metadata": {},
   "source": [
    "If we would to create a quantum assignment (tildeAssign) by using the same ar quantum variable and the tildeXpr quantum expression, we see that now ar variable has to have inverted value(s) of auto-generated quantum axuiliery variable *_|1*. Considering that *ar* is initialized with a deterministic value, there is only one valid solution for *tildeAsign* of possible four solutions for *tildeXpr*."
   ]
  },
  {
   "cell_type": "code",
   "execution_count": 35,
   "id": "35993025",
   "metadata": {},
   "outputs": [
    {
     "name": "stdout",
     "output_type": "stream",
     "text": [
      "\n",
      " ar\\1\\ = (ar\\1\\ ~ ((a0\\1\\ & a1\\S\\) | (a4\\S\\ == (a2\\S\\ ^ a3\\0\\)))) \n",
      "\n",
      " ar\\1\\ ~ _|3\\S\\;\n",
      " _|3\\S\\ = _&3\\S\\ | a4\\S\\;\n",
      " _&3\\S\\ = a0\\1\\ & a1\\S\\;\n",
      " a4\\S\\ == _^4\\S\\;\n",
      " _^4\\S\\ = a2\\S\\ ^ a3\\0\\;\n",
      " \n",
      "\n",
      "ar\\1\\; _|3\\0\\; _&3\\0\\; a0\\1\\; a1\\0\\; a4\\0\\; _^4\\0\\; a2\\0\\; a3\\0\\\n",
      "\n"
     ]
    }
   ],
   "source": [
    "tildeAssign = ar.assign(tildeXpr)\n",
    "print(\"\\n {} \\n\\n {}\\n\".format(tildeAssign, \n",
    "                                   tildeAssign.toString(True).replace(\";\", \";\\n\")))\n",
    "print(tildeAssign.solve())"
   ]
  },
  {
   "cell_type": "markdown",
   "id": "40489f35",
   "metadata": {},
   "source": [
    "## Use of other quantum comparison operators in complex expressions\n",
    "\n",
    "One more concept to cover includes the other comparison operators and how they work slightly differently to the *equal (==) quantum comparison operator*. \n",
    "\n",
    "In this example we have pretty much the same expression as the one covered at the top of this section. However, we are now using the ***less than (<) quantum comparison operator*** instead.\n",
    "\n",
    "Using the decomposed presentation of the quantum expression to see itc d5vc, we can see that like with *equal (==)* quantum comparison operator the variable representing a left operand of the *less (<)* operator is being passed up to the higher level operation:\n",
    "\n",
    "> Line 3: \n",
    ">  **_^18\\S\\** < a4\\S\\\\;\n",
    "\n",
    "> Line 1:\n",
    "> _|6\\S\\ = _&14\\S\\ | _^18\\S\\\\;"
   ]
  },
  {
   "cell_type": "code",
   "execution_count": 36,
   "id": "b4cb1940",
   "metadata": {},
   "outputs": [
    {
     "name": "stdout",
     "output_type": "stream",
     "text": [
      "((a0\\1\\ & a1\\S\\) | ((a2\\S\\ ^ a3\\0\\) < a4\\S\\)) \n",
      "\n",
      "_|5\\S\\ = _&5\\S\\ | _^6\\S\\;\n",
      " _&5\\S\\ = a0\\1\\ & a1\\S\\;\n",
      " _^6\\S\\ < a4\\S\\;\n",
      " _^6\\S\\ = a2\\S\\ ^ a3\\0\\;\n",
      " \n",
      "_|5\\0\\; _&5\\0\\; a0\\1\\; a1\\0\\; _^6\\0\\; a2\\0\\; a3\\0\\; a4\\1\\\n",
      "_|5\\1\\; _&5\\1\\; a0\\1\\; a1\\1\\; _^6\\0\\; a2\\0\\; a3\\0\\; a4\\1\\\n",
      "\n"
     ]
    }
   ],
   "source": [
    "expression2 = (a0 & a1) | ((a2 ^ a3) < a4)\n",
    "print(expression2, \"\\n\")\n",
    "print(expression2.toString(True).replace(\";\", \";\\n\"))\n",
    "print(expression2.solve())"
   ]
  },
  {
   "cell_type": "markdown",
   "id": "8b91067e",
   "metadata": {},
   "source": [
    "If we now switch the a4 variable to the left side of the less than (<) operator, we will get different results (in accordance with the mathematical rules): \n",
    "\n",
    "> _|7\\0\\; _&15\\0\\; a0\\1\\; a1\\0\\; **a4\\0\\;** _^19\\1\\; **a2\\1\\;** a3\\0\\\n",
    "\n",
    "vs..\n",
    "\n",
    "> _|6\\0\\; _&14\\0\\; a0\\1\\; a1\\0\\; _^18\\0\\; **a2\\0\\;** a3\\0\\; **a4\\1\\**\n",
    "\n",
    "This is due to the fact that we fundamentally changed the higher-level operation by switching the place in the comparison operation rule. This is true with any comparison operator that is not an *equal to (==) quantum operator*. So, be careful when writing these complex equations with quantum comparison operators.\n",
    "\n",
    "Try it for your self and always remember that the left side of the quantum comparison operator is what will be passed along to higher levels in an expression."
   ]
  },
  {
   "cell_type": "code",
   "execution_count": 37,
   "id": "39b950b2",
   "metadata": {},
   "outputs": [
    {
     "name": "stdout",
     "output_type": "stream",
     "text": [
      "((a0\\1\\ & a1\\S\\) | (a4\\S\\ < (a2\\S\\ ^ a3\\0\\))) \n",
      "\n",
      "_|6\\S\\ = _&6\\S\\ | a4\\S\\;\n",
      " _&6\\S\\ = a0\\1\\ & a1\\S\\;\n",
      " a4\\S\\ < _^7\\S\\;\n",
      " _^7\\S\\ = a2\\S\\ ^ a3\\0\\;\n",
      " \n",
      "_|6\\0\\; _&6\\0\\; a0\\1\\; a1\\0\\; a4\\0\\; _^7\\1\\; a2\\1\\; a3\\0\\\n",
      "_|6\\1\\; _&6\\1\\; a0\\1\\; a1\\1\\; a4\\0\\; _^7\\1\\; a2\\1\\; a3\\0\\\n",
      "\n"
     ]
    }
   ],
   "source": [
    "expression3 = (a0 & a1) | (a4 < (a2 ^ a3))\n",
    "print(expression3, \"\\n\")\n",
    "print(expression3.toString(True).replace(\";\", \";\\n\"))\n",
    "print(expression3.solve())"
   ]
  },
  {
   "cell_type": "markdown",
   "id": "e5f14702",
   "metadata": {},
   "source": [
    "In **the next chapter, 2.2**, we will be covering the ***Qbool* Operators and Operations in Expressions and Assignments**. In chapter 3.1., we will expand and look at how to use *Qbit* expressions and assignments to solve practical problems."
   ]
  }
 ],
 "metadata": {
  "kernelspec": {
   "display_name": "Python 3 (ipykernel)",
   "language": "python",
   "name": "python3"
  },
  "language_info": {
   "codemirror_mode": {
    "name": "ipython",
    "version": 3
   },
   "file_extension": ".py",
   "mimetype": "text/x-python",
   "name": "python",
   "nbconvert_exporter": "python",
   "pygments_lexer": "ipython3",
   "version": "3.10.6"
  }
 },
 "nbformat": 4,
 "nbformat_minor": 5
}
