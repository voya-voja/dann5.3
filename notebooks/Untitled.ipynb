{
 "cells": [
  {
   "cell_type": "markdown",
   "id": "3b13afa4",
   "metadata": {},
   "source": [
    "# 4.4. - D5QuboSolver & QUBO Paging\n",
    "\n"
   ]
  },
  {
   "cell_type": "code",
   "execution_count": null,
   "id": "dcd483c1",
   "metadata": {},
   "outputs": [],
   "source": [
    "from dann5.d5o import Qvar, Qequation, Qsolver, Qanalyzer\n",
    "import time"
   ]
  }
 ],
 "metadata": {
  "kernelspec": {
   "display_name": "Python 3 (ipykernel)",
   "language": "python",
   "name": "python3"
  },
  "language_info": {
   "codemirror_mode": {
    "name": "ipython",
    "version": 3
   },
   "file_extension": ".py",
   "mimetype": "text/x-python",
   "name": "python",
   "nbconvert_exporter": "python",
   "pygments_lexer": "ipython3",
   "version": "3.10.4"
  }
 },
 "nbformat": 4,
 "nbformat_minor": 5
}
