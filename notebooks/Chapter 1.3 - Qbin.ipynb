{
 "cells": [
  {
   "cell_type": "markdown",
   "id": "bb60d33f",
   "metadata": {},
   "source": [
    "# Chapter 1.3 - Qbin\n",
    "\n",
    "In this section of chapter 1 we will be walking through how to set Qbin variables, create expressions and assignments with those variables and solve those expressions and assignments.\n",
    "\n",
    "Qbin, Quantum binary, is a quantum type supporting instantiation of and operations over variables which can have values comprised of Qbit values, so bits 11, 101, etc. This allows for representation and operations over larger numbers in binary format.\n",
    "\n",
    "To start you must import the Qbin class from dann5.\n",
    "\n",
    "Instantiating a Qbin object with the empty constructor is possible and will create an unnamed object wit 0 qbits. To then name the object use the id() method.\n",
    "\n",
    "Instantiating a Qbin object with just a string parameter will result in a qbin object with 0 bits and no value. "
   ]
  },
  {
   "cell_type": "code",
   "execution_count": 29,
   "id": "0c75485e",
   "metadata": {},
   "outputs": [
    {
     "name": "stdout",
     "output_type": "stream",
     "text": [
      "\\0b:\\\n",
      "id\\0b:\\\n"
     ]
    }
   ],
   "source": [
    "from dann5.d5 import Qbin\n",
    "\n",
    "q_bin = Qbin()\n",
    "print(q_bin)\n",
    "\n",
    "q_bin.id(\"id\")\n",
    "print(q_bin)"
   ]
  },
  {
   "cell_type": "markdown",
   "id": "b8282f4d",
   "metadata": {},
   "source": [
    "We make the distinction between unknown (**U**) and superposition (**S**). \n",
    "\n",
    "The unknown (**U**) state, means that at least one quantum bit, residing in Qbin instance, is in superposition state.\n",
    "\n",
    "We can increase or decrease the number of bits in any Qbin object by using the resize() method. "
   ]
  },
  {
   "cell_type": "code",
   "execution_count": 33,
   "id": "6cdb3733",
   "metadata": {},
   "outputs": [
    {
     "name": "stdout",
     "output_type": "stream",
     "text": [
      "q_bin\\0b:\\\n",
      "q_bin\\3b:U\\\n"
     ]
    }
   ],
   "source": [
    "q_bin = Qbin(\"q_bin\")\n",
    "print(q_bin)\n",
    "\n",
    "q_bin.resize(3)\n",
    "\n",
    "print(q_bin)"
   ]
  },
  {
   "cell_type": "markdown",
   "id": "b1c8b09d",
   "metadata": {},
   "source": [
    "The following is the recommended way to create an instance of Qbin, i.e. by use of a constructor with a number of quantum bits followed by a string parameter:"
   ]
  },
  {
   "cell_type": "code",
   "execution_count": 32,
   "id": "f0e6b3b7",
   "metadata": {},
   "outputs": [
    {
     "name": "stdout",
     "output_type": "stream",
     "text": [
      "dan\\2b:U\\\n",
      "flora\\2b:U\\\n"
     ]
    }
   ],
   "source": [
    "dan = Qbin(2, \"dan\")\n",
    "flora = Qbin(2, \"flora\")\n",
    "\n",
    "print(dan)\n",
    "print(flora)"
   ]
  },
  {
   "cell_type": "markdown",
   "id": "7a87ea71",
   "metadata": {},
   "source": [
    "To create a Qbin expression for the variables we can follow the same format as in previous sections (1.1, 1.2). \n",
    "\n",
    "The main difference in this case will be the output for the decomposed toString(True) method. This will now show the expression created to satisfy the two quantum bits given to each Qbin variable. This means that the resulting answer to the expression will need two quantum bits as well (i.e. _&00, _&01). \n",
    "\n",
    "This is why in the decomposed output we see two result variables, one called _&00 and the other called _&01. Both of which initialy have a value of superposition (**S**)."
   ]
  },
  {
   "cell_type": "code",
   "execution_count": 34,
   "id": "8ffc3740",
   "metadata": {},
   "outputs": [
    {
     "name": "stdout",
     "output_type": "stream",
     "text": [
      "(dan\\2b:U\\ & flora\\2b:U\\)\n",
      "_&20\\S\\ = dan0\\S\\ & flora0\\S\\; _&21\\S\\ = dan1\\S\\ & flora1\\S\\; \n"
     ]
    }
   ],
   "source": [
    "expression = dan & flora;\n",
    "print(expression)\n",
    "\n",
    "print(expression.toString(True))"
   ]
  },
  {
   "cell_type": "markdown",
   "id": "80e75426",
   "metadata": {},
   "source": [
    "Now we import the solver to solve the expression. \n",
    "\n",
    "Since there are now two bits for each of the variables we will see a lot more possibilities for the solutions to the expression. This can be calculated using a 2^n equation, where n is the total number of quantum bits between both variables. In this case we will see 2^4 possible solutions, which is 16 in total.\n",
    "\n",
    "Taking the last solution in the list below, we can see how the result is calculated. \n",
    "\n",
    "> _0&\\2:11\\\\; dan\\2:11\\\\; flora\\2:11\\\n",
    "\n",
    "Here we see that the dan variable has 2 quantum bits whose value are both 1 (i.e. 11) and the same for the flora variable. The result variable (_&0) also has 2 bits and both bits have a value of 1 (i.e. 11).\n",
    "\n",
    "This is due to the fact that for each quantum bit, at the same level, we are performing an \"AND\" operation. So the result variable will only have 1 at each level if both variables (flora, dan) have 1 in that same level."
   ]
  },
  {
   "cell_type": "code",
   "execution_count": 35,
   "id": "7a9d18ee",
   "metadata": {},
   "outputs": [
    {
     "name": "stdout",
     "output_type": "stream",
     "text": [
      "_&2\\2:00\\; dan\\2:00\\; flora\\2:00\\\n",
      "_&2\\2:00\\; dan\\2:00\\; flora\\2:10\\\n",
      "_&2\\2:00\\; dan\\2:00\\; flora\\2:01\\\n",
      "_&2\\2:00\\; dan\\2:00\\; flora\\2:11\\\n",
      "_&2\\2:00\\; dan\\2:10\\; flora\\2:00\\\n",
      "_&2\\2:00\\; dan\\2:10\\; flora\\2:01\\\n",
      "_&2\\2:00\\; dan\\2:01\\; flora\\2:00\\\n",
      "_&2\\2:00\\; dan\\2:01\\; flora\\2:10\\\n",
      "_&2\\2:00\\; dan\\2:11\\; flora\\2:00\\\n",
      "_&2\\2:10\\; dan\\2:10\\; flora\\2:10\\\n",
      "_&2\\2:10\\; dan\\2:10\\; flora\\2:11\\\n",
      "_&2\\2:10\\; dan\\2:11\\; flora\\2:10\\\n",
      "_&2\\2:01\\; dan\\2:01\\; flora\\2:01\\\n",
      "_&2\\2:01\\; dan\\2:01\\; flora\\2:11\\\n",
      "_&2\\2:01\\; dan\\2:11\\; flora\\2:01\\\n",
      "_&2\\2:11\\; dan\\2:11\\; flora\\2:11\\\n",
      "\n"
     ]
    }
   ],
   "source": [
    "from dann5.dwave import Solver\n",
    "Solver.Active()\n",
    "print(expression.solve())"
   ]
  },
  {
   "cell_type": "markdown",
   "id": "82af3e31",
   "metadata": {},
   "source": [
    "Now we can use the Qbin constructor in another way. If we would like to set a hardcoded value for the Qbin variable, in this case the result, we can use the Qbin(string_name, bits_value) constructor. \n",
    "\n",
    "Instead of passing a number of quantum bits to assign to the variable, we are passing the hardcoded value we would like the variable to be.\n",
    "\n",
    "So this result variable that we are creating below will have a determined value of 3 in binary which is \"0b11\".\n",
    "\n",
    "We need to import the Bits class to pass the exact binary value we would like to set. For example:\n",
    "\n",
    "> Bits(3) == \"0b11\"\n",
    ">\n",
    "> Bits(10) == \"0b1010\"\n",
    "\n",
    "**Note**: you can also pass the value using binary format to the Bits() constructor ( i.e. Bits(0b11) ) "
   ]
  },
  {
   "cell_type": "code",
   "execution_count": 37,
   "id": "6d8c2d33",
   "metadata": {},
   "outputs": [
    {
     "name": "stdout",
     "output_type": "stream",
     "text": [
      "result\\2b:11\\\n"
     ]
    }
   ],
   "source": [
    "from dann5.d5 import Bits\n",
    "result = Qbin(\"result\", Bits(3)) # alternatively use Bits(0b11)\n",
    "print(result)"
   ]
  },
  {
   "cell_type": "markdown",
   "id": "4588641f",
   "metadata": {},
   "source": [
    "Now we will reset the expression and create an assignment using a result variable. \n",
    "\n",
    "When outputting the assignment1 variable we will see the whole expression has to be equal to the result variable, which has been set to the binary value of 3."
   ]
  },
  {
   "cell_type": "code",
   "execution_count": 38,
   "id": "209dcd6f",
   "metadata": {},
   "outputs": [
    {
     "name": "stdout",
     "output_type": "stream",
     "text": [
      "result\\2b:11\\ = (dan\\2b:U\\ & flora\\2b:U\\)\n"
     ]
    }
   ],
   "source": [
    "expression.reset()\n",
    "assignment1 = result.assign(expression)\n",
    "\n",
    "print(assignment1)"
   ]
  },
  {
   "cell_type": "markdown",
   "id": "018503cf",
   "metadata": {},
   "source": [
    "When solving the assignment we see there is only one case where the result will be equal to 3 in binary and that is when both dan and flora variables are each 3 in binary as well."
   ]
  },
  {
   "cell_type": "code",
   "execution_count": 13,
   "id": "f3e85349",
   "metadata": {},
   "outputs": [
    {
     "name": "stdout",
     "output_type": "stream",
     "text": [
      "result\\2:11\\; dan\\2:11\\; flora\\2:11\\\n",
      "\n"
     ]
    }
   ],
   "source": [
    "print(assignment1.solve())"
   ]
  },
  {
   "cell_type": "markdown",
   "id": "3796c349",
   "metadata": {},
   "source": [
    "Now we will try changing the result value to show how you can see an output of more than just one possible solution. In this case we will set the result to 1 in binary (0b01).\n",
    "\n",
    "The result will be 3 possible solutions."
   ]
  },
  {
   "cell_type": "code",
   "execution_count": 41,
   "id": "aad0d158",
   "metadata": {},
   "outputs": [
    {
     "name": "stdout",
     "output_type": "stream",
     "text": [
      "result\\2:01\\; dan\\2:01\\; flora\\2:01\\\n",
      "result\\2:01\\; dan\\2:01\\; flora\\2:11\\\n",
      "result\\2:01\\; dan\\2:11\\; flora\\2:01\\\n",
      "\n"
     ]
    }
   ],
   "source": [
    "assignment.reset()\n",
    "result = Qbin(\"result\", Bits(0b01))\n",
    "assignment = result.assign(expression)\n",
    "print(assignment.solve())"
   ]
  },
  {
   "cell_type": "markdown",
   "id": "85ecb2a6",
   "metadata": {},
   "source": [
    "Now we will try Qbin where the result has been set to an amount of quantum bits as opposed to a specific value. \n",
    "\n",
    "So the result value will be instantiated in a similar way to our other variables. Here we are more likely to see multiple solutions.\n",
    "\n",
    "Again we set our variables phil and claire the same way as above:"
   ]
  },
  {
   "cell_type": "code",
   "execution_count": 42,
   "id": "400ced87",
   "metadata": {},
   "outputs": [
    {
     "name": "stdout",
     "output_type": "stream",
     "text": [
      "phil\\1b:U\\\n",
      "claire\\2b:U\\\n"
     ]
    }
   ],
   "source": [
    "phil = Qbin(1, \"phil\")\n",
    "claire = Qbin(2, \"claire\")\n",
    "\n",
    "print(phil)\n",
    "print(claire)"
   ]
  },
  {
   "cell_type": "markdown",
   "id": "4eab872d",
   "metadata": {},
   "source": [
    "Now we will set an expression2 variable which is the AND operator of phil and claire variables. "
   ]
  },
  {
   "cell_type": "code",
   "execution_count": 43,
   "id": "09d8b64f",
   "metadata": {},
   "outputs": [
    {
     "name": "stdout",
     "output_type": "stream",
     "text": [
      "(phil\\1b:U\\ & claire\\2b:U\\)\n",
      "_&30\\S\\ = phil0\\S\\ & claire0\\S\\; _&31\\0\\ = phil1\\0\\ & claire1\\S\\; \n"
     ]
    }
   ],
   "source": [
    "expression2 = phil & claire;\n",
    "\n",
    "print(expression2)\n",
    "print(expression2.toString(True))"
   ]
  },
  {
   "cell_type": "markdown",
   "id": "63c305ef",
   "metadata": {},
   "source": [
    "Now we will solve the expression2 and see all the possible solutions for the expression.\n",
    "\n",
    "**Note**: because the phil variable has one quantum bit and the expression needs two qbits, phil's second qbit is added and set to the value of 0."
   ]
  },
  {
   "cell_type": "code",
   "execution_count": 45,
   "id": "2b4760f2",
   "metadata": {},
   "outputs": [
    {
     "name": "stdout",
     "output_type": "stream",
     "text": [
      "_&3\\2:00\\; phil\\1:0\\; claire\\2:00\\\n",
      "_&3\\2:00\\; phil\\1:1\\; claire\\2:00\\\n",
      "_&3\\2:00\\; phil\\1:0\\; claire\\2:10\\\n",
      "_&3\\2:00\\; phil\\1:1\\; claire\\2:10\\\n",
      "_&3\\2:00\\; phil\\1:0\\; claire\\2:01\\\n",
      "_&3\\2:00\\; phil\\1:0\\; claire\\2:11\\\n",
      "_&3\\2:01\\; phil\\1:1\\; claire\\2:01\\\n",
      "_&3\\2:01\\; phil\\1:1\\; claire\\2:11\\\n",
      "\n"
     ]
    }
   ],
   "source": [
    "print(expression2.solve())"
   ]
  },
  {
   "cell_type": "markdown",
   "id": "bb154b34",
   "metadata": {},
   "source": [
    "The result is now any value with 3 bits."
   ]
  },
  {
   "cell_type": "code",
   "execution_count": 46,
   "id": "32dea234",
   "metadata": {},
   "outputs": [
    {
     "name": "stdout",
     "output_type": "stream",
     "text": [
      "result\\3b:U\\\n"
     ]
    }
   ],
   "source": [
    "result = Qbin(3, \"result\")\n",
    "print(result)"
   ]
  },
  {
   "cell_type": "markdown",
   "id": "01769e16",
   "metadata": {},
   "source": [
    "We reset the expression2 and then create the assignment2 using the result variable defined in the above cell. This time we see in the output that the result has 3b:U and a value of unknown (**U**). "
   ]
  },
  {
   "cell_type": "code",
   "execution_count": 47,
   "id": "0009bd2d",
   "metadata": {},
   "outputs": [
    {
     "name": "stdout",
     "output_type": "stream",
     "text": [
      "result\\3b:U\\ = (phil\\1b:U\\ & claire\\2b:U\\)\n"
     ]
    }
   ],
   "source": [
    "expression.reset()\n",
    "assignment2 = result.assign(expression2)\n",
    "\n",
    "print(assignment2)"
   ]
  },
  {
   "cell_type": "markdown",
   "id": "ff0255cb",
   "metadata": {},
   "source": [
    "And now when solving the assignment2 we see that it displays all possible solutions where result has 3 bits of any value. Which in this case is all the possible solutions we had in the expression2 solve. \n",
    "\n",
    "The main difference is in the output of display as we can see that all the values of result for each solution have 3 bits, i.e.\n",
    "\n",
    "> result\\3:**000**\\; \n",
    "\n",
    "This is due to the fact that the result variable has been defined as having 3 bits so in the solutions output it will always have 3 bits."
   ]
  },
  {
   "cell_type": "code",
   "execution_count": 49,
   "id": "cc83038f",
   "metadata": {},
   "outputs": [
    {
     "name": "stdout",
     "output_type": "stream",
     "text": [
      "result\\3:000\\; phil\\1:0\\; claire\\2:00\\\n",
      "result\\3:000\\; phil\\1:1\\; claire\\2:00\\\n",
      "result\\3:000\\; phil\\1:0\\; claire\\2:10\\\n",
      "result\\3:000\\; phil\\1:1\\; claire\\2:10\\\n",
      "result\\3:000\\; phil\\1:0\\; claire\\2:01\\\n",
      "result\\3:001\\; phil\\1:1\\; claire\\2:01\\\n",
      "result\\3:000\\; phil\\1:0\\; claire\\2:11\\\n",
      "result\\3:001\\; phil\\1:1\\; claire\\2:11\\\n",
      "\n"
     ]
    }
   ],
   "source": [
    "print(assignment2.solve())"
   ]
  },
  {
   "cell_type": "markdown",
   "id": "068850c1",
   "metadata": {},
   "source": [
    "Feel free to use the below cell to play around with the other operators on Qbin variables:"
   ]
  },
  {
   "cell_type": "code",
   "execution_count": 51,
   "id": "4be73535",
   "metadata": {},
   "outputs": [
    {
     "name": "stdout",
     "output_type": "stream",
     "text": [
      "result2\\3b:001\\ = (roger\\2b:U\\ !& bobby\\3b:U\\)\n",
      "result2\\3:001\\; roger\\2:10\\; bobby\\3:110\\\n",
      "result2\\3:001\\; roger\\2:11\\; bobby\\3:110\\\n",
      "result2\\3:001\\; roger\\2:10\\; bobby\\3:111\\\n",
      "\n"
     ]
    }
   ],
   "source": [
    "roger = Qbin(2, \"roger\")\n",
    "bobby = Qbin(3, \"bobby\")\n",
    "result2 = Qbin(\"result2\", Bits(1))\n",
    "\n",
    "assignment2 = result2.assign(roger.nand(bobby))\n",
    "print(assignment2)\n",
    "\n",
    "print(assignment2.solve())"
   ]
  },
  {
   "cell_type": "markdown",
   "id": "1b541da6",
   "metadata": {},
   "source": [
    "Bitwise operators:\n",
    "\n",
    "    Type     Operation\n",
    "\n",
    "    AND       x & y\n",
    "\n",
    "    OR        x | y\n",
    "\n",
    "    XOR       x ^ y           \n",
    "\n",
    "    NAND     x.nand(y)           \n",
    "\n",
    "    NOR      X.nor(y)\n",
    "\n",
    "    NXOR     x.nxor(y) "
   ]
  },
  {
   "cell_type": "markdown",
   "id": "95097b15",
   "metadata": {},
   "source": [
    "In the next section of this chapter we will cover the Qwhole type."
   ]
  }
 ],
 "metadata": {
  "kernelspec": {
   "display_name": "Python 3 (ipykernel)",
   "language": "python",
   "name": "python3"
  },
  "language_info": {
   "codemirror_mode": {
    "name": "ipython",
    "version": 3
   },
   "file_extension": ".py",
   "mimetype": "text/x-python",
   "name": "python",
   "nbconvert_exporter": "python",
   "pygments_lexer": "ipython3",
   "version": "3.10.11"
  }
 },
 "nbformat": 4,
 "nbformat_minor": 5
}
