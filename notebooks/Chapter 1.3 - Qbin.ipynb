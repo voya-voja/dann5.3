{
 "cells": [
  {
   "cell_type": "markdown",
   "id": "bb60d33f",
   "metadata": {},
   "source": [
    "# Chapter 1.3 - Qbin\n",
    "\n",
    "In this section of chapter 1 we will be walking through how to set Qbin variables, create expressions and assignments with those variables and solve those expressions and assignments.\n",
    "\n",
    "Qbin Quantum binary, Qbin is a quantum type supporting instantiation of and operations over variables which can have values comprised of Qbit values, so 11, 101, etc. This allows for representation of larger numbers in binary and for us to perform operations on those larger binary numbers\n",
    "\n",
    "To start you must import the Qbin class from dann5.\n",
    "\n",
    "An instance of Qbin can be created by use of constructor with a string parameter, which will initialize the instance in an unknown state (**U**):"
   ]
  },
  {
   "cell_type": "code",
   "execution_count": 1,
   "id": "f0e6b3b7",
   "metadata": {},
   "outputs": [
    {
     "name": "stdout",
     "output_type": "stream",
     "text": [
      "dan\\2b:U\\\n",
      "flora\\2b:U\\\n"
     ]
    }
   ],
   "source": [
    "from dann5.d5 import Qbin\n",
    "\n",
    "dan = Qbin(2, \"dan\")\n",
    "flora = Qbin(2, \"flora\")\n",
    "\n",
    "print(dan)\n",
    "print(flora)"
   ]
  },
  {
   "cell_type": "code",
   "execution_count": 2,
   "id": "8ffc3740",
   "metadata": {},
   "outputs": [
    {
     "name": "stdout",
     "output_type": "stream",
     "text": [
      "(dan\\2b:U\\ & flora\\2b:U\\)\n",
      "_&00\\S\\ = dan0\\S\\ & flora0\\S\\; _&01\\S\\ = dan1\\S\\ & flora1\\S\\; \n"
     ]
    }
   ],
   "source": [
    "expression = dan & flora;\n",
    "print(expression.toString())\n",
    "\n",
    "print(expression.toString(True))"
   ]
  },
  {
   "cell_type": "code",
   "execution_count": 3,
   "id": "7a9d18ee",
   "metadata": {},
   "outputs": [
    {
     "name": "stdout",
     "output_type": "stream",
     "text": [
      "_&0\\2:00\\; dan\\2:00\\; flora\\2:00\\\n",
      "_&0\\2:00\\; dan\\2:00\\; flora\\2:10\\\n",
      "_&0\\2:00\\; dan\\2:00\\; flora\\2:01\\\n",
      "_&0\\2:00\\; dan\\2:00\\; flora\\2:11\\\n",
      "_&0\\2:00\\; dan\\2:10\\; flora\\2:00\\\n",
      "_&0\\2:00\\; dan\\2:10\\; flora\\2:01\\\n",
      "_&0\\2:00\\; dan\\2:01\\; flora\\2:00\\\n",
      "_&0\\2:00\\; dan\\2:01\\; flora\\2:10\\\n",
      "_&0\\2:00\\; dan\\2:11\\; flora\\2:00\\\n",
      "_&0\\2:10\\; dan\\2:10\\; flora\\2:10\\\n",
      "_&0\\2:10\\; dan\\2:10\\; flora\\2:11\\\n",
      "_&0\\2:10\\; dan\\2:11\\; flora\\2:10\\\n",
      "_&0\\2:01\\; dan\\2:01\\; flora\\2:01\\\n",
      "_&0\\2:01\\; dan\\2:01\\; flora\\2:11\\\n",
      "_&0\\2:01\\; dan\\2:11\\; flora\\2:01\\\n",
      "_&0\\2:11\\; dan\\2:11\\; flora\\2:11\\\n",
      "\n"
     ]
    }
   ],
   "source": [
    "from dann5.dwave import Solver\n",
    "Solver.Active()\n",
    "print(expression.solve())"
   ]
  },
  {
   "cell_type": "code",
   "execution_count": 5,
   "id": "6d8c2d33",
   "metadata": {},
   "outputs": [
    {
     "name": "stdout",
     "output_type": "stream",
     "text": [
      "result\\2b:11\\\n"
     ]
    }
   ],
   "source": [
    "from dann5.d5 import Bits\n",
    "result = Qbin(\"result\", Bits(3))\n",
    "print(result)"
   ]
  },
  {
   "cell_type": "code",
   "execution_count": 8,
   "id": "209dcd6f",
   "metadata": {},
   "outputs": [
    {
     "name": "stdout",
     "output_type": "stream",
     "text": [
      "result\\2b:11\\ = (dan\\2b:U\\ & flora\\2b:U\\)\n"
     ]
    }
   ],
   "source": [
    "expression.reset()\n",
    "assignment = result.assign(expression)\n",
    "\n",
    "print(assignment.toString())"
   ]
  },
  {
   "cell_type": "code",
   "execution_count": 9,
   "id": "f3e85349",
   "metadata": {},
   "outputs": [
    {
     "name": "stdout",
     "output_type": "stream",
     "text": [
      "result\\2:11\\; dan\\2:11\\; flora\\2:11\\\n",
      "\n"
     ]
    }
   ],
   "source": [
    "print(assignment.solve())"
   ]
  },
  {
   "cell_type": "markdown",
   "id": "85ecb2a6",
   "metadata": {},
   "source": [
    "Now we will try Qbin where the result has been set to a amount of bits as opposed to a specific value."
   ]
  },
  {
   "cell_type": "code",
   "execution_count": 22,
   "id": "400ced87",
   "metadata": {},
   "outputs": [
    {
     "name": "stdout",
     "output_type": "stream",
     "text": [
      "phil\\2b:U\\\n",
      "claire\\2b:U\\\n"
     ]
    }
   ],
   "source": [
    "phil = Qbin(2, \"phil\")\n",
    "claire = Qbin(2, \"claire\")\n",
    "\n",
    "print(phil)\n",
    "print(claire)"
   ]
  },
  {
   "cell_type": "code",
   "execution_count": 23,
   "id": "09d8b64f",
   "metadata": {},
   "outputs": [
    {
     "name": "stdout",
     "output_type": "stream",
     "text": [
      "(phil\\2b:U\\ & claire\\2b:U\\)\n",
      "_&30\\S\\ = phil0\\S\\ & claire0\\S\\; _&31\\S\\ = phil1\\S\\ & claire1\\S\\; \n"
     ]
    }
   ],
   "source": [
    "expression2 = phil & claire;\n",
    "\n",
    "print(expression2)\n",
    "print(expression2.toString(True))"
   ]
  },
  {
   "cell_type": "code",
   "execution_count": 24,
   "id": "2b4760f2",
   "metadata": {},
   "outputs": [
    {
     "name": "stdout",
     "output_type": "stream",
     "text": [
      "_&3\\2:00\\; phil\\2:00\\; claire\\2:00\\\n",
      "_&3\\2:00\\; phil\\2:10\\; claire\\2:00\\\n",
      "_&3\\2:00\\; phil\\2:01\\; claire\\2:00\\\n",
      "_&3\\2:00\\; phil\\2:11\\; claire\\2:00\\\n",
      "_&3\\2:00\\; phil\\2:00\\; claire\\2:10\\\n",
      "_&3\\2:00\\; phil\\2:01\\; claire\\2:10\\\n",
      "_&3\\2:00\\; phil\\2:00\\; claire\\2:01\\\n",
      "_&3\\2:00\\; phil\\2:10\\; claire\\2:01\\\n",
      "_&3\\2:00\\; phil\\2:00\\; claire\\2:11\\\n",
      "_&3\\2:10\\; phil\\2:10\\; claire\\2:10\\\n",
      "_&3\\2:10\\; phil\\2:11\\; claire\\2:10\\\n",
      "_&3\\2:10\\; phil\\2:10\\; claire\\2:11\\\n",
      "_&3\\2:01\\; phil\\2:01\\; claire\\2:01\\\n",
      "_&3\\2:01\\; phil\\2:11\\; claire\\2:01\\\n",
      "_&3\\2:01\\; phil\\2:01\\; claire\\2:11\\\n",
      "_&3\\2:11\\; phil\\2:11\\; claire\\2:11\\\n",
      "\n"
     ]
    }
   ],
   "source": [
    "print(expression2.solve())"
   ]
  },
  {
   "cell_type": "code",
   "execution_count": 25,
   "id": "32dea234",
   "metadata": {},
   "outputs": [
    {
     "name": "stdout",
     "output_type": "stream",
     "text": [
      "result\\3b:U\\\n"
     ]
    }
   ],
   "source": [
    "result = Qbin(3, \"result\")\n",
    "print(result)"
   ]
  },
  {
   "cell_type": "code",
   "execution_count": 28,
   "id": "0009bd2d",
   "metadata": {},
   "outputs": [
    {
     "name": "stdout",
     "output_type": "stream",
     "text": [
      "result\\3b:U\\ = (phil\\2b:U\\ & claire\\2b:U\\)\n"
     ]
    }
   ],
   "source": [
    "expression.reset()\n",
    "assignment2 = result.assign(expression2)\n",
    "\n",
    "print(assignment2)"
   ]
  },
  {
   "cell_type": "code",
   "execution_count": 27,
   "id": "cc83038f",
   "metadata": {},
   "outputs": [
    {
     "name": "stdout",
     "output_type": "stream",
     "text": [
      "result\\3:000\\; phil\\2:00\\; claire\\2:00\\\n",
      "result\\3:000\\; phil\\2:10\\; claire\\2:00\\\n",
      "result\\3:000\\; phil\\2:01\\; claire\\2:00\\\n",
      "result\\3:000\\; phil\\2:11\\; claire\\2:00\\\n",
      "result\\3:000\\; phil\\2:00\\; claire\\2:10\\\n",
      "result\\3:010\\; phil\\2:01\\; claire\\2:10\\\n",
      "result\\3:000\\; phil\\2:00\\; claire\\2:01\\\n",
      "result\\3:010\\; phil\\2:10\\; claire\\2:01\\\n",
      "result\\3:000\\; phil\\2:00\\; claire\\2:11\\\n",
      "result\\3:000\\; phil\\2:10\\; claire\\2:10\\\n",
      "result\\3:001\\; phil\\2:11\\; claire\\2:10\\\n",
      "result\\3:001\\; phil\\2:10\\; claire\\2:11\\\n",
      "result\\3:000\\; phil\\2:01\\; claire\\2:01\\\n",
      "result\\3:010\\; phil\\2:11\\; claire\\2:01\\\n",
      "result\\3:001\\; phil\\2:01\\; claire\\2:11\\\n",
      "result\\3:011\\; phil\\2:11\\; claire\\2:11\\\n",
      "\n"
     ]
    }
   ],
   "source": [
    "print(assignment2.solve())"
   ]
  }
 ],
 "metadata": {
  "kernelspec": {
   "display_name": "Python 3 (ipykernel)",
   "language": "python",
   "name": "python3"
  },
  "language_info": {
   "codemirror_mode": {
    "name": "ipython",
    "version": 3
   },
   "file_extension": ".py",
   "mimetype": "text/x-python",
   "name": "python",
   "nbconvert_exporter": "python",
   "pygments_lexer": "ipython3",
   "version": "3.10.11"
  }
 },
 "nbformat": 4,
 "nbformat_minor": 5
}
