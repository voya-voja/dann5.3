{
 "cells": [
  {
   "cell_type": "markdown",
   "id": "bb60d33f",
   "metadata": {},
   "source": [
    "# Chapter 1.3 - Qbin\n",
    "\n",
    "This chapter is covering how to set *Qbin* variables, create expressions and assignments using those variables and solve the expressions and assignments.\n",
    "\n",
    "***Qbin*, Quantum binary**, is a quantum type supporting instantiation of and operations over variables which can have values comprised of sequence of *Qbit* values, so q-bit sequences like  ‘*11*', '*101*', '*SS1S*', etc. This allows for representation and operations over information encodings of higher complexity in quantum binary format.\n",
    "\n",
    "To start you must import the *Qbin* class from d5 module of dann5 package.\n",
    "\n",
    "Like in case in case of other dann5 quantum types it is possible to instantiate a *Qbin* object with:\n",
    "- the empty constructor, and **an unnamed object with *0* q-bits and no value** will be created. Using the *Qbin id()* method the name of the object can be assigned later in the code.\n",
    "- the constructor with just a string parameter will result in a creation of named q-binary object with *0* q-bits and no value."
   ]
  },
  {
   "cell_type": "code",
   "execution_count": 1,
   "id": "96dccdce",
   "metadata": {},
   "outputs": [
    {
     "name": "stdout",
     "output_type": "stream",
     "text": [
      "\\0q:\\\n",
      "id\\0q:\\\n"
     ]
    }
   ],
   "source": [
    "from dann5.d5 import Qbin\n",
    "\n",
    "q_bin = Qbin()\n",
    "print(q_bin)\n",
    "\n",
    "q_bin.id(\"id\")\n",
    "print(q_bin)"
   ]
  },
  {
   "cell_type": "markdown",
   "id": "b1c8b09d",
   "metadata": {},
   "source": [
    "We make the distinction between **unknown (*U*) and superposition (*S*)**. The unknown (*U*) state means that at least one quantum bit within the sequence of a *Qbin* instance is in a superposition (*S*) state.\n",
    "\n",
    "We can increase or decrease the number of q-bits in any *Qbin* object by using the *resize()* method. \n",
    "\n",
    "From the example in the next code cell, we see that the previously defined Python *q_bin* variable references a *Qbin* instance with identity *id* in quantum space, which doesn't have any q-bits. After resizing the *q_bin* variable we see that its *Qbin* instance is a quantum binary sequence with *3 Qbit*-s in superposition (*S*) state, *id2\\S\\*, *id1\\S\\* and *id0\\S\\*."
   ]
  },
  {
   "cell_type": "code",
   "execution_count": 2,
   "id": "6cdb3733",
   "metadata": {},
   "outputs": [
    {
     "name": "stdout",
     "output_type": "stream",
     "text": [
      "id\\0q:\\  =  id\\0q:\\\n",
      "id\\3q:U\\  =  id\\3q:id2\\S\\;id1\\S\\;id0\\S\\;\\\n"
     ]
    }
   ],
   "source": [
    "print(q_bin, \" = \", q_bin.toString(True))\n",
    "\n",
    "q_bin.resize(3)\n",
    "\n",
    "print(q_bin, \" = \", q_bin.toString(True))"
   ]
  },
  {
   "cell_type": "markdown",
   "id": "bb535d06",
   "metadata": {},
   "source": [
    "At the time of creation of an *Qbin* instance it is possible to define the number of *QBit*-s in a quantum binary sequence required to encode information. \n",
    "\n",
    "- **Note**: This is the recommended way to create an instance of *Qbin* variable, i.e. by use of a constructor with the specific number of quantum bits followed by a string parameter as the identifier of the variable in quantum space."
   ]
  },
  {
   "cell_type": "code",
   "execution_count": 3,
   "id": "f0e6b3b7",
   "metadata": {},
   "outputs": [
    {
     "name": "stdout",
     "output_type": "stream",
     "text": [
      "dan\\2q:U\\\n",
      "flora\\2q:U\\\n"
     ]
    }
   ],
   "source": [
    "dan = Qbin(2, \"dan\")\n",
    "flora = Qbin(2, \"flora\")\n",
    "\n",
    "print(dan)\n",
    "print(flora)"
   ]
  },
  {
   "cell_type": "markdown",
   "id": "82af3e31",
   "metadata": {},
   "source": [
    "Also, we can define a *Qbin* constant in quantum space by initializing a variable with the deterministic binary-sequence value at the time of construction:\n",
    "\n",
    "> Qbin(string_name, bits_value) constructor. \n",
    "\n",
    "Instead of passing a number of quantum bits to initialize the variable, we are passing a deterministic value we would like to represent in a quantum space.\n",
    "\n",
    "In the following example we are defining a *Qbin* variable named *result* with a determined value of *3* in a binary format, which is \"0b11\".\n",
    "\n",
    "To do so we are using *Bits* class from d5 module of dann5 package to convert an integer into the exact binary value, for example:\n",
    "\n",
    "> Bits(3) == \"0b11\"\n",
    ">\n",
    "> Bits(10) == \"0b1010\"\n",
    "\n",
    "**Note**: It is also possible to pass the value using binary format to the Bits() constructor ( i.e. Bits(0b11) )"
   ]
  },
  {
   "cell_type": "code",
   "execution_count": 4,
   "id": "6d8c2d33",
   "metadata": {},
   "outputs": [
    {
     "name": "stdout",
     "output_type": "stream",
     "text": [
      "result\\2q:11\\\n"
     ]
    }
   ],
   "source": [
    "from dann5.d5 import Bits\n",
    "result = Qbin(\"result\", Bits(3)) # alternatively use Bits(0b11)\n",
    "print(result)"
   ]
  },
  {
   "cell_type": "markdown",
   "id": "b9a0380d",
   "metadata": {},
   "source": [
    "It is possible to initialize a *Qbin* variable with a sequence of previously defined independent *Qbit* variable, like *x* and *y* below. The *Qbin* variable *mixed* is in unknown (*U*) state because its quantum binary sequence contains *Qbit* variable *x* in superposition (*S*) state."
   ]
  },
  {
   "cell_type": "code",
   "execution_count": 5,
   "id": "735cbf98",
   "metadata": {},
   "outputs": [
    {
     "name": "stdout",
     "output_type": "stream",
     "text": [
      "mix\\2q:U\\\n",
      "mix\\2q:y\\1\\;x\\S\\;\\\n"
     ]
    }
   ],
   "source": [
    "from dann5.d5 import Qbit\n",
    "mixedSequence = [Qbit(\"x\"), Qbit(\"y\", 1)]\n",
    "mixed = Qbin(\"mix\", mixedSequence)\n",
    "print(mixed)\n",
    "print(mixed.toString(True))"
   ]
  },
  {
   "cell_type": "markdown",
   "id": "7a87ea71",
   "metadata": {},
   "source": [
    "## Qbin expressions\n",
    "To create a **Qbin expression** using the defined variables we can follow the same format as in previous chapters (1.1, 1.2). \n",
    "\n",
    "The main difference in this case will be in dann5 virtual code (d5vc) of the quantum expression, which is displayed when we use a quantum expression *toString()* method with the *decomposed* flag set to *True*. The printout shows the quantum expressions on a *Qbit* level, which is created to satisfy the rules of quantum operation on all quantum bits of each initialized *Qbin* variable. \n",
    "\n",
    "For the quantum expression *dan & flora*, where *dan* and *flora* are *Qbin*-s with 2 *Qbit*-s each, its d5vc contains two *Qbit* expressions applying an operation on corresponding q-bits at position 0 and position 1 in the q-binary sequences:\n",
    "\n",
    "> _&00\\S\\ = dan0\\S\\ & flora0\\S\\;\n",
    ">\n",
    "> _&01\\S\\ = dan1\\S\\ & flora1\\S\\;\n",
    "\n",
    "As previously discussed for *Qbit* and *Qbool* expressions, when quantum operations are used to form a quantum expression dann5 generates quantum auxiliary resulting variable(s). So, a *Qbin* auxiliary result variable *_&0* is created as a q-binary sequence with 2 *Qbit*-s. This is why the quantum expression d5vc has two *Qbit* result variables, one called *_&00* (position 0 in the sequence), and the other called _&01 (position 1). Both of which initially have a value of superposition (**S**)."
   ]
  },
  {
   "cell_type": "code",
   "execution_count": 6,
   "id": "8ffc3740",
   "metadata": {},
   "outputs": [
    {
     "name": "stdout",
     "output_type": "stream",
     "text": [
      "(dan\\2q:U\\ & flora\\2q:U\\)\n",
      "_&00\\S\\ = dan0\\S\\ & flora0\\S\\; _&01\\S\\ = dan1\\S\\ & flora1\\S\\; \n"
     ]
    }
   ],
   "source": [
    "expression = dan & flora;\n",
    "print(expression)\n",
    "\n",
    "print(expression.toString(True))"
   ]
  },
  {
   "cell_type": "markdown",
   "id": "80e75426",
   "metadata": {},
   "source": [
    "To solve the Qbin expression we are again going to use a default dann5 solver. \n",
    "\n",
    "Since there are now two bits for each of the variables we will see a lot more possibilities for the solutions to the expression. This can be calculated using a 2\\**n (*2* on *n*) equation, where n is the total number of quantum bits between both variables. In this case we will see 2\\**4 possible solutions, which is *16* in total.\n",
    "\n",
    "Taking the last solution in the list below, we can see how the result is calculated. \n",
    "\n",
    "> _0&\\2:11\\\\; dan\\2:11\\\\; flora\\2:11\\\n",
    "\n",
    "Here we see that the *dan* variable has 2 quantum bits, both with value *1*, (i.e. *11*), and the same is true for the *Qbin* variable *flora*. The Qbin auxiliary result variable *_&0* also has 2 q-bits, and both have a value of *1* (i.e. *11*). This is due to the fact that for each quantum bit, at the same level, we are performing an *Qbit* \"*AND (&)*\" operation. So the result variable will only have *1* at each level if both *Qbin* variables (*flora* and *dan*) have *1* in that same level."
   ]
  },
  {
   "cell_type": "code",
   "execution_count": 7,
   "id": "7a9d18ee",
   "metadata": {},
   "outputs": [
    {
     "name": "stdout",
     "output_type": "stream",
     "text": [
      "_&0\\2b:00\\; dan\\2b:00\\; flora\\2b:00\\\n",
      "_&0\\2b:00\\; dan\\2b:00\\; flora\\2b:10\\\n",
      "_&0\\2b:00\\; dan\\2b:00\\; flora\\2b:01\\\n",
      "_&0\\2b:00\\; dan\\2b:00\\; flora\\2b:11\\\n",
      "_&0\\2b:00\\; dan\\2b:10\\; flora\\2b:00\\\n",
      "_&0\\2b:00\\; dan\\2b:10\\; flora\\2b:01\\\n",
      "_&0\\2b:00\\; dan\\2b:01\\; flora\\2b:00\\\n",
      "_&0\\2b:00\\; dan\\2b:01\\; flora\\2b:10\\\n",
      "_&0\\2b:00\\; dan\\2b:11\\; flora\\2b:00\\\n",
      "_&0\\2b:10\\; dan\\2b:10\\; flora\\2b:10\\\n",
      "_&0\\2b:10\\; dan\\2b:10\\; flora\\2b:11\\\n",
      "_&0\\2b:10\\; dan\\2b:11\\; flora\\2b:10\\\n",
      "_&0\\2b:01\\; dan\\2b:01\\; flora\\2b:01\\\n",
      "_&0\\2b:01\\; dan\\2b:01\\; flora\\2b:11\\\n",
      "_&0\\2b:01\\; dan\\2b:11\\; flora\\2b:01\\\n",
      "_&0\\2b:11\\; dan\\2b:11\\; flora\\2b:11\\\n",
      "\n"
     ]
    }
   ],
   "source": [
    "from dann5.dwave import Solver\n",
    "Solver.Active()\n",
    "print(expression.solve())"
   ]
  },
  {
   "cell_type": "markdown",
   "id": "4588641f",
   "metadata": {},
   "source": [
    "## Qbin assignment\n",
    "\n",
    "As in case of other dann5 quantum types, it is possible to reuse a quantum expression with *Qbin* variables to define a *quantum assignment*. First, we will reset the *expression* and use a *result* Qbin variable as an assignee to define a quantum assignment *assignment1*. \n",
    "\n",
    "From printing the *assignment1* variable we see that the whole quantum expression has to be equal to the *result* variable, which has been previously set to the binary value of *3*."
   ]
  },
  {
   "cell_type": "code",
   "execution_count": 8,
   "id": "209dcd6f",
   "metadata": {},
   "outputs": [
    {
     "name": "stdout",
     "output_type": "stream",
     "text": [
      "result\\2q:11\\ = (dan\\2q:U\\ & flora\\2q:U\\)\n"
     ]
    }
   ],
   "source": [
    "expression.reset()\n",
    "assignment1 = result.assign(expression)\n",
    "\n",
    "print(assignment1)"
   ]
  },
  {
   "cell_type": "markdown",
   "id": "018503cf",
   "metadata": {},
   "source": [
    "When solving the assignment we see there is only one case where the result will be equal to 3 in binary and that is when both *dan* and *flora* variables have value *3* in binary format."
   ]
  },
  {
   "cell_type": "code",
   "execution_count": 9,
   "id": "f3e85349",
   "metadata": {},
   "outputs": [
    {
     "name": "stdout",
     "output_type": "stream",
     "text": [
      "result\\2b:11\\; dan\\2b:11\\; flora\\2b:11\\\n",
      "\n"
     ]
    }
   ],
   "source": [
    "print(assignment1.solve())"
   ]
  },
  {
   "cell_type": "markdown",
   "id": "3796c349",
   "metadata": {},
   "source": [
    "Before proceeding to reuse the *assignment1* variable let look what *reset()* method does. From the next example we see that that the *assignment1* definition in quantum space is not changed. \n",
    "\n",
    "- **Note**: The quantum expression and assignment *reset()* method removes previously calculated solutions without changing their semantic in quantum space."
   ]
  },
  {
   "cell_type": "code",
   "execution_count": 10,
   "id": "c8d6baf1",
   "metadata": {},
   "outputs": [
    {
     "name": "stdout",
     "output_type": "stream",
     "text": [
      "Before RESET: result\\2q:11\\ = (dan\\2q:U\\ & flora\\2q:U\\)\n",
      "result0\\1\\ = dan0\\S\\ & flora0\\S\\; result1\\1\\ = dan1\\S\\ & flora1\\S\\; \n",
      "result\\2b:11\\; dan\\2b:11\\; flora\\2b:11\\\n",
      "\n",
      "\n",
      "After RESET: result\\2q:11\\ = (dan\\2q:U\\ & flora\\2q:U\\)\n",
      "result0\\1\\ = dan0\\S\\ & flora0\\S\\; result1\\1\\ = dan1\\S\\ & flora1\\S\\; \n",
      "\n"
     ]
    }
   ],
   "source": [
    "print(\"Before RESET: {}\\n{}\\n{}\\n\".format(assignment1, assignment1.toString(True), assignment1.solutions()))\n",
    "assignment1.reset()\n",
    "print(\"After RESET: {}\\n{}\\n{}\".format(assignment1, assignment1.toString(True), assignment1.solutions()))"
   ]
  },
  {
   "cell_type": "markdown",
   "id": "063609b1",
   "metadata": {},
   "source": [
    "To change the solution set of the *assignment1*, we need to change its meaning in quantum space. We are going to do that by changing the assigned *result* *Qbin* variable to, say, *1* in binary format 0b01."
   ]
  },
  {
   "cell_type": "code",
   "execution_count": 11,
   "id": "26adc6a2",
   "metadata": {},
   "outputs": [
    {
     "name": "stdout",
     "output_type": "stream",
     "text": [
      "result\\2q:11\\\n",
      "result\\2q:01\\\n"
     ]
    }
   ],
   "source": [
    "print(assignment1.assignee())\n",
    "result[1] = 0\n",
    "assignment1.assignee(result)\n",
    "print(assignment1.assignee())"
   ]
  },
  {
   "cell_type": "markdown",
   "id": "cd0c37bc",
   "metadata": {},
   "source": [
    "The change resulted in calculating more than just one possible solution. In fact there are 3 possible solutions."
   ]
  },
  {
   "cell_type": "code",
   "execution_count": 12,
   "id": "aad0d158",
   "metadata": {},
   "outputs": [
    {
     "name": "stdout",
     "output_type": "stream",
     "text": [
      "result\\2b:01\\; dan\\2b:01\\; flora\\2b:01\\\n",
      "result\\2b:01\\; dan\\2b:01\\; flora\\2b:11\\\n",
      "result\\2b:01\\; dan\\2b:11\\; flora\\2b:01\\\n",
      "\n"
     ]
    }
   ],
   "source": [
    "print(assignment1.solve())"
   ]
  },
  {
   "cell_type": "markdown",
   "id": "85ecb2a6",
   "metadata": {},
   "source": [
    "Now we will use a *Qbin* result set to unknown (*U*) value as opposed to a specific deterministic value. Additionally, in the expression we will use the *Qbin* varaibles with different number of q-bits. The variable *phil* is a q-binary sequence with 1 *Qbit* and *claire* has 2 *Qbit*-s. They are defined in the same way as described above:"
   ]
  },
  {
   "cell_type": "code",
   "execution_count": 13,
   "id": "400ced87",
   "metadata": {},
   "outputs": [
    {
     "name": "stdout",
     "output_type": "stream",
     "text": [
      "phil\\1q:U\\\n",
      "claire\\2q:U\\\n"
     ]
    }
   ],
   "source": [
    "phil = Qbin(1, \"phil\")\n",
    "claire = Qbin(2, \"claire\")\n",
    "\n",
    "print(phil)\n",
    "print(claire)"
   ]
  },
  {
   "cell_type": "markdown",
   "id": "4eab872d",
   "metadata": {},
   "source": [
    "The *expression2* is defined using the *AND (*&*) operation with *phil* and *claire* as input quantum variables. "
   ]
  },
  {
   "cell_type": "code",
   "execution_count": 14,
   "id": "09d8b64f",
   "metadata": {},
   "outputs": [
    {
     "name": "stdout",
     "output_type": "stream",
     "text": [
      "(phil\\1q:U\\ & claire\\2q:U\\)\n",
      "_&10\\S\\ = phil0\\S\\ & claire0\\S\\; _&11\\0\\ = phil1\\0\\ & claire1\\S\\; \n"
     ]
    }
   ],
   "source": [
    "expression2 = phil & claire;\n",
    "\n",
    "print(expression2)\n",
    "print(expression2.toString(True))"
   ]
  },
  {
   "cell_type": "markdown",
   "id": "63c305ef",
   "metadata": {},
   "source": [
    "From d5vc of *expression2* we see that the *phil* variable is extended by adding a *Qbit* *phil1* set to value *0*. This is done to preserve the integrity of the used quantum bitwise operation.\n",
    "\n",
    "- **Note**: To preserve the integrity of a quantum operation the size and values of input variables will be auto-adjusted.\n",
    "\n",
    "When we solve the *expression2* we see all the possible solutions for the quantum expression. Also, we see that added *Qbit* *phil1* set to value *0* didn't change the semantic of the quantum operation and defined quantum variables. At the same time all possible combinations for the *expression2* have been preserved as valid solutions."
   ]
  },
  {
   "cell_type": "code",
   "execution_count": 15,
   "id": "2b4760f2",
   "metadata": {},
   "outputs": [
    {
     "name": "stdout",
     "output_type": "stream",
     "text": [
      "_&1\\2b:00\\; phil\\1b:0\\; claire\\2b:00\\\n",
      "_&1\\2b:00\\; phil\\1b:1\\; claire\\2b:00\\\n",
      "_&1\\2b:00\\; phil\\1b:0\\; claire\\2b:10\\\n",
      "_&1\\2b:00\\; phil\\1b:1\\; claire\\2b:10\\\n",
      "_&1\\2b:00\\; phil\\1b:0\\; claire\\2b:01\\\n",
      "_&1\\2b:00\\; phil\\1b:0\\; claire\\2b:11\\\n",
      "_&1\\2b:01\\; phil\\1b:1\\; claire\\2b:01\\\n",
      "_&1\\2b:01\\; phil\\1b:1\\; claire\\2b:11\\\n",
      "\n"
     ]
    }
   ],
   "source": [
    "print(expression2.solve())"
   ]
  },
  {
   "cell_type": "markdown",
   "id": "bb154b34",
   "metadata": {},
   "source": [
    "The *Qbin* variable *result2* is defined as any value with 3 bits, i.e. unknown (*U*)."
   ]
  },
  {
   "cell_type": "code",
   "execution_count": 16,
   "id": "32dea234",
   "metadata": {},
   "outputs": [
    {
     "name": "stdout",
     "output_type": "stream",
     "text": [
      "result2\\3q:U\\\n"
     ]
    }
   ],
   "source": [
    "result2 = Qbin(3, \"result2\")\n",
    "print(result2)"
   ]
  },
  {
   "cell_type": "markdown",
   "id": "01769e16",
   "metadata": {},
   "source": [
    "Resetting the *expression2* to reuse it in the *assignment2* using the *result2* as an assignee. This time we see in the output that the expected result has 3 q-bits and an unknown (**U**) value."
   ]
  },
  {
   "cell_type": "code",
   "execution_count": 17,
   "id": "0009bd2d",
   "metadata": {},
   "outputs": [
    {
     "name": "stdout",
     "output_type": "stream",
     "text": [
      "result2\\3q:U\\ = (phil\\1q:U\\ & claire\\2q:U\\)\n"
     ]
    }
   ],
   "source": [
    "expression.reset()\n",
    "assignment2 = result2.assign(expression2)\n",
    "\n",
    "print(assignment2)"
   ]
  },
  {
   "cell_type": "markdown",
   "id": "ff0255cb",
   "metadata": {},
   "source": [
    "When solved, the *assignment2* displays all possible solutions where result has 3 q-bits of any value. Which in this case is all the possible solutions we had when the *expression2* was solved. \n",
    "\n",
    "The main difference is in the presentation of solutions as all the values of result for each solution have 3 bits, i.e.\n",
    "\n",
    "> result2\\3:**000**\\; \n",
    "\n",
    "This is due to the definition of the *result2* variable with 3 q-bits enforcing calculation and presentation of its solutions to reveal values of all 3 q-bits."
   ]
  },
  {
   "cell_type": "code",
   "execution_count": 18,
   "id": "cc83038f",
   "metadata": {},
   "outputs": [
    {
     "name": "stdout",
     "output_type": "stream",
     "text": [
      "result2\\3b:000\\; phil\\1b:0\\; claire\\2b:00\\\n",
      "result2\\3b:000\\; phil\\1b:1\\; claire\\2b:00\\\n",
      "result2\\3b:000\\; phil\\1b:0\\; claire\\2b:10\\\n",
      "result2\\3b:000\\; phil\\1b:1\\; claire\\2b:10\\\n",
      "result2\\3b:000\\; phil\\1b:0\\; claire\\2b:01\\\n",
      "result2\\3b:001\\; phil\\1b:0\\; claire\\2b:11\\\n",
      "result2\\3b:000\\; phil\\1b:1\\; claire\\2b:01\\\n",
      "result2\\3b:001\\; phil\\1b:1\\; claire\\2b:11\\\n",
      "\n"
     ]
    }
   ],
   "source": [
    "print(assignment2.solve())"
   ]
  },
  {
   "cell_type": "markdown",
   "id": "e18fadc0",
   "metadata": {},
   "source": [
    "## Try it\n",
    "Feel free to use the below cell to play around with the other operations of *Qbin* variables:"
   ]
  },
  {
   "cell_type": "code",
   "execution_count": 19,
   "id": "8f9c04cf",
   "metadata": {},
   "outputs": [
    {
     "name": "stdout",
     "output_type": "stream",
     "text": [
      "result2\\3q:001\\ = (roger\\2q:U\\ !& bobby\\3q:U\\)\n",
      "result2\\3b:001\\; roger\\2b:10\\; bobby\\3b:110\\\n",
      "result2\\3b:001\\; roger\\2b:11\\; bobby\\3b:110\\\n",
      "result2\\3b:001\\; roger\\2b:10\\; bobby\\3b:111\\\n",
      "\n"
     ]
    }
   ],
   "source": [
    "roger = Qbin(2, \"roger\")\n",
    "bobby = Qbin(3, \"bobby\")\n",
    "result2 = Qbin(\"result2\", Bits(1))\n",
    "\n",
    "assignment2 = result2.assign(roger.nand(bobby))\n",
    "print(assignment2)\n",
    "\n",
    "print(assignment2.solve())"
   ]
  },
  {
   "cell_type": "markdown",
   "id": "34d346cf",
   "metadata": {},
   "source": [
    "*Qbin* bitwise operations:\n",
    "\n",
    "    Type     Operation\n",
    "\n",
    "    AND       x & y\n",
    "\n",
    "    OR        x | y\n",
    "\n",
    "    XOR       x ^ y           \n",
    "\n",
    "    NAND     x.nand(y)           \n",
    "\n",
    "    NOR      X.nor(y)\n",
    "\n",
    "    NXOR     x.nxor(y) "
   ]
  },
  {
   "cell_type": "markdown",
   "id": "6eb471b7",
   "metadata": {},
   "source": [
    "In **the next chapter, 1.4** we will cover the **Qwhole type**. In chapter 2.3., we will expand and look at how *Qbin* operations and operands are used to define more complex quantum expressions and assignments."
   ]
  }
 ],
 "metadata": {
  "kernelspec": {
   "display_name": "Python 3 (ipykernel)",
   "language": "python",
   "name": "python3"
  },
  "language_info": {
   "codemirror_mode": {
    "name": "ipython",
    "version": 3
   },
   "file_extension": ".py",
   "mimetype": "text/x-python",
   "name": "python",
   "nbconvert_exporter": "python",
   "pygments_lexer": "ipython3",
   "version": "3.10.12"
  }
 },
 "nbformat": 4,
 "nbformat_minor": 5
}
