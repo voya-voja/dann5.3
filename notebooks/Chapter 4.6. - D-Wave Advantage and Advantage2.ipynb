{
 "cells": [
  {
   "cell_type": "markdown",
   "metadata": {},
   "source": [
    "# Chapter 4.6. - D-Wave Advantage and Advantage2\n",
    "\n",
    "**Dann5 d5o programming framework** is an extension of python programming langue. By generalizing D-Wave CSP implementation, it helps QAC programmers develop faster programming logic through use of constructs such as data types definitions, equation and condition statements, programmable routines, functions, and specialized functions.\n",
    "\n",
    "Here, we are continuing an overview of d5o features by:\n",
    "1.\tIntroducing **d5o Qsolverand Qanalyzer**. Qsolver is a local Qubo solver, an alternative to [D-Wave’s ExactSolver]( https://docs.ocean.dwavesys.com/projects/dimod/en/latest/reference/sampler_composites/samplers.html#module-dimod.reference.samplers.exact_solver).\n",
    "2.\texecuting complex d5o equations on QAC using [D-Wave samplers]( https://docs.ocean.dwavesys.com/projects/system/en/stable/reference/samplers.html#dwavesampler); \n",
    "3.\tsolving a large complex d5o equation using [D-Wave hybrid-sampler]( https://docs.ocean.dwavesys.com/projects/system/en/stable/reference/samplers.html#leaphybridsampler);\n",
    "\n",
    "\n",
    "If you have [installed Dann5 d5o library](https://github.com/voya-voja/dann5/blob/master/README.md) and all prerequisites, we can start."
   ]
  },
  {
   "cell_type": "code",
   "execution_count": null,
   "metadata": {},
   "outputs": [],
   "source": [
    "import dann5.d5 as d5\n",
    "from dann5.dwave import Solver\n",
    "p = d5.Qwhole(3,\"p\")\n",
    "q = d5.Qwhole(2, \"q\")\n",
    "r = d5.Qwhole(2, \"r\")\n",
    "Sum = d5.Qwhole(\"S\", 10)\n",
    "sumAssignment = Sum.assign(p + q + r)\n",
    "print(sumAssignment)"
   ]
  },
  {
   "cell_type": "markdown",
   "metadata": {},
   "source": [
    "Also, the same problem can be solved using **Dwave Advantage quantum annealer** as it is presented in the following example."
   ]
  },
  {
   "cell_type": "code",
   "execution_count": null,
   "metadata": {},
   "outputs": [],
   "source": [
    "from dann5.dwave import QuboSolvers\n",
    "\n",
    "hybrid = QuboSolvers.solver(\"Advantage\")\n",
    "evaluations = hybrid.solution(qubo)\n",
    "\n",
    "sumAssignment.reset()\n",
    "sumAssignment.add(evaluations)\n",
    "print(\"DWave Advantage QUBO solutions: \\n{}\".format(sumAssignment.solutions()))"
   ]
  },
  {
   "cell_type": "markdown",
   "metadata": {},
   "source": [
    "> Important to notice that the quantum annealer will require additional operational arguments specified in [**kwargs**](https://docs.dwavesys.com/docs/latest/c_solver_parameters.html).\n",
    "- **Note**: This example demonstraits setting up different DWave sampler topology types. It will be discussed further in chapter 5 as an advanced features."
   ]
  },
  {
   "cell_type": "code",
   "execution_count": null,
   "metadata": {},
   "outputs": [],
   "source": [
    "from dwave.system import DWaveSampler, EmbeddingComposite\n",
    "qpu_advantage = DWaveSampler(solver={'topology__type': 'pegasus', 'qpu': True})\n",
    "kwargs = {'num_reads': 1000,\n",
    "            'answer_mode': 'histogram',\n",
    "            'chain_strength': 2  \n",
    "        }\n",
    "advantage = EmbeddingComposite(qpu_advantage)\n",
    "sampleset = advantage.sample_qubo(qubo, **kwargs)\n",
    "samples = [dict(sample) for sample in sampleset.lowest().samples()]\n",
    "print(\"DWave Advantage solutions: \\n{}\".format(samples))"
   ]
  },
  {
   "cell_type": "markdown",
   "metadata": {},
   "source": [
    "\n",
    "The same **finalized QUBO** can be executed on [quantum annealing computer (QAC)](https://docs.dwavesys.com/docs/latest/c_solver_parameters.html):"
   ]
  },
  {
   "cell_type": "code",
   "execution_count": null,
   "metadata": {},
   "outputs": [],
   "source": [
    "from dwave.system import DWaveSampler, EmbeddingComposite\n",
    "qpu_advantage = DWaveSampler(solver={'topology__type': 'pegasus', 'qpu': True})\n",
    "solver = EmbeddingComposite(qpu_advantage)\n",
    "sampleset = solver.sample_qubo(fQaA)"
   ]
  },
  {
   "cell_type": "code",
   "execution_count": null,
   "metadata": {},
   "outputs": [],
   "source": [
    "samples = [dict(sample) for sample in sampleset.lowest().samples()]\n",
    "aA.reset()\n",
    "aA.add(samples)\n",
    "print(aA.solutions())"
   ]
  },
  {
   "cell_type": "code",
   "execution_count": 1,
   "metadata": {},
   "outputs": [
    {
     "ename": "ImportError",
     "evalue": "generic_type: type \"QuboCompiler\" referenced unknown base type \"dann5::Qcompiler\"",
     "output_type": "error",
     "traceback": [
      "\u001b[1;31m---------------------------------------------------------------------------\u001b[0m",
      "\u001b[1;31mImportError\u001b[0m                               Traceback (most recent call last)",
      "Cell \u001b[1;32mIn[1], line 1\u001b[0m\n\u001b[1;32m----> 1\u001b[0m \u001b[38;5;28;01mfrom\u001b[39;00m \u001b[38;5;21;01mdann5\u001b[39;00m\u001b[38;5;21;01m.\u001b[39;00m\u001b[38;5;21;01md5o\u001b[39;00m \u001b[38;5;28;01mimport\u001b[39;00m Qvar, Qequation, Qanalyzer\n\u001b[0;32m      2\u001b[0m \u001b[38;5;28;01mimport\u001b[39;00m \u001b[38;5;21;01mtime\u001b[39;00m\n",
      "\u001b[1;31mImportError\u001b[0m: generic_type: type \"QuboCompiler\" referenced unknown base type \"dann5::Qcompiler\""
     ]
    }
   ],
   "source": [
    "from dann5.d5o import Qvar, Qequation, Qanalyzer\n",
    "import time"
   ]
  },
  {
   "cell_type": "markdown",
   "metadata": {},
   "source": [
    "For a problem:\n",
    "\n",
    "> If **T = 2 * a + b * c**, find all possible solutions when **T = 11** and **a, b, c <= 3**.\n",
    "\n",
    "Like in the [d5o overview of basic features](https://github.com/voya-voja/dann5/blob/master/examples/py/d5o_basic_features.ipynb), we are using python variable **_2**, **a**, **b**, **c** and **T** to reference *Q variables* ***2_***, ***a***, ***b***, ***c*** and ***T*** respectfully, where \n",
    "- Q constant *2_* has a value **2**; \n",
    "- Q variables *a*, *b* and *c* are initialized with **2 Q bits**, i.e. limiting their values to {0, 1, 2, 3}\n",
    "- Q variable *T* is set to **11**, and it is used as a Q equation result.\n",
    "\n",
    "Python variable **eT** references the *Q equation* **T = 2_ * a + b * c**\n",
    "\n",
    "***Note:*** parentheses around multipliers are required in python implementation, *(still to investigate why)*. In C++ implementation they are not required as *multiplication operator has precedence over addition operator*."
   ]
  },
  {
   "cell_type": "code",
   "execution_count": 2,
   "metadata": {},
   "outputs": [
    {
     "name": "stdout",
     "output_type": "stream",
     "text": [
      "| T0 = 1 | = 2_0 & a0 ^ b0 & c0\n",
      "| T1 = 1 | = 2_0 & a1 + 2_1 & a0 + b0 & c1 ^ b1 & c0 ^ #|T0|\n",
      "| T2 = 0 | = 2_1 & a1 + #|2_0 & a1 + 2_1 & a0 + b0 & c1 ^ b1 & c0| + b1 & c1 ^ #|b0 & c1 ^ b1 & c0| ^ #|T1|\n",
      "| T3 = 1 | = #|2_1 & a1 + #|2_0 & a1 + 2_1 & a0 + b0 & c1 ^ b1 & c0| + b1 & c1 ^ #|b0 & c1 ^ b1 & c0|| + #|b1 & c1 ^ #|b0 & c1 ^ b1 & c0|| + #|T2|\n",
      "| T4 = 0 | = #|T3|\n",
      "\n"
     ]
    }
   ],
   "source": [
    "_2 = Qvar(\"2_\",2)\n",
    "a = Qvar(2, \"a\")\n",
    "b = Qvar(2, \"b\")\n",
    "c = Qvar(2, \"c\")\n",
    "T = Qvar(\"T\", 11)\n",
    "eT = Qequation(T)\n",
    "eT.assign((_2 * a) + (b * c))\n",
    "print(eT.toString())"
   ]
  },
  {
   "cell_type": "markdown",
   "metadata": {},
   "source": [
    "To better understand a complexity of the Q equation above, we are analyzing the Qubo generated for the "
   ]
  },
  {
   "cell_type": "code",
   "execution_count": 3,
   "metadata": {},
   "outputs": [
    {
     "name": "stdout",
     "output_type": "stream",
     "text": [
      "number of nodes: 25 has 8,388,658.0 possible solutions\n"
     ]
    }
   ],
   "source": [
    "Q = eT.qubo()\n",
    "analyzer = Qanalyzer(Q)\n",
    "nNo = analyzer.nodesNo()\n",
    "print(\"number of nodes:\", nNo, \"has\", f\"{'{:,}'.format(pow(2,nNo-1)/2 + 2*nNo)}\", \"possible solutions\")"
   ]
  },
  {
   "cell_type": "markdown",
   "metadata": {},
   "source": [
    "By using d5o we can easily solve on a local machine a problem like:\n",
    "> A school has received 45 tickets for a show. If there are 13 schoolteachers to oversee pupils, with a help of no more than 3 parents, what would be a similar number of boys and girls that can see the show?"
   ]
  },
  {
   "cell_type": "code",
   "execution_count": 8,
   "metadata": {},
   "outputs": [
    {
     "name": "stdout",
     "output_type": "stream",
     "text": [
      "number of nodes: 28 has 67,108,920.0 posible solutions\n"
     ]
    }
   ],
   "source": [
    "girls = Qvar(4, \"girls\")\n",
    "boys = Qvar(4, \"boys\")\n",
    "teachers = Qvar(\"teachers\", 13)\n",
    "parents = Qvar(2, \"parents\")\n",
    "tickets = Qvar(\"tickets\", 45)\n",
    "distribution = Qequation(tickets).assign( girls + boys + teachers + parents )\n",
    "Q = distribution.qubo()\n",
    "nNo = Qanalyzer(Q).nodesNo()\n",
    "print(\"number of nodes:\", nNo, \"has\", f\"{'{:,}'.format(pow(2,nNo-1)/2 + 2*nNo)}\", \"possible solutions\")"
   ]
  },
  {
   "cell_type": "markdown",
   "metadata": {},
   "source": [
    "## d5o equations on QAC using D-Wave samplers\n",
    "\n",
    "When defining Q variables to solve a problem, it is important to ensure that there is a possible solution within defined Q equation. For example, \n",
    "> if we would like *to rerun the above school trip example for 78 available tickets*, **and we do not adjust variables**, ***we will get a result set that does not make any sense***:"
   ]
  },
  {
   "cell_type": "code",
   "execution_count": 14,
   "metadata": {},
   "outputs": [
    {
     "name": "stdout",
     "output_type": "stream",
     "text": [
      "girls = 0; boys = 0; teachers = 13; parents = 1; \n",
      "girls = 1; boys = 0; teachers = 13; parents = 0; \n",
      "girls = 0; boys = 1; teachers = 13; parents = 0; \n",
      "\n"
     ]
    }
   ],
   "source": [
    "tickets = Qvar(\"tickets\", 78)\n",
    "distribution = Qequation(tickets).assign( girls + boys + teachers + parents )\n",
    "Q = distribution.qubo()"
   ]
  },
  {
   "cell_type": "markdown",
   "metadata": {},
   "source": [
    "Obviously we need to adjust *the size of ***girls and boys*** Q variables*! However, this will result in Qubo with 33 nodes. "
   ]
  },
  {
   "cell_type": "code",
   "execution_count": 15,
   "metadata": {},
   "outputs": [
    {
     "name": "stdout",
     "output_type": "stream",
     "text": [
      "number of nodes: 33 has 2,147,483,714.0 posible solutions\n"
     ]
    }
   ],
   "source": [
    "girls = Qvar(5, \"girls\")\n",
    "boys = Qvar(5, \"boys\")\n",
    "teachers = Qvar(\"teachers\", 13)\n",
    "parents = Qvar(2, \"parents\")\n",
    "tickets = Qvar(\"tickets\", 78)\n",
    "distribution = Qequation(tickets).assign( girls + boys + teachers + parents )\n",
    "Q = distribution.qubo()\n",
    "nNo = Qanalyzer(Q).nodesNo()\n",
    "print(\"number of nodes:\", nNo`, \"has\", f\"{'{:,}'.format(pow(2,nNo-1)/2 + 2*nNo)}\", \"possible solutions\")"
   ]
  },
  {
   "cell_type": "markdown",
   "metadata": {},
   "source": [
    "> To avoid waiting so long in the future, I will use D-Wave Ocean sampler API to conenct to QACs to process my problem."
   ]
  },
  {
   "cell_type": "code",
   "execution_count": 18,
   "metadata": {},
   "outputs": [],
   "source": [
    "from dwave.system import DWaveSampler, EmbeddingComposite\n",
    "from dwave.cloud.exceptions import SolverNotFoundError"
   ]
  },
  {
   "cell_type": "markdown",
   "metadata": {},
   "source": [
    "To learn more about how to work with [different topologies](https://docs.ocean.dwavesys.com/en/stable/examples/topology_samplers.html) review D-Wave documentation. In this example we are connecting to both:\n",
    "- advanatage QAC instance with pegasus topology, and\n",
    "- 2000Q QAC instance with chimera topology"
   ]
  },
  {
   "cell_type": "code",
   "execution_count": 19,
   "metadata": {},
   "outputs": [
    {
     "name": "stdout",
     "output_type": "stream",
     "text": [
      "Connected to Advantage Advantage_system1.1 and 2000Q DW_2000Q_6.\n"
     ]
    }
   ],
   "source": [
    "try:\n",
    "    qpu_advantage = DWaveSampler(solver={'topology__type': 'pegasus', 'qpu': True})\n",
    "    qpu_2000q = DWaveSampler(solver={'topology__type': 'chimera', 'qpu': True})\n",
    "    \n",
    "    qpus = {'Advantage': qpu_advantage, 'DW-2000Q': qpu_2000q}\n",
    "\n",
    "    print(\"Connected to Advantage {} and 2000Q {}.\".format(qpu_advantage.solver.id, qpu_2000q.solver.id))\n",
    "except SolverNotFoundError:\n",
    "    print(\"Currently a pair of solvers are unavailable for sections comparing QPU technologies. Try those examples later.\")"
   ]
  },
  {
   "cell_type": "markdown",
   "metadata": {},
   "source": [
    "Now that we are connected to Advantage and 2000Q QACs, we can start by crating ***advantage*** solver by using D-Wave's composite [embedding](https://docs.ocean.dwavesys.com/projects/system/en/stable/reference/embedding.html) of our Qubo to pegasus topology."
   ]
  },
  {
   "cell_type": "code",
   "execution_count": 20,
   "metadata": {},
   "outputs": [],
   "source": [
    "advantage = EmbeddingComposite(qpu_advantage)"
   ]
  },
  {
   "cell_type": "markdown",
   "metadata": {},
   "source": [
    "For the ***advantage*** solver let prepare arguments for remote processing, i.e. **let set** ***kwargs***.\n",
    "- ***kwargs*** *represents optional keyword arguments for the sampling method, specified per [solver](https://docs.dwavesys.com/docs/latest/doc_solver_ref.html) in parameters*. \n",
    "\n",
    "The arguments used in this example are self explanatory.\n",
    "\n",
    "> I am founding that ***chain strenght 5*** works well for these kind of problems on pegasus topology."
   ]
  },
  {
   "cell_type": "code",
   "execution_count": 21,
   "metadata": {},
   "outputs": [],
   "source": [
    "kwargs = {}\n",
    "if 'num_reads' in advantage.parameters:\n",
    "    kwargs['num_reads'] = 100\n",
    "if 'answer_mode' in advantage.parameters:\n",
    "    kwargs['answer_mode'] = 'histogram'\n",
    "if 'chain_strength' in advantage.parameters:\n",
    "    kwargs['chain_strength'] = 5"
   ]
  },
  {
   "cell_type": "code",
   "execution_count": 22,
   "metadata": {},
   "outputs": [
    {
     "name": "stdout",
     "output_type": "stream",
     "text": [
      "Qsolver takes 0.375 seconds to solve problem with 33 nodes\n"
     ]
    }
   ],
   "source": [
    "start = time.process_time()\n",
    "sampleset = advantage.sample_qubo(Q, **kwargs)\n",
    "samples = [dict(sample) for sample in sampleset.lowest().samples()]\n",
    "finish = time.process_time()\n",
    "print(\"Qsolver takes\", finish - start, \"seconds to solve problem with\", nNo, \"nodes\")"
   ]
  },
  {
   "cell_type": "code",
   "execution_count": 23,
   "metadata": {},
   "outputs": [
    {
     "name": "stdout",
     "output_type": "stream",
     "text": [
      "girls = 31; boys = 31; teachers = 13; parents = 3; \n",
      "\n"
     ]
    }
   ],
   "source": [
    "distribution.set(sample)\n",
    "print(distribution.solutions())"
   ]
  },
  {
   "cell_type": "markdown",
   "metadata": {},
   "source": [
    "Running *same kwargs* on **2000Q chimera topology**."
   ]
  },
  {
   "cell_type": "code",
   "execution_count": 24,
   "metadata": {},
   "outputs": [
    {
     "name": "stdout",
     "output_type": "stream",
     "text": [
      "Qsolver takes 0.296875 seconds to solve problem with 33 nodes\n"
     ]
    }
   ],
   "source": [
    "start = time.process_time()\n",
    "dw2000q = EmbeddingComposite(qpu_2000q)\n",
    "sampleset = dw2000q.sample_qubo(Q, **kwargs)\n",
    "samples = [dict(sample) for sample in sampleset.lowest().samples()]\n",
    "finish = time.process_time()\n",
    "print(\"Qsolver takes\", finish - start, \"seconds to solve problem with\", nNo, \"nodes\")"
   ]
  },
  {
   "cell_type": "code",
   "execution_count": 25,
   "metadata": {},
   "outputs": [
    {
     "name": "stdout",
     "output_type": "stream",
     "text": [
      "girls = 31; boys = 31; teachers = 13; parents = 3; \n",
      "\n"
     ]
    }
   ],
   "source": [
    "distribution.set(sample)\n",
    "print(distribution.solutions())"
   ]
  },
  {
   "cell_type": "markdown",
   "metadata": {},
   "source": [
    "> The same ***chain strenght 5*** produced correct result on **chimera topology** as it did on *pegasus*.\n",
    "\n",
    "As expected, on both QAC topologies it took a fraction of a second with all latencies of a remote API to solve a Qubo problem with 33 nodes."
   ]
  },
  {
   "cell_type": "code",
   "execution_count": 32,
   "metadata": {},
   "outputs": [
    {
     "name": "stdout",
     "output_type": "stream",
     "text": [
      "number of nodes: 165 has 1.1692013098647223e+49 posible solutions\n"
     ]
    }
   ],
   "source": [
    "factor1 = Qvar(5, \"f1\")\n",
    "factor2 = Qvar(5, \"f2\")\n",
    "factor3 = Qvar(4, \"f3\")\n",
    "product = Qvar(\"P\", 13020)\n",
    "eProduct = Qequation(product).assign(factor1 * factor2 * factor3)\n",
    "Q = eProduct.qubo()\n",
    "nNo = Qanalyzer(Q).nodesNo()\n",
    "print(\"number of nodes:\", nNo, \"has\", f\"{'{:,}'.format(pow(2,nNo-1)/2 + 2*nNo)}\", \"possible solutions\")"
   ]
  },
  {
   "cell_type": "code",
   "execution_count": 33,
   "metadata": {},
   "outputs": [
    {
     "name": "stdout",
     "output_type": "stream",
     "text": [
      "Qsolver takes 9.078125 seconds to solve problem with 165 nodes\n"
     ]
    }
   ],
   "source": [
    "start = time.process_time()\n",
    "sampleset = advantage.sample_qubo(Q, **kwargs)\n",
    "samples = [dict(sample) for sample in sampleset.lowest().samples()]\n",
    "finish = time.process_time()\n",
    "print(\"Qsolver takes\", finish - start, \"seconds to solve problem with\", nNo, \"nodes\")"
   ]
  },
  {
   "cell_type": "code",
   "execution_count": 34,
   "metadata": {},
   "outputs": [
    {
     "name": "stdout",
     "output_type": "stream",
     "text": [
      "f1 = 0; f2 = 0; f3 = 0; \n",
      "\n"
     ]
    }
   ],
   "source": [
    "eProduct.set(sample)\n",
    "print(eProduct.solutions())"
   ]
  }
 ],
 "metadata": {
  "kernelspec": {
   "display_name": "Python 3 (ipykernel)",
   "language": "python",
   "name": "python3"
  },
  "language_info": {
   "codemirror_mode": {
    "name": "ipython",
    "version": 3
   },
   "file_extension": ".py",
   "mimetype": "text/x-python",
   "name": "python",
   "nbconvert_exporter": "python",
   "pygments_lexer": "ipython3",
   "version": "3.10.4"
  }
 },
 "nbformat": 4,
 "nbformat_minor": 4
}
