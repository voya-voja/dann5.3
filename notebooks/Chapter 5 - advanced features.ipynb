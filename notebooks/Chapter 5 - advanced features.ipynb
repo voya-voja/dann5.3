{
 "cells": [
  {
   "cell_type": "markdown",
   "id": "f80d2cf6",
   "metadata": {},
   "source": [
    "> In this example the *qubo* is converted into DWave's BQM presentation of *mM assignment* and *hybrid.sample(...)* call is used to send the *bqm* to hybrid-sampler and to receive a sampleset, that is converted into a solution of mM assignment.  "
   ]
  },
  {
   "cell_type": "code",
   "execution_count": null,
   "id": "67c3e603",
   "metadata": {},
   "outputs": [],
   "source": [
    "# reference chapter 0 to see code leading up to this point\n",
    "import dimod\n",
    "bqm = dimod.BQM.from_qubo(qubo)\n",
    "sampleset = hybrid.sample(bqm)\n",
    "samples = [dict(sample) for sample in sampleset.lowest().samples()]\n",
    "mM.reset()\n",
    "mM.add(samples)\n",
    "print(\"DWave Hybrid-sampler BQM solutions: \\n{}\".format(mM.solutions()))"
   ]
  },
  {
   "cell_type": "markdown",
   "id": "57bf1564",
   "metadata": {},
   "source": [
    "Also, the same problem can be solved using **Dwave Advantage quantum annealer** as it is presented in the following example.\n",
    "> Important to notice that the quantum annealer will require additional operational arguments specified in [**kwargs**](https://docs.dwavesys.com/docs/latest/c_solver_parameters.html)."
   ]
  },
  {
   "cell_type": "code",
   "execution_count": null,
   "id": "cba53fd1",
   "metadata": {},
   "outputs": [],
   "source": [
    "mM.reset()\n",
    "\n",
    "from dwave.system import DWaveSampler, EmbeddingComposite\n",
    "qpu_advantage = DWaveSampler(solver={'topology__type': 'pegasus', 'qpu': True})\n",
    "kwargs = {'num_reads': 1000,\n",
    "            'answer_mode': 'histogram',\n",
    "            'chain_strength': 2  \n",
    "        }\n",
    "advantage = EmbeddingComposite(qpu_advantage)\n",
    "sampleset = advantage.sample_qubo(qubo, **kwargs)\n",
    "samples = [dict(sample) for sample in sampleset.lowest().samples()]\n",
    "mM.add(samples)\n",
    "print(\"DWave Advantage solutions: \\n{}\".format(mM.solutions()))"
   ]
  }
 ],
 "metadata": {
  "kernelspec": {
   "display_name": "Python 3 (ipykernel)",
   "language": "python",
   "name": "python3"
  },
  "language_info": {
   "codemirror_mode": {
    "name": "ipython",
    "version": 3
   },
   "file_extension": ".py",
   "mimetype": "text/x-python",
   "name": "python",
   "nbconvert_exporter": "python",
   "pygments_lexer": "ipython3",
   "version": "3.10.11"
  }
 },
 "nbformat": 4,
 "nbformat_minor": 5
}
