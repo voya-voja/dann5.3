{
 "cells": [
  {
   "cell_type": "markdown",
   "id": "9666ff77",
   "metadata": {},
   "source": [
    "# Chapter 6. - Qauntum Program Computing using Azure Quantum"
   ]
  },
  {
   "cell_type": "code",
   "execution_count": 1,
   "id": "82961d51",
   "metadata": {},
   "outputs": [
    {
     "name": "stdout",
     "output_type": "stream",
     "text": [
      "\n",
      "{\n",
      "\t(y\\2q:U\\ == x\\2q:U\\);\n",
      "\tz\\4q:U\\ = (x\\2q:U\\ * y\\2q:U\\);\n",
      "} \n",
      "\n",
      "  y0\\S\\ == x0\\S\\; y1\\S\\ == x1\\S\\; ; z0\\S\\ = x0\\S\\ & y0\\S\\; z1\\S\\ = _&2\\S\\ .+ _&1\\S\\; _&2\\S\\ = x1\\S\\ & y0\\S\\; _&1\\S\\ = x0\\S\\ & y1\\S\\; z2\\S\\ = _&3\\S\\ .+ #[z1]\\S\\; _&3\\S\\ = x1\\S\\ & y1\\S\\; z3\\S\\ = #[z2]\\S\\; \n",
      "\n",
      "\n"
     ]
    }
   ],
   "source": [
    "import dann5.d5 as d5\n",
    "\n",
    "x = d5.Qwhole(2, \"x\"); y = d5.Qwhole(2, \"y\"); z = d5.Qwhole(2, \"z\")\n",
    "\n",
    "timesBlock = d5.Qblock() << (y == x) << z._(x * y)\n",
    "print(\"\\n{} \\n\\n {}\\n\\n\".format(timesBlock, timesBlock.toString(True)))"
   ]
  },
  {
   "cell_type": "code",
   "execution_count": 2,
   "id": "b888c67f",
   "metadata": {},
   "outputs": [
    {
     "ename": "ModuleNotFoundError",
     "evalue": "No module named 'azure.quantum.optimization'",
     "output_type": "error",
     "traceback": [
      "\u001b[1;31m---------------------------------------------------------------------------\u001b[0m",
      "\u001b[1;31mModuleNotFoundError\u001b[0m                       Traceback (most recent call last)",
      "Cell \u001b[1;32mIn[2], line 3\u001b[0m\n\u001b[0;32m      1\u001b[0m timesBlock\u001b[38;5;241m.\u001b[39mreset()\n\u001b[1;32m----> 3\u001b[0m \u001b[38;5;28;01mfrom\u001b[39;00m \u001b[38;5;21;01mdann5\u001b[39;00m\u001b[38;5;21;01m.\u001b[39;00m\u001b[38;5;21;01mazure\u001b[39;00m \u001b[38;5;28;01mimport\u001b[39;00m QuantumRequest\n\u001b[0;32m      5\u001b[0m request \u001b[38;5;241m=\u001b[39m QuantumRequest(timesBlock)\n\u001b[0;32m      6\u001b[0m request\u001b[38;5;241m.\u001b[39mexecute()\n",
      "File \u001b[1;32m~\\AppData\\Local\\Envs\\d5o\\lib\\site-packages\\dann5\\azure.py:9\u001b[0m\n\u001b[0;32m      7\u001b[0m \u001b[38;5;66;03m# Take an array of container weights and return a Problem object that represents the cost function\u001b[39;00m\n\u001b[0;32m      8\u001b[0m \u001b[38;5;28;01mfrom\u001b[39;00m \u001b[38;5;21;01mtyping\u001b[39;00m \u001b[38;5;28;01mimport\u001b[39;00m List\n\u001b[1;32m----> 9\u001b[0m \u001b[38;5;28;01mfrom\u001b[39;00m \u001b[38;5;21;01mazure\u001b[39;00m\u001b[38;5;21;01m.\u001b[39;00m\u001b[38;5;21;01mquantum\u001b[39;00m\u001b[38;5;21;01m.\u001b[39;00m\u001b[38;5;21;01moptimization\u001b[39;00m \u001b[38;5;28;01mimport\u001b[39;00m Problem, ProblemType, Term\n\u001b[0;32m     11\u001b[0m \u001b[38;5;66;03m# Submit problem to Azure Quantum using the ParallelTempering solver:\u001b[39;00m\n\u001b[0;32m     12\u001b[0m \u001b[38;5;28;01mfrom\u001b[39;00m \u001b[38;5;21;01mazure\u001b[39;00m\u001b[38;5;21;01m.\u001b[39;00m\u001b[38;5;21;01mquantum\u001b[39;00m\u001b[38;5;21;01m.\u001b[39;00m\u001b[38;5;21;01moptimization\u001b[39;00m \u001b[38;5;28;01mimport\u001b[39;00m ParallelTempering\n",
      "\u001b[1;31mModuleNotFoundError\u001b[0m: No module named 'azure.quantum.optimization'"
     ]
    }
   ],
   "source": [
    "timesBlock.reset()\n",
    "\n",
    "from dann5.azure import QuantumRequest\n",
    "\n",
    "request = QuantumRequest(timesBlock)\n",
    "request.execute()\n",
    "print(\"\\nAzure Quantum solutions: \\n{}\".format(timesBlock.solutions()))"
   ]
  },
  {
   "cell_type": "code",
   "execution_count": null,
   "id": "18d62da9",
   "metadata": {},
   "outputs": [],
   "source": []
  }
 ],
 "metadata": {
  "kernelspec": {
   "display_name": "Python 3 (ipykernel)",
   "language": "python",
   "name": "python3"
  },
  "language_info": {
   "codemirror_mode": {
    "name": "ipython",
    "version": 3
   },
   "file_extension": ".py",
   "mimetype": "text/x-python",
   "name": "python",
   "nbconvert_exporter": "python",
   "pygments_lexer": "ipython3",
   "version": "3.10.4"
  }
 },
 "nbformat": 4,
 "nbformat_minor": 5
}
