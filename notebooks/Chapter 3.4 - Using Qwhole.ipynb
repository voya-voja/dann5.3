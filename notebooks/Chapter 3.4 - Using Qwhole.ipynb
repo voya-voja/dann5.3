{
 "cells": [
  {
   "cell_type": "markdown",
   "id": "d28b31dc",
   "metadata": {},
   "source": [
    "# Chapter 3.4 - Finding Product Factors and Prime Numbers using Qwhole\n",
    "\n",
    "In this chapter we  will see how to apply Qwhole and quantum expressions to solve mathematical problems that would take classical computers long amounts of time to solve."
   ]
  },
  {
   "cell_type": "markdown",
   "id": "34124324",
   "metadata": {},
   "source": [
    "## Factorial\n",
    "\n",
    "In the [Leap factoring demo] (https://github.com/dwave-examples/factoring) based on [\"Boosting integer factoring performance via quantum annealing osets\"](https://www.dwavesys.com/media/l0tjzis2/14-1002a_b_tr_boosting_integer_factorization_via_quantum_annealing_offsets.pdf) paper, the D-Wave system can be used to factor a whole number by running a multiplication circuit in reverse. The factoring demo shows how can be solved a [constraint satisfaction problem (CSP)]( https://docs.ocean.dwavesys.com/en/stable/concepts/csp.html) on a QAC. \n",
    "\n",
    "The quantum programming allow us to factor numbers in an entirely new way, by turning a multiplication operation into a constraint satisfaction problem that allows the quantum solver to compute inputs from a predefined output. To see this in action we will use unknown Qwhole variables p, q and r to calculate factors of positive number 42."
   ]
  },
  {
   "cell_type": "code",
   "execution_count": 6,
   "id": "880ebfe1",
   "metadata": {},
   "outputs": [
    {
     "name": "stdout",
     "output_type": "stream",
     "text": [
      "p\\3q:U\\ q\\2q:U\\ r\\2q:U\\\n"
     ]
    }
   ],
   "source": [
    "_42 = Qwhole(\"42_\", 42); p = Qwhole(3, \"p\"); q = Qwhole(2, \"q\"); r = Qwhole(2, \"r\");\n",
    "print(p, q, r)"
   ]
  },
  {
   "cell_type": "markdown",
   "id": "b1479c69",
   "metadata": {},
   "source": [
    "The constraint satisfaction problem is defined by quantum assignment *m42* in the code cell below.\n",
    "\n",
    "From the solutions we see that there are two possible combinations of multiplying numbers 7, 3, and 2 distributed amongst quantum variables *p*, *q* and *r* according to their defined capacities."
   ]
  },
  {
   "cell_type": "code",
   "execution_count": 7,
   "id": "b2ac3719",
   "metadata": {},
   "outputs": [
    {
     "name": "stdout",
     "output_type": "stream",
     "text": [
      "42_\\7b:42\\; _*1\\5b:21\\; p\\3b:7\\; q\\2b:3\\; r\\2b:2\\\n",
      "42_\\7b:42\\; _*1\\5b:14\\; p\\3b:7\\; q\\2b:2\\; r\\2b:3\\\n",
      "\n"
     ]
    }
   ],
   "source": [
    "m42 = _42.assign(p * q * r);\n",
    "print(m42.solve())"
   ]
  },
  {
   "cell_type": "markdown",
   "id": "11aeaabf",
   "metadata": {},
   "source": [
    "We can use D-Wave's *Hybrid* solver, to solve a complex factorial problem with increased number of q-bits, like in the following example."
   ]
  },
  {
   "cell_type": "code",
   "execution_count": 8,
   "id": "c3c1ad5c",
   "metadata": {},
   "outputs": [
    {
     "name": "stdout",
     "output_type": "stream",
     "text": [
      "p\\8q:U\\ q\\8q:U\\\n",
      "CONNECTED to hybrid_binary_quadratic_model_version2.\n",
      "M\\16q:2775\\ = (p\\8q:U\\ * q\\8q:U\\)\n",
      "M\\16b:2775\\; p\\8b:37\\; q\\8b:75\\\n",
      "\n"
     ]
    }
   ],
   "source": [
    "Ml = Qwhole(\"M\", 2775); pl = Qwhole(8, \"p\"); ql = Qwhole(8, \"q\");\n",
    "print(pl, ql)\n",
    "\n",
    "mMl = Ml.assign(pl * ql);\n",
    "\n",
    "Solver.Activate(\"Hybrid\")\n",
    "\n",
    "print(mMl)\n",
    "print(mMl.solve())"
   ]
  },
  {
   "cell_type": "code",
   "execution_count": 9,
   "id": "76796bd7",
   "metadata": {},
   "outputs": [
    {
     "name": "stdout",
     "output_type": "stream",
     "text": [
      "p\\8q:U\\ q\\8q:U\\ r\\8q:U\\\n",
      "X\\24q:369075\\ = ((p\\8q:U\\ * q\\8q:U\\) * r\\8q:U\\)\n",
      "X\\24b:369075\\; _*4\\16b:13625\\; p\\8b:125\\; q\\8b:109\\; r\\8b:75\\\n",
      "\n"
     ]
    }
   ],
   "source": [
    "Xl = Qwhole(\"X\", 369075); rl = Qwhole(8, \"r\");\n",
    "print(pl, ql, rl)\n",
    "\n",
    "mXl = Xl.assign(pl * ql * rl);\n",
    "\n",
    "print(mXl)\n",
    "print(mXl.solve())"
   ]
  },
  {
   "cell_type": "markdown",
   "id": "f9114c53",
   "metadata": {},
   "source": [
    "## Prime Numbers\n",
    "\n",
    "We are going to study two different approaches to generate prime number candidates using quantum programming:\n",
    "1. Prime numbers algorithms [within 1 of a multiple of 6](https://owlcation.com/stem/Every-Prime-Number-Larger-Than-3-is-1-Away-From-a-Multiple-of-6-A-Proof)\n",
    "2. [The Triangular Theorem of the Primes](https://www.researchgate.net/publication/48210741_The_Triangular_Theorem_of_the_Primes_Binary_Quadratic_Forms_andPrimitive_Pythagorean_Triples) algoriths\n",
    "\n",
    "### Prime numbers algorithms [within 1 of a Multiple of 6](https://owlcation.com/stem/Every-Prime-Number-Larger-Than-3-is-1-Away-From-a-Multiple-of-6-A-Proof)\n",
    "\n",
    "Likely prime number, except 2 and 3, can be defined as:\n",
    "\n",
    "> prime_candidate = 6 * n +/- 1; where n > 0 and n is a whole number\n",
    "\n",
    "The solution set of quantum assignment *prime6p1* in the following code cell has numbers identified 1, 7, 13 and 19 as prime number candidates. Except for 1all the identified candidates are prime numbers."
   ]
  },
  {
   "cell_type": "code",
   "execution_count": 10,
   "id": "80d72f6a",
   "metadata": {},
   "outputs": [
    {
     "name": "stdout",
     "output_type": "stream",
     "text": [
      "p\\6q:U\\ = ((6_\\3q:6\\ * s\\2q:U\\) + 1_\\1q:1\\)\n",
      "p\\6b:1\\; _*6\\5b:0\\; 6_\\3b:6\\; s\\2b:0\\; 1_\\1b:1\\\n",
      "p\\6b:13\\; _*6\\5b:12\\; 6_\\3b:6\\; s\\2b:2\\; 1_\\1b:1\\\n",
      "p\\6b:7\\; _*6\\5b:6\\; 6_\\3b:6\\; s\\2b:1\\; 1_\\1b:1\\\n",
      "p\\6b:19\\; _*6\\5b:18\\; 6_\\3b:6\\; s\\2b:3\\; 1_\\1b:1\\\n",
      "\n"
     ]
    }
   ],
   "source": [
    "prime = Qwhole(4, \"p\"); s = Qwhole(2, \"s\"); _6 = Qwhole(\"6_\", 6);\n",
    "prime6p1 = prime.assign(_6 * s + _1)\n",
    "\n",
    "print(prime6p1)\n",
    "\n",
    "Solver.Activate(\"dann5\")\n",
    "print(prime6p1.solve())"
   ]
  },
  {
   "cell_type": "markdown",
   "id": "32683772",
   "metadata": {},
   "source": [
    "Additionally, the quantum subtraction assignment *prime6m1* defined in the following cell will identify prime numbers 5 and 11."
   ]
  },
  {
   "cell_type": "code",
   "execution_count": 11,
   "id": "20dcb16d",
   "metadata": {
    "scrolled": true
   },
   "outputs": [
    {
     "name": "stdout",
     "output_type": "stream",
     "text": [
      "p\\4q:U\\ = ((6_\\3q:6\\ * s\\2q:U\\) - 1_\\1q:1\\)\n",
      "_*70\\0\\ == ;\n",
      " _*70\\0\\ = 6_0\\0\\ & s0\\S\\ = p0\\S\\ .+ 1_0\\1\\;\n",
      " \n",
      "p\\4b:0\\; _*7\\5b:0\\; 6_\\3b:6\\; s\\2b:0\\; 1_\\1b:1\\\n",
      "p\\4b:7\\; _*7\\5b:0\\; 6_\\3b:6\\; s\\2b:0\\; 1_\\1b:1\\\n",
      "\n"
     ]
    }
   ],
   "source": [
    "prime6m1 = prime.assign(_6 * s - _1)\n",
    "\n",
    "print(prime6m1)\n",
    "print(prime6m1.toString(True).replace(\";\", \";\\n\"))\n",
    "\n",
    "print(prime6m1.solve())"
   ]
  },
  {
   "cell_type": "markdown",
   "id": "a7d1deb9",
   "metadata": {},
   "source": [
    "- **Note**: Instead of the above *Qwole* substruction assignment *prime6m1* we can define an equivalent quantum expression *prime6m1Xpr* by using *EQUAL (==)* operator and *addition (+)* operations, as shown in the following code cell."
   ]
  },
  {
   "cell_type": "code",
   "execution_count": 12,
   "id": "97fdb341",
   "metadata": {
    "scrolled": true
   },
   "outputs": [
    {
     "name": "stdout",
     "output_type": "stream",
     "text": [
      "_+224\\5b:6\\; p\\4b:5\\; 1_\\1b:1\\; _*8\\5b:6\\; 6_\\3b:6\\; s\\2b:1\\\n",
      "_+224\\5b:12\\; p\\4b:11\\; 1_\\1b:1\\; _*8\\5b:12\\; 6_\\3b:6\\; s\\2b:2\\\n",
      "\n"
     ]
    }
   ],
   "source": [
    "prime6m1Xpr = (prime + _1 == _6 * s)\n",
    "\n",
    "print(prime6m1Xpr.solve())"
   ]
  },
  {
   "attachments": {
    "image-3.png": {
     "image/png": "[encoded data removed]"
    },
    "image-4.png": {
     "image/png": "[encoded data removed]"
    }
   },
   "cell_type": "markdown",
   "id": "a797fe57",
   "metadata": {},
   "source": [
    "### Prime numbers algorithms based on [The Triangular Theorem of the Primes](https://www.researchgate.net/publication/48210741_The_Triangular_Theorem_of_the_Primes_Binary_Quadratic_Forms_andPrimitive_Pythagorean_Triples)\n",
    "\n",
    "![image-3.png](attachment:image-3.png)\n",
    "\n",
    "The binary quadratic forms of primitive Pythagorean triples is derived based on the diagram above and the prof and analysis are provided in \"The Triangular Theorem of the Primes\" paper. In short:\n",
    "1. The hypotenuse, z, of a right triangle, with sides of integral (relatively prime) length, can be expressed as the sum of two squares, z=a^2+b^2, where a and b are positive integers of opposite parity such that a>b>0 and gcd(a,b)=1, \n",
    "2. Also, it has been shown that the sum of the two sides, x and y, can also be expressed as a binary quadratic form, x+y=(a+b)^2-2b^2. \n",
    "3. Similarly, when the radius of the inscribed circle is taken into account, r=b(a-b), a third binary quadratic form is found, namely (x+y)-4r=z-2r=(a-b)^2+2b^2. \n",
    "\n",
    "The three quadratic representations accommodate positive integers whose factorizations can only include primes p represented by the same type of binary quadratic forms, i.e. p=1,5(mod8), p=1,7(mod8), and p=1,3(mod8), respectively. For all three types of binary quadratic forms, when the positive integers represented are prime, such representations are unique. This implies that all odd primes can be geometrically incorporated into primitive Pythagorean triangles.\n",
    "\n",
    "![image-4.png](attachment:image-4.png)\n",
    "\n",
    "From the graphic representation of *The Triangular Theorem of the Primes* above, the paper defines follwing six binary quadratic forms:\n",
    "\n",
    "$$\n",
    " prime = s^{2} + 2t^{2}, prime\\ mod\\ 8 = 3 \n",
    "$$\n",
    "\n",
    "$$\n",
    " prime = s^{2} + 4t^{2}, prime\\ mod\\ 8 = 5\n",
    "$$\n",
    "\n",
    "$$\n",
    " prime = s^{2} + 8t^{2}, prime\\ mod\\ 8 = 1\n",
    "$$\n",
    "\n",
    "$$\n",
    " prime = s^{2} + 16t^{2}, prime\\ mod\\ 8 = 1\n",
    "$$\n",
    "\n",
    "$$\n",
    " prime = s^{2} + 4st + 2t^{2}, prime\\ mod\\ 8 = 7\n",
    "$$\n",
    "\n",
    "$$\n",
    " prime = s^{2} + 8st + 8t^{2}, prime\\ mod\\ 8 = 1\n",
    "$$\n",
    "\n",
    "> where for each of the equations above\n",
    ">\n",
    "> 1. *s* and *t* are odd positive numbers, and \n",
    "> \n",
    "> 2. they do not have a common factor, i.e. thier *greatest common divisor (gcd)* is 1.\n",
    "\n",
    "In the next code cell we are going to initialize quantum variables which will be used to define and solve the six equations with their respective conditions:"
   ]
  },
  {
   "cell_type": "code",
   "execution_count": 13,
   "id": "d7999a39",
   "metadata": {},
   "outputs": [],
   "source": [
    "from dann5.d5 import Qblock, Qbin, Bits\n",
    "\n",
    "prime = Qwhole(5, \"p\"); s = Qwhole(2, \"s\"); t = Qwhole(1, \"t\"); _2 = Qwhole(\"2_\", 2);\n",
    "_3 = Qbin(\"3_\", Bits(3)); _7 = Qbin(\"7_\", Bits(7));"
   ]
  },
  {
   "cell_type": "markdown",
   "id": "3894b3a7",
   "metadata": {},
   "source": [
    "The first equation:\n",
    "\n",
    "$$\n",
    " prime = s^{2} + 2t^{2}\n",
    "$$\n",
    "\n",
    "is easly described using quantum assignment *p_s2_2t2* in the following code cell:"
   ]
  },
  {
   "cell_type": "code",
   "execution_count": 14,
   "id": "0e030c34",
   "metadata": {},
   "outputs": [
    {
     "name": "stdout",
     "output_type": "stream",
     "text": [
      "p\\5q:U\\ = ((s\\2q:U\\ * s\\2q:U\\) + ((2_\\2q:2\\ * t\\1q:U\\) * t\\1q:U\\))\n"
     ]
    }
   ],
   "source": [
    "p_s2_2t2 = prime.assign(s * s + _2 * t * t);\n",
    "print(p_s2_2t2)"
   ]
  },
  {
   "cell_type": "markdown",
   "id": "bb8b10be",
   "metadata": {},
   "source": [
    "To define the condition:\n",
    "$$\n",
    " prime\\ mod\\ 8 = 3 \n",
    "$$\n",
    "\n",
    "We are going to take advantage of the fact that any number divided by 8 will have in binary the last 3 digits same as its module.\n",
    "\n",
    "> 8 binary is 0b1000, and the last 3 digits are 0b000 as its mod 8,\n",
    ">\n",
    "> 21 binary is 0b10101 with 0b101 or number 5, i.e. 12 mod 8 = 5\n",
    ">\n",
    "> 27 binary is 0b11011 with last 3 digits being 0b011, and 27 mod 8 is = 3\n",
    "\n",
    "Knowing this, it is easy to define using *AND (&)* quantum bitwise operations in quantum assignment *p3mod8* in the following code cell:"
   ]
  },
  {
   "cell_type": "code",
   "execution_count": 15,
   "id": "d423d7bd",
   "metadata": {},
   "outputs": [
    {
     "name": "stdout",
     "output_type": "stream",
     "text": [
      "3_\\5q:00011\\ = (p\\5q:U\\ & 7_\\3q:111\\)\n"
     ]
    }
   ],
   "source": [
    "p3mod8 = _3.assign(prime & _7);\n",
    "print(p3mod8)"
   ]
  },
  {
   "cell_type": "markdown",
   "id": "ab1aff69",
   "metadata": {},
   "source": [
    "For positive numbers *s* and *t* to be odd means that:\n",
    "$$\n",
    " s\\ mod\\ 2 = 1\n",
    "$$\n",
    "and \n",
    "$$\n",
    " t\\ mod\\ 2 = 1\n",
    "$$\n",
    "\n",
    "Knowing that any odd number in binarry form will have the 0 digit equal 1, we are defining these rules as quantum assignments *s1mod2* and *t1mod2* in the code cell below again using *AND (&)* quantum bitwise operation:"
   ]
  },
  {
   "cell_type": "code",
   "execution_count": 16,
   "id": "f16224b0",
   "metadata": {},
   "outputs": [
    {
     "name": "stdout",
     "output_type": "stream",
     "text": [
      "1_\\2q:01\\ = (s\\2q:U\\ & 1_\\1q:1\\) \n",
      " 1_\\1q:1\\ = (t\\1q:U\\ & 1_\\1q:1\\)\n"
     ]
    }
   ],
   "source": [
    "s1mod2 = Qbin(_1).assign(s & _1);\n",
    "t1mod2 = Qbin(_1).assign(t & _1);\n",
    "print(s1mod2, \"\\n\", t1mod2)"
   ]
  },
  {
   "cell_type": "markdown",
   "id": "cd6aaf26",
   "metadata": {},
   "source": [
    "For two positive numbers *s* and *t* not to have a common factor means that there are tree positive numbers *d*, *k* and *n*, such that:\n",
    "\n",
    "> s = k * d, and\n",
    ">\n",
    "> t = n * d,, where\n",
    ">\n",
    "> d always have to be 1, and k is not equal n\n",
    "\n",
    "So to define *gcd(s, t) = 1* rule we are using a quantum routine *gcd1* to describe it in the following code cell. The *Qrouine* allow as to name a block of quantum code."
   ]
  },
  {
   "cell_type": "code",
   "execution_count": 17,
   "id": "1a03dd59",
   "metadata": {},
   "outputs": [
    {
     "name": "stdout",
     "output_type": "stream",
     "text": [
      "gcd(s, t) = 1 : {\n",
      "\ts\\4q:U\\ = (k\\2q:U\\ * d\\2q:U\\);\n",
      "\tt\\3q:U\\ = (n\\1q:U\\ * d\\2q:U\\);\n",
      "\t(d\\2q:U\\ == 1_\\1q:1\\);\n",
      "\t(k\\3q:U\\ != n\\3q:U\\);\n",
      "}\n",
      " s\\4b:2\\; k\\2b:2\\; d\\2b:1\\ t\\3b:0\\; n\\1b:0\\; d\\2b:1\\ d\\2b:1\\; 1_\\1b:1\\ k\\2b:2\\ n\\1b:0\\ \n",
      " s\\4b:3\\; k\\2b:3\\; d\\2b:1\\ t\\3b:1\\; n\\1b:1\\; d\\2b:1\\ d\\2b:1\\; 1_\\1b:1\\ k\\2b:3\\ n\\1b:1\\ \n",
      " s\\4b:1\\; k\\2b:1\\; d\\2b:1\\ t\\3b:0\\; n\\1b:0\\; d\\2b:1\\ d\\2b:1\\; 1_\\1b:1\\ k\\2b:1\\ n\\1b:0\\ \n",
      " s\\4b:3\\; k\\2b:3\\; d\\2b:1\\ t\\3b:0\\; n\\1b:0\\; d\\2b:1\\ d\\2b:1\\; 1_\\1b:1\\ k\\2b:3\\ n\\1b:0\\ \n",
      " s\\4b:2\\; k\\2b:2\\; d\\2b:1\\ t\\3b:1\\; n\\1b:1\\; d\\2b:1\\ d\\2b:1\\; 1_\\1b:1\\ k\\2b:2\\ n\\1b:1\\ \n",
      " s\\4b:0\\; k\\2b:0\\; d\\2b:1\\ t\\3b:1\\; n\\1b:1\\; d\\2b:1\\ d\\2b:1\\; 1_\\1b:1\\ k\\2b:0\\ n\\1b:1\\ \n",
      "\n"
     ]
    }
   ],
   "source": [
    "from dann5.d5 import Qroutine\n",
    "gcd1 = Qroutine(\"gcd(s, t) = 1\"); # {\n",
    "d = Qwhole(2, \"d\"); k = Qwhole(2, \"k\"); n = Qwhole(1, \"n\");\n",
    "gcd1 = gcd1 << s.assign(k * d) << t.assign(n * d) << (d == _1) << (k != n);\n",
    "# } gcd(s, t) = 1\n",
    "\n",
    "print(gcd1)\n",
    "print(gcd1.solve())"
   ]
  },
  {
   "cell_type": "markdown",
   "id": "21ded0a8",
   "metadata": {},
   "source": [
    "To find the valid solutions for the first binary quadratic form based on *The Triangular Theorem of the Primes*, we have to put together all the described quantum assignments and quantum block together into a quantum program that is described by *primeNo*, which is a quantum block. To solve the quantum program, we are using D-Wave quantum annealer *Advatage2*."
   ]
  },
  {
   "cell_type": "code",
   "execution_count": 19,
   "id": "7635ac76",
   "metadata": {},
   "outputs": [
    {
     "name": "stdout",
     "output_type": "stream",
     "text": [
      "number of nodes: 37, number of branches: 90\n",
      "{\n",
      "\tp\\5q:U\\ = ((s\\2q:U\\ * s\\2q:U\\) + ((2_\\2q:2\\ * t\\1q:U\\) * t\\1q:U\\));\n",
      "\t3_\\5q:00011\\ = (p\\5q:U\\ & 7_\\3q:111\\);\n",
      "\t1_\\2q:01\\ = (s\\2q:U\\ & 1_\\1q:1\\);\n",
      "\t1_\\1q:1\\ = (t\\1q:U\\ & 1_\\1q:1\\);\n",
      "\tgcd(s, t) = 1 : {\n",
      "\ts\\4q:U\\ = (k\\2q:U\\ * d\\2q:U\\);\n",
      "\tt\\3q:U\\ = (n\\1q:U\\ * d\\2q:U\\);\n",
      "\t(d\\2q:U\\ == 1_\\1q:1\\);\n",
      "\t(k\\3q:U\\ != n\\3q:U\\);\n",
      "};\n",
      "}\n",
      "CONNECTED to Advantage2_prototype2.3.\n",
      " p\\5b:11\\; _*9\\4b:9\\; s\\2b:3\\; s\\2b:3\\; _*11\\4b:2\\; _*10\\3b:2\\; 2_\\2b:2\\; t\\1b:1\\; t\\1b:1\\ 3_\\5b:00011\\; p\\5b:11\\; 7_\\3b:111\\ 1_\\2b:01\\; s\\2b:3\\; 1_\\1b:1\\ 1_\\1b:1\\; t\\1b:1\\; 1_\\1b:1\\ \n",
      "\n"
     ]
    }
   ],
   "source": [
    "primeNo = Qblock() << p_s2_2t2 << p3mod8 << s1mod2 << t1mod2 << gcd1;\n",
    "\n",
    "from dann5.d5o import QuboCompiler, QuboAnalyzer\n",
    "compiler = QuboCompiler()\n",
    "primeNo.compile(compiler)\n",
    "analyze = QuboAnalyzer(compiler.qubo())\n",
    "print(\"number of nodes: {}, number of branches: {}\".format(analyze.nodesNo(), analyze.branchesNo()))\n",
    "\n",
    "\n",
    "print(primeNo)\n",
    "\n",
    "Solver.Activate(\"Advantage2\")\n",
    "print(primeNo.solve())"
   ]
  },
  {
   "cell_type": "markdown",
   "id": "f5997160",
   "metadata": {},
   "source": [
    "The second equation:\n",
    "\n",
    "$$\n",
    " prime = s^{2} + 4t^{2}\n",
    "$$\n",
    "\n",
    "is defined using quantum assignment *p_s2_4t2*, and the condition:\n",
    "\n",
    "$$\n",
    " prime\\ mod\\ 8 = 5 \n",
    "$$\n",
    "\n",
    "is defined using *p5mod8* quantum assignment in the following code cell:"
   ]
  },
  {
   "cell_type": "code",
   "execution_count": 20,
   "id": "e440dc6a",
   "metadata": {},
   "outputs": [
    {
     "name": "stdout",
     "output_type": "stream",
     "text": [
      "{\n",
      "\tp\\6q:U\\ = ((s\\2q:U\\ * s\\2q:U\\) + ((4_\\3q:4\\ * t\\1q:U\\) * t\\1q:U\\));\n",
      "\t5_\\5q:00101\\ = (p\\5q:U\\ & 7_\\3q:111\\);\n",
      "\t1_\\2q:01\\ = (s\\2q:U\\ & 1_\\1q:1\\);\n",
      "\t1_\\1q:1\\ = (t\\1q:U\\ & 1_\\1q:1\\);\n",
      "\tgcd(s, t) = 1 : {\n",
      "\ts\\4q:U\\ = (k\\2q:U\\ * d\\2q:U\\);\n",
      "\tt\\3q:U\\ = (n\\1q:U\\ * d\\2q:U\\);\n",
      "\t(d\\2q:U\\ == 1_\\1q:1\\);\n",
      "\t(k\\3q:U\\ != n\\3q:U\\);\n",
      "};\n",
      "}\n",
      " p\\6b:13\\; _*14\\4b:9\\; s\\2b:3\\; s\\2b:3\\; _*16\\5b:4\\; _*15\\4b:4\\; 4_\\3b:4\\; t\\1b:1\\; t\\1b:1\\ 5_\\5b:00101\\; p\\5b:13\\; 7_\\3b:111\\ 1_\\2b:01\\; s\\2b:3\\; 1_\\1b:1\\ 1_\\1b:1\\; t\\1b:1\\; 1_\\1b:1\\ \n",
      "\n"
     ]
    }
   ],
   "source": [
    "_4 = Qwhole(\"4_\", 4);\n",
    "\n",
    "primeNo = Qblock(); #{\n",
    "_5 = Qbin(\"5_\", Bits(5));\n",
    "p_s2_4t2 = prime.assign(s * s + _4 * t * t);\n",
    "p5mod8 = _5.assign(prime & _7);\n",
    "\n",
    "primeNo = primeNo << p_s2_4t2 << p5mod8 << s1mod2 << t1mod2 << gcd1;\n",
    "# } primeNo Qblock\n",
    "print(primeNo)\n",
    "print(primeNo.solve())"
   ]
  },
  {
   "cell_type": "markdown",
   "id": "7100552b",
   "metadata": {},
   "source": [
    "The third equation:\n",
    "\n",
    "$$\n",
    " prime = s^{2} + 8t^{2}\n",
    "$$\n",
    "\n",
    "is defined using quantum assignment *p_s2_8t2*, and the condition:\n",
    "\n",
    "$$\n",
    " prime\\ mod\\ 8 = 1 \n",
    "$$\n",
    "\n",
    "is defined using *p1mod8* quantum assignment in the following code cell:"
   ]
  },
  {
   "cell_type": "code",
   "execution_count": 21,
   "id": "a27a4dfb",
   "metadata": {},
   "outputs": [
    {
     "name": "stdout",
     "output_type": "stream",
     "text": [
      "{\n",
      "\tp\\7q:U\\ = ((s\\2q:U\\ * s\\2q:U\\) + ((8_\\4q:8\\ * t\\1q:U\\) * t\\1q:U\\));\n",
      "\t1_\\5q:00001\\ = (p\\5q:U\\ & 7_\\3q:111\\);\n",
      "\t1_\\2q:01\\ = (s\\2q:U\\ & 1_\\1q:1\\);\n",
      "\t1_\\1q:1\\ = (t\\1q:U\\ & 1_\\1q:1\\);\n",
      "\tgcd(s, t) = 1 : {\n",
      "\ts\\4q:U\\ = (k\\2q:U\\ * d\\2q:U\\);\n",
      "\tt\\3q:U\\ = (n\\1q:U\\ * d\\2q:U\\);\n",
      "\t(d\\2q:U\\ == 1_\\1q:1\\);\n",
      "\t(k\\3q:U\\ != n\\3q:U\\);\n",
      "};\n",
      "}\n",
      " p\\7b:17\\; _*17\\4b:9\\; s\\2b:3\\; s\\2b:3\\; _*19\\6b:8\\; _*18\\5b:8\\; 8_\\4b:8\\; t\\1b:1\\; t\\1b:1\\ 1_\\5b:00001\\; p\\5b:17\\; 7_\\3b:111\\ 1_\\2b:01\\; s\\2b:3\\; 1_\\1b:1\\ 1_\\1b:1\\; t\\1b:1\\; 1_\\1b:1\\ \n",
      "\n"
     ]
    }
   ],
   "source": [
    "_8 = Qwhole(\"8_\", 8);\n",
    "\n",
    "primeNo = Qblock(); #{\n",
    "p_s2_8t2 = prime.assign(s * s + _8 * t * t);\n",
    "p1mod8 = Qbin(_1).assign(prime & _7);\n",
    "\n",
    "primeNo = primeNo << p_s2_8t2 << p1mod8 << s1mod2 << t1mod2 << gcd1;\n",
    "# } primeNo Qblock\n",
    "print(primeNo)\n",
    "print(primeNo.solve())"
   ]
  },
  {
   "cell_type": "markdown",
   "id": "381f0df7",
   "metadata": {},
   "source": [
    "The forth equation:\n",
    "\n",
    "$$\n",
    " prime = s^{2} + 16t^{2}\n",
    "$$\n",
    "\n",
    "is defined using quantum assignment *p_s2_16t2*, and the previously defined *p1mod8* quantum assignment is used in the following code cell:"
   ]
  },
  {
   "cell_type": "code",
   "execution_count": 22,
   "id": "84b006f5",
   "metadata": {},
   "outputs": [
    {
     "name": "stdout",
     "output_type": "stream",
     "text": [
      "{\n",
      "\tp\\8q:U\\ = ((s\\2q:U\\ * s\\2q:U\\) + ((16_\\5q:16\\ * t\\1q:U\\) * t\\1q:U\\));\n",
      "\t1_\\5q:00001\\ = (p\\5q:U\\ & 7_\\3q:111\\);\n",
      "\t1_\\2q:01\\ = (s\\2q:U\\ & 1_\\1q:1\\);\n",
      "\t1_\\1q:1\\ = (t\\1q:U\\ & 1_\\1q:1\\);\n",
      "\tgcd(s, t) = 1 : {\n",
      "\ts\\4q:U\\ = (k\\2q:U\\ * d\\2q:U\\);\n",
      "\tt\\3q:U\\ = (n\\1q:U\\ * d\\2q:U\\);\n",
      "\t(d\\2q:U\\ == 1_\\1q:1\\);\n",
      "\t(k\\3q:U\\ != n\\3q:U\\);\n",
      "};\n",
      "}\n",
      " p\\8b:25\\; _*20\\4b:9\\; s\\2b:3\\; s\\2b:3\\; _*22\\7b:16\\; _*21\\6b:16\\; 16_\\5b:16\\; t\\1b:1\\; t\\1b:1\\ 1_\\5b:00001\\; p\\5b:17\\; 7_\\3b:111\\ 1_\\2b:01\\; s\\2b:3\\; 1_\\1b:1\\ 1_\\1b:1\\; t\\1b:1\\; 1_\\1b:1\\ \n",
      "\n"
     ]
    }
   ],
   "source": [
    "_16 = Qwhole(\"16_\", 16);\n",
    "\n",
    "primeNo = Qblock(); #{\n",
    "p_s2_16t2 = prime.assign(s * s + _16 * t * t);\n",
    "\n",
    "primeNo = primeNo << p_s2_16t2 << p1mod8 << s1mod2 << t1mod2 << gcd1;\n",
    "# } primeNo Qblock\n",
    "print(primeNo)\n",
    "print(primeNo.solve())"
   ]
  },
  {
   "cell_type": "markdown",
   "id": "b72acbfa",
   "metadata": {},
   "source": [
    "The fifth equation:\n",
    "\n",
    "$$\n",
    " prime = s^{2} + 4st + 2t^{2}\n",
    "$$\n",
    "\n",
    "is defined using quantum assignment *p_s2_4st_2t2*, and the condition:\n",
    "\n",
    "$$\n",
    " prime\\ mod\\ 8 = 7 \n",
    "$$\n",
    "\n",
    "is defined using *p7mod8* quantum assignment in the following code cell:"
   ]
  },
  {
   "cell_type": "code",
   "execution_count": 23,
   "id": "bd4a25f7",
   "metadata": {},
   "outputs": [
    {
     "name": "stdout",
     "output_type": "stream",
     "text": [
      "{\n",
      "\tp\\7q:U\\ = (((s\\2q:U\\ * s\\2q:U\\) + ((4_\\3q:4\\ * s\\2q:U\\) * t\\1q:U\\)) + ((2_\\2q:2\\ * t\\1q:U\\) * t\\1q:U\\));\n",
      "\t7_\\5q:00111\\ = (p\\5q:U\\ & 7_\\3q:111\\);\n",
      "\t1_\\2q:01\\ = (s\\2q:U\\ & 1_\\1q:1\\);\n",
      "\t1_\\1q:1\\ = (t\\1q:U\\ & 1_\\1q:1\\);\n",
      "\tgcd(s, t) = 1 : {\n",
      "\ts\\4q:U\\ = (k\\2q:U\\ * d\\2q:U\\);\n",
      "\tt\\3q:U\\ = (n\\1q:U\\ * d\\2q:U\\);\n",
      "\t(d\\2q:U\\ == 1_\\1q:1\\);\n",
      "\t(k\\3q:U\\ != n\\3q:U\\);\n",
      "};\n",
      "}\n",
      " p\\7b:23\\; _+244\\7b:117\\; _*23\\4b:9\\; s\\2b:3\\; s\\2b:3\\; _*25\\6b:12\\; _*24\\5b:12\\; 4_\\3b:4\\; s\\2b:3\\; t\\1b:1\\; _*27\\4b:2\\; _*26\\3b:2\\; 2_\\2b:2\\; t\\1b:1\\; t\\1b:1\\ 7_\\5b:00111\\; p\\5b:23\\; 7_\\3b:111\\ 1_\\2b:01\\; s\\2b:3\\; 1_\\1b:1\\ 1_\\1b:1\\; t\\1b:1\\; 1_\\1b:1\\ \n",
      "\n"
     ]
    }
   ],
   "source": [
    "primeNo = Qblock(); #{\n",
    "p_s2_4st_2t2 = prime.assign(s * s + _4 * s * t + _2 * t * t);\n",
    "p7mod8 = Qbin(_7).assign(prime & _7);\n",
    "\n",
    "primeNo = primeNo << p_s2_4st_2t2 << p7mod8 << s1mod2 << t1mod2 << gcd1;\n",
    "# } primeNo Qblock\n",
    "print(primeNo)\n",
    "print(primeNo.solve())"
   ]
  },
  {
   "cell_type": "markdown",
   "id": "efcad7ff",
   "metadata": {},
   "source": [
    "And finally, the sixth equation:\n",
    "\n",
    "$$\n",
    " prime = s^{2} + 8st + 8t^{2}\n",
    "$$\n",
    "\n",
    "is defined using quantum assignment *p_s2_8st_8t2*, and we are reusing the previously defined *p1mod8* quantum assignment in the following code cell:"
   ]
  },
  {
   "cell_type": "code",
   "execution_count": 24,
   "id": "32c39dfe",
   "metadata": {},
   "outputs": [
    {
     "name": "stdout",
     "output_type": "stream",
     "text": [
      "{\n",
      "\tp\\8q:U\\ = (((s\\2q:U\\ * s\\2q:U\\) + ((8_\\4q:8\\ * s\\2q:U\\) * t\\1q:U\\)) + ((8_\\4q:8\\ * t\\1q:U\\) * t\\1q:U\\));\n",
      "\t1_\\5q:00001\\ = (p\\5q:U\\ & 7_\\3q:111\\);\n",
      "\t1_\\2q:01\\ = (s\\2q:U\\ & 1_\\1q:1\\);\n",
      "\t1_\\1q:1\\ = (t\\1q:U\\ & 1_\\1q:1\\);\n",
      "\tgcd(s, t) = 1 : {\n",
      "\ts\\4q:U\\ = (k\\2q:U\\ * d\\2q:U\\);\n",
      "\tt\\3q:U\\ = (n\\1q:U\\ * d\\2q:U\\);\n",
      "\t(d\\2q:U\\ == 1_\\1q:1\\);\n",
      "\t(k\\3q:U\\ != n\\3q:U\\);\n",
      "};\n",
      "}\n",
      " p\\8b:41\\; _+255\\8b:225\\; _*28\\4b:9\\; s\\2b:3\\; s\\2b:3\\; _*30\\7b:24\\; _*29\\6b:24\\; 8_\\4b:8\\; s\\2b:3\\; t\\1b:1\\; _*32\\6b:8\\; _*31\\5b:8\\; 8_\\4b:8\\; t\\1b:1\\; t\\1b:1\\ 1_\\5b:00001\\; p\\5b:17\\; 7_\\3b:111\\ 1_\\2b:01\\; s\\2b:3\\; 1_\\1b:1\\ 1_\\1b:1\\; t\\1b:1\\; 1_\\1b:1\\ \n",
      "\n"
     ]
    }
   ],
   "source": [
    "primeNo = Qblock(); #{\n",
    "p_s2_8st_8t2 = prime.assign(s * s + _8 * s * t + _8 * t * t);\n",
    "\n",
    "primeNo = primeNo << p_s2_8st_8t2 << p1mod8 << s1mod2 << t1mod2 << gcd1;\n",
    "# } primeNo Qblock\n",
    "print(primeNo)\n",
    "\n",
    "Solver.Activate(\"Advantage2\")\n",
    "\n",
    "print(primeNo.solve())"
   ]
  }
 ],
 "metadata": {
  "kernelspec": {
   "display_name": "Python 3 (ipykernel)",
   "language": "python",
   "name": "python3"
  },
  "language_info": {
   "codemirror_mode": {
    "name": "ipython",
    "version": 3
   },
   "file_extension": ".py",
   "mimetype": "text/x-python",
   "name": "python",
   "nbconvert_exporter": "python",
   "pygments_lexer": "ipython3",
   "version": "3.10.4"
  }
 },
 "nbformat": 4,
 "nbformat_minor": 5
}
