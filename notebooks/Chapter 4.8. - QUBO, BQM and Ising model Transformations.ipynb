{
 "cells": [
  {
   "cell_type": "markdown",
   "id": "f80d2cf6",
   "metadata": {},
   "source": [
    "# Chapter 4.9. - QUBO, BQM and Ising model Transformations\n",
    "\n",
    "> In this example the *qubo* is converted into DWave's BQM presentation of *mM assignment* and *hybrid.sample(...)* call is used to send the *bqm* to hybrid-sampler and to receive a sampleset, that is converted into a solution of mM assignment.  "
   ]
  },
  {
   "cell_type": "markdown",
   "id": "85b1e760",
   "metadata": {},
   "source": [
    "- **NOTE**: ... however, the hybrid sampler doesn't always return the same minimum.\n",
    "> In The following example the *qubo* is converted into DWave's BQM presentation of *sumAssignment* and *hybrid.sample(...)* call is used to send the *bqm* to hybrid-sampler and to receive a sampleset, which is a solution of the assignment.\n",
    "- **Note**: This example explains how dwave visualizes the qubo in their systems as a [binary-quadratic-model](https://docs.ocean.dwavesys.com/en/stable/concepts/bqm.html) (BQM). It will be discussed further in chapter 5 as an advanced features."
   ]
  },
  {
   "cell_type": "code",
   "execution_count": null,
   "id": "2834029e",
   "metadata": {},
   "outputs": [],
   "source": [
    "import dimod\n",
    "bqm = dimod.BQM.from_qubo(qubo)\n",
    "from dwave.system.samplers import LeapHybridSampler\n",
    "hybrid = LeapHybridSampler()\n",
    "sampleset = hybrid.sample(bqm)\n",
    "samples = [dict(sample) for sample in sampleset.lowest().samples()]\n",
    "\n",
    "#mM.reset(); mM.add(samples)\n",
    "print(\"DWave Hybrid-sampler BQM solutions: \\n{}\".format(samples))"
   ]
  },
  {
   "cell_type": "code",
   "execution_count": null,
   "id": "67c3e603",
   "metadata": {},
   "outputs": [],
   "source": [
    "# reference chapter 0 to see code leading up to this point\n",
    "import dimod\n",
    "bqm = dimod.BQM.from_qubo(qubo)\n",
    "sampleset = hybrid.sample(bqm)\n",
    "samples = [dict(sample) for sample in sampleset.lowest().samples()]\n",
    "mM.reset()\n",
    "mM.add(samples)\n",
    "print(\"DWave Hybrid-sampler BQM solutions: \\n{}\".format(mM.solutions()))"
   ]
  },
  {
   "cell_type": "markdown",
   "id": "57bf1564",
   "metadata": {},
   "source": [
    "Also, the same problem can be solved using **Dwave Advantage quantum annealer** as it is presented in the following example.\n",
    "> Important to notice that the quantum annealer will require additional operational arguments specified in [**kwargs**](https://docs.dwavesys.com/docs/latest/c_solver_parameters.html)."
   ]
  },
  {
   "cell_type": "code",
   "execution_count": null,
   "id": "cba53fd1",
   "metadata": {},
   "outputs": [],
   "source": [
    "mM.reset()\n",
    "\n",
    "from dwave.system import DWaveSampler, EmbeddingComposite\n",
    "qpu_advantage = DWaveSampler(solver={'topology__type': 'pegasus', 'qpu': True})\n",
    "kwargs = {'num_reads': 1000,\n",
    "            'answer_mode': 'histogram',\n",
    "            'chain_strength': 2  \n",
    "        }\n",
    "advantage = EmbeddingComposite(qpu_advantage)\n",
    "sampleset = advantage.sample_qubo(qubo, **kwargs)\n",
    "samples = [dict(sample) for sample in sampleset.lowest().samples()]\n",
    "mM.add(samples)\n",
    "print(\"DWave Advantage solutions: \\n{}\".format(mM.solutions()))"
   ]
  }
 ],
 "metadata": {
  "kernelspec": {
   "display_name": "Python 3 (ipykernel)",
   "language": "python",
   "name": "python3"
  },
  "language_info": {
   "codemirror_mode": {
    "name": "ipython",
    "version": 3
   },
   "file_extension": ".py",
   "mimetype": "text/x-python",
   "name": "python",
   "nbconvert_exporter": "python",
   "pygments_lexer": "ipython3",
   "version": "3.10.4"
  }
 },
 "nbformat": 4,
 "nbformat_minor": 5
}
