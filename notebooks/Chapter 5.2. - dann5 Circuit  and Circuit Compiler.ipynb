{
 "cells": [
  {
   "cell_type": "markdown",
   "id": "731599f2",
   "metadata": {},
   "source": [
    "# 5.2. - dann5 Circuit  and Circuit Compiler\n",
    "\n",
    "> Like with *QuboCompiler* in the earlier example, the dann5 virtual quantum machine code of *timesBlock* can be compiled into dann5 representation of a quantum circuit by means of ***CircuitCompiler***, which is defined in **d5q** module."
   ]
  },
  {
   "cell_type": "code",
   "execution_count": 8,
   "id": "35339c44",
   "metadata": {},
   "outputs": [],
   "source": [
    "from dann5.d5 import Qbit\n",
    "x = Qbit(\"x\"); y = Qbit(\"y\")"
   ]
  },
  {
   "cell_type": "code",
   "execution_count": 9,
   "id": "600a5b5b",
   "metadata": {},
   "outputs": [
    {
     "name": "stdout",
     "output_type": "stream",
     "text": [
      "Qbit & Qbit: (x\\S\\ & y\\S\\)\n",
      "d5vc:_&4\\S\\ = x\\S\\ & y\\S\\; \n"
     ]
    }
   ],
   "source": [
    "andXpr = x & y\n",
    "print('Qbit & Qbit: {}\\nd5vc:{}'.format(andXpr,andXpr.toString(True)))"
   ]
  },
  {
   "cell_type": "code",
   "execution_count": 14,
   "id": "6a595651",
   "metadata": {},
   "outputs": [
    {
     "name": "stdout",
     "output_type": "stream",
     "text": [
      "<dann5.d5q.D5circuit object at 0x000002735F57A470>:\n",
      "       _&4: -X-\n",
      "         x: -+-\n",
      "         y: -+-\n",
      "\n"
     ]
    }
   ],
   "source": [
    "from dann5.d5q import CircuitCompiler\n",
    "circuitCompiler = CircuitCompiler()\n",
    "\n",
    "andXpr.compile(circuitCompiler)\n",
    "\n",
    "d5circuit = circuitCompiler.circuit()\n",
    "print('{}:\\n{}'.format(d5circuit, d5circuit.draw()))"
   ]
  },
  {
   "cell_type": "code",
   "execution_count": 16,
   "id": "c2321d02",
   "metadata": {},
   "outputs": [
    {
     "ename": "QiskitError",
     "evalue": "'No counts for experiment \"0\"'",
     "output_type": "error",
     "traceback": [
      "\u001b[1;31m---------------------------------------------------------------------------\u001b[0m",
      "\u001b[1;31mQiskitError\u001b[0m                               Traceback (most recent call last)",
      "Cell \u001b[1;32mIn[16], line 4\u001b[0m\n\u001b[0;32m      1\u001b[0m \u001b[38;5;28;01mfrom\u001b[39;00m \u001b[38;5;21;01mdann5\u001b[39;00m\u001b[38;5;21;01m.\u001b[39;00m\u001b[38;5;21;01mqiskit\u001b[39;00m \u001b[38;5;28;01mimport\u001b[39;00m Solver\n\u001b[0;32m      2\u001b[0m Solver\u001b[38;5;241m.\u001b[39mActive()\n\u001b[1;32m----> 4\u001b[0m \u001b[38;5;28mprint\u001b[39m(\u001b[38;5;124m'\u001b[39m\u001b[38;5;124mSolutions:\u001b[39m\u001b[38;5;130;01m\\n\u001b[39;00m\u001b[38;5;132;01m{}\u001b[39;00m\u001b[38;5;124m'\u001b[39m\u001b[38;5;241m.\u001b[39mformat(\u001b[43mandXpr\u001b[49m\u001b[38;5;241;43m.\u001b[39;49m\u001b[43msolve\u001b[49m\u001b[43m(\u001b[49m\u001b[43m)\u001b[49m))\n",
      "File \u001b[1;32m~\\AppData\\Local\\Envs\\d5o\\lib\\site-packages\\dann5\\qiskit.py:131\u001b[0m, in \u001b[0;36mPyQiskitSolver.solve\u001b[1;34m(self)\u001b[0m\n\u001b[0;32m    129\u001b[0m qc \u001b[38;5;241m=\u001b[39m \u001b[38;5;28mself\u001b[39m\u001b[38;5;241m.\u001b[39mconstructQC()\n\u001b[0;32m    130\u001b[0m result_ideal \u001b[38;5;241m=\u001b[39m qiskit\u001b[38;5;241m.\u001b[39mexecute(qc, \u001b[38;5;28mself\u001b[39m\u001b[38;5;241m.\u001b[39msolver)\u001b[38;5;241m.\u001b[39mresult()\n\u001b[1;32m--> 131\u001b[0m \u001b[38;5;28;43mself\u001b[39;49m\u001b[38;5;241;43m.\u001b[39;49m\u001b[43mevaluatuate\u001b[49m\u001b[43m(\u001b[49m\u001b[43mresult_ideal\u001b[49m\u001b[43m)\u001b[49m\n",
      "File \u001b[1;32m~\\AppData\\Local\\Envs\\d5o\\lib\\site-packages\\dann5\\qiskit.py:192\u001b[0m, in \u001b[0;36mPyQiskitSolver.evaluatuate\u001b[1;34m(self, result_ideal)\u001b[0m\n\u001b[0;32m    190\u001b[0m \u001b[38;5;28;01mdef\u001b[39;00m \u001b[38;5;21mevaluatuate\u001b[39m(\u001b[38;5;28mself\u001b[39m, result_ideal):\n\u001b[0;32m    191\u001b[0m     \u001b[38;5;66;03m# Perform an ideal simulation\u001b[39;00m\n\u001b[1;32m--> 192\u001b[0m     counts_ideal \u001b[38;5;241m=\u001b[39m \u001b[43mresult_ideal\u001b[49m\u001b[38;5;241;43m.\u001b[39;49m\u001b[43mget_counts\u001b[49m\u001b[43m(\u001b[49m\u001b[38;5;241;43m0\u001b[39;49m\u001b[43m)\u001b[49m\n\u001b[0;32m    193\u001b[0m     qregs \u001b[38;5;241m=\u001b[39m result_ideal\u001b[38;5;241m.\u001b[39mresults[\u001b[38;5;241m0\u001b[39m]\u001b[38;5;241m.\u001b[39mheader\u001b[38;5;241m.\u001b[39mqreg_sizes\n\u001b[0;32m    194\u001b[0m     evaluations \u001b[38;5;241m=\u001b[39m []\n",
      "File \u001b[1;32m~\\AppData\\Local\\Envs\\d5o\\lib\\site-packages\\qiskit\\result\\result.py:289\u001b[0m, in \u001b[0;36mResult.get_counts\u001b[1;34m(self, experiment)\u001b[0m\n\u001b[0;32m    287\u001b[0m         dict_list\u001b[38;5;241m.\u001b[39mappend(statevector\u001b[38;5;241m.\u001b[39mStatevector(vec)\u001b[38;5;241m.\u001b[39mprobabilities_dict(decimals\u001b[38;5;241m=\u001b[39m\u001b[38;5;241m15\u001b[39m))\n\u001b[0;32m    288\u001b[0m     \u001b[38;5;28;01melse\u001b[39;00m:\n\u001b[1;32m--> 289\u001b[0m         \u001b[38;5;28;01mraise\u001b[39;00m QiskitError(\u001b[38;5;124mf\u001b[39m\u001b[38;5;124m'\u001b[39m\u001b[38;5;124mNo counts for experiment \u001b[39m\u001b[38;5;124m\"\u001b[39m\u001b[38;5;132;01m{\u001b[39;00m\u001b[38;5;28mrepr\u001b[39m(key)\u001b[38;5;132;01m}\u001b[39;00m\u001b[38;5;124m\"\u001b[39m\u001b[38;5;124m'\u001b[39m)\n\u001b[0;32m    291\u001b[0m \u001b[38;5;66;03m# Return first item of dict_list if size is 1\u001b[39;00m\n\u001b[0;32m    292\u001b[0m \u001b[38;5;28;01mif\u001b[39;00m \u001b[38;5;28mlen\u001b[39m(dict_list) \u001b[38;5;241m==\u001b[39m \u001b[38;5;241m1\u001b[39m:\n",
      "\u001b[1;31mQiskitError\u001b[0m: 'No counts for experiment \"0\"'"
     ]
    }
   ],
   "source": [
    "from dann5.qiskit import Solver\n",
    "Solver.Active()\n",
    "\n",
    "print('Solutions:\\n{}'.format(andXpr.solve()))"
   ]
  },
  {
   "cell_type": "code",
   "execution_count": null,
   "id": "cf00d4cf",
   "metadata": {},
   "outputs": [],
   "source": []
  },
  {
   "cell_type": "code",
   "execution_count": 7,
   "id": "b89dd6fc",
   "metadata": {},
   "outputs": [
    {
     "name": "stdout",
     "output_type": "stream",
     "text": [
      "\n",
      "{\n",
      "\t(y\\2:U\\ == x\\2:U\\);\n",
      "\tz\\4:U\\ = (x\\2:U\\ * y\\2:U\\);\n",
      "} \n",
      "\n",
      "  y0\\S\\ == x0\\S\\; y1\\S\\ == x1\\S\\; ; z0\\S\\ = x0\\S\\ & y0\\S\\; z1\\S\\ = _&2\\S\\ .+ _&1\\S\\; _&2\\S\\ = x1\\S\\ & y0\\S\\; _&1\\S\\ = x0\\S\\ & y1\\S\\; z2\\S\\ = _&3\\S\\ .+ #[z1]\\S\\; _&3\\S\\ = x1\\S\\ & y1\\S\\; z3\\S\\ = #[z2]\\S\\; \n",
      "\n",
      "\n"
     ]
    }
   ],
   "source": [
    "x = d5.Qwhole(2, \"x\"); y = d5.Qwhole(2, \"y\"); z = d5.Qwhole(2, \"z\")\n",
    "\n",
    "timesBlock = d5.Qblock() << (y == x) << z._(x * y)\n",
    "print(\"\\n{} \\n\\n {}\\n\\n\".format(timesBlock, timesBlock.toString(True)))"
   ]
  },
  {
   "cell_type": "code",
   "execution_count": 8,
   "id": "bb4f3de6",
   "metadata": {},
   "outputs": [
    {
     "name": "stdout",
     "output_type": "stream",
     "text": [
      "     #[z1]: ----------------------------X--------+--+- 0 \n",
      "       _&1: -------------------X-----+--+------------- 1 \n",
      "       _&2: ----------------X-----+-----+------------- 2 \n",
      "       _&3: -------------------------------X--+-----+- 3 \n",
      "        x0: -h-----+-----+-----+---------------------- 4 \n",
      "        x1: ----h-----+-----+--------------+---------- 5 \n",
      "        y0: -------X-----+--+------------------------- 6 \n",
      "        y1: ----------X--------+-----------+---------- 7 \n",
      "        z0: -------------X---------------------------- 8 \n",
      "        z1: ----------------------X--X---------------- 9 \n",
      "        z2: ----------------------------------X--X---- 10 \n",
      "        z3: ----------------------------------------X- 11 \n",
      "\n"
     ]
    }
   ],
   "source": [
    "from dann5.d5q import CircuitCompiler\n",
    "compiler = CircuitCompiler()\n",
    "timesBlock.compile(compiler)\n",
    "circuit = compiler.circuit()\n",
    "print(circuit.draw())"
   ]
  },
  {
   "cell_type": "markdown",
   "id": "906dcbd8",
   "metadata": {},
   "source": [
    "> Also the problem can be solved through use of active dann5 quantum programming simulator."
   ]
  },
  {
   "cell_type": "code",
   "execution_count": 9,
   "id": "d63ab325",
   "metadata": {},
   "outputs": [
    {
     "name": "stdout",
     "output_type": "stream",
     "text": [
      "Active Dann5 simulator solutions: \n",
      " y\\2:0\\; x\\2:0\\ z\\4:0\\; x\\2:0\\; y\\2:0\\\n",
      " y\\2:1\\; x\\2:1\\ z\\4:1\\; x\\2:1\\; y\\2:1\\\n",
      " y\\2:2\\; x\\2:2\\ z\\4:4\\; x\\2:2\\; y\\2:2\\\n",
      " y\\2:3\\; x\\2:3\\ z\\4:9\\; x\\2:3\\; y\\2:3\\\n",
      "\n",
      "\n"
     ]
    }
   ],
   "source": [
    "print(\"Active Dann5 simulator solutions: \\n{}\\n\".format(\n",
    "                                                    timesBlock.solve()))  "
   ]
  },
  {
   "cell_type": "code",
   "execution_count": null,
   "id": "6e9ac18c",
   "metadata": {},
   "outputs": [],
   "source": []
  },
  {
   "cell_type": "code",
   "execution_count": null,
   "id": "ae134068",
   "metadata": {},
   "outputs": [],
   "source": []
  }
 ],
 "metadata": {
  "kernelspec": {
   "display_name": "Python 3 (ipykernel)",
   "language": "python",
   "name": "python3"
  },
  "language_info": {
   "codemirror_mode": {
    "name": "ipython",
    "version": 3
   },
   "file_extension": ".py",
   "mimetype": "text/x-python",
   "name": "python",
   "nbconvert_exporter": "python",
   "pygments_lexer": "ipython3",
   "version": "3.10.4"
  }
 },
 "nbformat": 4,
 "nbformat_minor": 5
}
