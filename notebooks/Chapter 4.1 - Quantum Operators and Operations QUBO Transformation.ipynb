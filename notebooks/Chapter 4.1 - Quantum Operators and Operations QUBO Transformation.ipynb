{
 "cells": [
  {
   "cell_type": "markdown",
   "id": "eb37153e",
   "metadata": {},
   "source": [
    "# Chapter 4.1. - Quantum Operators and Operations QUBO Transformation\n",
    "\n",
    "[What Is a QUBO?](https://support.dwavesys.com/hc/en-us/articles/360003684474-What-Is-a-QUBO)\n",
    "\n",
    "Quadratic unconstrained binary optimization (QUBO), or unconstrained binary quadratic programming (UBQP), is a combinatorial optimization problem with a range of applications across industries and technologies. In quantum computing, QUBO is a way of defining NP hard problems. Also, it can be embedded into machine learning models like support-vector machines, clustering, and probabilistic graphical models. \n",
    "\n",
    "It is closely related to the Ising model and [BQM](https://docs.ocean.dwavesys.com/en/stable/concepts/bqm.html), which can be solved through a physical process called **quantum annealing**. The real-time access for quantum programmers to quantum annealers is provided by D-Wave through their [Leap cloud-based platform](https://cloud.dwavesys.com/leap/login/?next=/leap/).\n",
    "\n",
    "- **Note**: In chapter 4.8, we will study conversions of QUBO into BQM and Ising as well as embedding into physical quantum annealers.\n",
    "\n",
    "In this chapter we are going to look at the transformations of d5vc (dann5 virtual code) of *Qbit* operators and operations into QUBO in preparation for execution on simulators and physical quantum annealers. \n",
    "\n",
    "First, we will define two *Qbit* variables *x* and *y* and initialize them in superposition state (*S*) for use in transformation examples in this chapter."
   ]
  },
  {
   "cell_type": "code",
   "execution_count": 1,
   "id": "0cf91ccf",
   "metadata": {},
   "outputs": [
    {
     "name": "stdout",
     "output_type": "stream",
     "text": [
      "x\\S\\ y\\S\\\n"
     ]
    }
   ],
   "source": [
    "from dann5.d5 import Qbit\n",
    "x = Qbit(\"x\"); y = Qbit(\"y\")\n",
    "print(x, y)"
   ]
  },
  {
   "cell_type": "markdown",
   "id": "33e3af29",
   "metadata": {},
   "source": [
    "## Transformation of Qbit operators\n",
    "\n",
    "In dann5 the **quantum operators** are defined as an operation with one input and one output quantum variable. \n",
    "1. inversion is a unary quantum operator with an input quantum variable and dan5 system generated inverted variable as an output quantum variable.\n",
    "2. equal, not-equal, greater-than, greater-than-or-equal, less-than, and less-than-or-equal are binary quantum operators, where the right-side operand is an input quantum variable, and the left side operand is an output quantum variable.\n",
    "\n",
    "### Transformation of a quantum expression with a Qbit invert operator\n",
    "\n",
    "The module d5 in dann5 package supports inversion expression for *Qbit* variables by implementing *Qbit invert ( ~ )* unary operator and its transformation to QUBO. For a variable defined as ***x*** in quantum space dann5 system generated inverted variable will be named ***~x***, as shown in the example below (the printout of the following quantum expression *inversionXpr*). \n",
    "\n",
    "The QUBO optimization function:\n",
    "> ***f(x,y) = 2xy - x - y*** \n",
    "\n",
    "represents a transformation of a *Qbit* inversion operator, where **y** in the optimization function represents dann5 system generated ***~x** Qbit variable*. \n",
    "\n",
    "- **Note**: A set of correct solutions are value combinations of the optimization function parameters when the optimization function is at its minimum.\n",
    "\n",
    "The table below shows all possible value combinations of the above function *f(x,y)* and its parameters *x* and *y*:\n",
    ">                 x    y (~x)  f(x,y)\n",
    ">\n",
    ">                 0      0       0\n",
    ">\n",
    ">                 1      0      -1\n",
    ">\n",
    ">                 0      1      -1\n",
    ">\n",
    ">                 1      1       0\n",
    "\n",
    "- **Note**: The minimum of the inversion optimization function *f(x,y)* is *-1*, when the *Qbit* variables *x* and *y(~x)* have inverted values."
   ]
  },
  {
   "cell_type": "code",
   "execution_count": 2,
   "id": "5e7452a1",
   "metadata": {},
   "outputs": [
    {
     "name": "stdout",
     "output_type": "stream",
     "text": [
      "Inversion Expression:\n",
      " ~x\\S\\ ~ x\\S\\; \n"
     ]
    }
   ],
   "source": [
    "inversionXpr = ~x\n",
    "print(\"Inversion Expression:\\n\", inversionXpr.toString(True))"
   ]
  },
  {
   "cell_type": "markdown",
   "id": "27f46964",
   "metadata": {},
   "source": [
    "In the following code cell, we are using the *QuboCompiler* from d5o module in dann5 package. \n",
    "\n",
    "- **Note**: The features of *QuboCopiler* are described in chapter 4.3. Here an instance of the *QuboCompiler* is used to show the QUBO transformation of d5vc. \n",
    "\n",
    "The inversion quantum expression can be transformed into a QUBO presentation as per the expression's optimization function, which can be presented as an ***inversion (~)* QUBO triangle matrix**:\n",
    ">                   x  ~x\n",
    ">\n",
    ">               x  -1   2\n",
    ">\n",
    ">              ~x   0  -1\n",
    "\n",
    "The QUBO pairs *('x', 'x')* and (' ~x', ' ~x') with weight parameters *-1*, are considered linear elements '*x*' and ' ~*x*', respectfully, while the node *('x', ' ~x')* with weight parameter *2* is considered a binary element when transformed into [BQM](https://docs.ocean.dwavesys.com/en/stable/concepts/bqm.html)."
   ]
  },
  {
   "cell_type": "code",
   "execution_count": 4,
   "id": "b130cfac",
   "metadata": {},
   "outputs": [
    {
     "name": "stdout",
     "output_type": "stream",
     "text": [
      "Inversion Expression QUBO:\n",
      " {('x', 'x'): -1.0, ('x', '~x'): 2.0, ('~x', '~x'): -1.0}\n"
     ]
    }
   ],
   "source": [
    "from dann5.d5o import QuboCompiler\n",
    "compiler = QuboCompiler()\n",
    "inversionXpr.compile(compiler)\n",
    "print(\"Inversion Expression QUBO:\\n\", compiler.qubo())"
   ]
  },
  {
   "cell_type": "markdown",
   "id": "ade8fed0",
   "metadata": {},
   "source": [
    "### Equal quantum expressions using Qbit varaibles\n",
    "\n",
    "d5 module of dann5 package supports a quantum equal expressions for *Qbit* variables by implementing *Qbit equal (==)* binary operator. The *Qbit equal (==)* binary operator QUBO optimization function is:\n",
    "> ***f(x,y) = x + y - 2xy***. \n",
    "\n",
    "The table below shows all possible value of the above function result *f(x,y)* and its attributes  *x* and *y*:\n",
    ">                 x      y     f(x,y)\n",
    ">\n",
    ">                 0      0       0\n",
    ">\n",
    ">                 1      0       1\n",
    ">\n",
    ">                 0      1       1\n",
    ">\n",
    ">                 1      1       0\n",
    "\n",
    "- **Note**: The minimum of the *Qbit equal (==)* optimization function *f(x,y)* is *0*, when the *Qbit* variables *x* and *y* have the same values."
   ]
  },
  {
   "cell_type": "code",
   "execution_count": 4,
   "id": "c96bab06",
   "metadata": {},
   "outputs": [
    {
     "name": "stdout",
     "output_type": "stream",
     "text": [
      "Equal Expression:\n",
      " x\\S\\ == y\\S\\; \n"
     ]
    }
   ],
   "source": [
    "eqXpr = x == y\n",
    "print(\"Equal Expression:\\n\", eqXpr.toString(True))"
   ]
  },
  {
   "cell_type": "markdown",
   "id": "c2914e28",
   "metadata": {},
   "source": [
    "The transformation of the quantum expression *eqXpr* into a QUBO also can be presented as an **equal QUBO triangle matrix**:\n",
    ">                   x   y\n",
    ">\n",
    ">               x   1  -2\n",
    ">\n",
    ">               y   0   1\n",
    "\n",
    "This time the linear elements, *x*, i.e. pair *('x', 'x')*, and *y*, i.e. pair *('y', 'y')*, have the weight parameters *1*, while the weight parameter of the binary element *('y', 'x')* is *-2*."
   ]
  },
  {
   "cell_type": "code",
   "execution_count": 5,
   "id": "d670cc2b",
   "metadata": {},
   "outputs": [
    {
     "name": "stdout",
     "output_type": "stream",
     "text": [
      "Equal Expression QUBO:\n",
      " {('x', 'x'): 1.0, ('y', 'x'): -2.0, ('y', 'y'): 1.0}\n"
     ]
    }
   ],
   "source": [
    "compiler.reset() # continuing to use the same compiler instance\n",
    "eqXpr.compile(compiler)\n",
    "print(\"Equal Expression QUBO:\\n\", compiler.qubo())"
   ]
  },
  {
   "cell_type": "markdown",
   "id": "049cdca5",
   "metadata": {},
   "source": [
    "### Transformation of a quantum expression with a Qbit not-equal operator\n",
    "\n",
    "The module d5 in dann5 package implements *Qbit not-equal (!=)* binary operator, which can be described by the QUBO optimization function:\n",
    "> ***f(x,y) = 2xy - x - y***\n",
    "\n",
    "- **Note**: In dann5 the *Qbit inversion (~)* unary operator is a system specialization of *Qbit not-equal (!=)* binary operator as their QUBO optimization functions are equivalent. "
   ]
  },
  {
   "cell_type": "code",
   "execution_count": 6,
   "id": "59b6eca0",
   "metadata": {},
   "outputs": [
    {
     "name": "stdout",
     "output_type": "stream",
     "text": [
      "Not-equal Expression:\n",
      " x\\S\\ != y\\S\\; \n"
     ]
    }
   ],
   "source": [
    "neqXpr = x != y\n",
    "print(\"Not-equal Expression:\\n\", neqXpr.toString(True))"
   ]
  },
  {
   "cell_type": "markdown",
   "id": "a35b197f",
   "metadata": {},
   "source": [
    "The quantum expression *neqXpr* can be transformed into a QUBO using a **not-equal QUBO triangle matrix**:\n",
    ">                   x   y\n",
    ">\n",
    ">               x  -1   2\n",
    ">\n",
    ">               y   0  -1\n",
    "\n",
    "The linear elements, *x* and *y* have the weight parameters *-1*, while the weight parameter of the binary element *('y', 'x')* is *2*."
   ]
  },
  {
   "cell_type": "code",
   "execution_count": 7,
   "id": "55b9af02",
   "metadata": {},
   "outputs": [
    {
     "name": "stdout",
     "output_type": "stream",
     "text": [
      "Not-equal Expression QUBO:\n",
      " {('x', 'x'): -1.0, ('y', 'x'): 2.0, ('y', 'y'): -1.0}\n"
     ]
    }
   ],
   "source": [
    "compiler.reset() # continuing to use the same compiler instance\n",
    "neqXpr.compile(compiler)\n",
    "print(\"Not-equal Expression QUBO:\\n\", compiler.qubo())"
   ]
  },
  {
   "cell_type": "markdown",
   "id": "8fe24d85",
   "metadata": {},
   "source": [
    "### Transformation of a quantum expression with a Qbit greater-than operator\n",
    "\n",
    "*Qbit greater-than (>)* binary operator implemented in the module d5 of dann5 package can be described by the following QUBO optimization function:\n",
    "> ***f(x,y) = 2xy - 3x + y***"
   ]
  },
  {
   "cell_type": "code",
   "execution_count": 8,
   "id": "2b1c1a3c",
   "metadata": {},
   "outputs": [
    {
     "name": "stdout",
     "output_type": "stream",
     "text": [
      "Greater-than Expression:\n",
      " x\\S\\ > y\\S\\; \n"
     ]
    }
   ],
   "source": [
    "gtXpr = x > y\n",
    "print(\"Greater-than Expression:\\n\", gtXpr.toString(True))"
   ]
  },
  {
   "cell_type": "markdown",
   "id": "dc2b584d",
   "metadata": {},
   "source": [
    "The quantum expression *gtXpr* can be transformed into a QUBO presentation as per the expression's optimization function, which can be presented as a **greater-than QUBO triangle matrix**:\n",
    ">                   x   y\n",
    ">\n",
    ">               x  -3   2\n",
    ">\n",
    ">               y   0   1\n",
    "\n",
    "The linear element, *x* has the weight parameter *-3*, while *y* has *1*. The weight parameter of the binary element *('y', 'x')* is *2*. \n",
    "\n",
    "So, the minimum of the *Qbit greater-than* optimization function is *-3*, only when the *Qbit* variables *x* and *y* have values *1* and *0*, respectfully.\n",
    "\n",
    "- **Note**: There is a infinite number of complementary optimization functions, which will have a minimum only when the *Qbit* variables *x* and *y* have values *1* and *0*, respectfully.\n",
    "\n",
    "Such is the function represented by the following greater-than QUBO triangle matrix, where the weight parameters are half of the values in the above matrix (scaled by the scalar value of 0.5):\n",
    ">                   x    y\n",
    ">\n",
    ">               x  -1.5  1\n",
    ">\n",
    ">               y   0    0.5\n",
    "\n",
    "- **Note**: dann5 uses the above greater-than QUBO triangle matrix as shown in the following example."
   ]
  },
  {
   "cell_type": "code",
   "execution_count": 9,
   "id": "6bcd864e",
   "metadata": {},
   "outputs": [
    {
     "name": "stdout",
     "output_type": "stream",
     "text": [
      "Greater-than Expression QUBO:\n",
      " {('x', 'x'): -1.5, ('y', 'x'): 1.0, ('y', 'y'): 0.5}\n"
     ]
    }
   ],
   "source": [
    "compiler.reset() # continuing to use the same compiler instance\n",
    "gtXpr.compile(compiler)\n",
    "print(\"Greater-than Expression QUBO:\\n\", compiler.qubo())"
   ]
  },
  {
   "cell_type": "markdown",
   "id": "d146538f",
   "metadata": {},
   "source": [
    "### Transformation of a quantum expression with a Qbit greater-than-or-equal operator\n",
    "\n",
    "*Qbit greater-than-or-equal (>=)* binary operator defined in module d5 of dann5 package can be described by using the QUBO optimization function:\n",
    "> ***f(x,y) = y - xy***"
   ]
  },
  {
   "cell_type": "code",
   "execution_count": 10,
   "id": "d162a31e",
   "metadata": {},
   "outputs": [
    {
     "name": "stdout",
     "output_type": "stream",
     "text": [
      "Greater-than-or-equal Expression:\n",
      " x\\S\\ >= y\\S\\; \n"
     ]
    }
   ],
   "source": [
    "geXpr = x >= y\n",
    "print(\"Greater-than-or-equal Expression:\\n\", geXpr.toString(True))"
   ]
  },
  {
   "cell_type": "markdown",
   "id": "5c3982f7",
   "metadata": {},
   "source": [
    "The quantum expression *geXpr* can be transformed into a QUBO using a **greater-than-or-equal QUBO triangle matrix**:\n",
    ">                   x   y\n",
    ">\n",
    ">               x   0  -1\n",
    ">\n",
    ">               y   0   1\n",
    "\n",
    "The linear element, *x* has the weight parameters *0*, while *y* has the weight parameters *1*. Yhe weight parameter of the binary element *('y', 'x')* is *-1*. \n",
    "\n",
    "The *greater-than-or-equal* optimization function does not have its minimum value *0* only when the *Qbit* variable *x* has value *0* while *y* has value *1*."
   ]
  },
  {
   "cell_type": "code",
   "execution_count": 11,
   "id": "1ff5dd0e",
   "metadata": {},
   "outputs": [
    {
     "name": "stdout",
     "output_type": "stream",
     "text": [
      "Greater-than-or-equal Expression QUBO:\n",
      " {('x', 'x'): 0.0, ('y', 'x'): -1.0, ('y', 'y'): 1.0}\n"
     ]
    }
   ],
   "source": [
    "compiler.reset() # continuing to use the same compiler instance\n",
    "geXpr.compile(compiler)\n",
    "print(\"Greater-than-or-equal Expression QUBO:\\n\", compiler.qubo())"
   ]
  },
  {
   "cell_type": "markdown",
   "id": "6cec4c33",
   "metadata": {},
   "source": [
    "### Transformation of a quantum expression with a Qbit less-than operator\n",
    "\n",
    "*Qbit less-than (<)* binary operator implemented in the module d5 of dann5 package can be described by the QUBO optimization function:\n",
    "> ***f(x,y) = 2xy + x - 3y***\n",
    "\n",
    "or by equivalent QUBO optimization function, scaled by multiplying the above function with a value *0.5*:\n",
    "> ***g(x,y) = xy + 0.5x - 1.5y***"
   ]
  },
  {
   "cell_type": "code",
   "execution_count": 12,
   "id": "cae9156c",
   "metadata": {},
   "outputs": [
    {
     "name": "stdout",
     "output_type": "stream",
     "text": [
      "Less-than Expression:\n",
      " x\\S\\ < y\\S\\; \n"
     ]
    }
   ],
   "source": [
    "ltXpr = x < y\n",
    "print(\"Less-than Expression:\\n\", ltXpr.toString(True))"
   ]
  },
  {
   "cell_type": "markdown",
   "id": "79f4e37c",
   "metadata": {},
   "source": [
    "The quantum expression *ltXpr* can be transformed into a QUBO as per ***g(x,y)** optimization function, which can be presented as a **less-than QUBO triangle matrix**:\n",
    ">                   x    y\n",
    ">\n",
    ">               x   0.5  1\n",
    ">\n",
    ">               y   0   -1.5 \n",
    "\n",
    "The linear element, *x* has the weight parameters *0.5*, and *y* has the weight parameters *-1.5*, while the weight parameter of the binary element *('y', 'x')* is *1*. \n",
    "\n",
    "The minimum of the *less-than* optimization function is *-1.5*, only when the *Qbit* variable *y* has a value of *1*."
   ]
  },
  {
   "cell_type": "code",
   "execution_count": 13,
   "id": "3dade58d",
   "metadata": {},
   "outputs": [
    {
     "name": "stdout",
     "output_type": "stream",
     "text": [
      "Less-than Expression QUBO:\n",
      " {('x', 'x'): 0.5, ('y', 'x'): 1.0, ('y', 'y'): -1.5}\n"
     ]
    }
   ],
   "source": [
    "compiler.reset() # continuing to use the same compiler instance\n",
    "ltXpr.compile(compiler)\n",
    "print(\"Less-than Expression QUBO:\\n\", compiler.qubo())"
   ]
  },
  {
   "cell_type": "markdown",
   "id": "25888826",
   "metadata": {},
   "source": [
    "### Transformation of a quantum expression with a Qbit less-than-or-equal operator\n",
    "\n",
    "*Qbit greater-than-or-equal (>-)* binary operator defined in d5 module of dann5 package has the QUBO optimization function:\n",
    "> ***f(x,y) = x - xy***"
   ]
  },
  {
   "cell_type": "code",
   "execution_count": 14,
   "id": "8425d8b1",
   "metadata": {},
   "outputs": [
    {
     "name": "stdout",
     "output_type": "stream",
     "text": [
      "Less-than-or-equal Expression:\n",
      " (x\\S\\ <= y\\S\\)\n"
     ]
    }
   ],
   "source": [
    "leXpr = x <= y\n",
    "print(\"Less-than-or-equal Expression:\\n\", leXpr)"
   ]
  },
  {
   "cell_type": "markdown",
   "id": "a1880498",
   "metadata": {},
   "source": [
    "The quantum expression *leXpr* QUBO transformation can be presented as a **less-than-or-equal QUBO triangle matrix**:\n",
    ">                   x   y\n",
    ">\n",
    ">               x   1  -1\n",
    ">\n",
    ">               y   0   0\n",
    "\n",
    "The linear element, *x* has the weight parameters *1*, *y* has the weight parameters *0*, while the weight parameter of the binary element *('y', 'x')* is *-1*. \n",
    "\n",
    "So, the minimum of the *less-than-or-equal* optimization function is *0* in most value combinations for *Qbit* variables *x* and *y*, except when the *x* has value *1* and *y* has value *0*."
   ]
  },
  {
   "cell_type": "code",
   "execution_count": 15,
   "id": "aa87ba53",
   "metadata": {},
   "outputs": [
    {
     "name": "stdout",
     "output_type": "stream",
     "text": [
      "Less-than-or-equal Expression QUBO:\n",
      " {('x', 'x'): 1.0, ('y', 'x'): -1.0, ('y', 'y'): 0.0}\n"
     ]
    }
   ],
   "source": [
    "compiler.reset() # continuing to use the same compiler instance\n",
    "leXpr.compile(compiler)\n",
    "print(\"Less-than-or-equal Expression QUBO:\\n\", compiler.qubo())"
   ]
  },
  {
   "cell_type": "markdown",
   "id": "ee0e26de",
   "metadata": {},
   "source": [
    "## Transformation of Qbit operations\n",
    "\n",
    "In dann5 the quantum operations are:\n",
    "1. *AND (&)* and *OR (|)* which have two input and one resulting output quantum variables, \n",
    "2. *NAND (!&)* and *NOR (!|)* have two input with one resulting output, and additional auxiliary quantum variables,\n",
    "3. *XOR (^)* and *NXOR (!^)* have two input, a resulting output, and a carryforward output quantum variables.\n",
    "\n",
    "### Transformation of a quantum expression with a Qbit AND operation\n",
    "\n",
    "The QUBO optimization function ***f(r,x,y) = 3r + xy - 2xr - 2yr*** represents a *AND (&)* operation, where *x* and *y* are input variables and *r* is resulting output *Qbit* variable. \n",
    "\n",
    "The table below shows all possible value of the above QUBO optimization function *f(r,x,y)* and its parameters *r*, *x* and *y*:\n",
    ">               r(_&0)   x      y   f(r,x,y)\n",
    ">\n",
    ">                 0      0      0       0\n",
    ">\n",
    ">                 0      1      0       0\n",
    ">\n",
    ">                 0      0      1       0\n",
    ">\n",
    ">                 0      1      1       1\n",
    ">\n",
    ">                 1      0      0       3\n",
    ">\n",
    ">                 1      1      0       1\n",
    ">\n",
    ">                 1      0      1       1\n",
    ">\n",
    ">                 1      1      1       0\n",
    "\n",
    "The minimum of the AND optimization function *f(r,x,y)* is *0* for four different combinations of values of *Qbit* variables *r*, *x* and *y*. The only combination when *r* has value *1*, and the function in its minimum, is when both *Qbit* input variables **x** and **y** have value *1*.\n",
    "\n",
    "- **Note**: In the printout of the AND expression in the code cell below the resulting output *Qbit* variable (*r*) is dann5 system generated with the name *_&0*."
   ]
  },
  {
   "cell_type": "code",
   "execution_count": 16,
   "id": "a231191d",
   "metadata": {},
   "outputs": [
    {
     "name": "stdout",
     "output_type": "stream",
     "text": [
      "And Expression:  _&0\\S\\ = x\\S\\ & y\\S\\; \n"
     ]
    }
   ],
   "source": [
    "andXpr = x & y\n",
    "print(\"And Expression: \", andXpr.toString(True))"
   ]
  },
  {
   "cell_type": "markdown",
   "id": "a56603a3",
   "metadata": {},
   "source": [
    "The quantum expression *andXpr* transformation into QUBO can be presented as the following ***AND* QUBO triangle matrix**:\n",
    ">                   x    y   _&0\n",
    ">\n",
    ">               x   0    1   -2\n",
    ">\n",
    ">               y   0    0   -2\n",
    ">\n",
    ">             _&0   0    0    3\n",
    "\n",
    "The linear element, *x* has the weight parameters *0*, *y* has the weight parameters *0*, and *_&0*, i.e. pair *('_&0', '_&0')*, has the weight parameters *3*, while the weight parameter of the binary element *('y', 'x')* is *1*, *('x', '_&0')* is *-2*, and *('y', '_&0')* is *-2*."
   ]
  },
  {
   "cell_type": "code",
   "execution_count": 17,
   "id": "b943ac85",
   "metadata": {},
   "outputs": [
    {
     "name": "stdout",
     "output_type": "stream",
     "text": [
      "And Expression QUBO:\n",
      " {('_&0', '_&0'): 3.0, ('x', '_&0'): -2.0, ('x', 'x'): 0.0, ('x', 'y'): 1.0, ('y', '_&0'): -2.0, ('y', 'y'): 0.0}\n"
     ]
    }
   ],
   "source": [
    "compiler.reset() # continuing to use the same compiler instance\n",
    "andXpr.compile(compiler)\n",
    "print(\"And Expression QUBO:\\n\", compiler.qubo())"
   ]
  },
  {
   "cell_type": "markdown",
   "id": "b28adae3",
   "metadata": {},
   "source": [
    "### Transformation of a quantum expression with a Qbit OR operation\n",
    "\n",
    "The QUBO optimization function:\n",
    "> ***f(r,x,y) = x + y + r + xy - 2xr - 2yr*** \n",
    "\n",
    "represents a *Qbit OR (|)* operation, where *x* and *y* are input variables and *r* is resulting output *Qbit* variable. \n",
    "\n",
    "The minimum of the OR optimization function *f(r,x,y)* is *0* for four combinations of *r, x* and *y* values. The only case when the function is at its minimum, and the resulting *Qbit* output variable *r* has value *0*, is when both *Qbit* input variables **x** and **y** have value *0*.\n",
    "\n",
    "- **Note**: In the printout of the OR expression (*orXpr*) in the code cell below the resulting output *Qbit* variable is dann5 system generated with the name *_|0*."
   ]
  },
  {
   "cell_type": "code",
   "execution_count": 18,
   "id": "243f21a0",
   "metadata": {},
   "outputs": [
    {
     "name": "stdout",
     "output_type": "stream",
     "text": [
      "Or Expression:  _|0\\S\\ = x\\S\\ | y\\S\\; \n"
     ]
    }
   ],
   "source": [
    "orXpr = x | y\n",
    "print(\"Or Expression: \", orXpr.toString(True))"
   ]
  },
  {
   "cell_type": "markdown",
   "id": "2ed8a964",
   "metadata": {},
   "source": [
    "The quantum expression *orXpr* transformation into QUBO can be presented as an ***OR* QUBO triangle matrix**:\n",
    ">                   x    y   _|0\n",
    ">\n",
    ">               x   1    1   -2\n",
    ">\n",
    ">               y   0    1   -2\n",
    ">\n",
    ">             _|0   0    0    1\n",
    "\n",
    "The linear element, *x* has the weight parameters *1*, *y* has the weight parameters *1*, and resulting *_|0* has the weight parameters *1*, while the weight parameter of the binary element *('y', 'x')* is *1*, *('x', '_|0')* is *-2*, and *('y', '_|0')* is *-2*."
   ]
  },
  {
   "cell_type": "code",
   "execution_count": 19,
   "id": "f0fd3399",
   "metadata": {},
   "outputs": [
    {
     "name": "stdout",
     "output_type": "stream",
     "text": [
      "Or Expression QUBO:\n",
      " {('_|0', '_|0'): 1.0, ('x', '_|0'): -2.0, ('x', 'x'): 1.0, ('x', 'y'): 1.0, ('y', '_|0'): -2.0, ('y', 'y'): 1.0}\n"
     ]
    }
   ],
   "source": [
    "compiler.reset() # continuing to use the same compiler instance\n",
    "orXpr.compile(compiler)\n",
    "print(\"Or Expression QUBO:\\n\", compiler.qubo())"
   ]
  },
  {
   "cell_type": "markdown",
   "id": "a4837372",
   "metadata": {},
   "source": [
    "### Transformation of a quantum expression with a Qbit NAND operation\n",
    "\n",
    "The QUBO optimization function:\n",
    "> ***f(r,x,y,a) = -5r + 5a + 5xy - 7xa - 8ya + 10ra*** \n",
    "\n",
    "represents a *NAND (!&)* operation, where *x* and *y* are input variables, *r* is resulting output *Qbit* variable, and *a* is an auxiliary *Qbit* variable. \n",
    "\n",
    "The minimum of the NAND optimization function *f(r,x,y,a)* is *-5*. The only combination when the optimization function is at its minimum, and the resulting *Qbit* output variable *r* has value *0*, is when both *Qbit* input variables **x** and **y** have value *1*, and auxiliary *Qbit* variable *a* has value *1*.\n",
    "\n",
    "- **Note**: In the printout of the NAND expression below, *_!&0* is the name of the dann5 system generated resulting output *Qbit* variable."
   ]
  },
  {
   "cell_type": "code",
   "execution_count": 20,
   "id": "fe661a15",
   "metadata": {},
   "outputs": [
    {
     "name": "stdout",
     "output_type": "stream",
     "text": [
      "Not-and Expression:  _!&0\\S\\ = x\\S\\ !& y\\S\\; \n"
     ]
    }
   ],
   "source": [
    "nandXpr = x.nand(y)\n",
    "print(\"Not-and Expression: \", nandXpr.toString(True))"
   ]
  },
  {
   "cell_type": "markdown",
   "id": "86a04780",
   "metadata": {},
   "source": [
    "The quantum expression *nandXpr* transformation into QUBO can be presented as a ***NAND* QUBO triangle matrix**:\n",
    ">                   x   y  _!&0   ?!&0\n",
    ">\n",
    ">               x   0   5    0     -7\n",
    ">\n",
    ">               y   0   0    0     -8\n",
    ">\n",
    ">            _!&0   0   0   -5     10\n",
    ">\n",
    ">            ?!&0   0   0    0      5\n",
    "\n",
    "The linear element, *x* has the weight parameters *0*, *y* has the weight parameters *0* has the weight parameters *-5*, and auxiliary *?!&0* has the weight parameters *5*. The weight parameter of the binary element *('y', 'x')* is *5*, *('x', '?&0')* is *-7*, *('y', '?&0')* is *-8*, and *('_!&0', '?!&0')* is *10*."
   ]
  },
  {
   "cell_type": "code",
   "execution_count": 21,
   "id": "8fda7b37",
   "metadata": {},
   "outputs": [
    {
     "name": "stdout",
     "output_type": "stream",
     "text": [
      "Not-and Expression QUBO:\n",
      " {('?!&0', '?!&0'): 5.0, ('_!&0', '?!&0'): 10.0, ('_!&0', '_!&0'): -5.0, ('x', '?!&0'): -7.0, ('x', 'x'): 0.0, ('x', 'y'): 5.0, ('y', '?!&0'): -8.0, ('y', 'y'): 0.0}\n"
     ]
    }
   ],
   "source": [
    "compiler.reset() # continuing to use the same compiler instance\n",
    "nandXpr.compile(compiler)\n",
    "print(\"Not-and Expression QUBO:\\n\", compiler.qubo())"
   ]
  },
  {
   "cell_type": "markdown",
   "id": "cf9673c6",
   "metadata": {},
   "source": [
    "### Transformation of a quantum expression with a Qbit NOR operation\n",
    "\n",
    "The QUBO optimization function:\n",
    "> ***f(r,x,y,a) = a - x - y - r + 2xy + 2xr + 2yr - 2xa - 2ya - ra*** \n",
    "\n",
    "represents a *NOR (!|)* operation, where *x* and *y* are input variables, *r* is resulting output *Qbit* variable, and *a* is an auxiliary *Qbit* variable. \n",
    "\n",
    "The minimum of the NOR optimization function *f(r,x,y,a)* is *-1*. The only case when the optimization function is at its minimum, and the resulting *Qbit* output variable *r* has value *1*, is when both *Qbit* input variables **x** and **y** have value *0*, and auxiliary *Qbit* variable *a* has value *0*.\n",
    "\n",
    "- **Note**: In the printout of the NOR expression below is, *_!|0* is the dann5 system generated resulting output *Qbit* variable."
   ]
  },
  {
   "cell_type": "code",
   "execution_count": 22,
   "id": "903138e9",
   "metadata": {},
   "outputs": [
    {
     "name": "stdout",
     "output_type": "stream",
     "text": [
      "Not-or Expression:  _!|0\\S\\ = x\\S\\ !| y\\S\\; \n"
     ]
    }
   ],
   "source": [
    "norXpr = x.nor(y)\n",
    "print(\"Not-or Expression: \", norXpr.toString(True))"
   ]
  },
  {
   "cell_type": "markdown",
   "id": "bedcec70",
   "metadata": {},
   "source": [
    "The quantum expression *norXpr* transformation into QUBO can be presented as a ***NOR* QUBO triangle matrix**:\n",
    ">                   x   y  _!|0   ?!|0\n",
    ">\n",
    ">               x  -1   2    2     -2\n",
    ">\n",
    ">               y   0  -1    2     -2\n",
    ">\n",
    ">            _!|0   0   0   -1     -1\n",
    ">\n",
    ">            ?!|0   0   0    0      3"
   ]
  },
  {
   "cell_type": "code",
   "execution_count": 23,
   "id": "6feef5e8",
   "metadata": {},
   "outputs": [
    {
     "name": "stdout",
     "output_type": "stream",
     "text": [
      "Not-or Expression QUBO:\n",
      " {('?!|0', '?!|0'): 3.0, ('_!|0', '?!|0'): -1.0, ('_!|0', '_!|0'): -1.0, ('x', '?!|0'): -2.0, ('x', '_!|0'): 2.0, ('x', 'x'): -1.0, ('x', 'y'): 2.0, ('y', '?!|0'): -2.0, ('y', '_!|0'): 2.0, ('y', 'y'): -1.0}\n"
     ]
    }
   ],
   "source": [
    "compiler.reset() # continuing to use the same compiler instance\n",
    "norXpr.compile(compiler)\n",
    "print(\"Not-or Expression QUBO:\\n\", compiler.qubo())"
   ]
  },
  {
   "cell_type": "markdown",
   "id": "78085264",
   "metadata": {},
   "source": [
    "### Transformation of an unlike quantum expressions using Qbit XOR operation\n",
    "\n",
    "An expression x ^ y or x.**xor**(y) is same as x.**unlike**(y). The *XOR (^)* binary quantum operation has two input operands x and y, and two output operands, automatically generated resulting output variable *_^n* and carryforward output variable *#[_^n]*, where n is a unique number of for each instance of *XOR* binary quantum operation.\n",
    "\n",
    "The QUBO optimization function:\n",
    "> ***f(r,x,y,c) = x + y + r + 4c + 2xy - 2xr - 2yr - 4xc - 4yc + 4rc*** \n",
    "\n",
    "represents an *Qbit XOR (^)* operation, where *x* and *y* are input variables, *r* is resulting output *Qbit* variable, and *c* is a carryforward output *Qbit* variable.\n",
    "\n",
    "The minimum of the XOR optimization function *f(r,x,y,c)* is *0*. For an example a correct solution is when both *Qbit* input variables **x** and **y** have value *1* the resulting *Qbit* output variable *r* has value *0*, and carryforward output *Qbit* variable *c* has value *1*.\n",
    "\n",
    "- **Note**: In the printout of the XOR expression in the code cell below the resulting output *Qbit* variable is dann5 system generated with the name *_^0*."
   ]
  },
  {
   "cell_type": "code",
   "execution_count": 24,
   "id": "ab1769b9",
   "metadata": {},
   "outputs": [
    {
     "name": "stdout",
     "output_type": "stream",
     "text": [
      "Xor Expression:  _^0\\S\\ = x\\S\\ ^ y\\S\\; \n"
     ]
    }
   ],
   "source": [
    "xorXpr = x ^ y # same as unlikeXpr = x.unlike(y)\n",
    "print(\"Xor Expression: \", xorXpr.toString(True))"
   ]
  },
  {
   "cell_type": "markdown",
   "id": "102dcc00",
   "metadata": {},
   "source": [
    "The quantum expression *xorXpr* transformation into QUBO can be presented as a ***XOR* QUBO triangle matrix**:\n",
    ">                   x   y  _^0   #[_^0]\n",
    ">\n",
    ">               x   1   2   -2    -4\n",
    ">\n",
    ">               y   0   1   -2    -4\n",
    ">\n",
    ">             _^0   0   0    1     4\n",
    ">\n",
    ">          #[_^0]   0   0    0     4"
   ]
  },
  {
   "cell_type": "code",
   "execution_count": 25,
   "id": "b30b30c7",
   "metadata": {},
   "outputs": [
    {
     "name": "stdout",
     "output_type": "stream",
     "text": [
      "Not-xor Expression QUBO:\n",
      " {('#[_^0]', '#[_^0]'): 4.0, ('_^0', '#[_^0]'): 4.0, ('_^0', '_^0'): 1.0, ('x', '#[_^0]'): -4.0, ('x', '_^0'): -2.0, ('x', 'x'): 1.0, ('x', 'y'): 2.0, ('y', '#[_^0]'): -4.0, ('y', '_^0'): -2.0, ('y', 'y'): 1.0}\n"
     ]
    }
   ],
   "source": [
    "compiler.reset() # continuing to use the same compiler instance\n",
    "xorXpr.compile(compiler)\n",
    "print(\"Not-xor Expression QUBO:\\n\", compiler.qubo())"
   ]
  },
  {
   "cell_type": "markdown",
   "id": "e382135a",
   "metadata": {},
   "source": [
    "### Transformation of an alike quantum expressions using Qbit NXOR operation\n",
    "\n",
    "An expression x.**nxor**(y) is same as x.**alike**(y). The *NXOR (!^)* binary quantum operation has two input operands *x* and *y*, and two output operands, automatically generated resulting output varaible *_!^n* and carryforward output variabel *#[_!^n]*, where n is a unique number of *NXOR (!^)* binary quantum operation instance.\n",
    "\n",
    "The QUBO optimization function:\n",
    "> ***f(r,x,y,c) = 8c - x - y - r + 2xy + 2xr + 2yr - 4xc - 4yc - 4rc*** \n",
    "\n",
    "represents an *NXOR (!^)* operation, where *x* and *y* are input variables, *r* is resulting output *Qbit* variable, and *c* is a carryforward output *Qbit* variable.\n",
    "\n",
    "The minimum of the NXOR optimization function *f(r,x,y,c)* is *-1*. For an example a correct solution when both *Qbit* input variables **x** and **y** have value *1* the resulting *Qbit* output variable *r* has value *1*, and carryforward output *Qbit* variable *c* has value *1*.\n",
    "\n",
    "- **Note**: In the printout of the NXOR expression below the resulting output *Qbit* variable generated by dann5 is named *_!^0*."
   ]
  },
  {
   "cell_type": "code",
   "execution_count": 26,
   "id": "5df36cff",
   "metadata": {},
   "outputs": [
    {
     "name": "stdout",
     "output_type": "stream",
     "text": [
      "Not-xor Expression:  _!^0\\S\\ = x\\S\\ !^ y\\S\\; \n"
     ]
    }
   ],
   "source": [
    "nxorXpr = x.nxor(y) # same as alikeXpr = x.alike(y)\n",
    "print(\"Not-xor Expression: \", nxorXpr.toString(True))"
   ]
  },
  {
   "cell_type": "markdown",
   "id": "aa01e980",
   "metadata": {},
   "source": [
    "The quantum expression *nxorXpr* transformation into QUBO can be presented as a ***XOR* QUBO triangle matrix**:\n",
    ">                   x   y  _!^0   #[_!^0]\n",
    ">\n",
    ">               x  -1   2    2     -4\n",
    ">\n",
    ">               y   0  -1    2     -4\n",
    ">\n",
    ">            _!^0   0   0   -1     -4\n",
    ">\n",
    ">         #[_!^0]   0   0    0      8"
   ]
  },
  {
   "cell_type": "code",
   "execution_count": 27,
   "id": "771ad2fd",
   "metadata": {},
   "outputs": [
    {
     "name": "stdout",
     "output_type": "stream",
     "text": [
      "Not-xor Expression QUBO:\n",
      " {('#[_!^0]', '#[_!^0]'): 8.0, ('_!^0', '#[_!^0]'): -4.0, ('_!^0', '_!^0'): -1.0, ('x', '#[_!^0]'): -4.0, ('x', '_!^0'): 2.0, ('x', 'x'): -1.0, ('x', 'y'): 2.0, ('y', '#[_!^0]'): -4.0, ('y', '_!^0'): 2.0, ('y', 'y'): -1.0}\n"
     ]
    }
   ],
   "source": [
    "compiler.reset() # continuing to use the same compiler instance\n",
    "nxorXpr.compile(compiler)\n",
    "print(\"Not-xor Expression QUBO:\\n\", compiler.qubo())"
   ]
  },
  {
   "cell_type": "markdown",
   "id": "43f381eb",
   "metadata": {},
   "source": [
    "## Transformation of Qwhole operations\n",
    "\n",
    "In addition to the *Qbit* publicly accessible operations, dann5 virtual machine implements *half-adder (.+)* and *full-adder (+) Qbit* expressions, which are used in implementation of quantum addition and multiplication operations:\n",
    "1. *half-adder (.+)* has two input and one resulting output quantum variables, and carryforward output quantum variable,\n",
    "2. *full-adder (+)* has three input and one resulting output quantum variables, and carryforward output quantum variable.\n",
    "\n",
    "First, we will define one q-bit Qwhole variables *x*, *y* and *z* with unknown (*U*) values."
   ]
  },
  {
   "cell_type": "code",
   "execution_count": 28,
   "id": "2574583e",
   "metadata": {},
   "outputs": [
    {
     "name": "stdout",
     "output_type": "stream",
     "text": [
      "x\\1q:U\\ y\\1q:U\\ z\\1q:U\\\n"
     ]
    }
   ],
   "source": [
    "from dann5.d5 import Qwhole\n",
    "x = Qwhole(1, \"x\"); y = Qwhole(1, \"y\"); z = Qwhole(1, \"z\");\n",
    "print(x, y, z)"
   ]
  },
  {
   "cell_type": "markdown",
   "id": "b7299b54",
   "metadata": {},
   "source": [
    "### Transformation of a half-adder quantum expressions\n",
    "\n",
    "An expression *x + y*, where *x* and *y* are one q-bit Qwhole variables utilizes a *Qbit half-adder (.+)* operation, as we can see from the expression's d5vc in the following example.\n",
    "\n",
    "The QUBO optimization function for a *Qbit half-adder (.+)* is same as for *Qbit XOR (^)* binary operation:\n",
    "> ***f(r,x,y,c) = x + y + r + 4c + 2xy - 2xr - 2yr - 4xc - 4yc + 4rc*** \n",
    "\n",
    "where *x* and *y* are input variables, *r* is resulting output *Qbit* variable, and *c* is a carryforward output *Qbit* variable.\n",
    "\n",
    "We have seen above that the minimum of the this optimization function *f(r,x,y,c)* is *0*.\n",
    "\n",
    "- **Note**: In the printout of the *Qbit half-adder (.+)* expression below the resulting output *Qbit* variable is dann5 system generated with the name *_+00*, while *_+01* is same as a system generated carryforward output variable *#[_+00]*."
   ]
  },
  {
   "cell_type": "code",
   "execution_count": 29,
   "id": "f68af899",
   "metadata": {},
   "outputs": [
    {
     "name": "stdout",
     "output_type": "stream",
     "text": [
      "Half-adder Expression:\n",
      " _+00\\S\\ = x0\\S\\ .+ y0\\S\\;\n",
      " _+01\\S\\ = #[_+00]\\S\\;\n",
      " \n"
     ]
    }
   ],
   "source": [
    "hadderXpr = x + y\n",
    "print(\"Half-adder Expression:\\n\", hadderXpr.toString(True).replace(';', ';\\n'))"
   ]
  },
  {
   "cell_type": "markdown",
   "id": "bda980c9",
   "metadata": {},
   "source": [
    "So, the quantum expression *hadderXpr* transformation into QUBO can be presented as a ***half-adder* QUBO triangle matrix**:\n",
    ">                   x   y  _+00  _+01\n",
    ">\n",
    ">               x   1   2   -2    -4\n",
    ">\n",
    ">               y   0   1   -2    -4\n",
    ">\n",
    ">            _+00   0   0    1     4\n",
    ">\n",
    ">            _+01   0   0    0     4"
   ]
  },
  {
   "cell_type": "code",
   "execution_count": 30,
   "id": "3e346b42",
   "metadata": {},
   "outputs": [
    {
     "name": "stdout",
     "output_type": "stream",
     "text": [
      "Half-adder Expression QUBO:\n",
      " {('_+00', '_+00'): 1.0, ('_+00', '_+01'): 4.0, ('_+01', '_+01'): 4.0, ('x0', '_+00'): -2.0, ('x0', '_+01'): -4.0, ('x0', 'x0'): 1.0, ('x0', 'y0'): 2.0, ('y0', '_+00'): -2.0, ('y0', '_+01'): -4.0, ('y0', 'y0'): 1.0}\n"
     ]
    }
   ],
   "source": [
    "compiler.reset() # continuing to use the same compiler instance\n",
    "hadderXpr.compile(compiler)\n",
    "print(\"Half-adder Expression QUBO:\\n\", compiler.qubo())"
   ]
  },
  {
   "cell_type": "markdown",
   "id": "e74b632c",
   "metadata": {},
   "source": [
    "### Transformation of a full-adder quantum expressions\n",
    "\n",
    "An expression *x + y + z*, where *x, y* and *z* are one q-bit Qwhole variables utilizes a *Qbit full-adder (+)* operation, as we can see from the expression's d5vc in the following example.\n",
    "\n",
    "- **CHALLENGE**: Define the QUBO optimization function for a *Qbit full-adder (+)*:\n",
    "> ***f(r,x,y,z,c) = ...*** \n",
    "\n",
    "where *x, y* and *z* are input variables, *r* is resulting output *Qbit* variable, and *c* is a carryforward output *Qbit* variable.\n",
    "\n",
    "- **CHALLENGE**:  What is the minimum of the this optimization function *f(r,x,y,z,c)*?"
   ]
  },
  {
   "cell_type": "code",
   "execution_count": 31,
   "id": "edda2519",
   "metadata": {},
   "outputs": [
    {
     "name": "stdout",
     "output_type": "stream",
     "text": [
      "Full-adder Expression:\n",
      " _+20\\S\\ = x0\\S\\ + y0\\S\\ + z0\\S\\;\n",
      " _+21\\S\\ = #[_+20]\\S\\;\n",
      " \n"
     ]
    }
   ],
   "source": [
    "adderXpr = x + y + z\n",
    "print(\"Full-adder Expression:\\n\", adderXpr.toString(True).replace(';', ';\\n'))"
   ]
  },
  {
   "cell_type": "markdown",
   "id": "1710e62a",
   "metadata": {},
   "source": [
    "- **CHALLENGE**: Reverse-engineer a ***full-adder* QUBO triangle matrix** for the quantum expression *adderXpr* transformation from the QUBO below. "
   ]
  },
  {
   "cell_type": "code",
   "execution_count": 32,
   "id": "b5108912",
   "metadata": {},
   "outputs": [
    {
     "name": "stdout",
     "output_type": "stream",
     "text": [
      "Full-adder Expression QUBO:\n",
      " {('_+20', '_+20'): 1.0, ('_+20', '_+21'): 4.0, ('_+21', '_+21'): 4.0, ('x0', '_+20'): -2.0, ('x0', '_+21'): -4.0, ('x0', 'x0'): 1.0, ('x0', 'y0'): 2.0, ('x0', 'z0'): 2.0, ('y0', '_+20'): -2.0, ('y0', '_+21'): -4.0, ('y0', 'y0'): 1.0, ('y0', 'z0'): 2.0, ('z0', '_+20'): -2.0, ('z0', '_+21'): -4.0, ('z0', 'z0'): 1.0}\n"
     ]
    }
   ],
   "source": [
    "compiler.reset() # continuing to use the same compiler instance\n",
    "adderXpr.compile(compiler)\n",
    "print(\"Full-adder Expression QUBO:\\n\", compiler.qubo())"
   ]
  },
  {
   "cell_type": "markdown",
   "id": "f17d5db4",
   "metadata": {},
   "source": [
    "In **the next chapter, 4.2**, we will first be covering the ***QUBO Compiler* and *Analyzer* followed by continuation of analyzing QUBO transformations**."
   ]
  }
 ],
 "metadata": {
  "kernelspec": {
   "display_name": "Python 3 (ipykernel)",
   "language": "python",
   "name": "python3"
  },
  "language_info": {
   "codemirror_mode": {
    "name": "ipython",
    "version": 3
   },
   "file_extension": ".py",
   "mimetype": "text/x-python",
   "name": "python",
   "nbconvert_exporter": "python",
   "pygments_lexer": "ipython3",
   "version": "3.10.4"
  }
 },
 "nbformat": 4,
 "nbformat_minor": 5
}
