{
 "cells": [
  {
   "cell_type": "markdown",
   "id": "eb37153e",
   "metadata": {},
   "source": [
    "# Chapter 4.1. - Quantum Operators and Operations QUBO Transformation\n",
    "\n",
    "Equal and alike quantum expressions using Qbit varaibles\n",
    "\n",
    "As per QUBO optimization function *f(x,y) = x + y - 2xy* for equal operator (a unary operation), dann5.d5o2 supports equal expressions for Qbit variables by implementing == operator for Qbit. In the following example we see:\n",
    "- xEq is a python variable with a reference to QbitExpr (expression) object\n",
    "- xEq contians x equal y expression, were both x and y are Qbit variables in S(uperposition) state\n",
    "- xEq expression can be transformed into a QUBO presentation as per the expression's optimization function, whcih can be presented as an equal expression QUBO triangle matrix\n",
    "    >                   x   y\n",
    "    >\n",
    "    >               x   1  -2\n",
    "    >\n",
    "    >               y   0   1\n",
    "- xEq can be solved by finding minimum of optimization function represented by the expression QUBO, which for x equal y has 2 possible solutions:\n",
    "    > x == y == 0\n",
    "    >\n",
    "    > x == y == 1"
   ]
  },
  {
   "cell_type": "code",
   "execution_count": 1,
   "id": "c96bab06",
   "metadata": {},
   "outputs": [
    {
     "name": "stdout",
     "output_type": "stream",
     "text": [
      "(x\\S\\ == y\\S\\)\n",
      "\n",
      "Equal Expression:\n",
      " (x\\S\\ == y\\S\\)\n"
     ]
    },
    {
     "ename": "AttributeError",
     "evalue": "'dann5.d5.QbitExpr' object has no attribute 'qubo'",
     "output_type": "error",
     "traceback": [
      "\u001b[1;31m---------------------------------------------------------------------------\u001b[0m",
      "\u001b[1;31mAttributeError\u001b[0m                            Traceback (most recent call last)",
      "Cell \u001b[1;32mIn[1], line 6\u001b[0m\n\u001b[0;32m      4\u001b[0m \u001b[38;5;28mprint\u001b[39m(xEq)\n\u001b[0;32m      5\u001b[0m \u001b[38;5;28mprint\u001b[39m(\u001b[38;5;124m\"\u001b[39m\u001b[38;5;130;01m\\n\u001b[39;00m\u001b[38;5;124mEqual Expression:\u001b[39m\u001b[38;5;130;01m\\n\u001b[39;00m\u001b[38;5;124m\"\u001b[39m, xEq)\n\u001b[1;32m----> 6\u001b[0m \u001b[38;5;28mprint\u001b[39m(\u001b[38;5;124m\"\u001b[39m\u001b[38;5;130;01m\\n\u001b[39;00m\u001b[38;5;124mEqual Expression QUBO:\u001b[39m\u001b[38;5;130;01m\\n\u001b[39;00m\u001b[38;5;124m\"\u001b[39m, \u001b[43mxEq\u001b[49m\u001b[38;5;241;43m.\u001b[39;49m\u001b[43mqubo\u001b[49m())\n\u001b[0;32m      7\u001b[0m \u001b[38;5;28mprint\u001b[39m(\u001b[38;5;124m\"\u001b[39m\u001b[38;5;130;01m\\n\u001b[39;00m\u001b[38;5;124mEqual Expression SOLUTION:\u001b[39m\u001b[38;5;130;01m\\n\u001b[39;00m\u001b[38;5;124m\"\u001b[39m, xEq\u001b[38;5;241m.\u001b[39msolve())\n",
      "\u001b[1;31mAttributeError\u001b[0m: 'dann5.d5.QbitExpr' object has no attribute 'qubo'"
     ]
    }
   ],
   "source": [
    "from dann5.d5 import Qbit\n",
    "# need to add somewhere\n",
    "from dann5.dwave import Solver\n",
    "Solver.Active()\n",
    "\n",
    "x = Qbit(\"x\"); y = Qbit(\"y\")\n",
    "xEq = x == y\n",
    "print(xEq)\n",
    "print(\"\\nEqual Expression:\\n\", xEq)\n",
    "# qubo breaks need to change to version 3 \n",
    "print(\"\\nEqual Expression QUBO:\\n\", xEq.qubo())\n",
    "print(\"\\nEqual Expression SOLUTION:\\n\", xEq.solve())"
   ]
  },
  {
   "cell_type": "markdown",
   "id": "e382135a",
   "metadata": {},
   "source": [
    "In addition to an equal operator it is possible to use alike (not-xor) operation to compare wether values of two quantum Qbit variables are equal, as in the following example.\n",
    "- xAl references x alike y operation expression, which is syntactically and semantically same as x not-xor y operation expression referenced by xNxor python variable\n",
    "- both of these QbitExpr objects, xAl and xNxor, can be expressed using same QUBO transformation:\n",
    "    >                   x   y  *=   #\n",
    "    >\n",
    "    >               x  -1   2   2  -4\n",
    "    >\n",
    "    >               y   0  -1   2  -4\n",
    "    >\n",
    "    >              *=   0   0  -1  -4\n",
    "    >\n",
    "    >               #   0   0   0   8\n",
    "    Where x and y are input variables of an operation, \\*= represents a result variable of the not-xor (alike) operation, and # represents a carryforward variable of the operation.\n",
    "\n",
    "- both of these expressions have the same solution:\n",
    "    > _*=0, a result automatically generated variable of the alike expression, xAl, is 1 when x and y have the same value (0 or 1) and the result variable is 0 when x and y are different (e.g. x is 1 and y is 0, or x is 0 and y is 1).\n",
    "    >\n",
    "    > Likewise, _*=1 result automatically generated variable of not-xor expression, xNxor, is 1 when x and y are same, and it is 0 when they are different."
   ]
  },
  {
   "cell_type": "code",
   "execution_count": 2,
   "id": "5df36cff",
   "metadata": {},
   "outputs": [
    {
     "name": "stdout",
     "output_type": "stream",
     "text": [
      "Alike Expression QUBO:\n",
      " {('#0', '#0'): 8.0, ('_*=0', '#0'): -4.0, ('_*=0', '_*=0'): -1.0, ('x', '#0'): -4.0, ('x', '_*=0'): 2.0, ('x', 'x'): -1.0, ('x', 'y'): 2.0, ('y', '#0'): -4.0, ('y', '_*=0'): 2.0, ('y', 'y'): -1.0}\n",
      "\n",
      "Not-xor Expression QUBO:\n",
      " {('#1', '#1'): 8.0, ('_*=1', '#1'): -4.0, ('_*=1', '_*=1'): -1.0, ('x', '#1'): -4.0, ('x', '_*=1'): 2.0, ('x', 'x'): -1.0, ('x', 'y'): 2.0, ('y', '#1'): -4.0, ('y', '_*=1'): 2.0, ('y', 'y'): -1.0}\n",
      "\n",
      "Alike Expression SOLUTION:\n",
      " _*=0/0/; x/0/; y/1/\n",
      "_*=0/0/; x/1/; y/0/\n",
      "_*=0/1/; x/0/; y/0/\n",
      "_*=0/1/; x/1/; y/1/\n",
      "\n",
      "\n",
      "Not-xor Expression SOLUTION:\n",
      " _*=1/0/; x/0/; y/1/\n",
      "_*=1/0/; x/1/; y/0/\n",
      "_*=1/1/; x/0/; y/0/\n",
      "_*=1/1/; x/1/; y/1/\n",
      "\n"
     ]
    }
   ],
   "source": [
    "xAl = x.alike(y)\n",
    "xNxor = x.nxor(y)\n",
    "# qubo will break need to change\n",
    "print(\"Alike Expression QUBO:\\n\", xAl.qubo())\n",
    "print(\"\\nNot-xor Expression QUBO:\\n\", xNxor.qubo())\n",
    "print(\"\\nAlike Expression SOLUTION:\\n\", xAl.solve())\n",
    "print(\"\\nNot-xor Expression SOLUTION:\\n\", xNxor.solve())"
   ]
  },
  {
   "cell_type": "markdown",
   "id": "e2b2f5aa",
   "metadata": {},
   "source": [
    "## Quantum assignments of Qbit variables\n",
    "Even though an equal quantum expression and a quantum assignment might result in the same solution, for a development of a quantum program it is important to recognise the difference between these two constructs. \n",
    "> An equal quantum operator allows definition of a expression enforcing equality between two quantum Qbit variables. \n",
    "\n",
    "> An assignment allows programmer to establish a relationship between an expected result variable and an expression that describes a problem.\n",
    ">    > r = x, is an assignment where r variable represents a result of a simple expression that has only one variable x. \n",
    "\n",
    "- In a way, an assignment of x to r variables means that r and x are the same, and they are interpreted as same enforcing a result variable r, and replacing (ignoring) same variable x. So, we can apply following transformations:\n",
    "    > r = x <=> r = x == r\n",
    "    >     => r = r == r\n",
    "- As a result the QUBO transformation of an asignment is quite simple transformation\n",
    "    >                   r\n",
    "    >\n",
    "    >               r   0\n",
    "- The solution is according to our expectations:\n",
    "    > r = x == r = 0\n",
    "    >\n",
    "    > r = x == r = 1"
   ]
  },
  {
   "cell_type": "code",
   "execution_count": 3,
   "id": "e76e99c5",
   "metadata": {},
   "outputs": [
    {
     "name": "stdout",
     "output_type": "stream",
     "text": [
      "Assignment:\n",
      " r/S/ = (r/S/ == r/S/)\n",
      "\n",
      "Assignment QUBO:\n",
      " {('r', 'r'): 0.0}\n",
      "\n",
      "Assignment SOLUTION:\n",
      " r/0/; r/0/\n",
      "r/1/; r/1/\n",
      "\n"
     ]
    }
   ],
   "source": [
    "r = Qbit(\"r\")\n",
    "aR = r.assign(x)\n",
    "print(\"Assignment:\\n\", aR)\n",
    "# qubo will break need to change\n",
    "print(\"\\nAssignment QUBO:\\n\", aR.qubo())\n",
    "print(\"\\nAssignment SOLUTION:\\n\", aR.solve())"
   ]
  },
  {
   "cell_type": "markdown",
   "id": "f0dfab27",
   "metadata": {},
   "source": [
    "## Equal and alike Qbit expressions in quantum assignment\n",
    "We can use **equal operator** to define a quantum expression that is assigned to a result Qbit variable.\n",
    "- The quantum assignment r = x == y, results in y and r Qbit variables being recognised as same. \n",
    "- This is correct as an equal operator is a unary operation and QUBO transformation of a unary operation expression, treats the second operand (in this case y Qbit variable) as an output of the expression.\n",
    "- So the solution is:\n",
    "    > r = y = x == r = 0\n",
    "    >\n",
    "    > r = y = x == r = 1"
   ]
  },
  {
   "cell_type": "code",
   "execution_count": 4,
   "id": "7055a91f",
   "metadata": {},
   "outputs": [
    {
     "name": "stdout",
     "output_type": "stream",
     "text": [
      "Equal Assignment:\n",
      " r/S/ = (x/S/ == r/S/)\n",
      "\n",
      "Equal Assignment QUBO:\n",
      " {('r', 'r'): 1.0, ('x', 'r'): -2.0, ('x', 'x'): 1.0}\n",
      "\n",
      "Equal Assignment SOLUTION:\n",
      " r/0/; x/0/\n",
      "r/1/; x/1/\n",
      "\n"
     ]
    }
   ],
   "source": [
    "axEq = r.assign(x == y)\n",
    "print(\"Equal Assignment:\\n\", axEq)\n",
    "# qubo will break need to change\n",
    "print(\"\\nEqual Assignment QUBO:\\n\", axEq.qubo())\n",
    "print(\"\\nEqual Assignment SOLUTION:\\n\", axEq.solve())"
   ]
  },
  {
   "cell_type": "markdown",
   "id": "d9e549c0",
   "metadata": {},
   "source": [
    "**Alike (not-xor)** is a binary operation, which has two input operators, in example below Qbit variables x and y, and a result output operand, represented with _*=(plus-number) and its carryforward operand, represented with #(plus-number). When alike (not-xor) expression is assigned to a result Qbit variable, the operation result output binds to (is replaced with) the assignment result variable.\n",
    "- axAl references x alike (not-xor) y operation expression, which is assigned to a result Qbit variable r. The Qbit alike (not-xor) operation is represented with *= simbol. \n",
    "- As the the alike expression temporary result variable is replaced with defined result variable r, the QUBO transformation can we represented with teh same triangular QUBO matrix above, where *= output is replacd with r Qbit result variable .\n",
    "- The assignment, as the two expressions earlier, have the same solution:\n",
    "    > r, a Qbit result of the alike assignment, axAl, is 1 when x and y have the same value, 0 or 1, and \n",
    "    >\n",
    "    > it is 0 when x and y are different, e.g. x is 1 and y is 0, or x is 0 and y is 1."
   ]
  },
  {
   "cell_type": "code",
   "execution_count": 5,
   "id": "8ca62f65",
   "metadata": {},
   "outputs": [
    {
     "name": "stdout",
     "output_type": "stream",
     "text": [
      "Alike Assignment:\n",
      " r/S/ = (x/S/ *= y/S/)\n",
      "\n",
      "Alike Assignment QUBO:\n",
      " {('#2', '#2'): 8.0, ('r', '#2'): -4.0, ('r', 'r'): -1.0, ('x', '#2'): -4.0, ('x', 'r'): 2.0, ('x', 'x'): -1.0, ('x', 'y'): 2.0, ('y', '#2'): -4.0, ('y', 'r'): 2.0, ('y', 'y'): -1.0}\n",
      "\n",
      "Alike Assignment SOLUTION:\n",
      " r/0/; x/0/; y/1/\n",
      "r/0/; x/1/; y/0/\n",
      "r/1/; x/0/; y/0/\n",
      "r/1/; x/1/; y/1/\n",
      "\n"
     ]
    }
   ],
   "source": [
    "axAl = r.assign(x.alike(y))\n",
    "print(\"Alike Assignment:\\n\", axAl)\n",
    "# qubo will break need to change\n",
    "print(\"\\nAlike Assignment QUBO:\\n\", axAl.qubo())\n",
    "print(\"\\nAlike Assignment SOLUTION:\\n\", axAl.solve())"
   ]
  },
  {
   "cell_type": "markdown",
   "id": "d1aa8f5b",
   "metadata": {},
   "source": [
    "## Not-qual vs. unlike quantum expressions and assignments\n",
    "**Not-equal** is a Qbit operator (unary operation), which ensures two Qbit variables, x and y, are different."
   ]
  },
  {
   "cell_type": "code",
   "execution_count": 6,
   "id": "de38ca1a",
   "metadata": {},
   "outputs": [
    {
     "name": "stdout",
     "output_type": "stream",
     "text": [
      "Not-equal Expression:\n",
      " (x/S/ != y/S/)\n",
      "\n",
      "Not-equal Expression QUBO:\n",
      " {('x', 'x'): -1.0, ('x', 'y'): 2.0, ('y', 'y'): -1.0}\n",
      "\n",
      "Not-equal Expression SOLUTION:\n",
      " y/1/; x/0/\n",
      "y/0/; x/1/\n",
      "\n"
     ]
    }
   ],
   "source": [
    "xNe = x != y\n",
    "print(\"Not-equal Expression:\\n\", xNe)\n",
    "# qubo will break need to change\n",
    "print(\"\\nNot-equal Expression QUBO:\\n\", xNe.qubo())\n",
    "print(\"\\nNot-equal Expression SOLUTION:\\n\", xNe.solve())"
   ]
  },
  {
   "cell_type": "markdown",
   "id": "c5eee2eb",
   "metadata": {},
   "source": [
    "An expression x ^ y (x **xor** y) is same as x.**unlike**(y). Similarly to alike (not-xor) Qbit operation, the unlike (xor) binary operation has two input operands x and y, and two output operands, automatically generated result varaible _^ and carryforward variabel #, as represented by its QUBO. The solution of unlike (xor) operation expression is oposite to that of alike expression:\n",
    "    > _^, a result temporary variable of the alike expression, xAl, is 0 when x and y have the same value, 0 or 1, and \n",
    "    >\n",
    "    > it is 1 when x and y are different, e.g. x is 1 and y is 0, or x is 0 and y is 1."
   ]
  },
  {
   "cell_type": "code",
   "execution_count": 7,
   "id": "6f4f7c89",
   "metadata": {},
   "outputs": [
    {
     "name": "stdout",
     "output_type": "stream",
     "text": [
      "Unlike Expression: (x/S/ ^ y/S/)\n",
      "\tDecomposed:_^0/S/ = x/S/ ^ y/S/; \n",
      "\n",
      "\n",
      "Unlike Expression QUBO:\n",
      " {('#3', '#3'): 4.0, ('_^0', '#3'): 4.0, ('_^0', '_^0'): 1.0, ('x', '#3'): -4.0, ('x', '_^0'): -2.0, ('x', 'x'): 1.0, ('x', 'y'): 2.0, ('y', '#3'): -4.0, ('y', '_^0'): -2.0, ('y', 'y'): 1.0}\n",
      "\n",
      "Unlike Expression SOLUTION:\n",
      " _^0/0/; x/0/; y/0/\n",
      "_^0/1/; x/0/; y/1/\n",
      "_^0/1/; x/1/; y/0/\n",
      "_^0/0/; x/1/; y/1/\n",
      "\n"
     ]
    }
   ],
   "source": [
    "xUl = x ^ y\n",
    "print(\"Unlike Expression: {}\\n\\tDecomposed:{}\\n\".format(xUl,xUl.toString(True)))\n",
    "# qubo will break need to change\n",
    "print(\"\\nUnlike Expression QUBO:\\n\", xUl.qubo())\n",
    "print(\"\\nUnlike Expression SOLUTION:\\n\", xUl.solve())"
   ]
  },
  {
   "cell_type": "markdown",
   "id": "f9e85713",
   "metadata": {},
   "source": [
    "We can enforce x and y to be different by assigning the unlike (xor) expression to a deterministic constant variable with the value 1. By comparing QUBOs in examples above and below, we see that the QUBO transformaion below has been changed by resolving quadratic QUBO elements containing deterministic Qbit variable _ 1 _. The solution for x and y is same as in case of the not-equal expression above."
   ]
  },
  {
   "cell_type": "code",
   "execution_count": 8,
   "id": "47e8622b",
   "metadata": {},
   "outputs": [
    {
     "name": "stdout",
     "output_type": "stream",
     "text": [
      "Unlike Assignment:  _1_/1/ = (x/S/ ^ y/S/)\n",
      "\tQUBO: {('#4', '#4'): 8.0, ('x', '#4'): -4.0, ('x', 'x'): -1.0, ('x', 'y'): 2.0, ('y', '#4'): -4.0, ('y', 'y'): -1.0}\n",
      "SOLUTION:\n",
      " _1_/1/; x/0/; y/1/\n",
      "_1_/1/; x/1/; y/0/\n",
      "\n"
     ]
    }
   ],
   "source": [
    "_1_ = Qbit(\"_1_\", 1)\n",
    "axUl = _1_.assign(x.unlike(y))\n",
    "print(\"Unlike Assignment: \", axUl)\n",
    "# qubo will break need to change\n",
    "print(\"\\tQUBO:\", axUl.qubo())\n",
    "print(\"SOLUTION:\\n\", axUl.solve())"
   ]
  },
  {
   "cell_type": "markdown",
   "id": "2cbbbee6",
   "metadata": {},
   "source": [
    "## Use of operators vs. operations in complex Qbit assignments\n",
    "Using the same complex Qbit expression mixing operators and operations from 2_Qbit notebook, we can create an Qbit assignment with the same solution. "
   ]
  },
  {
   "cell_type": "code",
   "execution_count": 9,
   "id": "5de522b7",
   "metadata": {},
   "outputs": [
    {
     "name": "stdout",
     "output_type": "stream",
     "text": [
      "\n",
      "LOGIC:_1_/1/ = ((z/S/ != (b/1/ & x/S/)) | (z/S/ == (y/S/ ^ _0_/0/)))\n",
      "\tDecomposed: _1_/1/ = _&0/S/ | _^2/S/; z/S/ != _&0/S/; _&0/S/ = b/1/ & x/S/; z/S/ == _^2/S/; _^2/S/ = y/S/ ^ _0_/0/; \n",
      "*** Generic Qubo ***\n",
      "{('#5', '#5'): 4.0, ('_&0', '_&0'): 3.0, ('_&0', '_1_'): -2.0, ('_&0', '_^2'): 1.0, ('_0_', '#5'): -4.0, ('_0_', '_0_'): 1.0, ('_0_', '_^2'): -2.0, ('_1_', '_1_'): 1.0, ('_^2', '#5'): 4.0, ('_^2', '_1_'): -2.0, ('_^2', '_^2'): 3.0, ('b', '_&0'): -2.0, ('b', 'b'): 0.0, ('b', 'x'): 1.0, ('x', '_&0'): -2.0, ('x', 'x'): 0.0, ('y', '#5'): -4.0, ('y', '_0_'): 2.0, ('y', '_^2'): -2.0, ('y', 'y'): 1.0, ('z', '_&0'): 2.0, ('z', '_^2'): -2.0, ('z', 'z'): 0.0}\n",
      "\n",
      "*** Finalized Qubo ***\n",
      "{('#5', '#5'): 4.0, ('_&0', '_&0'): -1.0, ('_&0', '_^2'): 1.0, ('_^2', '#5'): 4.0, ('_^2', '_^2'): 1.0, ('x', '_&0'): -2.0, ('x', 'x'): 1.0, ('y', '#5'): -4.0, ('y', '_^2'): -2.0, ('y', 'y'): 1.0, ('z', '_&0'): 2.0, ('z', '_^2'): -2.0, ('z', 'z'): 0.0}\n",
      "\n"
     ]
    }
   ],
   "source": [
    "b = Qbit(\"b\", 1); z = Qbit(\"z\"); _0_ = Qbit(\"_0_\", 0)\n",
    "qbitAssign = _1_.assign((z != (b & x)) | (z == (y ^ _0_)))\n",
    "print(\"\\nLOGIC:{}\\n\\tDecomposed: {}\".format(qbitAssign,qbitAssign.toString(True)))\n",
    "# qubo will break need to change\n",
    "print(\"*** Generic Qubo ***\\n{}\\n\".format(qbitAssign.qubo(False))); \n",
    "print(\"*** Finalized Qubo ***\\n{}\\n\".format(qbitAssign.qubo()))"
   ]
  },
  {
   "cell_type": "markdown",
   "id": "4f4a9690",
   "metadata": {},
   "source": [
    "A relationship graph, shown below, is based on decomposed circuits of the bitwise assignment statemenet **_1_ = ((z != (b & x)) | (z == (y ^ _0_)))**, where x, y and z are Qbit variables in superposition state, _1_ and b are Qbit variables set to value 1 and _0_ is a Qbit variable set to value 0.\n",
    ">\t                                     _1_/1/\n",
    ">\n",
    ">\t                   _&0/S/\t           |\t          \t_^2/S/\n",
    ">\n",
    ">\t          z/S/\t !=\t   _&0/S/\t\t       z/S/\t   == \t\t_^2/S/\n",
    ">\n",
    ">       \t\t        \tb/1/\t&\tx/S/\t\t\t              y/S/\t^\t_0_/0/\n",
    "\n",
    "The _&0 and _^2 are autoamtically generated result variables for *and* and *xor* operations respectfully. Both of the automatically generated result variables are set to superposition state, as at least one of the operations' input variables is in superposition state."
   ]
  },
  {
   "cell_type": "code",
   "execution_count": 10,
   "id": "d5785059",
   "metadata": {},
   "outputs": [
    {
     "name": "stdout",
     "output_type": "stream",
     "text": [
      "# of nodes: 6, # of branches: 7\n",
      "\n",
      "*** SOLUTION ***\n",
      "_1_/1/; _&0/0/; b/1/; x/0/; z/1/; _^2/1/; y/1/; _0_/0/; z/1/\n",
      "_1_/1/; _&0/1/; b/1/; x/1/; z/0/; _^2/0/; y/0/; _0_/0/; z/0/\n",
      "\n"
     ]
    }
   ],
   "source": [
    "from dann5.d5 import Qanalyzer\n",
    "\n",
    "# qubo will break need to change\n",
    "analyze = Qanalyzer(qbitAssign.qubo())\n",
    "print(\"# of nodes: {}, # of branches: {}\\n\".format(analyze.nodesNo(),analyze.branchesNo()))\n",
    "\n",
    "print(\"*** SOLUTION ***\\n{}\".format(qbitAssign.solve()))"
   ]
  },
  {
   "cell_type": "markdown",
   "id": "e9c55a87",
   "metadata": {},
   "source": [
    "There are only 2 valid solutions enforced by equal and not-equal operators:\n",
    "1. Solution x/0/, y/1/ and z/1/ is valid:\n",
    ">\t                                     _1_/1/\n",
    ">\n",
    ">\t                    _&0/0/\t           |\t          \t_^2/1/\n",
    ">\n",
    ">\t          z/1/\t !=\t   _&0/0/\t\t       z/1/\t   == \t\t_^2/1/\n",
    ">\n",
    ">       \t\t        \tb/1/\t&\tx/0/\t\t\t              y/1/\t^\t_0_/0/\n",
    "2. Solution x/1/, y/0/ and z/0/ is valid\n",
    ">\t                                     _1_/1/\n",
    ">\n",
    ">\t                    _&0/1/\t           |\t          \t_^2/0/\n",
    ">\n",
    ">\t          z/0/\t !=\t   _&0/1/\t\t       z/0/\t   == \t\t_^2/0/\n",
    ">\n",
    ">       \t\t        \tb/1/\t&\tx/1/\t\t\t              y/0/\t^\t_0_/0/\n",
    "\n",
    "## Use of alike and unlike Qbit operations instead of eqaul and not-equal operators\n",
    "\n",
    "Similar logic can be implemented using alike (not-xor) operation instead of equal operator and unlike (xor) operation instead of not-equal operator. As operation explore valid soulutions where reslut of the operation can be 0, the solution set is large, including the valid solutions when the operators were used."
   ]
  },
  {
   "cell_type": "code",
   "execution_count": 14,
   "id": "27a32232",
   "metadata": {},
   "outputs": [
    {
     "name": "stdout",
     "output_type": "stream",
     "text": [
      "\n",
      "LOGIC:\n",
      "_1_/1/ = (((b/1/ & x/S/) ^ z/S/) | (y/S/ ^ _0_/0/))\n",
      "_1_/1/ = _^6/S/ | _^7/S/; _^6/S/ = _&4/S/ ^ z/S/; _&4/S/ = b/1/ & x/S/; _^7/S/ = y/S/ ^ _0_/0/; \n",
      "*** SOLUTION ***\n",
      "_1_/1/; _^6/0/; _&4/0/; b/1/; x/0/; z/0/; _^7/1/; y/1/; _0_/0/\n",
      "_1_/1/; _^6/1/; _&4/0/; b/1/; x/0/; z/1/; _^7/0/; y/0/; _0_/0/\n",
      "_1_/1/; _^6/1/; _&4/0/; b/1/; x/0/; z/1/; _^7/1/; y/1/; _0_/0/\n",
      "_1_/1/; _^6/1/; _&4/1/; b/1/; x/1/; z/0/; _^7/0/; y/0/; _0_/0/\n",
      "_1_/1/; _^6/1/; _&4/1/; b/1/; x/1/; z/0/; _^7/1/; y/1/; _0_/0/\n",
      "_1_/1/; _^6/0/; _&4/1/; b/1/; x/1/; z/1/; _^7/1/; y/1/; _0_/0/\n",
      "\n"
     ]
    }
   ],
   "source": [
    "qbitAssign = _1_.assign(((b & x).unlike(z) | ((y ^ _0_).alike(z))))\n",
    "print(\"\\nLOGIC:\\n{}\\n{}\".format(qbitAssign,qbitAssign.toString(True)))\n",
    "print(\"*** SOLUTION ***\\n{}\".format(qbitAssign.solve()))"
   ]
  },
  {
   "cell_type": "markdown",
   "id": "44e5cf0a",
   "metadata": {},
   "source": [
    "1. Solution x/0/, y/0/ and z/1/ is a valid solution\n",
    ">\t                                 _1_/1/\n",
    ">\n",
    ">\t              _^4/1/\t           |\t            _*=0/0/\n",
    ">\n",
    ">\t          _&3/0/\t ^\tz/1/\t\t      _^3/0/\t*=\tz/1/\n",
    ">\n",
    ">       b/1/\t&\tx/0/\t\t\t    y/0/\t^\t_0_/0/\n",
    "2. Solution x/0/, y/0/ and z/0/ is a valid solution\n",
    ">\t                                 _1_/1/\n",
    ">\n",
    ">\t              _^4/0/\t           |\t            _*=0/1/\n",
    ">\n",
    ">\t          _&3/0/\t ^\tz/0/\t\t      _^3/0/\t*=\tz/0/\n",
    ">\n",
    ">       b/1/\t&\tx/0/\t\t\t    y/0/\t^\t_0_/0/\n",
    "3. Solution x/1/, y/1/ and z/0/ is a valid solution\n",
    ">\t                                 _1_/1/\n",
    ">\n",
    ">\t              _^4/1/\t           |\t            _*=0/0/\n",
    ">\n",
    ">\t          _&3/1/\t ^\tz/0/\t\t      _^3/1/\t*=\tz/0/\n",
    ">\n",
    ">       b/1/\t&\tx/1/\t\t\t    y/1/\t^\t_0_/0/\n",
    "4. Solution x/1/, y/0/ and z/0/ is same valid solution as when we used equal and not-equal operators\n",
    "5. Solution x/0/, y/1/ and z/1/ is same valid solution as when we used equal and not-equal operators\n",
    "6. Solution x/1/, y/1/ and z/1/ is a valid solution\n",
    ">\t                                 _1_/1/\n",
    ">\n",
    ">\t              _^4/0/\t           |\t            _*=0/1/\n",
    ">\n",
    ">\t          _&3/1/\t ^\tz/1/\t\t      _^3/1/\t*=\tz/1/\n",
    ">\n",
    ">       b/1/\t&\tx/1/\t\t\t    y/1/\t^\t_0_/0/"
   ]
  },
  {
   "cell_type": "markdown",
   "id": "8ead898a",
   "metadata": {},
   "source": [
    "## d5o 2 assignment conversion to QUBO\n",
    "\n",
    "Now we can convert the Q assignments 'aA' or eM to their [QUBO](https://minatoyuichiro.medium.com/qubo-select-k-qubits-from-n-qubits-on-qaoa-651dca0a0e9b) presentation ([learn more about QUBO in context of DWave  Binary Quadratic Models (BQM)](https://docs.dwavesys.com/docs/latest/c_gs_3.html#qubo)). \n",
    "There are 2 forms of QUBO presentation that can be requested from a Q equation, **generic** and **finalized**. \n",
    "> **A generic QUBO** is transformation where all Qassignment operations and variables are converted into qubo presentation wether they are deterministic or unknown (with Qbits in supperposition state).\n",
    "\n",
    "To retrieve a **generic QUBO** presentation of the Q assignment *aA* use *qubo* method with *finalized* argument set to *False*."
   ]
  },
  {
   "cell_type": "code",
   "execution_count": null,
   "id": "1e383865",
   "metadata": {},
   "outputs": [],
   "source": [
    "# need to change this so that it works aA.qubo() is working differently\n",
    "gQaA = aA.qubo(False)\n",
    "print('Generic QUBO presentation of aA assignment:\\n', gQaA)\n",
    "\n",
    "from dann5.d5 import Qanalyzer\n",
    "gQaAnlyzr = Qanalyzer(gQaA)\n",
    "print(\"\\nLinear nodes\\n\", gQaAnlyzr.nodes())\n",
    "print(\"\\nQuadratic branches\\n\", gQaAnlyzr.branches())"
   ]
  }
 ],
 "metadata": {
  "kernelspec": {
   "display_name": "Python 3 (ipykernel)",
   "language": "python",
   "name": "python3"
  },
  "language_info": {
   "codemirror_mode": {
    "name": "ipython",
    "version": 3
   },
   "file_extension": ".py",
   "mimetype": "text/x-python",
   "name": "python",
   "nbconvert_exporter": "python",
   "pygments_lexer": "ipython3",
   "version": "3.10.4"
  }
 },
 "nbformat": 4,
 "nbformat_minor": 5
}
