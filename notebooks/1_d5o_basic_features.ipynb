{
 "cells": [
  {
   "cell_type": "markdown",
   "metadata": {},
   "source": [
    "# Basic Programmming with [Dann5 d5o 2 library](https://github.com/voya-voja/d5o2)\n",
    "\n",
    "In the [Leap factoring demo](https://cloud.dwavesys.com/learning/user/nebojsa_2evojinovic_40rogers_2ecom/notebooks/leap/demos/factoring/01-factoring-overview.ipynb), the D-Wave system can be used to factor a whole number by running a multiplication circuit in reverse. The factoring demo shows how can be solved a [constraint satisfaction problem (CSP)]( https://docs.ocean.dwavesys.com/en/stable/concepts/csp.html) on a QAC. \n",
    "\n",
    "In a way **Dann5 d5o programming framework** is an extension of python programming langue that provides a human friendly generalization of CSP implementation, which permits quantum programmers to use constructs such as data types definitions, expression and assignments to define problem to be solved on quantum computers, annealers or simulators via QUBO transformation.\n",
    "\n",
    "This Jupyter Notebook demonstrates:\n",
    "1. definition of Qwhole variables and type conversion to Qbin using Dann5 d5o library\n",
    "2. how to define and solve quantum addition and multiplication assignments by using d5o quantum annealing simulator\n",
    "3. a programmatic conversion of a basic problem statement into a QUBO binary quadratic model (BQM) for quantum annealing computer (QAC), \n",
    "4. submission of the QUBO to the D-Wave simulator and system, and retrieval of corresponding solution samples, and \n",
    "5. conversion of the retrieved solution samples into human readable form\n",
    "6. introduces quantum expressions in d5o and compares them to quantum assignments\n",
    "\n",
    "So, if you have [installed Dann5 d5o library](https://pypi.org/project/dann5/) and all prerequisites, lets start."
   ]
  },
  {
   "cell_type": "markdown",
   "metadata": {},
   "source": [
    "## Defining quantum variables using d5o 2"
   ]
  },
  {
   "cell_type": "code",
   "execution_count": 1,
   "metadata": {},
   "outputs": [],
   "source": [
    "from dann5.d5o2 import Qwhole"
   ]
  },
  {
   "cell_type": "markdown",
   "metadata": {},
   "source": [
    "> The line above allows definition of **Q** (quantum) **whole variables** in python.\n",
    "\n",
    "To define a Q variable **a** as an unknown whole number with **4 Q bits in S**(uperposition) state, it is as simple as:"
   ]
  },
  {
   "cell_type": "code",
   "execution_count": 2,
   "metadata": {},
   "outputs": [],
   "source": [
    "var = Qwhole(4, \"a\")"
   ]
  },
  {
   "cell_type": "markdown",
   "metadata": {},
   "source": [
    "> Note that **'var'** is a python variable with a reverence to the defined Q whole variable **'a'**.\n",
    "\n",
    "There is no reason that python and Q variable can't have the same name, like in the following line. **A python variable has a reference to a defined Q variable with the same name 'b'**."
   ]
  },
  {
   "cell_type": "code",
   "execution_count": 3,
   "metadata": {},
   "outputs": [],
   "source": [
    "b = Qwhole(3, \"b\")"
   ]
  },
  {
   "cell_type": "markdown",
   "metadata": {},
   "source": [
    "> The Q variable 'b' is of **Qwhole type with U**(nknown) **value**, meaning that **at least one of its Qbits is in a S**(uperposition)** state**. In this definition of Q variable 'b', all 3 Qbits are in S state.\n",
    "\n",
    "Both, 'a' and 'b' Q variables are defined as *Unknown*. HOwever, if we want to define a **deterministic Q whole variable** we specify its initialization value as in following definition:"
   ]
  },
  {
   "cell_type": "code",
   "execution_count": 4,
   "metadata": {},
   "outputs": [],
   "source": [
    "A = Qwhole(\"A\", 15)"
   ]
  },
  {
   "cell_type": "markdown",
   "metadata": {},
   "source": [
    "- **NOTE**: Like in python, a Q whole variable 'A' is different from Q variable 'a', i.e. **d5o is case sensitive**.\n",
    "\n",
    "> The Q variable 'A' is a 4 Qbit whole number with value 15, i.e. all its Qbits set to 1, i.e. binary 1111."
   ]
  },
  {
   "cell_type": "code",
   "execution_count": 5,
   "metadata": {},
   "outputs": [
    {
     "name": "stdout",
     "output_type": "stream",
     "text": [
      "The binarry presentation of a deterministic Qwhole varaible A/4:15/ is A/4b1111/.\n",
      "The binary presentation of an unknown Qwhole varaible a/4:U/ is a/4bU/,\n",
      "... and of b/3:U/ is b/3bU/,\n"
     ]
    }
   ],
   "source": [
    "from dann5.d5o2 import Qbin\n",
    "print('The binarry presentation of a deterministic Qwhole varaible {} is {}.'.format(A.toString(), Qbin(A).toString()))\n",
    "print('The binary presentation of an unknown Qwhole varaible {} is {},'.format(var.toString(), Qbin(var).toString()))\n",
    "print('... and of {} is {},'.format(b.toString(), Qbin(b).toString()))"
   ]
  },
  {
   "cell_type": "markdown",
   "metadata": {},
   "source": [
    "## Defining and solving d5o 2 quantum assignment\n",
    "We can now define a quantum assignment (Qassignment) by assign an addition quantum expression 'a' + 'b' to 'A':"
   ]
  },
  {
   "cell_type": "code",
   "execution_count": 6,
   "metadata": {},
   "outputs": [],
   "source": [
    "aA = A.assign(var + b)"
   ]
  },
  {
   "cell_type": "markdown",
   "metadata": {},
   "source": [
    "In python, we write the expression **'var' + 'b'**, as python 'var' variable is reference of a definition of Q whole variable 'a'.\n",
    "- **NOTE**: all the quantum variables in an expression or assignment have to be of the same type.\n",
    "> In this notebook we cover Qwhole variables, however, at present dann5.d5o2 supports definition of quantum expressions and assignments using variables of Qbit, Qbool, Qbin, Qwhole and Qint types."
   ]
  },
  {
   "cell_type": "code",
   "execution_count": 7,
   "metadata": {},
   "outputs": [
    {
     "data": {
      "text/plain": [
       "<dann5.d5o2.QwholeAssignment at 0x247d3c7e130>"
      ]
     },
     "execution_count": 7,
     "metadata": {},
     "output_type": "execute_result"
    }
   ],
   "source": [
    "aA"
   ]
  },
  {
   "cell_type": "markdown",
   "metadata": {},
   "source": [
    "- **NOTE**: aA is an instance of a dann5.d5o2.QwholeAssignment class, which is a specilization of dann5.d5o2.Qassignment, with the following Qwhole addition assigned:"
   ]
  },
  {
   "cell_type": "code",
   "execution_count": 8,
   "metadata": {},
   "outputs": [
    {
     "name": "stdout",
     "output_type": "stream",
     "text": [
      "A/5:15/ = (a/4:U/ + b/3:U/)\n"
     ]
    }
   ],
   "source": [
    "print(aA.toString())"
   ]
  },
  {
   "cell_type": "markdown",
   "metadata": {},
   "source": [
    "The *aA.toString()* method returns the quantum assignment, where each variable is presented as \n",
    "> *variable_name* ***/*** *#_of_q-bits* ***:*** *varaible_value* ***/***\n",
    "\n",
    "- **NOTE**: Unknown quantum whole variables 'a' and 'b' have *variable_value = U*, while deterministic quantum whole variable 'A' has *variable_value = 15*.\n",
    "\n",
    "We can see the Qbit level decomposition of the Q assignment, by setting *decomposed* argument to *True* in the *aA.toString()* method. The default value of *decomposed* argument is *False*."
   ]
  },
  {
   "cell_type": "code",
   "execution_count": 9,
   "metadata": {},
   "outputs": [
    {
     "name": "stdout",
     "output_type": "stream",
     "text": [
      "\n",
      "A0/1/ = a0/S/ ^ b0/S/\n",
      "\n",
      "A1/1/ = a1/S/ + b1/S/ + #0/S/\n",
      "#0/S/ = #[A0/1/]\n",
      "\n",
      "A2/1/ = a2/S/ + b2/S/ + #1/S/\n",
      "#1/S/ = #[A1/1/]\n",
      "\n",
      "A3/1/ = a3/S/ ^ #2/S/\n",
      "#2/S/ = #[A2/1/]\n",
      "\n",
      "A4/0/ = #[A3/1/]\n",
      "\n"
     ]
    }
   ],
   "source": [
    "print(aA.toString(True))"
   ]
  },
  {
   "cell_type": "markdown",
   "metadata": {},
   "source": [
    "The *aA.toString(True)* method returns line by line Q bit level assignments corresponding to the original quantum assignment, where each Qbit variable is presented as \n",
    "> *variable_name #_of_q-bit_level* ***/*** *q-bit_varaible_value* ***/***\n",
    "\n",
    "- **NOTE**: The q-bit variables, like 'a0' or 'b2' of unknown quantum variables 'a' and 'b', are in superposition state, i.e. their *q-bit_variable_value = S*.\n",
    "\n",
    "- **NOTE**: As a result of quantum addition of Qwhole variables with 4 Qbits ('a') and 3 Qbits ('b') can have a result with 5 Qbits, so the Q assignment result 'A' is extended by adding an additional Qbit 'A4' with a value assigned according to its type:\n",
    "    - A deterministic Qwhole variable is extended by adding a deterministic Qbit of value 0.\n",
    "    - An unknown Qwhole variable is extended by adding a Qubit is superposition state, i.e. the value is set to S.\n",
    "\n",
    "Also, it is possible to check the specific quantum bit level expression of an assignment, like Q bit level 2 in the following example, by seting *forBit* argument to *2*. The default value  of *forBit* argument is *dann5.d5o2.AllBits()*, which returns *-1*."
   ]
  },
  {
   "cell_type": "code",
   "execution_count": 10,
   "metadata": {},
   "outputs": [
    {
     "name": "stdout",
     "output_type": "stream",
     "text": [
      "\n",
      "A2/1/ = a2/S/ + b2/S/ + #1/S/\n",
      "#1/S/ = #[A1/1/]\n"
     ]
    }
   ],
   "source": [
    "print(aA.toString(True, 2))"
   ]
  },
  {
   "cell_type": "markdown",
   "metadata": {},
   "source": [
    "- **NOTE**: The varaible *#[A1/1/]* represents a carryover of quantum level 1 assignment. In this example it is equal to a temporary carryover variable *#6/S/*, which is used in addition expresion for quantum bit level 2.\n",
    "\n",
    "To solve the assignment we can use dann5.d5o2 built in quantum annealing simulator, by invoking *Qassignmnet solve()* method."
   ]
  },
  {
   "cell_type": "code",
   "execution_count": 11,
   "metadata": {},
   "outputs": [
    {
     "name": "stdout",
     "output_type": "stream",
     "text": [
      "A/5:15/; a/4:8/; b/3:7/\n",
      "A/5:15/; a/4:12/; b/3:3/\n",
      "A/5:15/; a/4:10/; b/3:5/\n",
      "A/5:15/; a/4:14/; b/3:1/\n",
      "A/5:15/; a/4:9/; b/3:6/\n",
      "A/5:15/; a/4:13/; b/3:2/\n",
      "A/5:15/; a/4:11/; b/3:4/\n",
      "A/5:15/; a/4:15/; b/3:0/\n",
      "\n",
      "\n"
     ]
    }
   ],
   "source": [
    "print(aA.solve())"
   ]
  },
  {
   "cell_type": "markdown",
   "metadata": {},
   "source": [
    "The *solve()* method returns all possible solutions of an assignment within the bounds of defined variables, i.e. the unknown variables Qbits sizes.\n",
    "- **NOTE**: 'a' = 8 and 'b' = 7 is a valid solution, but 'a' = 7 and 'b' = 8 is not as Qwhole variable 'b' is defined with only 3 Qbits. By carefully reviewing the returned results you will see that *8 <= 'a' <= 15* and *0 <= 'b' <= 7*, which are appropriate results considering that we set Q variable 'b' to have only 3 Qbits, i.e. imposing additional condition that 'b' cannot be bigger than 7.\n",
    "\n",
    "> If you go back and change only the number of Qbits for variable 'b', the solution set for Q assignment aA will be different\n",
    "\n",
    "## Quantum variable binding in dann5.d5o2\n",
    "\n",
    "It is important to understand that defined quantum varaibles within an quantum expression once assigned are bound to the Qassignment."
   ]
  },
  {
   "cell_type": "code",
   "execution_count": 12,
   "metadata": {},
   "outputs": [
    {
     "name": "stdout",
     "output_type": "stream",
     "text": [
      "Original variables:\n",
      "A/4:15/ = a/4:U/ + b/3:U/\n",
      "Quantum assignment:\n",
      "A/5:15/ = (a/4:U/ + b/3:U/)\n",
      "Solutions:\n",
      "A/5:15/; a/4:8/; b/3:7/\n",
      "A/5:15/; a/4:12/; b/3:3/\n",
      "A/5:15/; a/4:10/; b/3:5/\n",
      "A/5:15/; a/4:14/; b/3:1/\n",
      "A/5:15/; a/4:9/; b/3:6/\n",
      "A/5:15/; a/4:13/; b/3:2/\n",
      "A/5:15/; a/4:11/; b/3:4/\n",
      "A/5:15/; a/4:15/; b/3:0/\n",
      "\n",
      "\n"
     ]
    }
   ],
   "source": [
    "print('Original variables:\\n{} = {} + {}'.format(A.toString(), var.toString(), b.toString()))\n",
    "print('Quantum assignment:\\n{}'.format(aA.toString()))\n",
    "print('Solutions:\\n{}'.format(aA.solutions()))"
   ]
  },
  {
   "cell_type": "markdown",
   "metadata": {},
   "source": [
    "We can continue to use the quantum varaibles to find factors of number 15:  "
   ]
  },
  {
   "cell_type": "code",
   "execution_count": 13,
   "metadata": {},
   "outputs": [
    {
     "name": "stdout",
     "output_type": "stream",
     "text": [
      "Solutions of\n",
      "A/7:15/ = (a/4:U/ * b/3:U/)\n",
      "are:\n",
      "A/7:15/; a/4:15/; b/3:1/\n",
      "A/7:15/; a/4:3/; b/3:5/\n",
      "A/7:15/; a/4:5/; b/3:3/\n",
      "\n",
      "\n"
     ]
    }
   ],
   "source": [
    "eM = A.assign(var * b)\n",
    "print('Solutions of\\n{}\\nare:\\n{}'.format(eM.toString(),eM.solve()))"
   ]
  },
  {
   "cell_type": "markdown",
   "metadata": {},
   "source": [
    "- **NOTE**: Even though, it is possible to reuse same quantum varaibles for a different quantum assignments, the best practice is to *use different quantum variables for unrelated quantum assignments*!"
   ]
  },
  {
   "cell_type": "code",
   "execution_count": 14,
   "metadata": {},
   "outputs": [
    {
     "name": "stdout",
     "output_type": "stream",
     "text": [
      "Solutions of\n",
      "M/7:15/ = (c/4:U/ * d/3:U/)\n",
      "are:\n",
      "M/7:15/; c/4:15/; d/3:1/\n",
      "M/7:15/; c/4:3/; d/3:5/\n",
      "M/7:15/; c/4:5/; d/3:3/\n",
      "\n",
      "\n"
     ]
    }
   ],
   "source": [
    "c = Qwhole(4, 'c')\n",
    "d = Qwhole(3, 'd')\n",
    "M = Qwhole('M', 15)\n",
    "unrelatedAssignment = M.assign(c * d)\n",
    "print('Solutions of\\n{}\\nare:\\n{}'.format(unrelatedAssignment.toString(),unrelatedAssignment.solve()))"
   ]
  },
  {
   "cell_type": "markdown",
   "metadata": {},
   "source": [
    "Construction of a *quantum rutine with more then one related assignment* might require use of same variabled across multiple assignments and/or expressions, however this is an advanced feature, which will be covered later."
   ]
  },
  {
   "cell_type": "markdown",
   "metadata": {},
   "source": [
    "## d5o 2 assignment conversion to QUBO\n",
    "\n",
    "Now we can convert the Q assignments 'aA' or eM to their [QUBO](https://minatoyuichiro.medium.com/qubo-select-k-qubits-from-n-qubits-on-qaoa-651dca0a0e9b) presentation ([learn more about QUBO in context of DWave  Binary Quadratic Models (BQM)](https://docs.dwavesys.com/docs/latest/c_gs_3.html#qubo)). \n",
    "There are 2 forms of QUBO presentation that can be requested from a Q equation, **generic** and **finalized**. \n",
    "> **A generic QUBO** is transformation where all Qassignment operations and variables are converted into qubo presentation wether they are deterministic or unknown (with Qbits in supperposition state).\n",
    "\n",
    "To retrieve a **generic QUBO** presentation of the Q assignment *aA* use *qubo* method with *finalized* argument set to *False*."
   ]
  },
  {
   "cell_type": "code",
   "execution_count": 15,
   "metadata": {},
   "outputs": [
    {
     "name": "stdout",
     "output_type": "stream",
     "text": [
      "Generic QUBO presentation of aA assignment:\n",
      " {('#0', '#0'): 5.0, ('#0', '#1'): -4.0, ('#0', 'A1'): -2.0, ('#1', '#1'): 5.0, ('#1', '#2'): -4.0, ('#1', 'A2'): -2.0, ('#2', '#2'): 5.0, ('#2', 'A3'): -2.0, ('#2', 'A4'): -4.0, ('A0', '#0'): 4.0, ('A0', 'A0'): 1.0, ('A1', '#1'): 4.0, ('A1', 'A1'): 1.0, ('A2', '#2'): 4.0, ('A2', 'A2'): 1.0, ('A3', 'A3'): 1.0, ('A3', 'A4'): 4.0, ('A4', 'A4'): 4.0, ('a0', '#0'): -4.0, ('a0', 'A0'): -2.0, ('a0', 'a0'): 1.0, ('a0', 'b0'): 2.0, ('a1', '#0'): 2.0, ('a1', '#1'): -4.0, ('a1', 'A1'): -2.0, ('a1', 'a1'): 1.0, ('a1', 'b1'): 2.0, ('a2', '#1'): 2.0, ('a2', '#2'): -4.0, ('a2', 'A2'): -2.0, ('a2', 'a2'): 1.0, ('a2', 'b2'): 2.0, ('a3', '#2'): 2.0, ('a3', 'A3'): -2.0, ('a3', 'A4'): -4.0, ('a3', 'a3'): 1.0, ('b0', '#0'): -4.0, ('b0', 'A0'): -2.0, ('b0', 'b0'): 1.0, ('b1', '#0'): 2.0, ('b1', '#1'): -4.0, ('b1', 'A1'): -2.0, ('b1', 'b1'): 1.0, ('b2', '#1'): 2.0, ('b2', '#2'): -4.0, ('b2', 'A2'): -2.0, ('b2', 'b2'): 1.0}\n",
      "\n",
      "Linear nodes\n",
      " [('#0', 5.0), ('#1', 5.0), ('#2', 5.0), ('A0', 1.0), ('A1', 1.0), ('A2', 1.0), ('A3', 1.0), ('A4', 4.0), ('a0', 1.0), ('a1', 1.0), ('a2', 1.0), ('a3', 1.0), ('b0', 1.0), ('b1', 1.0), ('b2', 1.0)]\n",
      "\n",
      "Quadratic branches\n",
      " [(('#0', '#1'), -4.0), (('#0', 'A1'), -2.0), (('#1', '#2'), -4.0), (('#1', 'A2'), -2.0), (('#2', 'A3'), -2.0), (('#2', 'A4'), -4.0), (('A0', '#0'), 4.0), (('A1', '#1'), 4.0), (('A2', '#2'), 4.0), (('A3', 'A4'), 4.0), (('a0', '#0'), -4.0), (('a0', 'A0'), -2.0), (('a0', 'b0'), 2.0), (('a1', '#0'), 2.0), (('a1', '#1'), -4.0), (('a1', 'A1'), -2.0), (('a1', 'b1'), 2.0), (('a2', '#1'), 2.0), (('a2', '#2'), -4.0), (('a2', 'A2'), -2.0), (('a2', 'b2'), 2.0), (('a3', '#2'), 2.0), (('a3', 'A3'), -2.0), (('a3', 'A4'), -4.0), (('b0', '#0'), -4.0), (('b0', 'A0'), -2.0), (('b1', '#0'), 2.0), (('b1', '#1'), -4.0), (('b1', 'A1'), -2.0), (('b2', '#1'), 2.0), (('b2', '#2'), -4.0), (('b2', 'A2'), -2.0)]\n"
     ]
    }
   ],
   "source": [
    "gQaA = aA.qubo(False)\n",
    "print('Generic QUBO presentation of aA assignment:\\n', gQaA)\n",
    "\n",
    "from dann5.d5o2 import Qanalyzer\n",
    "gQaAnlyzr = Qanalyzer(gQaA)\n",
    "print(\"\\nLinear nodes\\n\", gQaAnlyzr.nodes())\n",
    "print(\"\\nQuadratic branches\\n\", gQaAnlyzr.branches())"
   ]
  },
  {
   "cell_type": "markdown",
   "metadata": {},
   "source": [
    "A Q assignment aA can be expressed as a QUBO problem defined using an upper-diagonal matrix gQaA expresed as a python 'dict' class, where keys are 'tuple' pairs of variables Qbit level names and the values of the elements are linear and quadratic coefficients. The key 'tuple' pairs with the same variable Qbit level name are **linear nodes**, while those those with diferent names are **quadratic branches**, as per DWave [Binary Quadratic Models](https://docs.dwavesys.com/docs/latest/c_gs_3.html#objective-functions).\n",
    "\n",
    "> **A finalized QUBO** is a consolidated **generic QUBO** where deterministic variables are replaced with their values.\n",
    "\n",
    "To retrieve a **finalized QUBO** presentation of the Q assignment *aA* use *qubo* method without arguments as *True* is a default value for *finalized* argument."
   ]
  },
  {
   "cell_type": "code",
   "execution_count": 16,
   "metadata": {},
   "outputs": [
    {
     "name": "stdout",
     "output_type": "stream",
     "text": [
      "Finalized QUBO presentation of aA assignment:\n",
      " {('#0', '#0'): 7.0, ('#0', '#1'): -4.0, ('#1', '#1'): 7.0, ('#1', '#2'): -4.0, ('#2', '#2'): 7.0, ('a0', '#0'): -4.0, ('a0', 'a0'): -1.0, ('a0', 'b0'): 2.0, ('a1', '#0'): 2.0, ('a1', '#1'): -4.0, ('a1', 'a1'): -1.0, ('a1', 'b1'): 2.0, ('a2', '#1'): 2.0, ('a2', '#2'): -4.0, ('a2', 'a2'): -1.0, ('a2', 'b2'): 2.0, ('a3', '#2'): 2.0, ('a3', 'a3'): -1.0, ('b0', '#0'): -4.0, ('b0', 'b0'): -1.0, ('b1', '#0'): 2.0, ('b1', '#1'): -4.0, ('b1', 'b1'): -1.0, ('b2', '#1'): 2.0, ('b2', '#2'): -4.0, ('b2', 'b2'): -1.0}\n",
      "\n",
      "Linear nodes\n",
      " [('#0', 7.0), ('#1', 7.0), ('#2', 7.0), ('a0', -1.0), ('a1', -1.0), ('a2', -1.0), ('a3', -1.0), ('b0', -1.0), ('b1', -1.0), ('b2', -1.0)]\n",
      "\n",
      "Quadratic branches\n",
      " [(('#0', '#1'), -4.0), (('#1', '#2'), -4.0), (('a0', '#0'), -4.0), (('a0', 'b0'), 2.0), (('a1', '#0'), 2.0), (('a1', '#1'), -4.0), (('a1', 'b1'), 2.0), (('a2', '#1'), 2.0), (('a2', '#2'), -4.0), (('a2', 'b2'), 2.0), (('a3', '#2'), 2.0), (('b0', '#0'), -4.0), (('b1', '#0'), 2.0), (('b1', '#1'), -4.0), (('b2', '#1'), 2.0), (('b2', '#2'), -4.0)]\n"
     ]
    }
   ],
   "source": [
    "fQaA = aA.qubo()\n",
    "print('Finalized QUBO presentation of aA assignment:\\n', fQaA)\n",
    "fQaAnlyzr = Qanalyzer(fQaA)\n",
    "print(\"\\nLinear nodes\\n\", fQaAnlyzr.nodes())\n",
    "print(\"\\nQuadratic branches\\n\", fQaAnlyzr.branches())"
   ]
  },
  {
   "cell_type": "markdown",
   "metadata": {},
   "source": [
    "When we compare *generic and finanilized QUBO presentations* we see that *linear nodes* with deterministic values such are {A0 - A4} are removed as they are constants, while their *quadratic branches* through replacement of specific values can become *linear nodes* and they are consolidated with coresponding *linear nodes*.  \n",
    "\n",
    "> To process a Q assignment 'aA' on a QAC, we need to create a **finalized QUBO** presentation of Q assignment."
   ]
  },
  {
   "cell_type": "markdown",
   "metadata": {},
   "source": [
    "## Solving Q assignment using DWave\n",
    "\n",
    "To solve our problem statement *'A' = 'a' + 'b', where 'A' = 15 and 'a'='b'=U(nknown)* defined by Q equation *aA* we will use [D-Wave's Exact Solver](https://docs.ocean.dwavesys.com/projects/dimod/en/0.7.0/reference/generated/dimod.reference.samplers.ExactSolver.sample.html):"
   ]
  },
  {
   "cell_type": "code",
   "execution_count": 17,
   "metadata": {},
   "outputs": [],
   "source": [
    "from dimod import ExactSolver\n",
    "exactSolver = ExactSolver()                   # local solver"
   ]
  },
  {
   "cell_type": "markdown",
   "metadata": {},
   "source": [
    "... and execute request *sample_qubo()* to solve *'fQaA'*, a **finalized QUBO of aA Q assignment**."
   ]
  },
  {
   "cell_type": "code",
   "execution_count": 18,
   "metadata": {},
   "outputs": [],
   "source": [
    "sampleset = exactSolver.sample_qubo(fQaA)"
   ]
  },
  {
   "cell_type": "markdown",
   "metadata": {},
   "source": [
    "The **D-Wave sampleset has to be converted into a python dictionary** ('samples'), before it is passed to the Q equation *aA* to provide solutions in a human readable form: "
   ]
  },
  {
   "cell_type": "code",
   "execution_count": 19,
   "metadata": {},
   "outputs": [
    {
     "name": "stdout",
     "output_type": "stream",
     "text": [
      "A/5:15/; a/4:10/; b/3:5/\n",
      "A/5:15/; a/4:11/; b/3:4/\n",
      "A/5:15/; a/4:8/; b/3:7/\n",
      "A/5:15/; a/4:9/; b/3:6/\n",
      "A/5:15/; a/4:14/; b/3:1/\n",
      "A/5:15/; a/4:15/; b/3:0/\n",
      "A/5:15/; a/4:12/; b/3:3/\n",
      "A/5:15/; a/4:13/; b/3:2/\n",
      "\n",
      "\n"
     ]
    }
   ],
   "source": [
    "samples = [dict(sample) for sample in sampleset.lowest().samples()]\n",
    "aA.reset()                      # removing old solutions\n",
    "aA.add(samples)\n",
    "print(aA.solutions())"
   ]
  },
  {
   "cell_type": "markdown",
   "metadata": {},
   "source": [
    "> Note that we have used **sampleset.lowest().samples()** to ensure that from the whole sampleset of all posible solution of QUBO, we retrieve only those with the lowest energy level as the best solution for our *aA* Q assignment.\n",
    "\n",
    "The same **finalized QUBO** can be executed on [quantum annealing computer (QAC)](https://docs.dwavesys.com/docs/latest/c_solver_parameters.html):"
   ]
  },
  {
   "cell_type": "code",
   "execution_count": 20,
   "metadata": {},
   "outputs": [],
   "source": [
    "from dwave.system import DWaveSampler, EmbeddingComposite\n",
    "qpu_advantage = DWaveSampler(solver={'topology__type': 'pegasus', 'qpu': True})\n",
    "solver = EmbeddingComposite(qpu_advantage)\n",
    "sampleset = solver.sample_qubo(fQaA)"
   ]
  },
  {
   "cell_type": "code",
   "execution_count": 21,
   "metadata": {},
   "outputs": [
    {
     "name": "stdout",
     "output_type": "stream",
     "text": [
      "A/5:15/; a/4:14/; b/3:1/\n",
      "\n",
      "\n"
     ]
    }
   ],
   "source": [
    "samples = [dict(sample) for sample in sampleset.lowest().samples()]\n",
    "aA.reset()\n",
    "aA.add(samples)\n",
    "print(aA.solutions())"
   ]
  },
  {
   "cell_type": "markdown",
   "metadata": {},
   "source": [
    "## Quantum assignments and expressions in d5o 2\n",
    "In d5o we can create an **equal quantum expression** *eA* which has the same form as the **quantum assignment** *aA*."
   ]
  },
  {
   "cell_type": "code",
   "execution_count": 22,
   "metadata": {},
   "outputs": [
    {
     "data": {
      "text/plain": [
       "<dann5.d5o2.QwholeExpression at 0x247e3a445f0>"
      ]
     },
     "execution_count": 22,
     "metadata": {},
     "output_type": "execute_result"
    }
   ],
   "source": [
    "eA = A == var + b\n",
    "eA"
   ]
  },
  {
   "cell_type": "markdown",
   "metadata": {},
   "source": [
    "- **NOTE**: eA is an instance of a dann5.d5o2.QwholeExpression class, which is a specilization of dann5.d5o2.Qexpression, with the following Qwhole addition and equal expression:"
   ]
  },
  {
   "cell_type": "code",
   "execution_count": 23,
   "metadata": {},
   "outputs": [
    {
     "name": "stdout",
     "output_type": "stream",
     "text": [
      "((a/4:U/ + b/3:U/) == A/5:15/)\n"
     ]
    }
   ],
   "source": [
    "print(eA.toString())"
   ]
  },
  {
   "cell_type": "markdown",
   "metadata": {},
   "source": [
    "The Qbit level decomposition of the Q expression is bit more complex then in case of Q assignment."
   ]
  },
  {
   "cell_type": "code",
   "execution_count": 24,
   "metadata": {},
   "outputs": [
    {
     "name": "stdout",
     "output_type": "stream",
     "text": [
      "\n",
      "_+150/S/ == A0/1/\n",
      "_+150/S/ = a0/S/ ^ b0/S/\n",
      "\n",
      "_+151/S/ == A1/1/\n",
      "_+151/S/ = a1/S/ + b1/S/ + #21/S/\n",
      "#21/S/ = #[_+150/S/]\n",
      "\n",
      "_+152/S/ == A2/1/\n",
      "_+152/S/ = a2/S/ + b2/S/ + #22/S/\n",
      "#22/S/ = #[_+151/S/]\n",
      "\n",
      "_+153/S/ == A3/1/\n",
      "_+153/S/ = a3/S/ ^ #23/S/\n",
      "#23/S/ = #[_+152/S/]\n",
      "\n",
      "_+154/S/ == A4/0/\n",
      "_+154/S/ = #[_+153/S/]\n",
      "\n"
     ]
    }
   ],
   "source": [
    "print(eA.toString(True))"
   ]
  },
  {
   "cell_type": "code",
   "execution_count": 25,
   "metadata": {},
   "outputs": [
    {
     "name": "stdout",
     "output_type": "stream",
     "text": [
      "Q expression A == a + b has 15 nodes and 32 branches\n",
      "Q assignment A = a + b has 10 nodes and 16 branches\n"
     ]
    }
   ],
   "source": [
    "eAnlyzr = Qanalyzer(eA.qubo())\n",
    "print('Q expression A == a + b has {} nodes and {} branches'.format(eAnlyzr.nodesNo(), eAnlyzr.branchesNo()))\n",
    "print('Q assignment A = a + b has {} nodes and {} branches'.format(fQaAnlyzr.nodesNo(), fQaAnlyzr.branchesNo()))"
   ]
  },
  {
   "cell_type": "markdown",
   "metadata": {},
   "source": [
    "However, the *eA* Q expression has same results as *aA* Q assignment."
   ]
  },
  {
   "cell_type": "code",
   "execution_count": 26,
   "metadata": {},
   "outputs": [
    {
     "name": "stdout",
     "output_type": "stream",
     "text": [
      "A/5:15/; _+15/5:15/; a/4:8/; b/3:7/\n",
      "A/5:15/; _+15/5:15/; a/4:12/; b/3:3/\n",
      "A/5:15/; _+15/5:15/; a/4:10/; b/3:5/\n",
      "A/5:15/; _+15/5:15/; a/4:14/; b/3:1/\n",
      "A/5:15/; _+15/5:15/; a/4:9/; b/3:6/\n",
      "A/5:15/; _+15/5:15/; a/4:13/; b/3:2/\n",
      "A/5:15/; _+15/5:15/; a/4:11/; b/3:4/\n",
      "A/5:15/; _+15/5:15/; a/4:15/; b/3:0/\n",
      "\n"
     ]
    }
   ],
   "source": [
    "print(eA.solve())"
   ]
  },
  {
   "cell_type": "markdown",
   "metadata": {},
   "source": [
    "## Using Constants in a Q assignment\n",
    "A definition and use of a constant in d5o is same as definition of any other variable with a deterministic value. In order to easily distinguish constants from variables we recommend following syntax as an example of best coding practice:\n",
    "\n",
    "> _ _15 = Qvar(\"15__\", 15)\n",
    "\n",
    "Based on above we can make a Q whole definition such as:"
   ]
  },
  {
   "cell_type": "code",
   "execution_count": 27,
   "metadata": {},
   "outputs": [],
   "source": [
    "_15 = Qwhole(\"15_\", 15)"
   ]
  },
  {
   "cell_type": "code",
   "execution_count": null,
   "metadata": {},
   "outputs": [],
   "source": []
  }
 ],
 "metadata": {
  "kernelspec": {
   "display_name": "Python 3 (ipykernel)",
   "language": "python",
   "name": "python3"
  },
  "language_info": {
   "codemirror_mode": {
    "name": "ipython",
    "version": 3
   },
   "file_extension": ".py",
   "mimetype": "text/x-python",
   "name": "python",
   "nbconvert_exporter": "python",
   "pygments_lexer": "ipython3",
   "version": "3.10.4"
  }
 },
 "nbformat": 4,
 "nbformat_minor": 4
}
