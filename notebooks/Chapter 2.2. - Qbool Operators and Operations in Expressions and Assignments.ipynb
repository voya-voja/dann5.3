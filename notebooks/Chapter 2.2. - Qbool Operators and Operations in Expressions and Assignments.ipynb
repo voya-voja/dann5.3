{
 "cells": [
  {
   "cell_type": "markdown",
   "id": "8d28b98d",
   "metadata": {},
   "source": [
    "# Chapter 2.2. - Qbool Operators and Operations in Expressions and Assignments\n",
    "\n",
    "In this chapter we will be introducing Qbool operators and operations and talking about their differences. Also, we will use them to form more complex expressions and assignments by chaining multiple operations and operators together. In some cases, the use of complex expressions and assignments is quite strait forward. However, as in some cases complex expressions and assignments might result in unexpected solutions, we will investigate some of the possible consequences of chaining certain operators and operations.\n",
    "\n",
    "First, let import the ***Qbool* class from d5 module of dann5 quantum programming package** and then initialize three *Qbool* variables, *x*, *y* and *z*, as we have discussed in chapter 1.1."
   ]
  },
  {
   "cell_type": "code",
   "execution_count": 1,
   "id": "2fcd5107",
   "metadata": {},
   "outputs": [
    {
     "name": "stdout",
     "output_type": "stream",
     "text": [
      "x\\S\\ y\\S\\ z\\S\\\n"
     ]
    }
   ],
   "source": [
    "from dann5.d5 import Qbool\n",
    "x = Qbool(\"x\"); y = Qbool(\"y\"); z = Qbool(\"z\");\n",
    "print(x, y, z)"
   ]
  },
  {
   "cell_type": "markdown",
   "id": "e4e74085",
   "metadata": {},
   "source": [
    "Also, we need to activate the default solver, which will be used to solve quantum problems in this chapter."
   ]
  },
  {
   "cell_type": "code",
   "execution_count": 2,
   "id": "f0b6cb0c",
   "metadata": {},
   "outputs": [
    {
     "name": "stdout",
     "output_type": "stream",
     "text": [
      "<dann5.d5o.D5QuboSolver object at 0x000001FC4D6122F0>\n"
     ]
    }
   ],
   "source": [
    "from dann5.dwave import Solver\n",
    "print(Solver.Active())"
   ]
  },
  {
   "cell_type": "markdown",
   "id": "f354b217",
   "metadata": {},
   "source": [
    "## Qbool comparison operators\n",
    "\n",
    "There are only two *Qbool* comparison operators **equal (==) and not-equal (!=)**. They create a relationship between one *Qbool* input and one *Qbool* output variable. In a way they are allowing a programmer to define entanglement rules between two physical q-bits used to implement two *Qbool* variables. Thus, the values in a valid solution are enforced on variables to satisfy the specific operator, e.g.\n",
    "> *x == y*, creates an equal relationship between quantum variables, which enforces that x and y are always equal in a valid solution."
   ]
  },
  {
   "cell_type": "code",
   "execution_count": 3,
   "id": "b4f6e939",
   "metadata": {},
   "outputs": [
    {
     "name": "stdout",
     "output_type": "stream",
     "text": [
      "(x\\S\\ == y\\S\\)\n",
      "x\\S\\ == y\\S\\; \n",
      "x\\F\\; y\\F\\\n",
      "x\\T\\; y\\T\\\n",
      "\n"
     ]
    }
   ],
   "source": [
    "eqXpr = x == y\n",
    "print(eqXpr)\n",
    "print(eqXpr.toString(True))\n",
    "print(eqXpr.solve())"
   ]
  },
  {
   "cell_type": "markdown",
   "id": "e054bf28",
   "metadata": {},
   "source": [
    "Similarly,\n",
    "> *x != y*, creates an not equal relationship between quantum variables, which enforces that *x* and *y* are always to have different values in a valid solution."
   ]
  },
  {
   "cell_type": "code",
   "execution_count": 4,
   "id": "8d5346b4",
   "metadata": {},
   "outputs": [
    {
     "name": "stdout",
     "output_type": "stream",
     "text": [
      "(x\\S\\ != y\\S\\)\n",
      "x\\S\\ != y\\S\\; \n",
      "x\\F\\; y\\T\\\n",
      "x\\T\\; y\\F\\\n",
      "\n"
     ]
    }
   ],
   "source": [
    "neXpr = x != y\n",
    "print(neXpr)\n",
    "print(neXpr.toString(True))\n",
    "print(neXpr.solve())"
   ]
  },
  {
   "cell_type": "markdown",
   "id": "bf2549f8",
   "metadata": {},
   "source": [
    "## Qbool logical operator\n",
    "\n",
    "Additionally, **negation -** is a unary Qbool logical operator, where an automatically generated Qbool inverted variable is introduced. \n",
    "> In the following example an inversion of a *Qbool* variable with id *x* is a dann5 system generated *Qbool* variable *~x*.\n",
    "\n",
    "From the first printout we see the negation expression in quantum space, and from the solutions we see that we have defined the rule where *~x* has an inverted value from *x* variable."
   ]
  },
  {
   "cell_type": "code",
   "execution_count": 5,
   "id": "f661241c",
   "metadata": {},
   "outputs": [
    {
     "name": "stdout",
     "output_type": "stream",
     "text": [
      "(~x\\S\\ ~ x\\S\\)\n"
     ]
    }
   ],
   "source": [
    "xI = ~x\n",
    "print(xI)\n",
    "#print(xI.solve())"
   ]
  },
  {
   "cell_type": "markdown",
   "id": "71c67b33",
   "metadata": {},
   "source": [
    "## Qbool operations\n",
    "\n",
    "Qbool operations always have two Qbool input arguments and at least a resulting Qbool output. Qbool **and(&)** and **or(|)** operations are those with one resulting Qbool variable. As we see in the example below, the resulting output variables are automatically generated with the names *_&(plus-number)* or *_|(plus-number)*."
   ]
  },
  {
   "cell_type": "code",
   "execution_count": 6,
   "id": "bb464503",
   "metadata": {},
   "outputs": [
    {
     "name": "stdout",
     "output_type": "stream",
     "text": [
      "(x\\S\\ & y\\S\\)\n",
      "_&0\\S\\ = x\\S\\ & y\\S\\; \n",
      "_&0\\F\\; x\\F\\; y\\F\\\n",
      "_&0\\F\\; x\\F\\; y\\T\\\n",
      "_&0\\F\\; x\\T\\; y\\F\\\n",
      "_&0\\T\\; x\\T\\; y\\T\\\n",
      "\n"
     ]
    }
   ],
   "source": [
    "andXpr = (x & y)\n",
    "print(andXpr)\n",
    "print(andXpr.toString(True))\n",
    "print(andXpr.solve())"
   ]
  },
  {
   "cell_type": "code",
   "execution_count": 7,
   "id": "594ff840",
   "metadata": {},
   "outputs": [
    {
     "name": "stdout",
     "output_type": "stream",
     "text": [
      "(x\\S\\ | y\\S\\)\n",
      "_|0\\S\\ = x\\S\\ | y\\S\\; \n",
      "_|0\\F\\; x\\F\\; y\\F\\\n",
      "_|0\\T\\; x\\F\\; y\\T\\\n",
      "_|0\\T\\; x\\T\\; y\\F\\\n",
      "_|0\\T\\; x\\T\\; y\\T\\\n",
      "\n"
     ]
    }
   ],
   "source": [
    "orXpr = (x | y)\n",
    "print(orXpr)\n",
    "print(orXpr.toString(True))\n",
    "print(orXpr.solve())"
   ]
  },
  {
   "cell_type": "markdown",
   "id": "83944d15",
   "metadata": {},
   "source": [
    "There are no implementation of **nand** and **nor** operations for *Qbool* type. The expressions *nandXpr* and *norXpr* demonstrate how these operations can be implemented using inversion and *AND (&)* or *OR (|) logical operations respectfully.\n",
    "\n",
    "> The nand5 system generated variable *~_&1* represents an inversion of *_&1* variable, which is generated as auxiliary *Qbool* variable which represents the result of *(x\\S\\ & y\\S\\)* quantum expression."
   ]
  },
  {
   "cell_type": "code",
   "execution_count": 8,
   "id": "02410b54",
   "metadata": {},
   "outputs": [
    {
     "name": "stdout",
     "output_type": "stream",
     "text": [
      "(~_&1\\S\\ ~ (x\\S\\ & y\\S\\))\n",
      "~_&1\\S\\ ~ _&1\\S\\; _&1\\S\\ = x\\S\\ & y\\S\\; \n",
      "~_&1\\T\\; _&1\\F\\; x\\F\\; y\\F\\\n",
      "~_&1\\T\\; _&1\\F\\; x\\F\\; y\\T\\\n",
      "~_&1\\T\\; _&1\\F\\; x\\T\\; y\\F\\\n",
      "~_&1\\F\\; _&1\\T\\; x\\T\\; y\\T\\\n",
      "\n"
     ]
    }
   ],
   "source": [
    "nandXpr = ~(x & y)\n",
    "print(nandXpr)\n",
    "print(nandXpr.toString(True))\n",
    "print(nandXpr.solve())"
   ]
  },
  {
   "cell_type": "markdown",
   "id": "4e1a99db",
   "metadata": {},
   "source": [
    "> Similarly, in case of *norXpr* quantum expression the nand5 system generated variable *~_|1* represents an inversion of *_|1* variable, which is generated as auxiliary *Qbool* variable which represents the result of *(x\\S\\ | y\\S\\)* quantum expression."
   ]
  },
  {
   "cell_type": "code",
   "execution_count": 9,
   "id": "41c05041",
   "metadata": {},
   "outputs": [
    {
     "name": "stdout",
     "output_type": "stream",
     "text": [
      "(~_|1\\S\\ ~ (x\\S\\ | y\\S\\))\n",
      "~_|1\\S\\ ~ _|1\\S\\; _|1\\S\\ = x\\S\\ | y\\S\\; \n",
      "~_|1\\T\\; _|1\\F\\; x\\F\\; y\\F\\\n",
      "~_|1\\F\\; _|1\\T\\; x\\F\\; y\\T\\\n",
      "~_|1\\F\\; _|1\\T\\; x\\T\\; y\\F\\\n",
      "~_|1\\F\\; _|1\\T\\; x\\T\\; y\\T\\\n",
      "\n"
     ]
    }
   ],
   "source": [
    "norXpr = ~(x | y)\n",
    "print(norXpr)\n",
    "print(norXpr.toString(True))\n",
    "print(norXpr.solve())"
   ]
  },
  {
   "cell_type": "markdown",
   "id": "13182374",
   "metadata": {},
   "source": [
    "Qbool **xor(^)** and **nxor** are addition operations with two input arguments, which can be Qbool or Qbool expression and with one resulting and one carryforward Qbool output. The resulting Qbool output, in below example, is *_^#*, where *#* is an autogenerated number.\n",
    "\n",
    "- **Note**: The second, carryover, *Qbool* output variable, e.g. *#[_^0]* will show up only in QUBO, as it is required node of the QUBO transformation. The QUBO transformations of quantum variables will be discussed in chapter 4.1."
   ]
  },
  {
   "cell_type": "code",
   "execution_count": 10,
   "id": "4bbf5932",
   "metadata": {},
   "outputs": [
    {
     "name": "stdout",
     "output_type": "stream",
     "text": [
      "(x\\S\\ ^ y\\S\\)\n",
      "_^0\\S\\ = x\\S\\ ^ y\\S\\; \n",
      "_^0\\F\\; x\\F\\; y\\F\\\n",
      "_^0\\T\\; x\\F\\; y\\T\\\n",
      "_^0\\T\\; x\\T\\; y\\F\\\n",
      "_^0\\F\\; x\\T\\; y\\T\\\n",
      "\n"
     ]
    }
   ],
   "source": [
    "xorXpr = (x ^ y)\n",
    "print(xorXpr)\n",
    "print(xorXpr.toString(True))\n",
    "print(xorXpr.solve())"
   ]
  },
  {
   "cell_type": "markdown",
   "id": "1cfa852f",
   "metadata": {},
   "source": [
    "The nxor is implemented as Qbool method and in expression presentations represented with *!^* symbols. The resulting Qbool outputs, in below example, is *_!^(#)*, where *#* is an autogenerated number."
   ]
  },
  {
   "cell_type": "code",
   "execution_count": 11,
   "id": "8ca9e019",
   "metadata": {},
   "outputs": [
    {
     "name": "stdout",
     "output_type": "stream",
     "text": [
      "(x\\S\\ !^ y\\S\\)\n",
      "_!^0\\S\\ = x\\S\\ !^ y\\S\\; \n",
      "_!^0\\F\\; x\\F\\; y\\T\\\n",
      "_!^0\\F\\; x\\T\\; y\\F\\\n",
      "_!^0\\T\\; x\\F\\; y\\F\\\n",
      "_!^0\\T\\; x\\T\\; y\\T\\\n",
      "\n"
     ]
    }
   ],
   "source": [
    "nxorXpr = x.nxor(y)\n",
    "print(nxorXpr)\n",
    "print(nxorXpr.toString(True))\n",
    "print(nxorXpr.solve())"
   ]
  },
  {
   "cell_type": "markdown",
   "id": "3929fa68",
   "metadata": {},
   "source": [
    "- **NOTE**: Qbool **xor** and **unlike** operations are interchangeable, while **nxor** and **alike** operations are interchangeable.\n",
    "\n",
    "Both **unlike** and **like** operations are implemented as Qbool methods, as shown in the example below."
   ]
  },
  {
   "cell_type": "code",
   "execution_count": 12,
   "id": "e796c62f",
   "metadata": {},
   "outputs": [
    {
     "name": "stdout",
     "output_type": "stream",
     "text": [
      "(x\\S\\ ^ y\\S\\)\n",
      "_^1\\S\\ = x\\S\\ ^ y\\S\\; \n",
      "_^1\\F\\; x\\F\\; y\\F\\\n",
      "_^1\\T\\; x\\F\\; y\\T\\\n",
      "_^1\\T\\; x\\T\\; y\\F\\\n",
      "_^1\\F\\; x\\T\\; y\\T\\\n",
      "\n"
     ]
    }
   ],
   "source": [
    "unlikeXpr = x.unlike(y)\n",
    "print(unlikeXpr)\n",
    "print(unlikeXpr.toString(True))\n",
    "print(unlikeXpr.solve())"
   ]
  },
  {
   "cell_type": "code",
   "execution_count": 13,
   "id": "33fa863e",
   "metadata": {},
   "outputs": [
    {
     "name": "stdout",
     "output_type": "stream",
     "text": [
      "(x\\S\\ !^ y\\S\\)\n",
      "_!^1\\S\\ = x\\S\\ !^ y\\S\\; \n",
      "_!^1\\F\\; x\\F\\; y\\T\\\n",
      "_!^1\\F\\; x\\T\\; y\\F\\\n",
      "_!^1\\T\\; x\\F\\; y\\F\\\n",
      "_!^1\\T\\; x\\T\\; y\\T\\\n",
      "\n"
     ]
    }
   ],
   "source": [
    "alikeXpr = x.alike(y)\n",
    "print(alikeXpr)\n",
    "print(alikeXpr.toString(True))\n",
    "print(alikeXpr.solve())"
   ]
  },
  {
   "cell_type": "markdown",
   "id": "5cd40d19",
   "metadata": {},
   "source": [
    "We will be walking through how to use of qauntum-boolean, *Qbool*, variables to write complex quantum expressions and assignments by chaining multiple operations together.\n",
    "\n",
    "To start we will import the ***Qbool* class d5 module of dann5 quantum programming package** and create six quantum boolean (*Qbool*) variables (*b0-b4* and *br*) to be used in complex expressions and assignments."
   ]
  },
  {
   "cell_type": "code",
   "execution_count": 14,
   "id": "b358b41b",
   "metadata": {},
   "outputs": [
    {
     "name": "stdout",
     "output_type": "stream",
     "text": [
      "b0\\S\\\n",
      "b1\\F\\\n",
      "b2\\S\\\n",
      "b3\\S\\\n",
      "b4\\S\\\n",
      "br\\T\\\n"
     ]
    }
   ],
   "source": [
    "from dann5.d5 import Qbool\n",
    "\n",
    "b0 = Qbool(\"b0\")\n",
    "b1 = Qbool(\"b1\", False)\n",
    "b2 = Qbool(\"b2\")\n",
    "b3 = Qbool(\"b3\")\n",
    "b4 = Qbool(\"b4\")\n",
    "br = Qbool(\"br\", Qbool.true()) # you can set true or false this way as well\n",
    "\n",
    "print(b0)\n",
    "print(b1)\n",
    "print(b2)\n",
    "print(b3)\n",
    "print(b4)\n",
    "print(br)"
   ]
  },
  {
   "cell_type": "markdown",
   "id": "d873e9ad",
   "metadata": {},
   "source": [
    "**Note**: As shown in the above code a deterministic value of a Qbool variable can be set using ***False*** or ***Qbool.false()*** interchangeably, or ***True*** and ***Qbool.true()*** interchangeably. Otherwise, the variable will be initialized in superposition state (unknown value).\n",
    "\n",
    "### Qbool quantum logical operations and comparison operators\n",
    "\n",
    "Now we will create our complex quantum expression by using the quantum comparison operators ***not equal (!=)***, and ***equal to (==)***, and quantum logical operations ***AND (&)***, ***OR (|)*** and ***XOR (^)***. \n",
    "\n",
    "**Note**: There is no *NAND* or *NOR* quantum operations. You can use the ***NOT (!)* quantum unary operator** in combination with *AND (&)* and *OR (!)* operations to create the same end result."
   ]
  },
  {
   "cell_type": "code",
   "execution_count": 15,
   "id": "d212ae06",
   "metadata": {},
   "outputs": [
    {
     "name": "stdout",
     "output_type": "stream",
     "text": [
      "(((b3\\S\\ != b4\\S\\) & (b2\\S\\ == b0\\S\\)) | b1\\F\\) \n",
      "\n",
      "_|2\\S\\ = _&2\\S\\ | b1\\F\\;\n",
      " _&2\\S\\ = b3\\S\\ & b2\\S\\;\n",
      " b3\\S\\ != b4\\S\\;\n",
      " b2\\S\\ == b0\\S\\;\n",
      " \n"
     ]
    }
   ],
   "source": [
    "expression = ((b3 != b4) & (b2 == b0)) | b1\n",
    "print(expression, \"\\n\")\n",
    "print(expression.toString(True).replace(\";\", \";\\n\"))"
   ]
  },
  {
   "cell_type": "markdown",
   "id": "d59b4291",
   "metadata": {},
   "source": [
    "When the above quantum expression is represented as dann5 virtual code (d5vc) through a use of *toString()* function with the *decomposed* line output option set to *True*, we see that there are now 2 quantum comparison rules in the expression, as we used both *!=* and *==* quantum comparison operators to construct the complex expression.\n",
    "\n",
    "So, in any valid solution the variable b3\\S\\ has to be not equal to the variable b4\\S\\ and the variable b2\\S\\ has to be equal to the variable b0\\S\\.\n",
    "\n",
    "### Solving a Qbool quantum expression and assignment\n",
    "\n",
    "Now we can solve the quantum expression by importing the solver from *dwave* module in *dann5* quantum programming package, activate default solver, and then using the quantum expression *solve()* method.\n",
    "\n",
    "- **Note**: As per specified quantum comparison rules, in the example below, we see that Qbool variables b3 and b4 are always different while b2 and b0 are always the same."
   ]
  },
  {
   "cell_type": "code",
   "execution_count": 16,
   "id": "193f71e5",
   "metadata": {},
   "outputs": [
    {
     "name": "stdout",
     "output_type": "stream",
     "text": [
      "(((b3\\S\\ != b4\\S\\) & (b2\\S\\ == b0\\S\\)) | b1\\F\\) \n",
      "\n",
      "_|2\\S\\ = _&2\\S\\ | b1\\F\\;\n",
      " _&2\\S\\ = b3\\S\\ & b2\\S\\;\n",
      " b3\\S\\ != b4\\S\\;\n",
      " b2\\S\\ == b0\\S\\;\n",
      " \n"
     ]
    }
   ],
   "source": [
    "print(expression, \"\\n\")\n",
    "print(expression.toString(True).replace(\";\", \";\\n\"))"
   ]
  },
  {
   "cell_type": "markdown",
   "id": "44468fd4",
   "metadata": {},
   "source": [
    "To create an assignment, we follow the same format by now assigning the same expression to the result Qboolean variable *br*, which we defined above as *True*."
   ]
  },
  {
   "cell_type": "code",
   "execution_count": 17,
   "id": "3d33ee81",
   "metadata": {},
   "outputs": [
    {
     "name": "stdout",
     "output_type": "stream",
     "text": [
      "\n",
      " br\\T\\ = (((b3\\S\\ != b4\\S\\) & (b2\\S\\ == b0\\S\\)) | b1\\F\\) \n",
      "\n",
      " br\\T\\ = _&3\\S\\ | b1\\F\\;\n",
      " _&3\\S\\ = b3\\S\\ & b2\\S\\;\n",
      " b3\\S\\ != b4\\S\\;\n",
      " b2\\S\\ == b0\\S\\;\n",
      " \n",
      "\n"
     ]
    }
   ],
   "source": [
    "qAssign = br._(((b3 != b4) & (b2 == b0)) | b1)\n",
    "print(\"\\n {} \\n\\n {}\\n\".format(qAssign, \n",
    "                               qAssign.toString(True).replace(\";\", \";\\n\")))"
   ]
  },
  {
   "cell_type": "markdown",
   "id": "035df72d",
   "metadata": {},
   "source": [
    "And from the solutions below, we see that there is only one solution where the above expression will be true. Again, it is worth checking each line of the quantum assignment's d5vc to validate the returned solution(s) is (are) correct."
   ]
  },
  {
   "cell_type": "code",
   "execution_count": 18,
   "id": "e18f0be9",
   "metadata": {},
   "outputs": [
    {
     "name": "stdout",
     "output_type": "stream",
     "text": [
      "br\\T\\; _&3\\T\\; b3\\T\\; b4\\F\\; b2\\T\\; b0\\T\\; b1\\F\\\n",
      "\n"
     ]
    }
   ],
   "source": [
    "print(qAssign.solve())"
   ]
  }
 ],
 "metadata": {
  "kernelspec": {
   "display_name": "Python 3 (ipykernel)",
   "language": "python",
   "name": "python3"
  },
  "language_info": {
   "codemirror_mode": {
    "name": "ipython",
    "version": 3
   },
   "file_extension": ".py",
   "mimetype": "text/x-python",
   "name": "python",
   "nbconvert_exporter": "python",
   "pygments_lexer": "ipython3",
   "version": "3.10.4"
  }
 },
 "nbformat": 4,
 "nbformat_minor": 5
}
