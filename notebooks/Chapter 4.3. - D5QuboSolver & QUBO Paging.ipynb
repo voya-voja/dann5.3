{
 "cells": [
  {
   "cell_type": "markdown",
   "id": "b5696a36",
   "metadata": {},
   "source": [
    "### 4.3. - D5QuboSolver & QUBO Paging\n",
    "\n"
   ]
  },
  {
   "cell_type": "code",
   "execution_count": null,
   "id": "4d99c501",
   "metadata": {},
   "outputs": [],
   "source": [
    "from dann5.d5o import Qvar, Qequation, Qsolver, Qanalyzer\n",
    "import time"
   ]
  },
  {
   "cell_type": "markdown",
   "id": "fa52fbc5",
   "metadata": {},
   "source": [
    "***Qsolver*** is a *Qubo solver* that runs on a local machine, it is optimized for solving Qubo by **generating by default sample with lowest energy**. \n",
    "\n",
    "To get a full sampleset use overloaded constructor when creating an instance of Qsolver:\n",
    "> solver = Qsolver(Q, False);"
   ]
  },
  {
   "cell_type": "code",
   "execution_count": null,
   "id": "345ff69a",
   "metadata": {},
   "outputs": [],
   "source": [
    "start = time.process_time()\n",
    "d5oSolver = Qsolver(Q)\n",
    "sample = d5oSolver.solution()\n",
    "finish = time.process_time()\n",
    "print(\"Qsolver takes\", finish - start, \"seconds to solve problem with\", nNo, \"nodes\")"
   ]
  },
  {
   "cell_type": "code",
   "execution_count": null,
   "id": "ff501f0c",
   "metadata": {},
   "outputs": [],
   "source": [
    "eT.set(sample)\n",
    "print(eT.solutions())"
   ]
  },
  {
   "cell_type": "markdown",
   "id": "881d095b",
   "metadata": {},
   "source": [
    "As expected there is only one solution of the problem above, i.e. *a is 1 while b and c are 3*.\n",
    "\n",
    "Now we will execute the same Qubo using ExactSolver.\n",
    "> The next section of code expect **to run between 1 and 2 minutes**, if you are going to run it on Core i7 with 32GB RAM."
   ]
  },
  {
   "cell_type": "markdown",
   "id": "d6351ce5",
   "metadata": {},
   "source": [
    "By using d5o we can easily solve on a local machine a problem like:\n",
    "> A school has received 45 tickets for a show. If there are 13 schoolteachers to oversee pupils, with a help of no more than 3 parents, what would be a similar number of boys and girls that can see the show?"
   ]
  },
  {
   "cell_type": "code",
   "execution_count": null,
   "id": "882c91ff",
   "metadata": {},
   "outputs": [],
   "source": [
    "girls = Qvar(4, \"girls\")\n",
    "boys = Qvar(4, \"boys\")\n",
    "teachers = Qvar(\"teachers\", 13)\n",
    "parents = Qvar(2, \"parents\")\n",
    "tickets = Qvar(\"tickets\", 45)\n",
    "distribution = Qequation(tickets).assign( girls + boys + teachers + parents )\n",
    "Q = distribution.qubo()\n",
    "nNo = Qanalyzer(Q).nodesNo()\n",
    "print(\"number of nodes:\", nNo, \"has\", f\"{'{:,}'.format(pow(2,nNo-1)/2 + 2*nNo)}\", \"possible solutions\")"
   ]
  },
  {
   "cell_type": "markdown",
   "id": "fe536ffb",
   "metadata": {},
   "source": [
    "> The next segment of code expect to run 14+ seconds."
   ]
  },
  {
   "cell_type": "code",
   "execution_count": null,
   "id": "8d138c78",
   "metadata": {},
   "outputs": [],
   "source": [
    "start = time.process_time()\n",
    "d5oSolver = Qsolver(Q)\n",
    "sample = d5oSolver.solution()\n",
    "finish = time.process_time()\n",
    "print(\"Qsolver takes\", finish - start, \"seconds to solve problem with\", nNo, \"nodes\")"
   ]
  },
  {
   "cell_type": "code",
   "execution_count": null,
   "id": "0e2ed887",
   "metadata": {},
   "outputs": [],
   "source": [
    "distribution.set(sample)\n",
    "print(distribution.solutions())"
   ]
  },
  {
   "cell_type": "markdown",
   "id": "b16d9454",
   "metadata": {},
   "source": [
    "Similarly, *a multiplication Q equation with three Q variables, one a 3 qbit and two 2 qbits variables, will generate* ***a Qubo with 32 nodes***.\n",
    "\n",
    "The problem below is a variation of [D-Wave's Leap factorial problem](https://cloud.dwavesys.com/learning/user/nebojsa_2evojinovic_40rogers_2ecom/notebooks/leap/demos/factoring/01-factoring-overview.ipynb), only here we are finding possible values for 3 Q variables ***x <= 7*** **and** ***y & z <= 3***, **where** ***a result P is 42***."
   ]
  },
  {
   "cell_type": "code",
   "execution_count": null,
   "id": "5510a048",
   "metadata": {},
   "outputs": [],
   "source": [
    "x = Qvar(3, \"x\")\n",
    "y = Qvar(2, \"y\")\n",
    "z = Qvar(2, \"z\")\n",
    "P = Qvar(\"P\", 42)\n",
    "eP = Qequation(P).assign(x * y * z)\n",
    "Q = eP.qubo()\n",
    "analyzer = Qanalyzer(Q)\n",
    "nNo = analyzer.nodesNo()\n",
    "print(\"number of nodes:\", nNo, \"has\", f\"{'{:,}'.format(pow(2,nNo-1)/2 + 2*nNo)}\", \"possible solutions\")"
   ]
  },
  {
   "cell_type": "markdown",
   "id": "e4e63f1e",
   "metadata": {},
   "source": [
    "The following code finds all possible combinations of 3 numbers that will add to the number 10, where number **p** is *unknown q-whole number with 3 q-bits in superposition state*, while **q** and **r** are two *unknown q-whole numbers with 2 q-bits* each.\n",
    ">\n",
    "> The *mM.solve()* method uses dann5.d5o quantum annealing simulator to identify all possible solutions for **p, q and r** (shown below).\n",
    ">\n",
    "> You will need to insert *Solver.Active()* to activate the default dann5 solver for simulating solutions."
   ]
  },
  {
   "cell_type": "code",
   "execution_count": null,
   "id": "9ea04990",
   "metadata": {},
   "outputs": [],
   "source": [
    "import dann5.d5 as d5\n",
    "from dann5.dwave import Solver\n",
    "Solver.Active()\n",
    "p = d5.Qwhole(3,\"p\")\n",
    "q = d5.Qwhole(2, \"q\")\n",
    "r = d5.Qwhole(2, \"r\")\n",
    "M = d5.Qwhole(\"M\", 10)\n",
    "mM = M.assign(p + q + r)\n",
    "mM.solve()\n",
    "print(\"d5 simulation solutions: \\n{}\".format(mM.solutions()))"
   ]
  },
  {
   "cell_type": "markdown",
   "id": "ae142848",
   "metadata": {},
   "source": [
    "The *mM.solutions()* method returns line by line all found solutions of expression **M = 10 = p[3] + q[2] + r[2]**, where each variable is presented as \n",
    "- *variable_name* ***/*** *#_of_q-bits* ***:*** *varaible_value* ***/***\n",
    "\n",
    "Additionally, any variable named **'_*#'** (where *#* is a number) is a temporary addition variable representing a result of **_*# = p + q** expression.\n",
    "\n",
    "Furthermore, we can easily prepare the assignment for execution on a quantum computer, by retrieving its QUBO presentation.\n",
    "> The *assignment mM* is converted into its **qubo** presentation via *mM.qubo()* call, below.\n",
    "> While **Qanalyzer** provides number of *logical quantum nodes and branches* required to process the given qubo."
   ]
  },
  {
   "cell_type": "markdown",
   "id": "d88082e2",
   "metadata": {},
   "source": [
    "> On a laptop (Core i7 & 32GB RAM) Qubo with 32 nodes will require a bit less than **5 minutes of computation**."
   ]
  },
  {
   "cell_type": "code",
   "execution_count": null,
   "id": "7c322a5f",
   "metadata": {},
   "outputs": [],
   "source": [
    "start = time.process_time()\n",
    "d5oSolver = Qsolver(Q)\n",
    "sample = d5oSolver.solution()\n",
    "finish = time.process_time()\n",
    "print(\"Qsolver takes\", finish - start, \"seconds to solve problem with\", nNo, \"nodes\")"
   ]
  },
  {
   "cell_type": "code",
   "execution_count": null,
   "id": "a04fb1ff",
   "metadata": {},
   "outputs": [],
   "source": [
    "eP.set(sample)\n",
    "print(eP.solutions())"
   ]
  },
  {
   "cell_type": "markdown",
   "id": "5503f8e2",
   "metadata": {},
   "source": [
    "When defining Q variables to solve a problem, it is important to ensure that there is a possible solution within defined Q equation. For example, \n",
    "> if we would like *to rerun the above school trip example for 78 available tickets*, **and we do not adjust variables**, ***we will get a result set that does not make any sense***:"
   ]
  },
  {
   "cell_type": "code",
   "execution_count": null,
   "id": "9bb7cf39",
   "metadata": {},
   "outputs": [],
   "source": [
    "tickets = Qvar(\"tickets\", 78)\n",
    "distribution = Qequation(tickets).assign( girls + boys + teachers + parents )\n",
    "Q = distribution.qubo()\n",
    "d5oSolver = Qsolver(Q)\n",
    "sample = d5oSolver.solution()\n",
    "distribution.set(sample)\n",
    "print(distribution.solutions())"
   ]
  },
  {
   "cell_type": "markdown",
   "id": "e2f0a33a",
   "metadata": {},
   "source": [
    "Obviously we need to adjust *the size of ***girls and boys*** Q variables*! However, this will result in Qubo with 33 nodes. "
   ]
  },
  {
   "cell_type": "code",
   "execution_count": null,
   "id": "daab88b5",
   "metadata": {},
   "outputs": [],
   "source": [
    "girls = Qvar(5, \"girls\")\n",
    "boys = Qvar(5, \"boys\")\n",
    "teachers = Qvar(\"teachers\", 13)\n",
    "parents = Qvar(2, \"parents\")\n",
    "tickets = Qvar(\"tickets\", 78)\n",
    "distribution = Qequation(tickets).assign( girls + boys + teachers + parents )\n",
    "Q = distribution.qubo()\n",
    "nNo = Qanalyzer(Q).nodesNo()\n",
    "print(\"number of nodes:\", nNo`, \"has\", f\"{'{:,}'.format(pow(2,nNo-1)/2 + 2*nNo)}\", \"possible solutions\")"
   ]
  },
  {
   "cell_type": "markdown",
   "id": "bc3a0822",
   "metadata": {},
   "source": [
    "> On my laptop using d5o.Qsolver **the next section of code will take close to 10 minutes** to solve the Qubo with 33 nodes."
   ]
  },
  {
   "cell_type": "code",
   "execution_count": null,
   "id": "cb1f8fef",
   "metadata": {},
   "outputs": [],
   "source": [
    "start = time.process_time()\n",
    "d5oSolver = Qsolver(Q)\n",
    "sample = d5oSolver.solution()\n",
    "finish = time.process_time()\n",
    "print(\"Qsolver takes\", finish - start, \"seconds to solve problem with\", nNo, \"nodes\")"
   ]
  },
  {
   "cell_type": "code",
   "execution_count": null,
   "id": "5ad53ab5",
   "metadata": {},
   "outputs": [],
   "source": [
    "distribution.set(sample)\n",
    "print(distribution.solutions())"
   ]
  },
  {
   "cell_type": "code",
   "execution_count": null,
   "id": "1fc4fd33",
   "metadata": {},
   "outputs": [],
   "source": []
  }
 ],
 "metadata": {
  "kernelspec": {
   "display_name": "Python 3 (ipykernel)",
   "language": "python",
   "name": "python3"
  },
  "language_info": {
   "codemirror_mode": {
    "name": "ipython",
    "version": 3
   },
   "file_extension": ".py",
   "mimetype": "text/x-python",
   "name": "python",
   "nbconvert_exporter": "python",
   "pygments_lexer": "ipython3",
   "version": "3.10.4"
  }
 },
 "nbformat": 4,
 "nbformat_minor": 5
}
