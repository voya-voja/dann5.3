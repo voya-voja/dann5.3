{
 "cells": [
  {
   "cell_type": "markdown",
   "id": "223b0908",
   "metadata": {},
   "source": [
    "# Chapter 2.8. - Qblock, Qbinder, Qrutine and Qfunction\n",
    "\n",
    "In this chapter we will be walking through how to use quantum programming structures, which allow definition of sequence of quantum statements such as expressions and assignments.  \n",
    "\n",
    "To start we will import the ***Qbit* and *Qwhole* class from *d5* module of *dann5* quantum programming package** and initialize five quantum variables, two *Qbit* constants *_0* and *_1*, and three *Qwhole* unknown variables *x, y* and *r* to use them in the following the quantum sequence defined as **Qblock, Qroutine and Qfunction** organizing quantum expressions and assignments. Also, here we will cover features of **Qbinder** class used for representation of solutions for specified quantum variables.\n",
    "\n",
    "- **NOTE**: The quantum sequence can include quantum assignments and expressions using operations and operators of different quantum types."
   ]
  },
  {
   "cell_type": "code",
   "execution_count": 1,
   "id": "a2ddf5eb",
   "metadata": {},
   "outputs": [],
   "source": [
    "from dann5.d5 import Qbit, Qwhole\n",
    "_0 = Qbit(\"_0\", 0); _1 = Qbit(\"_1\", 1);\n",
    "x = Qwhole(2, \"x\"); y = Qwhole(2, \"y\"); r = Qwhole(2, \"r\");"
   ]
  },
  {
   "cell_type": "markdown",
   "id": "2ce41112",
   "metadata": {},
   "source": [
    "## Qblock\n",
    "\n",
    "A quantum block is a lexical structure of quantum code, which is grouping together quantum assignments and expression using different operations and operators of different quantum types. *Qblock* consists of one or more quantum statements. *Qblock * is a quantum statement, too, permitting block-structured quantum programming through the definition of a quantum block nested within another quantum block.\n",
    "\n",
    "To define a *neBlck* as a quantum block, we import *Qblock* from *d5* module of *dann5* package. The code in the cell below is an example of quantum algorithm that defines a rule of ***x* is not equal to *y***.\n",
    "- **Note**: to add a quantum statement into a quantum block we use an overloaded *streaming operator (<<)*, like in the line:\n",
    "    > neBlck = neBlck << y._(r + x) << _1._(expr);\n",
    "    >\n",
    "    > y._(r + x), a *Qwhole* addition (*+*) assignment, means r = y - x, while\n",
    "    > \n",
    "    > \\_1._(expr) is \\_1._(r[n] | ... | r[1] | r[0]), a *Qbit* OR (*|*) assignment where *n* is a **number of q-bits** defined in *Qwhole* variable *r*. It establishes that *Qwhole* variables *y* and *x* must have at least one q-bit different"
   ]
  },
  {
   "cell_type": "code",
   "execution_count": 2,
   "id": "a0d5060d",
   "metadata": {},
   "outputs": [
    {
     "name": "stdout",
     "output_type": "stream",
     "text": [
      "{\n",
      "\ty\\3q:U\\ = (r\\2q:U\\ + x\\2q:U\\);\n",
      "\t_1\\1\\ = (r1\\S\\ | r0\\S\\);\n",
      "}\n"
     ]
    }
   ],
   "source": [
    "from dann5.d5 import Qblock\n",
    "\n",
    "neBlck = Qblock(); #{\n",
    "expr = r[1] | r[0];\n",
    "for at in range(2, r.noqbs()):\n",
    "    expr = r[at] | expr;\n",
    "neBlck = neBlck << y._(r + x) << _1._(expr);\n",
    "#}\n",
    "print(neBlck)"
   ]
  },
  {
   "cell_type": "markdown",
   "id": "275d916d",
   "metadata": {},
   "source": [
    "Above we see the printout of *neBlock* definition in quantum space. By using *Qblock toString(True)* method we can see that *neBlck* d5vc is a sequence of d5vc's of two quantum assignments from above."
   ]
  },
  {
   "cell_type": "code",
   "execution_count": 3,
   "id": "01d8e1c6",
   "metadata": {},
   "outputs": [
    {
     "name": "stdout",
     "output_type": "stream",
     "text": [
      " y0\\S\\ = r0\\S\\ .+ x0\\S\\;\n",
      " y1\\S\\ = r1\\S\\ + x1\\S\\ + #[y0]\\S\\;\n",
      " y2\\S\\ = #[y1]\\S\\;\n",
      " ;\n",
      " _1\\1\\ = r1\\S\\ | r0\\S\\;\n",
      " \n"
     ]
    }
   ],
   "source": [
    "print(neBlck.toString(True).replace(\";\", \";\\n\"))"
   ]
  },
  {
   "cell_type": "markdown",
   "id": "054635e8",
   "metadata": {},
   "source": [
    "To solve the quantum block *neBlck*, we are importing *Solver* class from *dwave* module of *dann5* package, and using *Qblock solve()* method."
   ]
  },
  {
   "cell_type": "code",
   "execution_count": 4,
   "id": "f8296da8",
   "metadata": {},
   "outputs": [
    {
     "name": "stdout",
     "output_type": "stream",
     "text": [
      " y\\3b:2\\; r\\2b:2\\; x\\2b:0\\ _1\\1\\; r1\\1\\; r0\\0\\\n",
      " y\\3b:4\\; r\\2b:2\\; x\\2b:2\\ _1\\1\\; r1\\1\\; r0\\0\\\n",
      " y\\3b:3\\; r\\2b:2\\; x\\2b:1\\ _1\\1\\; r1\\1\\; r0\\0\\\n",
      " y\\3b:5\\; r\\2b:2\\; x\\2b:3\\ _1\\1\\; r1\\1\\; r0\\0\\\n",
      " y\\3b:1\\; r\\2b:1\\; x\\2b:0\\ _1\\1\\; r1\\0\\; r0\\1\\\n",
      " y\\3b:3\\; r\\2b:1\\; x\\2b:2\\ _1\\1\\; r1\\0\\; r0\\1\\\n",
      " y\\3b:3\\; r\\2b:3\\; x\\2b:0\\ _1\\1\\; r1\\1\\; r0\\1\\\n",
      " y\\3b:5\\; r\\2b:3\\; x\\2b:2\\ _1\\1\\; r1\\1\\; r0\\1\\\n",
      " y\\3b:2\\; r\\2b:1\\; x\\2b:1\\ _1\\1\\; r1\\0\\; r0\\1\\\n",
      " y\\3b:4\\; r\\2b:1\\; x\\2b:3\\ _1\\1\\; r1\\0\\; r0\\1\\\n",
      " y\\3b:4\\; r\\2b:3\\; x\\2b:1\\ _1\\1\\; r1\\1\\; r0\\1\\\n",
      " y\\3b:6\\; r\\2b:3\\; x\\2b:3\\ _1\\1\\; r1\\1\\; r0\\1\\\n",
      "\n"
     ]
    }
   ],
   "source": [
    "from dann5.dwave import Solver\n",
    "Solver.Active()\n",
    "print(neBlck.solve())"
   ]
  },
  {
   "cell_type": "markdown",
   "id": "c3f7fbee",
   "metadata": {},
   "source": [
    "We see that *Qwhole* variables *x* and *y* are different in every solution above. However, we have initialized variable *y* as a 2 q-bit Qwhole variable, but when we print the solutions of the* Qblock neBlck*, the Qwhole *y* variable has been automatically resized to perform proper quantum computations.\n",
    "\n",
    "## Qbinder\n",
    "\n",
    "The **Qbinder** class from *d5* module of *dann5* package allows to format printing of calculated solutions according to our needs. \n",
    "\n",
    "So, to compare the *neBlck* solutions of Qwhole* variables *x* and *y* as they have been defined, we are defining *xyBinder* as a *Qbinder* containing *Qwhole* variables *x* and *y* as they were defined. By using *Qblock compute()* method the *solutions* are calculated and then added into the *Qbinder xyBinder* via use of *add()* method. From the printout we see the solutions for originally defined *x* and *y Qwhole* variables. As expected, the solutions set contains all the combinations, except those when *x* and *y* have the same value."
   ]
  },
  {
   "cell_type": "code",
   "execution_count": 5,
   "id": "18b5d6d1",
   "metadata": {},
   "outputs": [
    {
     "name": "stdout",
     "output_type": "stream",
     "text": [
      "x\\2q:U\\ y\\2q:U\\ {\n",
      "x\\2b:0\\ y\\2b:2\\ \n",
      "x\\2b:2\\ y\\2b:0\\ \n",
      "x\\2b:1\\ y\\2b:3\\ \n",
      "x\\2b:3\\ y\\2b:1\\ \n",
      "x\\2b:0\\ y\\2b:1\\ \n",
      "x\\2b:2\\ y\\2b:3\\ \n",
      "x\\2b:0\\ y\\2b:3\\ \n",
      "x\\2b:2\\ y\\2b:1\\ \n",
      "x\\2b:1\\ y\\2b:2\\ \n",
      "x\\2b:3\\ y\\2b:0\\ \n",
      "x\\2b:1\\ y\\2b:0\\ \n",
      "x\\2b:3\\ y\\2b:2\\ \n",
      "}\n"
     ]
    }
   ],
   "source": [
    "from dann5.d5 import Qbinder\n",
    "xyBinder = Qbinder() << x << y;\n",
    "\n",
    "neBlck.reset();\n",
    "solutions = neBlck.compute();\n",
    "xyBinder.add(solutions)\n",
    "print(xyBinder)"
   ]
  },
  {
   "cell_type": "markdown",
   "id": "a1dbd9e9",
   "metadata": {},
   "source": [
    "## Qroutine\n",
    "\n",
    "Quantum routine represents a named quantum block. *Qroutine* defined in *d5* module of *dann5* package, is a quantum statement, supporting the nesting of quantum routines and blocks. \n",
    "\n",
    "In the following example, we are reusing previously defined *Qblock neBlck* to define Python variable *notEqual* as a *Qroutine* named *\"ne\"* in quantum space. \n",
    "\n",
    "From the printout we see that the semantics of *notEqual Qroutine* is the same as of *neBlck Qblock*. Also, we see that the solution set is the same as when we used *neBlck*."
   ]
  },
  {
   "cell_type": "code",
   "execution_count": 6,
   "id": "251d8bed",
   "metadata": {},
   "outputs": [
    {
     "name": "stdout",
     "output_type": "stream",
     "text": [
      "ne : {\n",
      "\ty\\3q:U\\ = (r\\2q:U\\ + x\\2q:U\\);\n",
      "\t_1\\1\\ = (r1\\S\\ | r0\\S\\);\n",
      "}\n",
      "x\\2q:U\\ y\\2q:U\\ {\n",
      "x\\2b:0\\ y\\2b:2\\ \n",
      "x\\2b:2\\ y\\2b:0\\ \n",
      "x\\2b:1\\ y\\2b:3\\ \n",
      "x\\2b:3\\ y\\2b:1\\ \n",
      "x\\2b:0\\ y\\2b:1\\ \n",
      "x\\2b:2\\ y\\2b:3\\ \n",
      "x\\2b:0\\ y\\2b:3\\ \n",
      "x\\2b:2\\ y\\2b:1\\ \n",
      "x\\2b:1\\ y\\2b:2\\ \n",
      "x\\2b:3\\ y\\2b:0\\ \n",
      "x\\2b:1\\ y\\2b:0\\ \n",
      "x\\2b:3\\ y\\2b:2\\ \n",
      "}\n"
     ]
    }
   ],
   "source": [
    "from dann5.d5 import Qroutine\n",
    "neBlck.reset()\n",
    "notEqual = Qroutine(\"ne\", neBlck);\n",
    "print(notEqual)\n",
    "\n",
    "solutions = notEqual.compute();\n",
    "\n",
    "xyBinder.reset()\n",
    "xyBinder.add(solutions)\n",
    "print(xyBinder)"
   ]
  },
  {
   "cell_type": "markdown",
   "id": "4ca3074c-006b-4fd4-adba-2ceb18982e93",
   "metadata": {},
   "source": [
    "The next quantum routine example defines ***m = 7 mod k*** logic. Python variable *_7modK* initialized as *Qroutine* is defined as *\"m = 7 % k\"* in quantum space. To solve the mod problem in quantum space, we define a quantum assignment:\n",
    "> _7 = r + a * k,\n",
    "\n",
    "where *_7* is a *Qwhole* constant with value *7*, *r* is unknown reminder which represents a solution of the problem, *k* is an unknown 2 q-bit *Qwhole* divisor and *a* is an unknown 2 q-bit *Qwhole* factor. \n",
    "\n",
    "Also, we define a quantum expression ensuring *r *is less than *k*:\n",
    "> r < k\n",
    "\n",
    "As in case of Quantum block, we can define the content of a quantum routine *_7modK* by adding quantum statements, such as quantum expressions, assignments, blocks, or routines using *<<*, a *Qroutine* input stream operator."
   ]
  },
  {
   "cell_type": "code",
   "execution_count": 7,
   "id": "dafa3ceb",
   "metadata": {},
   "outputs": [
    {
     "name": "stdout",
     "output_type": "stream",
     "text": [
      "m = 7 % k : {\n",
      "\t7_\\5q:7\\ = (r\\2q:U\\ + (a\\2q:U\\ * k\\2q:U\\));\n",
      "\t(r\\3q:U\\ < k\\3q:U\\);\n",
      "}\n"
     ]
    }
   ],
   "source": [
    "_7 = Qwhole(\"7_\", 7); k = Qwhole(2, \"k\");\n",
    "\n",
    "_7modK = Qroutine(\"m = 7 % k\"); # {\n",
    "r = Qwhole(2, \"r\"); a = Qwhole(2, \"a\"); \n",
    "_7modK = _7modK << _7.assign(r + a * k) << (r < k);\n",
    "# } m = 7 % k\n",
    "print(_7modK)"
   ]
  },
  {
   "cell_type": "markdown",
   "id": "530569c6-4a9c-4312-a459-bfda3d6c899b",
   "metadata": {},
   "source": [
    "Unsurprisingly, by computing the quantum routine *_7modK*, we get a set with 2 solutions for *k* values *2* and *3*, where *r* (the mod) is *1*."
   ]
  },
  {
   "cell_type": "code",
   "execution_count": 8,
   "id": "f3e346a4",
   "metadata": {},
   "outputs": [
    {
     "name": "stdout",
     "output_type": "stream",
     "text": [
      "7_\\3q:7\\ k\\2q:U\\ a\\2q:U\\ r\\2q:U\\ {\n",
      "7_\\3b:7\\ k\\2b:3\\ a\\2b:2\\ r\\2b:1\\ \n",
      "7_\\3b:7\\ k\\2b:2\\ a\\2b:3\\ r\\2b:1\\ \n",
      "}\n"
     ]
    }
   ],
   "source": [
    "solutions = _7modK.compute();\n",
    "\n",
    "modBinder = Qbinder() << _7 << k << a << r\n",
    "modBinder.add(solutions)\n",
    "print(modBinder)"
   ]
  },
  {
   "cell_type": "markdown",
   "id": "e66cf357",
   "metadata": {},
   "source": [
    "Let’s see how we can use a quantum routine to define **greatest common devisor of *Qwhole* numbers *s* and *t***, or ***gcd(s,t)*** using Bézout's identity.\n",
    "- **Bézout's lemma**:\n",
    "\n",
    "  Let *s* and *t* be integers with greatest common divisor *d*. Then there exist integers *k* and *n* such that:\n",
    "  > *s * k + t * n = d*.\n",
    "  \n",
    "  Moreover, the integers of the form:\n",
    "  > *s * x + t * y*\n",
    "  \n",
    "  are exactly the multiples of *d*.\n",
    "\n",
    "As *Qwhole* represents a subset of whole integers we can represent the formula from Bézout's lemma with following 2 quantum statements:\n",
    "> s * k == d + t * n\n",
    ">\n",
    "> t * n == d + s * k\n",
    "\n",
    "For now, let focus only on the first quantum statement *s * k == d + t * n*, which will give us all the solutions where *s* is greater than *t*. In the case of the second statement, in all solutions *t* will be greater than *s*.\n",
    "\n",
    "Assuming *s* and *t* are 3 q-bit *Qwhole* variables and *k* and *n* are 1 q-bit *Qwhole* variables, for *d == 1*, we can simulate the logic using the classical computing solving the problem as in the code cell below."
   ]
  },
  {
   "cell_type": "code",
   "execution_count": 9,
   "id": "7a0e27e4",
   "metadata": {},
   "outputs": [
    {
     "name": "stdout",
     "output_type": "stream",
     "text": [
      "s:1 t:0 k:1 n:0\n",
      "s:1 t:1 k:1 n:0\n",
      "s:1 t:2 k:1 n:0\n",
      "s:1 t:3 k:1 n:0\n",
      "s:1 t:4 k:1 n:0\n",
      "s:1 t:5 k:1 n:0\n",
      "s:1 t:6 k:1 n:0\n",
      "s:1 t:7 k:1 n:0\n",
      "s:1 t:0 k:1 n:1\n",
      "s:2 t:1 k:1 n:1\n",
      "s:3 t:2 k:1 n:1\n",
      "s:4 t:3 k:1 n:1\n",
      "s:5 t:4 k:1 n:1\n",
      "s:6 t:5 k:1 n:1\n",
      "s:7 t:6 k:1 n:1\n"
     ]
    }
   ],
   "source": [
    "for k in range(0,2):\n",
    "    for n in range(0,2):\n",
    "        for s in range(0,8):\n",
    "            for t in range(0,8):\n",
    "                if((s * k) == 1 + (t * n)):\n",
    "                    print(\"s:{} t:{} k:{} n:{}\".format(s, t, k, n))"
   ]
  },
  {
   "cell_type": "markdown",
   "id": "8a001f0d",
   "metadata": {},
   "source": [
    "To solve the same problem we are defining a quantum routine *gcd(s, t) = 1* with an quantum expression *s_gdc_exp*."
   ]
  },
  {
   "cell_type": "code",
   "execution_count": 10,
   "id": "a405f23e",
   "metadata": {},
   "outputs": [
    {
     "name": "stdout",
     "output_type": "stream",
     "text": [
      "gcd(s, t) = 1 : {\n",
      "\t((s\\3q:U\\ * k\\1q:U\\) == (1_\\1q:1\\ + (t\\3q:U\\ * n\\1q:U\\)));\n",
      "}\n"
     ]
    }
   ],
   "source": [
    "s = Qwhole(3, \"s\"); t = Qwhole(3, \"t\"); \n",
    "\n",
    "gcd = Qroutine(\"gcd(s, t) = 1\"); \n",
    "# {\n",
    "k = Qwhole(1, \"k\"); n = Qwhole(1, \"n\"); _1 = Qwhole(\"1_\", 1);\n",
    "\n",
    "s_gdc_exp = (s * k) == _1 + (t * n)\n",
    "\n",
    "gcd = gcd << s_gdc_exp;\n",
    "# } gcd(s, t) = 1\n",
    "\n",
    "print(gcd)"
   ]
  },
  {
   "cell_type": "markdown",
   "id": "3993a73f",
   "metadata": {},
   "source": [
    "By using a quantum binder *gcdBinder* we see the same solution set when *compute()* method is called on the quantum routine *gcd*.\n",
    "- **Note**: Instead of using binder we could call *gcd.solve()* to see the solutions. The same solution set would be displayed with values for all dann5 system generated auxiliary variables."
   ]
  },
  {
   "cell_type": "code",
   "execution_count": 11,
   "id": "eed9a627",
   "metadata": {},
   "outputs": [
    {
     "name": "stdout",
     "output_type": "stream",
     "text": [
      "s\\3q:U\\ t\\3q:U\\ k\\1q:U\\ n\\1q:U\\ {\n",
      "s\\3b:1\\ t\\3b:0\\ k\\1b:1\\ n\\1b:0\\ \n",
      "s\\3b:1\\ t\\3b:4\\ k\\1b:1\\ n\\1b:0\\ \n",
      "s\\3b:1\\ t\\3b:2\\ k\\1b:1\\ n\\1b:0\\ \n",
      "s\\3b:1\\ t\\3b:6\\ k\\1b:1\\ n\\1b:0\\ \n",
      "s\\3b:1\\ t\\3b:1\\ k\\1b:1\\ n\\1b:0\\ \n",
      "s\\3b:1\\ t\\3b:5\\ k\\1b:1\\ n\\1b:0\\ \n",
      "s\\3b:1\\ t\\3b:3\\ k\\1b:1\\ n\\1b:0\\ \n",
      "s\\3b:1\\ t\\3b:7\\ k\\1b:1\\ n\\1b:0\\ \n",
      "s\\3b:1\\ t\\3b:0\\ k\\1b:1\\ n\\1b:1\\ \n",
      "s\\3b:5\\ t\\3b:4\\ k\\1b:1\\ n\\1b:1\\ \n",
      "s\\3b:3\\ t\\3b:2\\ k\\1b:1\\ n\\1b:1\\ \n",
      "s\\3b:7\\ t\\3b:6\\ k\\1b:1\\ n\\1b:1\\ \n",
      "s\\3b:2\\ t\\3b:1\\ k\\1b:1\\ n\\1b:1\\ \n",
      "s\\3b:6\\ t\\3b:5\\ k\\1b:1\\ n\\1b:1\\ \n",
      "s\\3b:4\\ t\\3b:3\\ k\\1b:1\\ n\\1b:1\\ \n",
      "}\n"
     ]
    }
   ],
   "source": [
    "gcdBinder = Qbinder() << s << t << k << n \n",
    "gcdBinder.add(gcd.compute())\n",
    "print(gcdBinder)"
   ]
  },
  {
   "cell_type": "markdown",
   "id": "c69e64f9",
   "metadata": {},
   "source": [
    "We can define a second quantum expression *t_gdc_exp* and add it into the quantum routine *gdc* as shown in the next code cell."
   ]
  },
  {
   "cell_type": "code",
   "execution_count": 12,
   "id": "86395352",
   "metadata": {},
   "outputs": [
    {
     "name": "stdout",
     "output_type": "stream",
     "text": [
      "gcd(s, t) = 1 : {\n",
      "\t((s\\3q:U\\ * k\\1q:U\\) == (1_\\1q:1\\ + (t\\3q:U\\ * n\\1q:U\\)));\n",
      "\t((t\\3q:U\\ * k\\1q:U\\) == (1_\\1q:1\\ + (s\\3q:U\\ * n\\1q:U\\)));\n",
      "}\n"
     ]
    }
   ],
   "source": [
    "t_gdc_exp = (t * k) == _1 + (s * n)\n",
    "\n",
    "gcd.reset();\n",
    "gcd = gcd << t_gdc_exp\n",
    "print(gcd)"
   ]
  },
  {
   "cell_type": "markdown",
   "id": "0cec7f52",
   "metadata": {},
   "source": [
    "As a graph for the quantum code above has 36 nodes and 78 branches, it will take a bit longer to run it on a simulator on a local machine. So, we have rewrote the quantum routine *gcd* with both quantum statements defining the Bézout's identity where *s* and *t* are 2 q-bit *Qwhole* variables, and ensuring that *s* is not equal to *t*."
   ]
  },
  {
   "cell_type": "code",
   "execution_count": 13,
   "id": "dbf0030e",
   "metadata": {},
   "outputs": [
    {
     "name": "stdout",
     "output_type": "stream",
     "text": [
      "gcd(s, t) = 1 : {\n",
      "\t((s\\2q:U\\ * k\\1q:U\\) == (1_\\1q:1\\ + (t\\2q:U\\ * n\\1q:U\\)));\n",
      "\t((t\\2q:U\\ * n\\1q:U\\) == (1_\\1q:1\\ + (s\\2q:U\\ * k\\1q:U\\)));\n",
      "\t(t\\3q:U\\ != s\\3q:U\\);\n",
      "}\n"
     ]
    }
   ],
   "source": [
    "s = Qwhole(2, \"s\"); t = Qwhole(2, \"t\"); \n",
    "\n",
    "gcd = Qroutine(\"gcd(s, t) = 1\"); \n",
    "# {\n",
    "k = Qwhole(1, \"k\"); n = Qwhole(1, \"n\"); _1 = Qwhole(\"1_\", 1);\n",
    "\n",
    "s_gdc_exp = (s * k) == _1 + (t * n) \n",
    "t_gdc_exp = (t * n) == _1 + (s * k)\n",
    "\n",
    "gcd = gcd << s_gdc_exp << t_gdc_exp << (t != s);\n",
    "# } gcd(s, t) = 1\n",
    "\n",
    "print(gcd)"
   ]
  },
  {
   "cell_type": "code",
   "execution_count": 14,
   "id": "fec3b20f",
   "metadata": {},
   "outputs": [
    {
     "name": "stdout",
     "output_type": "stream",
     "text": [
      "s\\2q:U\\ t\\2q:U\\ k\\1q:U\\ n\\1q:U\\ {\n",
      "s\\2b:3\\ t\\2b:1\\ k\\1b:0\\ n\\1b:1\\ \n",
      "s\\2b:3\\ t\\2b:1\\ k\\1b:0\\ n\\1b:1\\ \n",
      "s\\2b:3\\ t\\2b:1\\ k\\1b:0\\ n\\1b:1\\ \n",
      "s\\2b:0\\ t\\2b:1\\ k\\1b:0\\ n\\1b:1\\ \n",
      "s\\2b:0\\ t\\2b:1\\ k\\1b:1\\ n\\1b:1\\ \n",
      "s\\2b:0\\ t\\2b:1\\ k\\1b:0\\ n\\1b:1\\ \n",
      "s\\2b:0\\ t\\2b:1\\ k\\1b:1\\ n\\1b:1\\ \n",
      "s\\2b:0\\ t\\2b:1\\ k\\1b:1\\ n\\1b:1\\ \n",
      "s\\2b:2\\ t\\2b:3\\ k\\1b:1\\ n\\1b:1\\ \n",
      "s\\2b:2\\ t\\2b:3\\ k\\1b:1\\ n\\1b:1\\ \n",
      "s\\2b:2\\ t\\2b:1\\ k\\1b:0\\ n\\1b:1\\ \n",
      "s\\2b:2\\ t\\2b:1\\ k\\1b:0\\ n\\1b:1\\ \n",
      "s\\2b:2\\ t\\2b:1\\ k\\1b:0\\ n\\1b:1\\ \n",
      "s\\2b:2\\ t\\2b:1\\ k\\1b:1\\ n\\1b:1\\ \n",
      "s\\2b:2\\ t\\2b:1\\ k\\1b:1\\ n\\1b:1\\ \n",
      "s\\2b:2\\ t\\2b:1\\ k\\1b:1\\ n\\1b:1\\ \n",
      "s\\2b:2\\ t\\2b:1\\ k\\1b:1\\ n\\1b:1\\ \n",
      "s\\2b:1\\ t\\2b:3\\ k\\1b:1\\ n\\1b:0\\ \n",
      "s\\2b:1\\ t\\2b:3\\ k\\1b:1\\ n\\1b:0\\ \n",
      "s\\2b:1\\ t\\2b:3\\ k\\1b:1\\ n\\1b:0\\ \n",
      "s\\2b:1\\ t\\2b:2\\ k\\1b:1\\ n\\1b:0\\ \n",
      "s\\2b:1\\ t\\2b:2\\ k\\1b:1\\ n\\1b:0\\ \n",
      "s\\2b:1\\ t\\2b:2\\ k\\1b:1\\ n\\1b:0\\ \n",
      "s\\2b:1\\ t\\2b:2\\ k\\1b:1\\ n\\1b:1\\ \n",
      "s\\2b:1\\ t\\2b:2\\ k\\1b:1\\ n\\1b:1\\ \n",
      "s\\2b:1\\ t\\2b:2\\ k\\1b:1\\ n\\1b:1\\ \n",
      "s\\2b:1\\ t\\2b:2\\ k\\1b:1\\ n\\1b:1\\ \n",
      "s\\2b:1\\ t\\2b:0\\ k\\1b:1\\ n\\1b:0\\ \n",
      "s\\2b:1\\ t\\2b:0\\ k\\1b:1\\ n\\1b:1\\ \n",
      "s\\2b:1\\ t\\2b:0\\ k\\1b:1\\ n\\1b:0\\ \n",
      "s\\2b:1\\ t\\2b:0\\ k\\1b:1\\ n\\1b:1\\ \n",
      "s\\2b:1\\ t\\2b:0\\ k\\1b:1\\ n\\1b:1\\ \n",
      "s\\2b:3\\ t\\2b:2\\ k\\1b:1\\ n\\1b:1\\ \n",
      "s\\2b:3\\ t\\2b:2\\ k\\1b:1\\ n\\1b:1\\ \n",
      "}\n"
     ]
    }
   ],
   "source": [
    "solutions = gcd.compute();\n",
    "\n",
    "gcdBinder = Qbinder() << s << t << k << n\n",
    "gcdBinder.add(solutions)\n",
    "print(gcdBinder)"
   ]
  },
  {
   "cell_type": "markdown",
   "id": "53de302f",
   "metadata": {},
   "source": [
    "## Qfunction"
   ]
  },
  {
   "cell_type": "code",
   "execution_count": 20,
   "id": "9a1f70e1",
   "metadata": {},
   "outputs": [
    {
     "name": "stdout",
     "output_type": "stream",
     "text": [
      "{ 1_0\\1\\ = _<20\\S\\ .+ k0\\S\\;\n",
      " _0\\0\\ != 1_2\\S\\;\n",
      " };\n",
      " { 1_1\\0\\ = _<21\\S\\ + k1\\S\\ + #[1_0]\\S\\;\n",
      " };\n",
      " { 1_2\\S\\ = #[1_1]\\0\\;\n",
      " };\n",
      " \n"
     ]
    }
   ],
   "source": [
    "from dann5.d5 import Qwhole\n",
    "w1 = Qwhole(\"1_\", 1); k = Qwhole(2, \"k\"); \n",
    "print((w1 < k).toString(True).replace(\";\",\";\\n\"))"
   ]
  },
  {
   "cell_type": "code",
   "execution_count": 22,
   "id": "714d52af",
   "metadata": {},
   "outputs": [
    {
     "name": "stdout",
     "output_type": "stream",
     "text": [
      "1_\\1b:1\\ k\\2b:3\\ \n",
      "1_\\1b:1\\ k\\2b:2\\ \n",
      "\n"
     ]
    }
   ],
   "source": [
    "print((w1 < k).solve())"
   ]
  },
  {
   "cell_type": "code",
   "execution_count": null,
   "id": "df1333a7",
   "metadata": {},
   "outputs": [],
   "source": []
  }
 ],
 "metadata": {
  "kernelspec": {
   "display_name": "Python 3 (ipykernel)",
   "language": "python",
   "name": "python3"
  },
  "language_info": {
   "codemirror_mode": {
    "name": "ipython",
    "version": 3
   },
   "file_extension": ".py",
   "mimetype": "text/x-python",
   "name": "python",
   "nbconvert_exporter": "python",
   "pygments_lexer": "ipython3",
   "version": "3.10.6"
  }
 },
 "nbformat": 4,
 "nbformat_minor": 5
}
