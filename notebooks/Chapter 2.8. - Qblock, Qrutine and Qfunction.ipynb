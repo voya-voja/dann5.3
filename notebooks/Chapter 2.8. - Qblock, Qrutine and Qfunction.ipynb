{
 "cells": [
  {
   "cell_type": "markdown",
   "id": "223b0908",
   "metadata": {},
   "source": [
    "# Chapter 2.8. - Qblock, Qbinder, Qrutine and Qfunction\n",
    "\n",
    "In this chapter we will be walking through how to use quantum programming structures, which allow definition of sequence of quantum statements such as expressions and assignments.  \n",
    "\n",
    "To start we will import the ***Qbit* and *Qwhole* class from *d5* module of *dann5* quantum programming package** and initialize five quantum variables, two *Qbit* constants *_0* and *_1*, and three *Qwhole* unknown variables *x, y* and *r* to use them in the following the quantum sequence defined as **Qblock, Qroutine and Qfunction** organizing quantum expressions and assignments. Also, here we will cover features of **Qbinder** class used for representation of solutions for specified quantum variables.\n",
    "\n",
    "- **NOTE**: The quantum sequence can include quantum assignments and expressions using operations and operators of different quantum types."
   ]
  },
  {
   "cell_type": "code",
   "execution_count": 1,
   "id": "a2ddf5eb",
   "metadata": {},
   "outputs": [],
   "source": [
    "from dann5.d5 import Qbit, Qwhole\n",
    "_0 = Qbit(\"_0\", 0); _1 = Qbit(\"_1\", 1);\n",
    "x = Qwhole(2, \"x\"); y = Qwhole(2, \"y\"); r = Qwhole(2, \"r\");"
   ]
  },
  {
   "cell_type": "markdown",
   "id": "2ce41112",
   "metadata": {},
   "source": [
    "## Qblock\n",
    "\n",
    "A quantum block is a lexical structure of quantum code, which is grouping together quantum assignments and expression using different operations and operators of different quantum types. *Qblock* consists of one or more quantum statements. *Qblock * is a quantum statement, too, permitting block-structured quantum programming through the definition of a quantum block nested within another quantum block.\n",
    "\n",
    "To define a *neBlck* as a quantum block, we import *Qblock* from *d5* module of *dann5* package. The code in the cell below is an example of quantum algorithm that defines a rule of ***x* is not equal to *y***.\n",
    "- **Note**: to add a quantum statement into a quantum block we use an overloaded *streaming operator (<<)*, like in the line:\n",
    "    > neBlck = neBlck << y._(r + x) << _1._(expr);\n",
    "    >\n",
    "    > y._(r + x), a *Qwhole* addition (*+*) assignment, means r = y - x, while\n",
    "    > \n",
    "    > \\_1._(expr) is \\_1._(r[n] | ... | r[1] | r[0]), a *Qbit* OR (*|*) assignment where *n* is a **number of q-bits** defined in *Qwhole* variable *r*. It establishes that *Qwhole* variables *y* and *x* must have at least one q-bit different"
   ]
  },
  {
   "cell_type": "code",
   "execution_count": 2,
   "id": "a0d5060d",
   "metadata": {},
   "outputs": [
    {
     "name": "stdout",
     "output_type": "stream",
     "text": [
      "{\n",
      "\ty\\3q:U\\ = (r\\2q:U\\ + x\\2q:U\\);\n",
      "\t_1\\1\\ = (r1\\S\\ | r0\\S\\);\n",
      "}\n"
     ]
    }
   ],
   "source": [
    "from dann5.d5 import Qblock\n",
    "\n",
    "neBlck = Qblock(); #{\n",
    "expr = r[1] | r[0];\n",
    "for at in range(2, r.noqbs()):\n",
    "    expr = r[at] | expr;\n",
    "neBlck = neBlck << y._(r + x) << _1._(expr);\n",
    "#}\n",
    "print(neBlck)"
   ]
  },
  {
   "cell_type": "markdown",
   "id": "275d916d",
   "metadata": {},
   "source": [
    "Above we see the printout of *neBlock* definition in quantum space. By using *Qblock toString(True)* method we can see that *neBlck* d5vc is a sequence of d5vc's of two quantum assignments from above."
   ]
  },
  {
   "cell_type": "code",
   "execution_count": 3,
   "id": "01d8e1c6",
   "metadata": {},
   "outputs": [
    {
     "name": "stdout",
     "output_type": "stream",
     "text": [
      " y0\\S\\ = r0\\S\\ .+ x0\\S\\;\n",
      " y1\\S\\ = r1\\S\\ + x1\\S\\ + #[y0]\\S\\;\n",
      " y2\\S\\ = #[y1]\\S\\;\n",
      " ;\n",
      " _1\\1\\ = r1\\S\\ | r0\\S\\;\n",
      " \n"
     ]
    }
   ],
   "source": [
    "print(neBlck.toString(True).replace(\";\", \";\\n\"))"
   ]
  },
  {
   "cell_type": "markdown",
   "id": "054635e8",
   "metadata": {},
   "source": [
    "To solve the quantum block *neBlck*, we are importing *Solver* class from *dwave* module of *dann5* package, and using *Qblock solve()* method."
   ]
  },
  {
   "cell_type": "code",
   "execution_count": 4,
   "id": "f8296da8",
   "metadata": {},
   "outputs": [
    {
     "name": "stdout",
     "output_type": "stream",
     "text": [
      " y\\3b:2\\; r\\2b:2\\; x\\2b:0\\ _1\\1\\; r1\\1\\; r0\\0\\\n",
      " y\\3b:4\\; r\\2b:2\\; x\\2b:2\\ _1\\1\\; r1\\1\\; r0\\0\\\n",
      " y\\3b:3\\; r\\2b:2\\; x\\2b:1\\ _1\\1\\; r1\\1\\; r0\\0\\\n",
      " y\\3b:5\\; r\\2b:2\\; x\\2b:3\\ _1\\1\\; r1\\1\\; r0\\0\\\n",
      " y\\3b:1\\; r\\2b:1\\; x\\2b:0\\ _1\\1\\; r1\\0\\; r0\\1\\\n",
      " y\\3b:3\\; r\\2b:1\\; x\\2b:2\\ _1\\1\\; r1\\0\\; r0\\1\\\n",
      " y\\3b:3\\; r\\2b:3\\; x\\2b:0\\ _1\\1\\; r1\\1\\; r0\\1\\\n",
      " y\\3b:5\\; r\\2b:3\\; x\\2b:2\\ _1\\1\\; r1\\1\\; r0\\1\\\n",
      " y\\3b:2\\; r\\2b:1\\; x\\2b:1\\ _1\\1\\; r1\\0\\; r0\\1\\\n",
      " y\\3b:4\\; r\\2b:1\\; x\\2b:3\\ _1\\1\\; r1\\0\\; r0\\1\\\n",
      " y\\3b:4\\; r\\2b:3\\; x\\2b:1\\ _1\\1\\; r1\\1\\; r0\\1\\\n",
      " y\\3b:6\\; r\\2b:3\\; x\\2b:3\\ _1\\1\\; r1\\1\\; r0\\1\\\n",
      "\n"
     ]
    }
   ],
   "source": [
    "from dann5.dwave import Solver\n",
    "Solver.Active()\n",
    "print(neBlck.solve())"
   ]
  },
  {
   "cell_type": "markdown",
   "id": "c3f7fbee",
   "metadata": {},
   "source": [
    "We see that *Qwhole* variables *x* and *y* are different in every solution above. However, we have initialized variable *y* as a 2 q-bit Qwhole variable, but when we print the solutions of the* Qblock neBlck*, the Qwhole *y* variable has been automatically resized to perform proper quantum computations.\n",
    "\n",
    "## Qbinder\n",
    "\n",
    "The **Qbinder** class from *d5* module of *dann5* package allows to format printing of calculated solutions according to our needs. \n",
    "\n",
    "So, to compare the *neBlck* solutions of Qwhole* variables *x* and *y* as they have been defined, we are defining *xyBinder* as a *Qbinder* containing *Qwhole* variables *x* and *y* as they were defined. By using *Qblock compute()* method the *solutions* are calculated and then added into the *Qbinder xyBinder* via use of *add()* method. From the printout we see the solutions for originally defined *x* and *y Qwhole* variables. As expected, the solutions set contains all the combinations, except those when *x* and *y* have the same value."
   ]
  },
  {
   "cell_type": "code",
   "execution_count": 5,
   "id": "18b5d6d1",
   "metadata": {},
   "outputs": [
    {
     "name": "stdout",
     "output_type": "stream",
     "text": [
      "x\\2q:U\\ y\\2q:U\\ {\n",
      "x\\2b:0\\ y\\2b:2\\ \n",
      "x\\2b:2\\ y\\2b:0\\ \n",
      "x\\2b:1\\ y\\2b:3\\ \n",
      "x\\2b:3\\ y\\2b:1\\ \n",
      "x\\2b:0\\ y\\2b:1\\ \n",
      "x\\2b:2\\ y\\2b:3\\ \n",
      "x\\2b:0\\ y\\2b:3\\ \n",
      "x\\2b:2\\ y\\2b:1\\ \n",
      "x\\2b:1\\ y\\2b:2\\ \n",
      "x\\2b:3\\ y\\2b:0\\ \n",
      "x\\2b:1\\ y\\2b:0\\ \n",
      "x\\2b:3\\ y\\2b:2\\ \n",
      "}\n"
     ]
    }
   ],
   "source": [
    "from dann5.d5 import Qbinder\n",
    "xyBinder = Qbinder() << x << y;\n",
    "\n",
    "neBlck.reset();\n",
    "solutions = neBlck.compute();\n",
    "xyBinder.add(solutions)\n",
    "print(xyBinder)"
   ]
  },
  {
   "cell_type": "markdown",
   "id": "a1dbd9e9",
   "metadata": {},
   "source": [
    "## Qroutine\n",
    "\n",
    "Quantum routine represents a named quantum block and *Qroutine* is defined in *d5* module of *dann5* package. *Qroutine* is also a quantum statement, supporting the nesting of the quantum routines and blocks. \n",
    "\n",
    "In the following example, we are reusing previously defined *Qblock neBlck* to define Python variable *notEqual* as a *Qroutine* named *\"ne\"* in quantum space. From the printout we see that the semantics of *notEqual Qroutine* is the same as of *neBlck Qblock*."
   ]
  },
  {
   "cell_type": "code",
   "execution_count": 6,
   "id": "251d8bed",
   "metadata": {},
   "outputs": [
    {
     "name": "stdout",
     "output_type": "stream",
     "text": [
      "ne : {\n",
      "\ty\\3q:U\\ = (r\\2q:U\\ + x\\2q:U\\);\n",
      "\t_1\\1\\ = (r1\\S\\ | r0\\S\\);\n",
      "}\n"
     ]
    }
   ],
   "source": [
    "from dann5.d5 import Qroutine\n",
    "neBlck.reset()\n",
    "notEqual = Qroutine(\"ne\", neBlck);\n",
    "print(notEqual)"
   ]
  },
  {
   "cell_type": "markdown",
   "id": "e66cf357",
   "metadata": {},
   "source": []
  },
  {
   "cell_type": "code",
   "execution_count": 7,
   "id": "a405f23e",
   "metadata": {},
   "outputs": [
    {
     "name": "stdout",
     "output_type": "stream",
     "text": [
      "gcd(s, t) = 1 : {\n",
      "\ts\\4q:U\\ = (k\\3q:U\\ * d\\1q:U\\);\n",
      "\tt\\3q:U\\ = (n\\2q:U\\ * d\\1q:U\\);\n",
      "\t3_\\2q:11\\ = (d\\1q:U\\ !^ 1_\\1q:1\\);\n",
      "\t(s\\4q:U\\ != t\\4q:U\\);\n",
      "\t(k\\3q:U\\ < 1_\\3q:1\\);\n",
      "\t(n\\2q:U\\ < 1_\\2q:1\\);\n",
      "}\n"
     ]
    }
   ],
   "source": [
    "from dann5.d5 import Qroutine, Qbin, Bits\n",
    "gcd = Qroutine(\"gcd(s, t) = 1\"); # {\n",
    "w1 = Qwhole(\"1_\", 1); w0 = Qwhole(\"0_\", 0);\n",
    "s = Qwhole(3, \"s\"); t = Qwhole(3, \"t\"); \n",
    "d = Qwhole(1, \"d\"); k = Qwhole(3, \"k\"); n = Qwhole(2, \"n\");\n",
    "gcd = gcd << s.assign(k * d) << t.assign(n * d) << Qbin(\"3_\",Bits(3))._(d.alike(w1)) << (s != t) << (k < w1) << (n < w1);\n",
    "# } gcd(s, t) = 1\n",
    "print(gcd)"
   ]
  },
  {
   "cell_type": "code",
   "execution_count": 17,
   "id": "f5d14e3e",
   "metadata": {},
   "outputs": [
    {
     "name": "stdout",
     "output_type": "stream",
     "text": [
      "gcd(s, t) = 1 : {\n",
      "\ts\\4q:U\\ = (k\\3q:U\\ * d\\1q:U\\);\n",
      "\tt\\3q:U\\ = (n\\2q:U\\ * d\\1q:U\\);\n",
      "\t3_\\2q:11\\ = (d\\1q:U\\ !^ 1_\\1q:1\\);\n",
      "\t(s\\4q:U\\ != t\\4q:U\\);\n",
      "\t(s\\4q:U\\ > 1_\\4q:1\\);\n",
      "\t(t\\4q:U\\ > 1_\\4q:1\\);\n",
      "}\n"
     ]
    }
   ],
   "source": [
    "from dann5.d5 import Qroutine, Qbin, Bits\n",
    "gcd = Qroutine(\"gcd(s, t) = 1\"); # {\n",
    "w1 = Qwhole(\"1_\", 1); w0 = Qwhole(\"0_\", 0);\n",
    "s = Qwhole(3, \"s\"); t = Qwhole(3, \"t\"); \n",
    "d = Qwhole(1, \"d\"); k = Qwhole(3, \"k\"); n = Qwhole(2, \"n\");\n",
    "gcd = gcd << s.assign(k * d) << t.assign(n * d) << Qbin(\"3_\",Bits(3))._(d.alike(w1)) << (s != t) << (s > w1) << (t > w1);\n",
    "# } gcd(s, t) = 1\n",
    "print(gcd)"
   ]
  },
  {
   "cell_type": "code",
   "execution_count": 25,
   "id": "632ecec5",
   "metadata": {},
   "outputs": [
    {
     "name": "stdout",
     "output_type": "stream",
     "text": [
      "25 62\n"
     ]
    }
   ],
   "source": [
    "from dann5.d5o import QuboCompiler, QuboAnalyzer\n",
    "compiler = QuboCompiler()\n",
    "gcd.compile(compiler)\n",
    "analyze = QuboAnalyzer(compiler.qubo())\n",
    "print(analyze.nodesNo(), analyze.branchesNo())"
   ]
  },
  {
   "cell_type": "code",
   "execution_count": 26,
   "id": "eed9a627",
   "metadata": {},
   "outputs": [
    {
     "name": "stdout",
     "output_type": "stream",
     "text": [
      " s\\4b:1\\; k\\3b:1\\; d\\1b:1\\ t\\3b:0\\; n\\2b:0\\; d\\1b:1\\ 3_\\2b:11\\; d\\1b:1\\; 1_\\1b:1\\ s\\3b:1\\ t\\3b:0\\  s\\3b:1\\ 1_\\1b:1\\  t\\3b:0\\ 1_\\1b:1\\ \n",
      " s\\4b:5\\; k\\3b:5\\; d\\1b:1\\ t\\3b:0\\; n\\2b:0\\; d\\1b:1\\ 3_\\2b:11\\; d\\1b:1\\; 1_\\1b:1\\ s\\3b:5\\ t\\3b:4\\  s\\3b:5\\ 1_\\1b:1\\  t\\3b:4\\ 1_\\1b:1\\ \n",
      " s\\4b:0\\; k\\3b:0\\; d\\1b:1\\ t\\3b:1\\; n\\2b:1\\; d\\1b:1\\ 3_\\2b:11\\; d\\1b:1\\; 1_\\1b:1\\ s\\3b:0\\ t\\3b:1\\  s\\3b:0\\ 1_\\1b:1\\  t\\3b:1\\ 1_\\1b:1\\ \n",
      " s\\4b:4\\; k\\3b:4\\; d\\1b:1\\ t\\3b:1\\; n\\2b:1\\; d\\1b:1\\ 3_\\2b:11\\; d\\1b:1\\; 1_\\1b:1\\ s\\3b:4\\ t\\3b:5\\  s\\3b:4\\ 1_\\1b:1\\  t\\3b:5\\ 1_\\1b:1\\ \n",
      " s\\4b:7\\; k\\3b:7\\; d\\1b:1\\ t\\3b:2\\; n\\2b:2\\; d\\1b:1\\ 3_\\2b:11\\; d\\1b:1\\; 1_\\1b:1\\ s\\3b:7\\ t\\3b:6\\  s\\3b:7\\ 1_\\1b:1\\  t\\3b:6\\ 1_\\1b:1\\ \n",
      " s\\4b:6\\; k\\3b:6\\; d\\1b:1\\ t\\3b:3\\; n\\2b:3\\; d\\1b:1\\ 3_\\2b:11\\; d\\1b:1\\; 1_\\1b:1\\ s\\3b:6\\ t\\3b:7\\  s\\3b:6\\ 1_\\1b:1\\  t\\3b:7\\ 1_\\1b:1\\ \n",
      "\n"
     ]
    }
   ],
   "source": [
    "print(gcd.solve())"
   ]
  },
  {
   "cell_type": "code",
   "execution_count": 12,
   "id": "86395352",
   "metadata": {},
   "outputs": [
    {
     "name": "stdout",
     "output_type": "stream",
     "text": [
      "s\\3q:U\\ t\\3q:U\\ {\n",
      "s\\3b:6\\ t\\3b:2\\ \n",
      "s\\3b:5\\ t\\3b:2\\ \n",
      "s\\3b:5\\ t\\3b:6\\ \n",
      "}\n"
     ]
    }
   ],
   "source": [
    "gcd.reset();\n",
    "solutions = gcd.compute();\n",
    "stBinder = Qbinder() << s << t;\n",
    "stBinder.add(solutions)\n",
    "print(stBinder)"
   ]
  },
  {
   "cell_type": "code",
   "execution_count": 44,
   "id": "dafa3ceb",
   "metadata": {},
   "outputs": [
    {
     "name": "stdout",
     "output_type": "stream",
     "text": [
      "m = s % k : {\n",
      "\ts\\5q:U\\ = (m\\2q:U\\ + (a\\2q:U\\ * k\\2q:U\\));\n",
      "\t(m\\3q:U\\ != 0_\\3q:0\\);\n",
      "}\n"
     ]
    }
   ],
   "source": [
    "mod = Qroutine(\"m = s % k\"); # {\n",
    "w1 = Qwhole(\"1_\", 1); w0 = Qwhole(\"0_\", 0);\n",
    "s = Qwhole(3, \"s\"); m = Qwhole(2, \"m\"); \n",
    "a = Qwhole(2, \"a\"); k = Qwhole(2, \"k\");\n",
    "mod = mod << s.assign(m + a * k) << (m != w0);\n",
    "# } m = s % k\n",
    "print(mod)"
   ]
  },
  {
   "cell_type": "code",
   "execution_count": 45,
   "id": "215c1fb6",
   "metadata": {},
   "outputs": [
    {
     "name": "stdout",
     "output_type": "stream",
     "text": [
      "26 62\n"
     ]
    }
   ],
   "source": [
    "compiler.reset()\n",
    "mod.compile(compiler)\n",
    "analyze = QuboAnalyzer(compiler.qubo())\n",
    "print(analyze.nodesNo(), analyze.branchesNo())"
   ]
  },
  {
   "cell_type": "code",
   "execution_count": 46,
   "id": "f3e346a4",
   "metadata": {},
   "outputs": [
    {
     "name": "stdout",
     "output_type": "stream",
     "text": [
      " s\\5b:2\\; m\\2b:2\\; _*17\\4b:0\\; a\\2b:0\\; k\\2b:0\\ m\\2b:2\\ 0_\\1b:0\\ \n",
      " s\\5b:2\\; m\\2b:2\\; _*17\\4b:0\\; a\\2b:0\\; k\\2b:2\\ m\\2b:2\\ 0_\\1b:0\\ \n",
      " s\\5b:2\\; m\\2b:2\\; _*17\\4b:0\\; a\\2b:0\\; k\\2b:1\\ m\\2b:2\\ 0_\\1b:0\\ \n",
      " s\\5b:2\\; m\\2b:2\\; _*17\\4b:0\\; a\\2b:0\\; k\\2b:3\\ m\\2b:2\\ 0_\\1b:0\\ \n",
      " s\\5b:2\\; m\\2b:2\\; _*17\\4b:0\\; a\\2b:2\\; k\\2b:0\\ m\\2b:2\\ 0_\\1b:0\\ \n",
      " s\\5b:2\\; m\\2b:2\\; _*17\\4b:0\\; a\\2b:1\\; k\\2b:0\\ m\\2b:2\\ 0_\\1b:0\\ \n",
      " s\\5b:2\\; m\\2b:2\\; _*17\\4b:0\\; a\\2b:3\\; k\\2b:0\\ m\\2b:2\\ 0_\\1b:0\\ \n",
      " s\\5b:3\\; m\\2b:2\\; _*17\\4b:1\\; a\\2b:1\\; k\\2b:1\\ m\\2b:2\\ 0_\\1b:0\\ \n",
      " s\\5b:6\\; m\\2b:2\\; _*17\\4b:4\\; a\\2b:2\\; k\\2b:2\\ m\\2b:2\\ 0_\\1b:0\\ \n",
      " s\\5b:1\\; m\\2b:1\\; _*17\\4b:0\\; a\\2b:0\\; k\\2b:0\\ m\\2b:1\\ 0_\\1b:0\\ \n",
      " s\\5b:1\\; m\\2b:1\\; _*17\\4b:0\\; a\\2b:0\\; k\\2b:2\\ m\\2b:1\\ 0_\\1b:0\\ \n",
      " s\\5b:1\\; m\\2b:1\\; _*17\\4b:0\\; a\\2b:0\\; k\\2b:1\\ m\\2b:1\\ 0_\\1b:0\\ \n",
      " s\\5b:1\\; m\\2b:1\\; _*17\\4b:0\\; a\\2b:0\\; k\\2b:3\\ m\\2b:1\\ 0_\\1b:0\\ \n",
      " s\\5b:1\\; m\\2b:1\\; _*17\\4b:0\\; a\\2b:2\\; k\\2b:0\\ m\\2b:1\\ 0_\\1b:0\\ \n",
      " s\\5b:1\\; m\\2b:1\\; _*17\\4b:0\\; a\\2b:1\\; k\\2b:0\\ m\\2b:1\\ 0_\\1b:0\\ \n",
      " s\\5b:1\\; m\\2b:1\\; _*17\\4b:0\\; a\\2b:3\\; k\\2b:0\\ m\\2b:1\\ 0_\\1b:0\\ \n",
      " s\\5b:5\\; m\\2b:1\\; _*17\\4b:4\\; a\\2b:2\\; k\\2b:2\\ m\\2b:1\\ 0_\\1b:0\\ \n",
      " s\\5b:3\\; m\\2b:1\\; _*17\\4b:2\\; a\\2b:2\\; k\\2b:1\\ m\\2b:1\\ 0_\\1b:0\\ \n",
      " s\\5b:7\\; m\\2b:1\\; _*17\\4b:6\\; a\\2b:2\\; k\\2b:3\\ m\\2b:1\\ 0_\\1b:0\\ \n",
      " s\\5b:3\\; m\\2b:1\\; _*17\\4b:2\\; a\\2b:1\\; k\\2b:2\\ m\\2b:1\\ 0_\\1b:0\\ \n",
      " s\\5b:7\\; m\\2b:1\\; _*17\\4b:6\\; a\\2b:3\\; k\\2b:2\\ m\\2b:1\\ 0_\\1b:0\\ \n",
      " s\\5b:3\\; m\\2b:3\\; _*17\\4b:0\\; a\\2b:0\\; k\\2b:0\\ m\\2b:3\\ 0_\\1b:0\\ \n",
      " s\\5b:3\\; m\\2b:3\\; _*17\\4b:0\\; a\\2b:0\\; k\\2b:2\\ m\\2b:3\\ 0_\\1b:0\\ \n",
      " s\\5b:3\\; m\\2b:3\\; _*17\\4b:0\\; a\\2b:0\\; k\\2b:1\\ m\\2b:3\\ 0_\\1b:0\\ \n",
      " s\\5b:3\\; m\\2b:3\\; _*17\\4b:0\\; a\\2b:0\\; k\\2b:3\\ m\\2b:3\\ 0_\\1b:0\\ \n",
      " s\\5b:3\\; m\\2b:3\\; _*17\\4b:0\\; a\\2b:2\\; k\\2b:0\\ m\\2b:3\\ 0_\\1b:0\\ \n",
      " s\\5b:3\\; m\\2b:3\\; _*17\\4b:0\\; a\\2b:1\\; k\\2b:0\\ m\\2b:3\\ 0_\\1b:0\\ \n",
      " s\\5b:3\\; m\\2b:3\\; _*17\\4b:0\\; a\\2b:3\\; k\\2b:0\\ m\\2b:3\\ 0_\\1b:0\\ \n",
      " s\\5b:7\\; m\\2b:3\\; _*17\\4b:4\\; a\\2b:2\\; k\\2b:2\\ m\\2b:3\\ 0_\\1b:0\\ \n",
      " s\\5b:4\\; m\\2b:2\\; _*17\\4b:2\\; a\\2b:2\\; k\\2b:1\\ m\\2b:2\\ 0_\\1b:0\\ \n",
      " s\\5b:5\\; m\\2b:2\\; _*17\\4b:3\\; a\\2b:3\\; k\\2b:1\\ m\\2b:2\\ 0_\\1b:0\\ \n",
      " s\\5b:4\\; m\\2b:2\\; _*17\\4b:2\\; a\\2b:1\\; k\\2b:2\\ m\\2b:2\\ 0_\\1b:0\\ \n",
      " s\\5b:5\\; m\\2b:2\\; _*17\\4b:3\\; a\\2b:1\\; k\\2b:3\\ m\\2b:2\\ 0_\\1b:0\\ \n",
      " s\\5b:5\\; m\\2b:3\\; _*17\\4b:2\\; a\\2b:2\\; k\\2b:1\\ m\\2b:3\\ 0_\\1b:0\\ \n",
      " s\\5b:5\\; m\\2b:3\\; _*17\\4b:2\\; a\\2b:1\\; k\\2b:2\\ m\\2b:3\\ 0_\\1b:0\\ \n",
      " s\\5b:8\\; m\\2b:2\\; _*17\\4b:6\\; a\\2b:2\\; k\\2b:3\\ m\\2b:2\\ 0_\\1b:0\\ \n",
      " s\\5b:8\\; m\\2b:2\\; _*17\\4b:6\\; a\\2b:3\\; k\\2b:2\\ m\\2b:2\\ 0_\\1b:0\\ \n",
      " s\\5b:9\\; m\\2b:3\\; _*17\\4b:6\\; a\\2b:2\\; k\\2b:3\\ m\\2b:3\\ 0_\\1b:0\\ \n",
      " s\\5b:9\\; m\\2b:3\\; _*17\\4b:6\\; a\\2b:3\\; k\\2b:2\\ m\\2b:3\\ 0_\\1b:0\\ \n",
      " s\\5b:11\\; m\\2b:2\\; _*17\\4b:9\\; a\\2b:3\\; k\\2b:3\\ m\\2b:2\\ 0_\\1b:0\\ \n",
      " s\\5b:2\\; m\\2b:1\\; _*17\\4b:1\\; a\\2b:1\\; k\\2b:1\\ m\\2b:1\\ 0_\\1b:0\\ \n",
      " s\\5b:4\\; m\\2b:1\\; _*17\\4b:3\\; a\\2b:3\\; k\\2b:1\\ m\\2b:1\\ 0_\\1b:0\\ \n",
      " s\\5b:4\\; m\\2b:1\\; _*17\\4b:3\\; a\\2b:1\\; k\\2b:3\\ m\\2b:1\\ 0_\\1b:0\\ \n",
      " s\\5b:4\\; m\\2b:3\\; _*17\\4b:1\\; a\\2b:1\\; k\\2b:1\\ m\\2b:3\\ 0_\\1b:0\\ \n",
      " s\\5b:6\\; m\\2b:3\\; _*17\\4b:3\\; a\\2b:3\\; k\\2b:1\\ m\\2b:3\\ 0_\\1b:0\\ \n",
      " s\\5b:6\\; m\\2b:3\\; _*17\\4b:3\\; a\\2b:1\\; k\\2b:3\\ m\\2b:3\\ 0_\\1b:0\\ \n",
      " s\\5b:10\\; m\\2b:1\\; _*17\\4b:9\\; a\\2b:3\\; k\\2b:3\\ m\\2b:1\\ 0_\\1b:0\\ \n",
      " s\\5b:12\\; m\\2b:3\\; _*17\\4b:9\\; a\\2b:3\\; k\\2b:3\\ m\\2b:3\\ 0_\\1b:0\\ \n",
      "\n"
     ]
    }
   ],
   "source": [
    "print(mod.solve())"
   ]
  },
  {
   "cell_type": "markdown",
   "id": "53de302f",
   "metadata": {},
   "source": [
    "## Qfunction"
   ]
  },
  {
   "cell_type": "code",
   "execution_count": 20,
   "id": "9a1f70e1",
   "metadata": {},
   "outputs": [
    {
     "name": "stdout",
     "output_type": "stream",
     "text": [
      "{ 1_0\\1\\ = _<20\\S\\ .+ k0\\S\\;\n",
      " _0\\0\\ != 1_2\\S\\;\n",
      " };\n",
      " { 1_1\\0\\ = _<21\\S\\ + k1\\S\\ + #[1_0]\\S\\;\n",
      " };\n",
      " { 1_2\\S\\ = #[1_1]\\0\\;\n",
      " };\n",
      " \n"
     ]
    }
   ],
   "source": [
    "from dann5.d5 import Qwhole\n",
    "w1 = Qwhole(\"1_\", 1); k = Qwhole(2, \"k\"); \n",
    "print((w1 < k).toString(True).replace(\";\",\";\\n\"))"
   ]
  },
  {
   "cell_type": "code",
   "execution_count": 22,
   "id": "714d52af",
   "metadata": {},
   "outputs": [
    {
     "name": "stdout",
     "output_type": "stream",
     "text": [
      "1_\\1b:1\\ k\\2b:3\\ \n",
      "1_\\1b:1\\ k\\2b:2\\ \n",
      "\n"
     ]
    }
   ],
   "source": [
    "print((w1 < k).solve())"
   ]
  },
  {
   "cell_type": "code",
   "execution_count": null,
   "id": "df1333a7",
   "metadata": {},
   "outputs": [],
   "source": []
  }
 ],
 "metadata": {
  "kernelspec": {
   "display_name": "Python 3 (ipykernel)",
   "language": "python",
   "name": "python3"
  },
  "language_info": {
   "codemirror_mode": {
    "name": "ipython",
    "version": 3
   },
   "file_extension": ".py",
   "mimetype": "text/x-python",
   "name": "python",
   "nbconvert_exporter": "python",
   "pygments_lexer": "ipython3",
   "version": "3.10.6"
  }
 },
 "nbformat": 4,
 "nbformat_minor": 5
}
