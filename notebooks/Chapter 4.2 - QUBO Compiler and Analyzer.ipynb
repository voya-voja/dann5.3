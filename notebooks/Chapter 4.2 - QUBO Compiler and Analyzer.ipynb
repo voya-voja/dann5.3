{
 "cells": [
  {
   "cell_type": "markdown",
   "id": "5ee03042",
   "metadata": {},
   "source": [
    "# Chapter 4.2. - QUBO Compiler and Analyzer, and QUBO Addition\n",
    "\n",
    "d5o library in dann5 package:\n",
    "- QuboCompiler\n",
    "- QuboAnalyzer\n",
    "- QUBO addition\n",
    "\n",
    "The following code finds all possible combinations of 3 numbers that will add to the number 10, where number **p** is *unknown q-whole number with 3 q-bits in superposition state*, while **q** and **r** are two *unknown q-whole numbers with 2 q-bits* each."
   ]
  },
  {
   "cell_type": "code",
   "execution_count": 1,
   "id": "804b7e38",
   "metadata": {},
   "outputs": [
    {
     "name": "stdout",
     "output_type": "stream",
     "text": [
      "Assignment: S\\4q:10\\ = ((p\\3q:U\\ + q\\2q:U\\) + r\\2q:U\\)\n",
      "\n",
      "Assignment d5vc:\n",
      "S0\\0\\ = p0\\S\\ + q0\\S\\ + r0\\S\\;\n",
      " S1\\1\\ = _+01\\S\\ .+ r1\\S\\;\n",
      " _+01\\S\\ = p1\\S\\ + q1\\S\\ + #[S0]\\S\\;\n",
      " S2\\0\\ = p2\\S\\ + #[_+01]\\S\\ + #[S1]\\S\\;\n",
      " S3\\1\\ = #[S2]\\0\\;\n",
      " \n"
     ]
    }
   ],
   "source": [
    "from dann5.d5 import Qwhole\n",
    "p = Qwhole(3,\"p\")\n",
    "q = Qwhole(2, \"q\")\n",
    "r = Qwhole(2, \"r\")\n",
    "S = Qwhole(\"S\", 10)\n",
    "assS = S.assign(p + q + r)\n",
    "print(\"Assignment: {}\\n\\nAssignment d5vc:\\n{}\".format(assS, assS.toString(True).replace(\";\", \";\\n\")))"
   ]
  },
  {
   "cell_type": "markdown",
   "id": "75a39f0e",
   "metadata": {},
   "source": [
    "## QUBO Compiler\n",
    "There are 2 forms of QUBO presentation that can be requested from a Q equation, **generic** and **finalized**. \n",
    "> **A generic QUBO** is transformation where all Qassignment operations and variables are converted into qubo presentation wether they are deterministic or unknown (with Qbits in supperposition state).\n",
    "\n",
    "To retrieve a **generic QUBO** presentation of the Q assignment *aA* use *qubo* method with *finalized* argument set to *False*."
   ]
  },
  {
   "cell_type": "code",
   "execution_count": 2,
   "id": "b2b3a094",
   "metadata": {},
   "outputs": [
    {
     "name": "stdout",
     "output_type": "stream",
     "text": [
      "--- Qubo --- :\n",
      "{('#[S0]', '#[S0]'): 5.0, ('#[S0]', '#[_+01]'): -4.0, ('#[S0]', '_+01'): -2.0, ('#[S1]', '#[S1]'): 5.0, ('#[_+01]', '#[S1]'): 2.0, ('#[_+01]', '#[_+01]'): 1.0, ('_+01', '#[S1]'): -4.0, ('_+01', '#[_+01]'): 4.0, ('_+01', '_+01'): 0.0, ('_+01', 'r1'): 2.0, ('p0', '#[S0]'): -4.0, ('p0', 'p0'): 1.0, ('p0', 'q0'): 2.0, ('p0', 'r0'): 2.0, ('p1', '#[S0]'): 2.0, ('p1', '#[_+01]'): -4.0, ('p1', '_+01'): -2.0, ('p1', 'p1'): 1.0, ('p1', 'q1'): 2.0, ('p2', '#[S1]'): 2.0, ('p2', '#[_+01]'): 2.0, ('p2', 'p2'): -3.0, ('q0', '#[S0]'): -4.0, ('q0', 'q0'): 1.0, ('q0', 'r0'): 2.0, ('q1', '#[S0]'): 2.0, ('q1', '#[_+01]'): -4.0, ('q1', '_+01'): -2.0, ('q1', 'q1'): 1.0, ('r0', '#[S0]'): -4.0, ('r0', 'r0'): 1.0, ('r1', '#[S1]'): -4.0, ('r1', 'r1'): -1.0}\n"
     ]
    }
   ],
   "source": [
    "from dann5.d5o import QuboCompiler\n",
    "compiler = QuboCompiler()\n",
    "assS.compile(compiler)\n",
    "qubo = compiler.qubo()\n",
    "print(\"--- Qubo --- :\\n{}\".format(qubo))"
   ]
  },
  {
   "cell_type": "markdown",
   "id": "e00dd406",
   "metadata": {},
   "source": [
    "The *mM.solutions()* method returns line by line all found solutions of expression **M = 10 = p[3] + q[2] + r[2]**, where each variable is presented as \n",
    "- *variable_name* ***/*** *#_of_q-bits* ***:*** *varaible_value* ***/***\n",
    "\n",
    "Additionally, any variable named **'_*#'** (where *#* is a number) is a temporary addition variable representing a result of **_*# = p + q** expression.\n",
    "\n",
    "Furthermore, we can easily prepare the assignment for execution on a quantum computer, by retrieving its QUBO presentation.\n",
    "> The *assignment mM* is converted into its **qubo** presentation via *mM.qubo()* call, below.\n",
    "> While **Qanalyzer** provides number of *logical quantum nodes and branches* required to process the given qubo."
   ]
  },
  {
   "cell_type": "code",
   "execution_count": 3,
   "id": "b9dab755",
   "metadata": {},
   "outputs": [
    {
     "name": "stdout",
     "output_type": "stream",
     "text": [
      "--- Generic Qubo --- :\n",
      "{('#[S0]', '#[S0]'): 5.0, ('#[S0]', '#[_+01]'): -4.0, ('#[S0]', '_+01'): -2.0, ('#[S1]', '#[S1]'): 5.0, ('#[S1]', 'S2'): -2.0, ('#[S1]', 'S3'): -4.0, ('#[_+01]', '#[S1]'): 2.0, ('#[_+01]', '#[_+01]'): 5.0, ('#[_+01]', 'S2'): -2.0, ('#[_+01]', 'S3'): -4.0, ('S0', '#[S0]'): 4.0, ('S0', 'S0'): 1.0, ('S1', '#[S1]'): 4.0, ('S1', 'S1'): 1.0, ('S2', 'S2'): 1.0, ('S2', 'S3'): 4.0, ('S3', 'S3'): 4.0, ('_+01', '#[S1]'): -4.0, ('_+01', '#[_+01]'): 4.0, ('_+01', 'S1'): -2.0, ('_+01', '_+01'): 2.0, ('_+01', 'r1'): 2.0, ('p0', '#[S0]'): -4.0, ('p0', 'S0'): -2.0, ('p0', 'p0'): 1.0, ('p0', 'q0'): 2.0, ('p0', 'r0'): 2.0, ('p1', '#[S0]'): 2.0, ('p1', '#[_+01]'): -4.0, ('p1', '_+01'): -2.0, ('p1', 'p1'): 1.0, ('p1', 'q1'): 2.0, ('p2', '#[S1]'): 2.0, ('p2', '#[_+01]'): 2.0, ('p2', 'S2'): -2.0, ('p2', 'S3'): -4.0, ('p2', 'p2'): 1.0, ('q0', '#[S0]'): -4.0, ('q0', 'S0'): -2.0, ('q0', 'q0'): 1.0, ('q0', 'r0'): 2.0, ('q1', '#[S0]'): 2.0, ('q1', '#[_+01]'): -4.0, ('q1', '_+01'): -2.0, ('q1', 'q1'): 1.0, ('r0', '#[S0]'): -4.0, ('r0', 'S0'): -2.0, ('r0', 'r0'): 1.0, ('r1', '#[S1]'): -4.0, ('r1', 'S1'): -2.0, ('r1', 'r1'): 1.0}\n"
     ]
    }
   ],
   "source": [
    "genericCompiler = QuboCompiler(False)\n",
    "\n",
    "assS.compile(genericCompiler)\n",
    "genericQubo = genericCompiler.qubo()\n",
    "print(\"--- Generic Qubo --- :\\n{}\".format(genericQubo))"
   ]
  },
  {
   "cell_type": "markdown",
   "id": "089e9d3f",
   "metadata": {},
   "source": [
    "## QUBO Analyzer\n"
   ]
  },
  {
   "cell_type": "markdown",
   "id": "92f5c87d",
   "metadata": {},
   "source": [
    "## d5o Qsolver and Qanalyzer\n",
    "\n",
    "From module *dann5.d5o* we will import **Qsolver and Qanalyser** in addition to *Qvar* and *Qequation* that have been used in the [d5o overview of basic features](https://github.com/voya-voja/dann5/blob/master/examples/py/d5o_basic_features.ipynb).\n",
    "- *Qsolver* is a Qubo solver that runs on a local machine\n",
    "- *Qanalyzer* is a functional object that analyzes Qubo. It has methods to request linear nodes() and quadratic branches() for a given Qubo\n",
    "\n",
    "Also, we will import D-Wave's *ExactSolver* from dimod module. And, we will import *time* module to measure performances of solving Qubo's with different levels of complexity (i.e. higher number of nodes/branches) using local solvers, i.e. Qsolver and ExactSolver, remote QAC samplers, i.e. Advantage and 2000Q, and D-Wave's hybrid solver."
   ]
  },
  {
   "cell_type": "code",
   "execution_count": 4,
   "id": "631d3517",
   "metadata": {},
   "outputs": [
    {
     "name": "stdout",
     "output_type": "stream",
     "text": [
      "Assignment # of nodes: 11\t# of branches: 22 based on 'qubo'\n",
      "Assignment # of nodes: 15\t# of branches: 36 based on 'generic qubo'\n"
     ]
    }
   ],
   "source": [
    "from dann5.d5o import QuboAnalyzer\n",
    "analyze = QuboAnalyzer(qubo)\n",
    "print(\"Assignment # of nodes: {}\\t# of branches: {} based on 'qubo'\".format(analyze.nodesNo(), analyze.branchesNo()))\n",
    "analyzeGeneric = QuboAnalyzer(genericQubo)\n",
    "print(\"Assignment # of nodes: {}\\t# of branches: {} based on 'generic qubo'\".format(analyzeGeneric.nodesNo(), analyzeGeneric.branchesNo()))"
   ]
  },
  {
   "cell_type": "markdown",
   "id": "3984110f",
   "metadata": {},
   "source": [
    "## d5o 2 assignment conversion to QUBO\n",
    "\n",
    "Now we can convert the Q assignments 'aA' or eM to their [QUBO](https://minatoyuichiro.medium.com/qubo-select-k-qubits-from-n-qubits-on-qaoa-651dca0a0e9b) presentation ([learn more about QUBO in context of DWave  Binary Quadratic Models (BQM)](https://docs.dwavesys.com/docs/latest/c_gs_3.html#qubo)). \n",
    "There are 2 forms of QUBO presentation that can be requested from a Q equation, **generic** and **finalized**. \n",
    "> **A generic QUBO** is transformation where all Qassignment operations and variables are converted into qubo presentation wether they are deterministic or unknown (with Qbits in supperposition state).\n",
    "\n",
    "To retrieve a **generic QUBO** presentation of the Q assignment *aA* use *qubo* method with *finalized* argument set to *False*."
   ]
  },
  {
   "cell_type": "code",
   "execution_count": 5,
   "id": "789d5303",
   "metadata": {},
   "outputs": [
    {
     "name": "stdout",
     "output_type": "stream",
     "text": [
      "\n",
      "Linear nodes\n",
      "node\t\tweight\n",
      "#[S0]\t\t5.0\n",
      "#[S1]\t\t5.0\n",
      "#[_+01]\t\t1.0\n",
      "_+01\t\t0.0\n",
      "p0\t\t1.0\n",
      "p1\t\t1.0\n",
      "p2\t\t-3.0\n",
      "q0\t\t1.0\n",
      "q1\t\t1.0\n",
      "r0\t\t1.0\n",
      "r1\t\t-1.0\n",
      "Count of nodes : 11\n"
     ]
    }
   ],
   "source": [
    "print(\"\\nLinear nodes\")\n",
    "nodes = analyze.nodes()\n",
    "print(\"node\\t\\tweight\")\n",
    "print(\"Count of nodes :\", len([print(\"{}\\t\\t{}\".format(node[0], node[1])) for node in nodes]))"
   ]
  },
  {
   "cell_type": "code",
   "execution_count": 6,
   "id": "dc9d9a58",
   "metadata": {},
   "outputs": [
    {
     "name": "stdout",
     "output_type": "stream",
     "text": [
      "\n",
      "Quadratic branches\n",
      "node from\tnode to\t\tweight\n",
      "#[S0]\t\t#[_+01]\t\t-4.0\n",
      "#[S0]\t\t_+01\t\t-2.0\n",
      "#[_+01]\t\t#[S1]\t\t2.0\n",
      "_+01\t\t#[S1]\t\t-4.0\n",
      "_+01\t\t#[_+01]\t\t4.0\n",
      "_+01\t\tr1\t\t2.0\n",
      "p0\t\t#[S0]\t\t-4.0\n",
      "p0\t\tq0\t\t2.0\n",
      "p0\t\tr0\t\t2.0\n",
      "p1\t\t#[S0]\t\t2.0\n",
      "p1\t\t#[_+01]\t\t-4.0\n",
      "p1\t\t_+01\t\t-2.0\n",
      "p1\t\tq1\t\t2.0\n",
      "p2\t\t#[S1]\t\t2.0\n",
      "p2\t\t#[_+01]\t\t2.0\n",
      "q0\t\t#[S0]\t\t-4.0\n",
      "q0\t\tr0\t\t2.0\n",
      "q1\t\t#[S0]\t\t2.0\n",
      "q1\t\t#[_+01]\t\t-4.0\n",
      "q1\t\t_+01\t\t-2.0\n",
      "r0\t\t#[S0]\t\t-4.0\n",
      "r1\t\t#[S1]\t\t-4.0\n",
      "Count of branches : 22\n"
     ]
    }
   ],
   "source": [
    "print(\"\\nQuadratic branches\")\n",
    "branches = analyze.branches()\n",
    "print(\"node from\\tnode to\\t\\tweight\")\n",
    "print(\"Count of branches :\", len([print(\"{}\\t\\t{}\\t\\t{}\".format(branch[0][0], branch[0][1], branch[1])) for branch in branches]))"
   ]
  },
  {
   "cell_type": "markdown",
   "id": "c3bec5d8",
   "metadata": {},
   "source": [
    "A Q assignment aA can be expressed as a QUBO problem defined using an upper-diagonal matrix gQaA expresed as a python 'dict' class, where keys are 'tuple' pairs of variables Qbit level names and the values of the elements are linear and quadratic coefficients. The key 'tuple' pairs with the same variable Qbit level name are **linear nodes**, while those those with diferent names are **quadratic branches**, as per DWave [Binary Quadratic Models](https://docs.dwavesys.com/docs/latest/c_gs_3.html#objective-functions).\n",
    "\n",
    "> **A finalized QUBO** is a consolidated **generic QUBO** where deterministic variables are replaced with their values.\n",
    "\n",
    "To retrieve a **finalized QUBO** presentation of the Q assignment *aA* use *qubo* method without arguments as *True* is a default value for *finalized* argument."
   ]
  },
  {
   "cell_type": "code",
   "execution_count": 7,
   "id": "2e82492a",
   "metadata": {},
   "outputs": [
    {
     "name": "stdout",
     "output_type": "stream",
     "text": [
      "\n",
      "Linear nodes of generic Qubo\n",
      "node\t\tweight\n",
      "#[S0]\t\t5.0\n",
      "#[S1]\t\t5.0\n",
      "#[_+01]\t\t5.0\n",
      "S0\t\t1.0\n",
      "S1\t\t1.0\n",
      "S2\t\t1.0\n",
      "S3\t\t4.0\n",
      "_+01\t\t2.0\n",
      "p0\t\t1.0\n",
      "p1\t\t1.0\n",
      "p2\t\t1.0\n",
      "q0\t\t1.0\n",
      "q1\t\t1.0\n",
      "r0\t\t1.0\n",
      "r1\t\t1.0\n",
      "Count of nodes : 15\n"
     ]
    }
   ],
   "source": [
    "print(\"\\nLinear nodes of generic Qubo\")\n",
    "nodes = analyzeGeneric.nodes()\n",
    "print(\"node\\t\\tweight\")\n",
    "print(\"Count of nodes :\", len([print(\"{}\\t\\t{}\".format(node[0], node[1])) for node in nodes]))"
   ]
  },
  {
   "cell_type": "markdown",
   "id": "f3680f5d",
   "metadata": {},
   "source": [
    "When we compare *generic and finanilized QUBO presentations* we see that *linear nodes* with deterministic values such are {A0 - A4} are removed as they are constants, while their *quadratic branches* through replacement of specific values can become *linear nodes* and they are consolidated with coresponding *linear nodes*.  \n",
    "\n",
    "> To process a Q assignment 'aA' on a QAC, we need to create a **finalized QUBO** presentation of Q assignment."
   ]
  },
  {
   "cell_type": "markdown",
   "id": "9d778e3b",
   "metadata": {},
   "source": [
    "## Adding elementary QUBOs\n",
    "\n",
    "Now that we have understanding about QUBO transformations of dann5 one q-bit operators and operations, we will study QUBO transforamtions of assgnments using n-arry q-bit types, such as Qbin and Qwhole. First we are going to study creation of a QUBO for *Qbin AND (&)* operation, and then we will study a QUBO transformation of *Qwhole Add (+)* operation. At the end we will study QUBO transformation of *Qblock*.\n",
    "\n",
    "### QUBO transformation of a Qbin operation\n",
    "\n",
    "Let us initialize three 2 q-bits *Qbin* variables with unknown values:"
   ]
  },
  {
   "cell_type": "code",
   "execution_count": 8,
   "id": "0eb4584a",
   "metadata": {},
   "outputs": [
    {
     "name": "stdout",
     "output_type": "stream",
     "text": [
      "a\\2q:U\\ b\\2q:U\\ c\\2q:U\\\n"
     ]
    }
   ],
   "source": [
    "from dann5.d5 import Qbin\n",
    "a = Qbin(2, \"a\"); b = Qbin(2, \"b\"); c = Qbin(2, \"c\");\n",
    "print(a, b, c)"
   ]
  },
  {
   "cell_type": "markdown",
   "id": "018704fe",
   "metadata": {},
   "source": [
    "And, then create a quantum assignment:\n",
    "> c\\2q:U\\ = a\\2q:U\\ & b\\2qU\\\n",
    "\n",
    "for which we are going to print its d5vc. From the assignment's d5vc we see that the expression is decomposed into two *Qbit AND (&)* assignments."
   ]
  },
  {
   "cell_type": "code",
   "execution_count": 9,
   "id": "3afd03a4",
   "metadata": {},
   "outputs": [
    {
     "name": "stdout",
     "output_type": "stream",
     "text": [
      "Qbin-and Assignment:\n",
      " c0\\S\\ = a0\\S\\ & b0\\S\\;\n",
      " c1\\S\\ = a1\\S\\ & b1\\S\\;\n",
      " \n"
     ]
    }
   ],
   "source": [
    "qbinAndAss = c._(a & b)\n",
    "print(\"Qbin-and Assignment:\\n\", qbinAndAss.toString(True).replace(';', ';\\n'))"
   ]
  },
  {
   "cell_type": "markdown",
   "id": "8f6d55fd",
   "metadata": {},
   "source": [
    "Before we study QUBO of the above assignment, let define separate *Qbit assignments* using q-bit 0 and q-bit 1 of defined *Qbin* variables *a, b* and *c*, as presented by the following code. We see that the d5vc of the quantum assignment *qbit0Ass* is same as the d5vc q-bit 0 line of the quantum assignment *qbinAndAss*, while the second quantum assignment *qbit1Ass* is same as the d5vc q-bit 1 line of *qbinAndAss*."
   ]
  },
  {
   "cell_type": "code",
   "execution_count": 10,
   "id": "02e89784",
   "metadata": {},
   "outputs": [
    {
     "name": "stdout",
     "output_type": "stream",
     "text": [
      "Qbit-0-and Assignment: c0\\S\\ = a0\\S\\ & b0\\S\\; \n",
      "Qbit-1-and Assignment: c1\\S\\ = a1\\S\\ & b1\\S\\; \n"
     ]
    }
   ],
   "source": [
    "qbit0Ass = c[0]._(a[0] & b[0])\n",
    "print(\"Qbit-0-and Assignment:\", qbit0Ass.toString(True))\n",
    "qbit1Ass = c[1]._(a[1] & b[1])\n",
    "print(\"Qbit-1-and Assignment:\", qbit1Ass.toString(True))"
   ]
  },
  {
   "cell_type": "markdown",
   "id": "0e69bc25",
   "metadata": {},
   "source": [
    "We are already familiar with QUBO transformation of *Qbit AND (&)* expresion, which is below presented for the quantum assignment *qbit0Ass*."
   ]
  },
  {
   "cell_type": "code",
   "execution_count": 11,
   "id": "ef196e70",
   "metadata": {},
   "outputs": [
    {
     "name": "stdout",
     "output_type": "stream",
     "text": [
      "Qbit-0-and Assignment QUBO:\n",
      " {('a0', 'a0'): 0.0, ('a0', 'b0'): 1.0, ('a0', 'c0'): -2.0, ('b0', 'b0'): 0.0, ('b0', 'c0'): -2.0, ('c0', 'c0'): 3.0}\n"
     ]
    }
   ],
   "source": [
    "compiler.reset() # continuing to use the same compiler instance\n",
    "qbit0Ass.compile(compiler)\n",
    "print(\"Qbit-0-and Assignment QUBO:\\n\", compiler.qubo())"
   ]
  },
  {
   "cell_type": "markdown",
   "id": "55b66b59",
   "metadata": {},
   "source": [
    "The above and below QUBO transformations are identical, exept for the names of elements of linear and binary QUBO pairs. Above, all the names identify q-bit 0 of Qbin variables, while the below the names in QUBO pairs identify q-bit 1 of Qbin variables."
   ]
  },
  {
   "cell_type": "code",
   "execution_count": 12,
   "id": "d4d61366",
   "metadata": {},
   "outputs": [
    {
     "name": "stdout",
     "output_type": "stream",
     "text": [
      "Qbit-1-and Assignment QUBO:\n",
      " {('a1', 'a1'): 0.0, ('a1', 'b1'): 1.0, ('a1', 'c1'): -2.0, ('b1', 'b1'): 0.0, ('b1', 'c1'): -2.0, ('c1', 'c1'): 3.0}\n"
     ]
    }
   ],
   "source": [
    "compiler.reset() # continuing to use the same compiler instance\n",
    "qbit1Ass.compile(compiler)\n",
    "print(\"Qbit-1-and Assignment QUBO:\\n\", compiler.qubo())"
   ]
  },
  {
   "cell_type": "markdown",
   "id": "a22a42ea",
   "metadata": {},
   "source": [
    "When we print the QUBO transformation of the initial *Qbin AND (&)* assignment *qbinAndAss* and compare it with the two QUBOs above, we see that the above QUBOs were simply concatenated. Really, they have been added, but because there were no shared variables in assignments for q-bit 0 and q-bit 1, the resulting QUBO looks as the concatenation of elementary QUBOs."
   ]
  },
  {
   "cell_type": "code",
   "execution_count": 13,
   "id": "ac698112",
   "metadata": {},
   "outputs": [
    {
     "name": "stdout",
     "output_type": "stream",
     "text": [
      "Qbit-and Assignment QUBO:\n",
      " {('a0', 'a0'): 0.0, ('a0', 'b0'): 1.0, ('a0', 'c0'): -2.0, ('a1', 'a1'): 0.0, ('a1', 'b1'): 1.0, ('a1', 'c1'): -2.0, ('b0', 'b0'): 0.0, ('b0', 'c0'): -2.0, ('b1', 'b1'): 0.0, ('b1', 'c1'): -2.0, ('c0', 'c0'): 3.0, ('c1', 'c1'): 3.0}\n"
     ]
    }
   ],
   "source": [
    "compiler.reset() # continuing to use the same compiler instance\n",
    "qbinAndAss.compile(compiler)\n",
    "print(\"Qbit-and Assignment QUBO:\\n\", compiler.qubo())"
   ]
  },
  {
   "cell_type": "markdown",
   "id": "83a926ba",
   "metadata": {},
   "source": [
    "### QUBO transformation of Qblock\n",
    "\n",
    "To better understand the impact of **shared variables** between assignments on resulting QUBO transformation, we first study *Qblock* with the two quantum assignments. Reused *qbinAndAss* quantum assignment defined above, and additional *Qbit* assignment *qbitXorAss* defined in the code cell below.\n",
    "\n",
    "From the printout we see that the d5vc of quantum block *qblock* has 3 q-bit level assignments asper definitions. Also, we see that **the *Qbit* variables *a0, b1* and *c0* are shared** between the q-bit assignments."
   ]
  },
  {
   "cell_type": "code",
   "execution_count": 14,
   "id": "edd457e7",
   "metadata": {},
   "outputs": [
    {
     "name": "stdout",
     "output_type": "stream",
     "text": [
      "Qblock: \n",
      " {\n",
      "\tc\\2q:U\\ = (a\\2q:U\\ & b\\2q:U\\);\n",
      "\tc0\\S\\ = (a0\\S\\ ^ b1\\S\\);\n",
      "}\n",
      "Qblock d5vc: \n",
      "  c0\\S\\ = a0\\S\\ & b0\\S\\;\n",
      " c1\\S\\ = a1\\S\\ & b1\\S\\;\n",
      " ;\n",
      " c0\\S\\ = a0\\S\\ ^ b1\\S\\;\n",
      " \n"
     ]
    }
   ],
   "source": [
    "qbinAndAss.reset()\n",
    "qbitXorAss = c[0]._(a[0] ^ b[1])\n",
    "\n",
    "from dann5.d5 import Qblock\n",
    "qblock = Qblock() << qbinAndAss << qbitXorAss\n",
    "\n",
    "print(\"Qblock: \\n\", qblock)\n",
    "print(\"Qblock d5vc: \\n\", qblock.toString(True).replace(';', ';\\n'))"
   ]
  },
  {
   "cell_type": "markdown",
   "id": "47ed620b",
   "metadata": {},
   "source": [
    "In addition to the QUBO of the *Qbin* assignment *qbinAndAss* above, below is the printout of QUBO of *Qbit* assignment *qbitXorAss*."
   ]
  },
  {
   "cell_type": "code",
   "execution_count": 15,
   "id": "d587b272",
   "metadata": {},
   "outputs": [
    {
     "name": "stdout",
     "output_type": "stream",
     "text": [
      "Qbit-xor Assignment QUBO:\n",
      " {('#[c0]', '#[c0]'): 4.0, ('a0', '#[c0]'): -4.0, ('a0', 'a0'): 1.0, ('a0', 'b1'): 2.0, ('a0', 'c0'): -2.0, ('b1', '#[c0]'): -4.0, ('b1', 'b1'): 1.0, ('b1', 'c0'): -2.0, ('c0', '#[c0]'): 4.0, ('c0', 'c0'): 1.0}\n"
     ]
    }
   ],
   "source": [
    "compiler.reset() # continuing to use the same compiler instance\n",
    "qbitXorAss.compile(compiler)\n",
    "print(\"Qbit-xor Assignment QUBO:\\n\", compiler.qubo())"
   ]
  },
  {
   "cell_type": "markdown",
   "id": "a4c07aa9",
   "metadata": {},
   "source": [
    "From the QUBO of quantum block *qblock*, we see that the QUBO of *Qbin* assignment *qbinAndAss* and *Qbit* assignment *qbitXorAss* are added together by:\n",
    "1. concatenting those q-bit variables that are defined only in one of the d5vc q-bit lines\n",
    "2. adding the wight parameters of the shared q-bit variables, such as:\n",
    "    > a0, i.e. pair ('a0', 'a0'), by adding 0 and 1\n",
    "    >\n",
    "    > b1, i.e. pair ('b1', 'b1'), by adding 0 and 1\n",
    "    >\n",
    "    > c0, i.e. pair ('c0', 'c0'), by adding 3 and 1\n",
    "    >\n",
    "    > ('a0', 'c0'), by adding -2 and -2"
   ]
  },
  {
   "cell_type": "code",
   "execution_count": 16,
   "id": "f8242566",
   "metadata": {},
   "outputs": [
    {
     "name": "stdout",
     "output_type": "stream",
     "text": [
      "Qblock QUBO:\n",
      " {('#[c0]', '#[c0]'): 4.0, ('a0', '#[c0]'): -4.0, ('a0', 'a0'): 1.0, ('a0', 'b0'): 1.0, ('a0', 'b1'): 2.0, ('a0', 'c0'): -4.0, ('a1', 'a1'): 0.0, ('a1', 'b1'): 1.0, ('a1', 'c1'): -2.0, ('b0', 'b0'): 0.0, ('b0', 'c0'): -2.0, ('b1', '#[c0]'): -4.0, ('b1', 'b1'): 1.0, ('b1', 'c0'): -2.0, ('b1', 'c1'): -2.0, ('c0', '#[c0]'): 4.0, ('c0', 'c0'): 4.0, ('c1', 'c1'): 3.0}\n"
     ]
    }
   ],
   "source": [
    "compiler.reset() # continuing to use the same compiler instance\n",
    "qblock.compile(compiler)\n",
    "print(\"Qblock QUBO:\\n\", compiler.qubo())"
   ]
  },
  {
   "cell_type": "markdown",
   "id": "66b795c8",
   "metadata": {},
   "source": [
    "### QUBO transformation of Qwhole assignment\n",
    "\n",
    "To further understand the impact of **shared variables** between assignments on resulting QUBO transformation, we should study a quantum addition of *Qwhole* variables with at least 2 q-bits. So, we define 2-bit *Qwhole* variables, *m, n* and *o* wit unknown value."
   ]
  },
  {
   "cell_type": "code",
   "execution_count": 17,
   "id": "025ff6ff",
   "metadata": {},
   "outputs": [
    {
     "name": "stdout",
     "output_type": "stream",
     "text": [
      "m\\2q:U\\ n\\2q:U\\ o\\2q:U\\\n"
     ]
    }
   ],
   "source": [
    "m = Qwhole(2, \"m\"); n = Qwhole(2, \"n\"); o = Qwhole(2, \"o\");\n",
    "print(m, n, o)"
   ]
  },
  {
   "cell_type": "markdown",
   "id": "f6836788",
   "metadata": {},
   "source": [
    "Also, we define a quantum assignment *qwholeAddAss* where *o* is a sum of *m* and *n* unknown values. As we expect from *qwholeAddAss* d5vc we see that the *Qwhole* variable *o* is resized to 3 q-bits to accommodate all possible sums of two 2 q-bit *Qwhole* numbers. Also, we see that q-bit 0 d5vc assignment uses a *half-adder (.+)*, while q-bit 1 d5vc assignment uses a *full-adder (+)* where the carryforward output of *half-adder, #[o0]*, is an input variable. Thus, *#[o0]* is a **shared variable** between quantum assignments for q-bit 0 and q-bit 1."
   ]
  },
  {
   "cell_type": "code",
   "execution_count": 18,
   "id": "bb76fe20",
   "metadata": {},
   "outputs": [
    {
     "name": "stdout",
     "output_type": "stream",
     "text": [
      "Qwhole-2-q-bits-add Assignment:\n",
      " o0\\S\\ = m0\\S\\ .+ n0\\S\\;\n",
      " o1\\S\\ = m1\\S\\ + n1\\S\\ + #[o0]\\S\\;\n",
      " o2\\S\\ = #[o1]\\S\\;\n",
      " \n"
     ]
    }
   ],
   "source": [
    "qwholeAddAss = o._(m + n)\n",
    "print(\"Qwhole-2-q-bits-add Assignment:\\n\", qwholeAddAss.toString(True).replace(';', ';\\n'))"
   ]
  },
  {
   "cell_type": "markdown",
   "id": "f8f63dcb",
   "metadata": {},
   "source": [
    "In the printout of the QUBO transformation of the *Qwhole* assignment *qwholeAddAss*, we see that the linear QUBO element of shared varaible *#[o0]*, i.e. pair *('#[o0]', '#[o0]')*, has wight parameter of *5*."
   ]
  },
  {
   "cell_type": "code",
   "execution_count": 19,
   "id": "19e4f02d",
   "metadata": {},
   "outputs": [
    {
     "name": "stdout",
     "output_type": "stream",
     "text": [
      "Qwhole-2-q-bits-add Assignment QUBO:\n",
      " {('#[o0]', '#[o0]'): 5.0, ('#[o0]', 'o1'): -2.0, ('#[o0]', 'o2'): -4.0, ('m0', '#[o0]'): -4.0, ('m0', 'm0'): 1.0, ('m0', 'n0'): 2.0, ('m0', 'o0'): -2.0, ('m1', '#[o0]'): 2.0, ('m1', 'm1'): 1.0, ('m1', 'n1'): 2.0, ('m1', 'o1'): -2.0, ('m1', 'o2'): -4.0, ('n0', '#[o0]'): -4.0, ('n0', 'n0'): 1.0, ('n0', 'o0'): -2.0, ('n1', '#[o0]'): 2.0, ('n1', 'n1'): 1.0, ('n1', 'o1'): -2.0, ('n1', 'o2'): -4.0, ('o0', '#[o0]'): 4.0, ('o0', 'o0'): 1.0, ('o1', 'o1'): 1.0, ('o1', 'o2'): 4.0, ('o2', 'o2'): 4.0}\n"
     ]
    }
   ],
   "source": [
    "compiler.reset() # continuing to use the same compiler instance\n",
    "qwholeAddAss.compile(compiler)\n",
    "print(\"Qwhole-2-q-bits-add Assignment QUBO:\\n\", compiler.qubo())"
   ]
  },
  {
   "cell_type": "markdown",
   "id": "02a38450",
   "metadata": {},
   "source": [
    "How did we got *5*? To answer this question, we need to simulate dann5 QUBO transformation of *Qwhole* addition. \n",
    "\n",
    "First let define a quantum addition statement that is closest to d5vc q-bit 0 line of *Qwhole* addition above:\n",
    "> o0\\S\\ = m0\\S\\ .+ n0\\S\\;\n",
    "\n",
    "by defining *m0, n0* and *o0* as 1 q-bit *Qwhole* variables. If we ignore the second zero (added to indicate the q-bit 0) in names of variables in the *qwhole0AddAss* d5vc q-bit 0 line below and compare it with the q-bit 0 line of *qwholeAddAss* d5vc above, we can agree that they are equivalent."
   ]
  },
  {
   "cell_type": "code",
   "execution_count": 20,
   "id": "ad223865",
   "metadata": {},
   "outputs": [
    {
     "name": "stdout",
     "output_type": "stream",
     "text": [
      "Qwhole-q-bit-0-add Assignment:\n",
      " o00\\S\\ = m00\\S\\ .+ n00\\S\\;\n",
      " o01\\S\\ = #[o00]\\S\\;\n",
      " \n"
     ]
    }
   ],
   "source": [
    "m0 = Qwhole(1, \"m0\"); n0 = Qwhole(1, \"n0\"); o0 = Qwhole(1, \"o0\");\n",
    "qwhole0AddAss = o0._(m0 + n0)\n",
    "print(\"Qwhole-q-bit-0-add Assignment:\\n\", qwhole0AddAss.toString(True).replace(';', ';\\n'))"
   ]
  },
  {
   "cell_type": "markdown",
   "id": "0e3aecd8",
   "metadata": {},
   "source": [
    "Also, based on the q-bit 1 line of *qwhole0AddAss* d5vc, we know that the varaible name *o01* is same as a carryforward output on the *half-adder (.+)* assignment in q-bit 0 line of the above d5vc. Meaning *o01* is an equvalent of *#[o0]* carryforward output vaible in *qwholeAddAss* d5vc.\n",
    "\n",
    "From the QUBO below, we see that its weight parameter is 4, the same as when we studied QUBO transformation of a *Qbit half-adder (.+)*."
   ]
  },
  {
   "cell_type": "code",
   "execution_count": 21,
   "id": "05866a7d",
   "metadata": {},
   "outputs": [
    {
     "name": "stdout",
     "output_type": "stream",
     "text": [
      "Qwhole-q-bit-0-add Assignment QUBO:\n",
      " {('m00', 'm00'): 1.0, ('m00', 'n00'): 2.0, ('m00', 'o00'): -2.0, ('m00', 'o01'): -4.0, ('n00', 'n00'): 1.0, ('n00', 'o00'): -2.0, ('n00', 'o01'): -4.0, ('o00', 'o00'): 1.0, ('o00', 'o01'): 4.0, ('o01', 'o01'): 4.0}\n"
     ]
    }
   ],
   "source": [
    "compiler.reset() # continuing to use the same compiler instance\n",
    "qwhole0AddAss.compile(compiler)\n",
    "print(\"Qwhole-q-bit-0-add Assignment QUBO:\\n\", compiler.qubo())"
   ]
  },
  {
   "cell_type": "markdown",
   "id": "74b8d70a",
   "metadata": {},
   "source": [
    "Let now try to simulate the d5vc q-bit 1 line of *qwholeAddAss*:\n",
    "> o1\\S\\ = m1\\S\\ + n1\\S\\ + #[o0]\\S\\;\n",
    "\n",
    "\n",
    "by defining *m1, n1* and *o1* as 1 q-bit *Qwhole* variables. Also, we are defining *o01* as an equavalent of *#[o0]* carryforward output vaible in *qwholeAddAss* d5vc.\n",
    "\n",
    "Again, if we ignore the second zero (added to indicate the q-bit 0) in names of variables in the *qwhole1AddAss* d5vc q-bit 0 line below and compare it with the q-bit 1 line of *qwholeAddAss* d5vc above, we can agree that they are equivalent."
   ]
  },
  {
   "cell_type": "code",
   "execution_count": 22,
   "id": "27fe4d19",
   "metadata": {},
   "outputs": [
    {
     "name": "stdout",
     "output_type": "stream",
     "text": [
      "Qwhole-q-bit-1-add Assignment:\n",
      " o10\\S\\ = m10\\S\\ + n10\\S\\ + o010\\S\\;\n",
      " o11\\S\\ = #[o10]\\S\\;\n",
      " \n"
     ]
    }
   ],
   "source": [
    "m1 = Qwhole(1, \"m1\"); n1 = Qwhole(1, \"n1\"); o1 = Qwhole(1, \"o1\"); o01 = Qwhole(1, \"o01\");\n",
    "qwhole1AddAss = o1._(m1 + n1 + o01)\n",
    "print(\"Qwhole-q-bit-1-add Assignment:\\n\", qwhole1AddAss.toString(True).replace(';', ';\\n'))"
   ]
  },
  {
   "cell_type": "markdown",
   "id": "11035e45",
   "metadata": {},
   "source": [
    "Now, by studing the QUBO transformation of *qwhole1AddAss* assignment below, we can identify the linear element *o010*, i.e. QUBO pair *('o010', 'o010')*, which has weight parameter *1*. We have defined this one q-bit Qwhole variable as an equvalent to *o01*, which had the weight parameter *4*. As, both, *o010* and *o01* are equvalents of *#[o0]* carryforward output vaible in *qwholeAddAss* d5vc, their weight parameters have to be added in resulting QUBO, i.e. resulting in a weight parameter *5*. "
   ]
  },
  {
   "cell_type": "code",
   "execution_count": 23,
   "id": "03330f34",
   "metadata": {},
   "outputs": [
    {
     "name": "stdout",
     "output_type": "stream",
     "text": [
      "Qwhole-q-bit-1-add Assignment QUBO:\n",
      " {('m10', 'm10'): 1.0, ('m10', 'n10'): 2.0, ('m10', 'o010'): 2.0, ('m10', 'o10'): -2.0, ('m10', 'o11'): -4.0, ('n10', 'n10'): 1.0, ('n10', 'o010'): 2.0, ('n10', 'o10'): -2.0, ('n10', 'o11'): -4.0, ('o010', 'o010'): 1.0, ('o010', 'o10'): -2.0, ('o010', 'o11'): -4.0, ('o10', 'o10'): 1.0, ('o10', 'o11'): 4.0, ('o11', 'o11'): 4.0}\n"
     ]
    }
   ],
   "source": [
    "compiler.reset() # continuing to use the same compiler instance\n",
    "qwhole1AddAss.compile(compiler)\n",
    "print(\"Qwhole-q-bit-1-add Assignment QUBO:\\n\", compiler.qubo())"
   ]
  },
  {
   "cell_type": "markdown",
   "id": "e19016c2",
   "metadata": {},
   "source": [
    "In **the next chapter, 4.3**, we will be covering the **D5QuboSolver & QUBO Paging**."
   ]
  }
 ],
 "metadata": {
  "kernelspec": {
   "display_name": "Python 3 (ipykernel)",
   "language": "python",
   "name": "python3"
  },
  "language_info": {
   "codemirror_mode": {
    "name": "ipython",
    "version": 3
   },
   "file_extension": ".py",
   "mimetype": "text/x-python",
   "name": "python",
   "nbconvert_exporter": "python",
   "pygments_lexer": "ipython3",
   "version": "3.10.4"
  }
 },
 "nbformat": 4,
 "nbformat_minor": 5
}
