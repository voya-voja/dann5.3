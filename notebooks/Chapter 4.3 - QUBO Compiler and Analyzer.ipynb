{
 "cells": [
  {
   "cell_type": "markdown",
   "id": "5ee03042",
   "metadata": {},
   "source": [
    "# Chapter 4.2. - QUBO Compiler and Analyzer\n",
    "\n",
    "You can run the following code using **python** from a *Command Prompt* or use **spyder** as an *IDE*.\n",
    "> The following code finds all possible combinations of 3 numbers that will add to the number 10, where number **p** is *unknown q-whole number with 3 q-bits in superposition state*, while **q** and **r** are two *unknown q-whole numbers with 2 q-bits* each.\n",
    ">\n",
    "> The *mM.solve()* method uses dann5.d5o quantum annealing simulator to identify all possible solutions for **p, q and r** (shown below).\n",
    ">\n",
    "> You will need to insert *Solver.Active()* to activate the default dann5 solver for simulating solutions."
   ]
  },
  {
   "cell_type": "code",
   "execution_count": 1,
   "id": "804b7e38",
   "metadata": {},
   "outputs": [
    {
     "name": "stdout",
     "output_type": "stream",
     "text": [
      "d5 simulation solutions: \n",
      "M\\4b:10\\; _+0\\4b:13\\; p\\3b:6\\; q\\2b:2\\; r\\2b:2\\\n",
      "M\\4b:10\\; _+0\\4b:13\\; p\\3b:4\\; q\\2b:3\\; r\\2b:3\\\n",
      "M\\4b:10\\; _+0\\4b:13\\; p\\3b:6\\; q\\2b:1\\; r\\2b:3\\\n",
      "M\\4b:10\\; _+0\\4b:13\\; p\\3b:5\\; q\\2b:2\\; r\\2b:3\\\n",
      "M\\4b:10\\; _+0\\4b:13\\; p\\3b:5\\; q\\2b:3\\; r\\2b:2\\\n",
      "M\\4b:10\\; _+0\\4b:13\\; p\\3b:7\\; q\\2b:0\\; r\\2b:3\\\n",
      "M\\4b:10\\; _+0\\4b:13\\; p\\3b:7\\; q\\2b:1\\; r\\2b:2\\\n",
      "M\\4b:10\\; _+0\\4b:15\\; p\\3b:6\\; q\\2b:3\\; r\\2b:1\\\n",
      "M\\4b:10\\; _+0\\4b:15\\; p\\3b:7\\; q\\2b:2\\; r\\2b:1\\\n",
      "M\\4b:10\\; _+0\\4b:15\\; p\\3b:7\\; q\\2b:3\\; r\\2b:0\\\n",
      "\n"
     ]
    }
   ],
   "source": [
    "import dann5.d5 as d5\n",
    "from dann5.dwave import Solver\n",
    "Solver.Active()\n",
    "p = d5.Qwhole(3,\"p\")\n",
    "q = d5.Qwhole(2, \"q\")\n",
    "r = d5.Qwhole(2, \"r\")\n",
    "M = d5.Qwhole(\"M\", 10)\n",
    "mM = M.assign(p + q + r)\n",
    "mM.solve()\n",
    "print(\"d5 simulation solutions: \\n{}\".format(mM.solutions()))"
   ]
  },
  {
   "cell_type": "markdown",
   "id": "e00dd406",
   "metadata": {},
   "source": [
    "The *mM.solutions()* method returns line by line all found solutions of expression **M = 10 = p[3] + q[2] + r[2]**, where each variable is presented as \n",
    "- *variable_name* ***/*** *#_of_q-bits* ***:*** *varaible_value* ***/***\n",
    "\n",
    "Additionally, any variable named **'_*#'** (where *#* is a number) is a temporary addition variable representing a result of **_*# = p + q** expression.\n",
    "\n",
    "Furthermore, we can easily prepare the assignment for execution on a quantum computer, by retrieving its QUBO presentation.\n",
    "> The *assignment mM* is converted into its **qubo** presentation via *mM.qubo()* call, below.\n",
    "> While **Qanalyzer** provides number of *logical quantum nodes and branches* required to process the given qubo."
   ]
  },
  {
   "cell_type": "code",
   "execution_count": 2,
   "id": "b9dab755",
   "metadata": {},
   "outputs": [
    {
     "name": "stdout",
     "output_type": "stream",
     "text": [
      "--- Reduced discrete values Qubo --- {('#[M0]', '#[M0]'): 5.0, ('#[M0]', '#[_+01]'): -4.0, ('#[M0]', '_+01'): -2.0, ('#[M1]', '#[M1]'): 5.0, ('#[_+01]', '#[M1]'): 2.0, ('#[_+01]', '#[_+01]'): 1.0, ('_+01', '#[M1]'): -4.0, ('_+01', '#[_+01]'): 4.0, ('_+01', '_+01'): 0.0, ('_+01', 'r1'): 2.0, ('p0', '#[M0]'): -4.0, ('p0', 'p0'): 1.0, ('p0', 'q0'): 2.0, ('p0', 'r0'): 2.0, ('p1', '#[M0]'): 2.0, ('p1', '#[_+01]'): -4.0, ('p1', '_+01'): -2.0, ('p1', 'p1'): 1.0, ('p1', 'q1'): 2.0, ('p2', '#[M1]'): 2.0, ('p2', '#[_+01]'): 2.0, ('p2', 'p2'): -3.0, ('q0', '#[M0]'): -4.0, ('q0', 'q0'): 1.0, ('q0', 'r0'): 2.0, ('q1', '#[M0]'): 2.0, ('q1', '#[_+01]'): -4.0, ('q1', '_+01'): -2.0, ('q1', 'q1'): 1.0, ('r0', '#[M0]'): -4.0, ('r0', 'r0'): 1.0, ('r1', '#[M1]'): -4.0, ('r1', 'r1'): -1.0}\n",
      "\n",
      "# of nodes: 11\t# of branches: 22\n"
     ]
    }
   ],
   "source": [
    "from dann5.d5o import QuboCompiler, QuboAnalyzer\n",
    "\n",
    "compiler = QuboCompiler()\n",
    "\n",
    "mM.compile(compiler)\n",
    "qubo = compiler.qubo()\n",
    "\n",
    "print(\"--- Reduced discrete values Qubo --- {}\\n\".format(qubo))\n",
    "analyze = QuboAnalyzer(qubo)\n",
    "print(\"# of nodes: {}\\t# of branches: {}\".format(analyze.nodesNo(), analyze.branchesNo()))"
   ]
  },
  {
   "cell_type": "markdown",
   "id": "3984110f",
   "metadata": {},
   "source": [
    "## d5o 2 assignment conversion to QUBO\n",
    "\n",
    "Now we can convert the Q assignments 'aA' or eM to their [QUBO](https://minatoyuichiro.medium.com/qubo-select-k-qubits-from-n-qubits-on-qaoa-651dca0a0e9b) presentation ([learn more about QUBO in context of DWave  Binary Quadratic Models (BQM)](https://docs.dwavesys.com/docs/latest/c_gs_3.html#qubo)). \n",
    "There are 2 forms of QUBO presentation that can be requested from a Q equation, **generic** and **finalized**. \n",
    "> **A generic QUBO** is transformation where all Qassignment operations and variables are converted into qubo presentation wether they are deterministic or unknown (with Qbits in supperposition state).\n",
    "\n",
    "To retrieve a **generic QUBO** presentation of the Q assignment *aA* use *qubo* method with *finalized* argument set to *False*."
   ]
  },
  {
   "cell_type": "code",
   "execution_count": null,
   "id": "789d5303",
   "metadata": {},
   "outputs": [],
   "source": [
    "# need to change this so that it works aA.qubo() is working differently\n",
    "gQaA = aA.qubo(False)\n",
    "print('Generic QUBO presentation of aA assignment:\\n', gQaA)\n",
    "\n",
    "from dann5.d5 import Qanalyzer\n",
    "gQaAnlyzr = Qanalyzer(gQaA)\n",
    "print(\"\\nLinear nodes\\n\", gQaAnlyzr.nodes())\n",
    "print(\"\\nQuadratic branches\\n\", gQaAnlyzr.branches())"
   ]
  },
  {
   "cell_type": "markdown",
   "id": "c3bec5d8",
   "metadata": {},
   "source": [
    "A Q assignment aA can be expressed as a QUBO problem defined using an upper-diagonal matrix gQaA expresed as a python 'dict' class, where keys are 'tuple' pairs of variables Qbit level names and the values of the elements are linear and quadratic coefficients. The key 'tuple' pairs with the same variable Qbit level name are **linear nodes**, while those those with diferent names are **quadratic branches**, as per DWave [Binary Quadratic Models](https://docs.dwavesys.com/docs/latest/c_gs_3.html#objective-functions).\n",
    "\n",
    "> **A finalized QUBO** is a consolidated **generic QUBO** where deterministic variables are replaced with their values.\n",
    "\n",
    "To retrieve a **finalized QUBO** presentation of the Q assignment *aA* use *qubo* method without arguments as *True* is a default value for *finalized* argument."
   ]
  },
  {
   "cell_type": "code",
   "execution_count": null,
   "id": "2e82492a",
   "metadata": {},
   "outputs": [],
   "source": [
    "fQaA = aA.qubo()\n",
    "print('Finalized QUBO presentation of aA assignment:\\n', fQaA)\n",
    "fQaAnlyzr = Qanalyzer(fQaA)\n",
    "print(\"\\nLinear nodes\\n\", fQaAnlyzr.nodes())\n",
    "print(\"\\nQuadratic branches\\n\", fQaAnlyzr.branches())"
   ]
  },
  {
   "cell_type": "markdown",
   "id": "f3680f5d",
   "metadata": {},
   "source": [
    "When we compare *generic and finanilized QUBO presentations* we see that *linear nodes* with deterministic values such are {A0 - A4} are removed as they are constants, while their *quadratic branches* through replacement of specific values can become *linear nodes* and they are consolidated with coresponding *linear nodes*.  \n",
    "\n",
    "> To process a Q assignment 'aA' on a QAC, we need to create a **finalized QUBO** presentation of Q assignment."
   ]
  },
  {
   "cell_type": "markdown",
   "id": "92f5c87d",
   "metadata": {},
   "source": [
    "## d5o Qsolver and Qanalyzer\n",
    "\n",
    "From module *dann5.d5o* we will import **Qsolver and Qanalyser** in addition to *Qvar* and *Qequation* that have been used in the [d5o overview of basic features](https://github.com/voya-voja/dann5/blob/master/examples/py/d5o_basic_features.ipynb).\n",
    "- *Qsolver* is a Qubo solver that runs on a local machine\n",
    "- *Qanalyzer* is a functional object that analyzes Qubo. It has methods to request linear nodes() and quadratic branches() for a given Qubo\n",
    "\n",
    "Also, we will import D-Wave's *ExactSolver* from dimod module. And, we will import *time* module to measure performances of solving Qubo's with different levels of complexity (i.e. higher number of nodes/branches) using local solvers, i.e. Qsolver and ExactSolver, remote QAC samplers, i.e. Advantage and 2000Q, and D-Wave's hybrid solver."
   ]
  },
  {
   "cell_type": "code",
   "execution_count": null,
   "id": "016cce3a",
   "metadata": {},
   "outputs": [],
   "source": [
    "from dann5.d5o import Qvar, Qequation, Qanalyzer"
   ]
  }
 ],
 "metadata": {
  "kernelspec": {
   "display_name": "Python 3 (ipykernel)",
   "language": "python",
   "name": "python3"
  },
  "language_info": {
   "codemirror_mode": {
    "name": "ipython",
    "version": 3
   },
   "file_extension": ".py",
   "mimetype": "text/x-python",
   "name": "python",
   "nbconvert_exporter": "python",
   "pygments_lexer": "ipython3",
   "version": "3.10.4"
  }
 },
 "nbformat": 4,
 "nbformat_minor": 5
}
