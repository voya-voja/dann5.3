{
 "cells": [
  {
   "cell_type": "markdown",
   "id": "8eaee9ba",
   "metadata": {},
   "source": [
    "# Chapter 2.2 - Advanced Qbool\n",
    "\n",
    "In this section of chapter 2 we will be walking through how to use Qbool variables in more complex expressions and assignments by chaining multiple operations together. We will also see how to analyze real world problems and break them down into an expression that can be solved by the Dwave quantum computer.\n",
    "\n",
    "To start we will import the Qbool class from dann5 and create our complex expressions:"
   ]
  },
  {
   "cell_type": "code",
   "execution_count": 2,
   "id": "4d6e5729",
   "metadata": {},
   "outputs": [
    {
     "name": "stdout",
     "output_type": "stream",
     "text": [
      "b0\\S\\\n",
      "b1\\F\\\n",
      "b2\\S\\\n",
      "b3\\S\\\n",
      "b4\\S\\\n",
      "br\\T\\\n"
     ]
    }
   ],
   "source": [
    "from dann5.d5 import Qbool\n",
    "\n",
    "b0 = Qbool(\"b0\")\n",
    "b1 = Qbool(\"b1\", False)\n",
    "b2 = Qbool(\"b2\")\n",
    "b3 = Qbool(\"b3\")\n",
    "b4 = Qbool(\"b4\")\n",
    "br = Qbool(\"br\", Qbool.true()) # you can set true or false this way as well\n",
    "\n",
    "print(b0)\n",
    "print(b1)\n",
    "print(b2)\n",
    "print(b3)\n",
    "print(b4)\n",
    "print(br)"
   ]
  },
  {
   "cell_type": "markdown",
   "id": "130ec492",
   "metadata": {},
   "source": [
    "**Note**: As shown in the above code setting a value of False or Qbool.false() will functionally work the same way."
   ]
  },
  {
   "cell_type": "markdown",
   "id": "e91de65a",
   "metadata": {},
   "source": [
    "Now we will create our complex logic expression using the operators not equal (!=), AND (&), equal to (==) and OR (|). \n",
    "\n",
    "**Note**: There is no NAND operation or NOR operation. You can use the NOT (!) operation in combination with AND (&) and OR (!) to create the same end result."
   ]
  },
  {
   "cell_type": "code",
   "execution_count": 3,
   "id": "2b0781fa",
   "metadata": {},
   "outputs": [
    {
     "name": "stdout",
     "output_type": "stream",
     "text": [
      "(((b3\\S\\ != b4\\S\\) & (b2\\S\\ == b0\\S\\)) | b1\\F\\) \n",
      "\n",
      "_|0\\S\\ = _&0\\S\\ | b1\\F\\;\n",
      " _&0\\S\\ = b3\\S\\ & b2\\S\\;\n",
      " b3\\S\\ != b4\\S\\;\n",
      " b2\\S\\ == b0\\S\\;\n",
      " \n"
     ]
    }
   ],
   "source": [
    "expression = ((b3 != b4) & (b2 == b0)) | b1\n",
    "print(expression, \"\\n\")\n",
    "print(expression.toString(True).replace(\";\", \";\\n\"))"
   ]
  },
  {
   "cell_type": "markdown",
   "id": "e57cdb7a",
   "metadata": {},
   "source": [
    "In the output of the decomposed version of the expression we see that there are now 2 rules, due to the use of both comparison operators. (!=, ==)\n",
    "\n",
    "So variable b3\\S\\ has to be not equal to b4\\S\\ and the variable b2\\S\\ has to be equal to the variable b0\\S\\."
   ]
  },
  {
   "cell_type": "markdown",
   "id": "834ce1c9",
   "metadata": {},
   "source": [
    "Now we can solve the expression by importing the solver and using the solve() method:"
   ]
  },
  {
   "cell_type": "code",
   "execution_count": 4,
   "id": "62b28dc1",
   "metadata": {},
   "outputs": [
    {
     "name": "stdout",
     "output_type": "stream",
     "text": [
      "_|0\\F\\; _&0\\F\\; b3\\F\\; b4\\T\\; b2\\F\\; b0\\F\\; b1\\F\\\n",
      "_|0\\F\\; _&0\\F\\; b3\\T\\; b4\\F\\; b2\\F\\; b0\\F\\; b1\\F\\\n",
      "_|0\\F\\; _&0\\F\\; b3\\F\\; b4\\T\\; b2\\T\\; b0\\T\\; b1\\F\\\n",
      "_|0\\T\\; _&0\\T\\; b3\\T\\; b4\\F\\; b2\\T\\; b0\\T\\; b1\\F\\\n",
      "\n"
     ]
    }
   ],
   "source": [
    "from dann5.dwave import Solver \n",
    "Solver.Active() \n",
    "print(expression.solve())"
   ]
  },
  {
   "cell_type": "markdown",
   "id": "6795790e",
   "metadata": {},
   "source": [
    "To create the assignment we follow the same format by now assigning the expression to the result value of br, which we defined above as True."
   ]
  },
  {
   "cell_type": "code",
   "execution_count": 5,
   "id": "82e8cbbe",
   "metadata": {},
   "outputs": [
    {
     "name": "stdout",
     "output_type": "stream",
     "text": [
      "\n",
      " br\\T\\ = (((b3\\S\\ != b4\\S\\) & (b2\\S\\ == b0\\S\\)) | b1\\F\\) \n",
      "\n",
      " br\\T\\ = _&1\\S\\ | b1\\F\\;\n",
      " _&1\\S\\ = b3\\S\\ & b2\\S\\;\n",
      " b3\\S\\ != b4\\S\\;\n",
      " b2\\S\\ == b0\\S\\;\n",
      " \n",
      "\n"
     ]
    }
   ],
   "source": [
    "qAssign = br._(((b3 != b4) & (b2 == b0)) | b1)\n",
    "print(\"\\n {} \\n\\n {}\\n\".format(qAssign, \n",
    "                               qAssign.toString(True).replace(\";\", \";\\n\")))"
   ]
  },
  {
   "cell_type": "markdown",
   "id": "1aec8f73",
   "metadata": {},
   "source": [
    "And from the solve we see that there is only one solution where the above expression will equal true. Again it is worth checking each of the decomposed expressions that make up the complex expression to guarantee the result is correct."
   ]
  },
  {
   "cell_type": "code",
   "execution_count": 6,
   "id": "0ce169a4",
   "metadata": {},
   "outputs": [
    {
     "name": "stdout",
     "output_type": "stream",
     "text": [
      "br\\T\\; _&1\\T\\; b3\\T\\; b4\\F\\; b2\\T\\; b0\\T\\; b1\\F\\\n",
      "\n"
     ]
    }
   ],
   "source": [
    "print(qAssign.solve())"
   ]
  },
  {
   "attachments": {},
   "cell_type": "markdown",
   "id": "b2903f85",
   "metadata": {},
   "source": [
    "# Real World Problem\n",
    "\n",
    "Now we will be looking at a real world issue that can be solved using the Qbool variables and complex expressions. \n",
    "\n",
    "The problem is called the Antennas Selection issue. Looking at the image below we see 7 antennas and we need to see all possible selections of which to turn on so that they do not interfere with each other. While maximizing coverage. Any antenna that is connected with a line (edge) will interfere with one another. For example if both antenna 1 and 2 are on there will be an interference.\n",
    "\n",
    "Now we will devise an expression using Qbool variables to symbolize the antennas to see all the possibilities where we can have the maximum number of antennas on without any interferences."
   ]
  },
  {
   "cell_type": "code",
   "execution_count": 7,
   "id": "9bfac4af",
   "metadata": {},
   "outputs": [
    {
     "name": "stdout",
     "output_type": "stream",
     "text": [
      "ant1\\S\\\n",
      "ant2\\S\\\n",
      "ant3\\S\\\n",
      "ant4\\S\\\n"
     ]
    }
   ],
   "source": [
    "from dann5.d5 import Qbool\n",
    "\n",
    "ant1 = Qbool(\"ant1\")\n",
    "ant2 = Qbool(\"ant2\")\n",
    "ant3 = Qbool(\"ant3\")\n",
    "ant4 = Qbool(\"ant4\")\n",
    "antr = Qbool(\"antr\", True)\n",
    "\n",
    "print(ant1)\n",
    "print(ant2)\n",
    "print(ant3)\n",
    "print(ant4)"
   ]
  },
  {
   "cell_type": "markdown",
   "id": "af82738a",
   "metadata": {},
   "source": [
    "Going step by step we will start with one antenna which is quite simple to express."
   ]
  },
  {
   "attachments": {
    "antenna_problem_1_node.jpg": {
     "image/jpeg": "[encoded data removed]"
    }
   },
   "cell_type": "markdown",
   "id": "e83c1ace",
   "metadata": {},
   "source": [
    "![antenna_problem_1_node.jpg](attachment:antenna_problem_1_node.jpg)"
   ]
  },
  {
   "cell_type": "code",
   "execution_count": 8,
   "id": "5cdf36c1",
   "metadata": {},
   "outputs": [
    {
     "name": "stdout",
     "output_type": "stream",
     "text": [
      "antr\\T\\; ant1\\T\\\n",
      "\n"
     ]
    }
   ],
   "source": [
    "assignment1 = antr.assign(ant1)\n",
    "print(assignment1.solve())"
   ]
  },
  {
   "cell_type": "markdown",
   "id": "d934f14a",
   "metadata": {},
   "source": []
  },
  {
   "attachments": {
    "antenna_problem_2_node.png": {
     "image/png": "[encoded data removed]"
    }
   },
   "cell_type": "markdown",
   "id": "a2092378",
   "metadata": {},
   "source": [
    "![antenna_problem_2_node.png](attachment:antenna_problem_2_node.png)"
   ]
  },
  {
   "cell_type": "code",
   "execution_count": 9,
   "id": "967c24ed",
   "metadata": {},
   "outputs": [
    {
     "name": "stdout",
     "output_type": "stream",
     "text": [
      "antr\\T\\; ant1\\F\\; ant2\\T\\\n",
      "antr\\T\\; ant1\\T\\; ant2\\F\\\n",
      "\n"
     ]
    }
   ],
   "source": [
    "assignment2 = antr.assign(ant1 ^ ant2)\n",
    "print(assignment2.solve())"
   ]
  },
  {
   "attachments": {
    "antenna_problem_3_node.png": {
     "image/png": "[encoded data removed]"
    }
   },
   "cell_type": "markdown",
   "id": "93b9d02e",
   "metadata": {},
   "source": [
    "![antenna_problem_3_node.png](attachment:antenna_problem_3_node.png)"
   ]
  },
  {
   "cell_type": "code",
   "execution_count": 12,
   "id": "a3434409",
   "metadata": {},
   "outputs": [
    {
     "name": "stdout",
     "output_type": "stream",
     "text": [
      "antr\\T\\; _|4\\T\\; _^5\\T\\; ant1\\F\\; ant2\\T\\; _^6\\F\\; ant1\\F\\; ant3\\F\\; _!^5\\T\\; _!^4\\F\\; ant1\\F\\; ant2\\T\\; ant3\\F\\\n",
      "antr\\T\\; _|4\\T\\; _^5\\T\\; ant1\\T\\; ant2\\F\\; _^6\\T\\; ant1\\T\\; ant3\\F\\; _!^5\\T\\; _!^4\\F\\; ant1\\T\\; ant2\\F\\; ant3\\F\\\n",
      "antr\\T\\; _|4\\T\\; _^5\\F\\; ant1\\F\\; ant2\\F\\; _^6\\T\\; ant1\\F\\; ant3\\T\\; _!^5\\T\\; _!^4\\T\\; ant1\\F\\; ant2\\F\\; ant3\\T\\\n",
      "\n"
     ]
    }
   ],
   "source": [
    "assignment3 = antr.assign(((ant1 ^ ant2) | (ant1 ^ ant3)) & (ant1.alike(ant2).alike(ant3)))\n",
    "print(assignment3.solve())\n",
    "\n",
    "# this statement will make the below results:\n",
    "# ((ant1 ^ ant2) | (ant1 ^ ant3))\n",
    "\n",
    "F alike T = False \n",
    "F alike F = True\n",
    "\n",
    "# antr\\T\\; ant1\\F\\; ant2\\F\\; ant3\\T\\ *\n",
    "# antr\\T\\; ant1\\F\\; ant2\\T\\; ant3\\F\\ *\n",
    "# antr\\T\\; ant1\\T\\; ant2\\F\\; ant3\\F\\ *\n",
    "# antr\\T\\; ant1\\F\\; ant2\\T\\; ant3\\T\\                          \n",
    "# antr\\T\\; ant1\\T\\; ant2\\F\\; ant3\\T\\\n",
    "# antr\\T\\; ant1\\T\\; ant2\\T\\; ant3\\F\\\n",
    "\n",
    "# need to add this part to limit it to the three right answers:\n",
    "# & (ant1.alike(ant2).alike(ant3)))\n",
    "\n",
    "# creates triangular dependency\n",
    "\n",
    "# antr\\T\\; ant1\\F\\; ant2\\T\\; ant3\\F\\;\n",
    "# antr\\T\\; ant1\\T\\; ant2\\F\\; ant3\\F\\;\n",
    "# antr\\T\\; ant1\\F\\; ant2\\F\\; ant3\\T\\;"
   ]
  },
  {
   "attachments": {
    "antenna_problem_simple_image.jpg": {
     "image/jpeg": "[encoded data removed]"
    }
   },
   "cell_type": "markdown",
   "id": "d45881c8",
   "metadata": {},
   "source": [
    "![antenna_problem_simple_image.jpg](attachment:antenna_problem_simple_image.jpg)"
   ]
  },
  {
   "cell_type": "code",
   "execution_count": 13,
   "id": "5c10911e",
   "metadata": {},
   "outputs": [
    {
     "name": "stdout",
     "output_type": "stream",
     "text": [
      "(((((ant1\\S\\ !^ ant4\\S\\) ^ (ant4\\S\\ !^ ant2\\S\\)) & (ant3\\S\\ ^ ant4\\S\\)) & (ant1\\S\\ ^ ant2\\S\\)) & (ant4\\S\\ ^ antF\\F\\)) \n",
      "\n",
      "_&7\\S\\ = _&6\\S\\ & _^10\\S\\;\n",
      " _&6\\S\\ = _&5\\S\\ & _^9\\S\\;\n",
      " _&5\\S\\ = _^7\\S\\ & _^8\\S\\;\n",
      " _^7\\S\\ = _!^6\\S\\ ^ _!^7\\S\\;\n",
      " _!^6\\S\\ = ant1\\S\\ !^ ant4\\S\\;\n",
      " _!^7\\S\\ = ant4\\S\\ !^ ant2\\S\\;\n",
      " _^8\\S\\ = ant3\\S\\ ^ ant4\\S\\;\n",
      " _^9\\S\\ = ant1\\S\\ ^ ant2\\S\\;\n",
      " _^10\\S\\ = ant4\\S\\ ^ antF\\F\\;\n",
      " \n"
     ]
    }
   ],
   "source": [
    "antF = Qbool(\"antF\", False)\n",
    "expression4 = ((ant1.alike(ant4)) ^ (ant4.alike(ant2))) & (ant3 ^ ant4) & (ant1 ^ ant2) & (ant4 ^ antF)\n",
    "\n",
    "print(expression4, \"\\n\")\n",
    "print(expression4.toString(True).replace(\";\", \";\\n\"))"
   ]
  },
  {
   "cell_type": "code",
   "execution_count": 14,
   "id": "58f6114a",
   "metadata": {},
   "outputs": [],
   "source": [
    "# expression2 = ((ant1 == ant4) ^ (ant2 == ant4)) & (ant3 != ant4) & (ant1 != ant2) & (ant4 != antF)\n",
    "# antr\\T\\; ant1\\T\\; ant2\\T\\; ant3\\F\\; ant4\\T\\; "
   ]
  },
  {
   "cell_type": "code",
   "execution_count": 15,
   "id": "1376cea7",
   "metadata": {},
   "outputs": [
    {
     "name": "stdout",
     "output_type": "stream",
     "text": [
      "_&7\\F\\; _&6\\F\\; _&5\\F\\; _^7\\F\\; _!^6\\F\\; ant1\\F\\; ant4\\T\\; _!^7\\F\\; ant4\\T\\; ant2\\F\\; _^8\\T\\; ant3\\F\\; ant4\\T\\; _^9\\F\\; ant1\\F\\; ant2\\F\\; _^10\\T\\; ant4\\T\\; antF\\F\\\n",
      "_&7\\F\\; _&6\\F\\; _&5\\F\\; _^7\\T\\; _!^6\\F\\; ant1\\T\\; ant4\\F\\; _!^7\\T\\; ant4\\F\\; ant2\\F\\; _^8\\F\\; ant3\\F\\; ant4\\F\\; _^9\\T\\; ant1\\T\\; ant2\\F\\; _^10\\F\\; ant4\\F\\; antF\\F\\\n",
      "_&7\\F\\; _&6\\T\\; _&5\\T\\; _^7\\T\\; _!^6\\F\\; ant1\\T\\; ant4\\F\\; _!^7\\T\\; ant4\\F\\; ant2\\F\\; _^8\\T\\; ant3\\T\\; ant4\\F\\; _^9\\T\\; ant1\\T\\; ant2\\F\\; _^10\\F\\; ant4\\F\\; antF\\F\\\n",
      "_&7\\F\\; _&6\\F\\; _&5\\F\\; _^7\\T\\; _!^6\\T\\; ant1\\F\\; ant4\\F\\; _!^7\\F\\; ant4\\F\\; ant2\\T\\; _^8\\F\\; ant3\\F\\; ant4\\F\\; _^9\\T\\; ant1\\F\\; ant2\\T\\; _^10\\F\\; ant4\\F\\; antF\\F\\\n",
      "_&7\\F\\; _&6\\T\\; _&5\\T\\; _^7\\T\\; _!^6\\T\\; ant1\\F\\; ant4\\F\\; _!^7\\F\\; ant4\\F\\; ant2\\T\\; _^8\\T\\; ant3\\T\\; ant4\\F\\; _^9\\T\\; ant1\\F\\; ant2\\T\\; _^10\\F\\; ant4\\F\\; antF\\F\\\n",
      "_&7\\F\\; _&6\\F\\; _&5\\F\\; _^7\\F\\; _!^6\\F\\; ant1\\T\\; ant4\\F\\; _!^7\\F\\; ant4\\F\\; ant2\\T\\; _^8\\F\\; ant3\\F\\; ant4\\F\\; _^9\\F\\; ant1\\T\\; ant2\\T\\; _^10\\F\\; ant4\\F\\; antF\\F\\\n",
      "_&7\\F\\; _&6\\F\\; _&5\\F\\; _^7\\F\\; _!^6\\F\\; ant1\\T\\; ant4\\F\\; _!^7\\F\\; ant4\\F\\; ant2\\T\\; _^8\\T\\; ant3\\T\\; ant4\\F\\; _^9\\F\\; ant1\\T\\; ant2\\T\\; _^10\\F\\; ant4\\F\\; antF\\F\\\n",
      "_&7\\F\\; _&6\\F\\; _&5\\F\\; _^7\\F\\; _!^6\\F\\; ant1\\F\\; ant4\\T\\; _!^7\\F\\; ant4\\T\\; ant2\\F\\; _^8\\F\\; ant3\\T\\; ant4\\T\\; _^9\\F\\; ant1\\F\\; ant2\\F\\; _^10\\T\\; ant4\\T\\; antF\\F\\\n",
      "_&7\\F\\; _&6\\F\\; _&5\\F\\; _^7\\F\\; _!^6\\T\\; ant1\\F\\; ant4\\F\\; _!^7\\T\\; ant4\\F\\; ant2\\F\\; _^8\\F\\; ant3\\F\\; ant4\\F\\; _^9\\F\\; ant1\\F\\; ant2\\F\\; _^10\\F\\; ant4\\F\\; antF\\F\\\n",
      "_&7\\F\\; _&6\\F\\; _&5\\F\\; _^7\\F\\; _!^6\\T\\; ant1\\F\\; ant4\\F\\; _!^7\\T\\; ant4\\F\\; ant2\\F\\; _^8\\T\\; ant3\\T\\; ant4\\F\\; _^9\\F\\; ant1\\F\\; ant2\\F\\; _^10\\F\\; ant4\\F\\; antF\\F\\\n",
      "_&7\\T\\; _&6\\T\\; _&5\\T\\; _^7\\T\\; _!^6\\T\\; ant1\\T\\; ant4\\T\\; _!^7\\F\\; ant4\\T\\; ant2\\F\\; _^8\\T\\; ant3\\F\\; ant4\\T\\; _^9\\T\\; ant1\\T\\; ant2\\F\\; _^10\\T\\; ant4\\T\\; antF\\F\\\n",
      "_&7\\F\\; _&6\\F\\; _&5\\F\\; _^7\\T\\; _!^6\\T\\; ant1\\T\\; ant4\\T\\; _!^7\\F\\; ant4\\T\\; ant2\\F\\; _^8\\F\\; ant3\\T\\; ant4\\T\\; _^9\\T\\; ant1\\T\\; ant2\\F\\; _^10\\T\\; ant4\\T\\; antF\\F\\\n",
      "_&7\\T\\; _&6\\T\\; _&5\\T\\; _^7\\T\\; _!^6\\F\\; ant1\\F\\; ant4\\T\\; _!^7\\T\\; ant4\\T\\; ant2\\T\\; _^8\\T\\; ant3\\F\\; ant4\\T\\; _^9\\T\\; ant1\\F\\; ant2\\T\\; _^10\\T\\; ant4\\T\\; antF\\F\\\n",
      "_&7\\F\\; _&6\\F\\; _&5\\F\\; _^7\\T\\; _!^6\\F\\; ant1\\F\\; ant4\\T\\; _!^7\\T\\; ant4\\T\\; ant2\\T\\; _^8\\F\\; ant3\\T\\; ant4\\T\\; _^9\\T\\; ant1\\F\\; ant2\\T\\; _^10\\T\\; ant4\\T\\; antF\\F\\\n",
      "_&7\\F\\; _&6\\F\\; _&5\\F\\; _^7\\F\\; _!^6\\T\\; ant1\\T\\; ant4\\T\\; _!^7\\T\\; ant4\\T\\; ant2\\T\\; _^8\\T\\; ant3\\F\\; ant4\\T\\; _^9\\F\\; ant1\\T\\; ant2\\T\\; _^10\\T\\; ant4\\T\\; antF\\F\\\n",
      "_&7\\F\\; _&6\\F\\; _&5\\F\\; _^7\\F\\; _!^6\\T\\; ant1\\T\\; ant4\\T\\; _!^7\\T\\; ant4\\T\\; ant2\\T\\; _^8\\F\\; ant3\\T\\; ant4\\T\\; _^9\\F\\; ant1\\T\\; ant2\\T\\; _^10\\T\\; ant4\\T\\; antF\\F\\\n",
      "\n"
     ]
    }
   ],
   "source": [
    "print(expression4.solve())"
   ]
  },
  {
   "cell_type": "code",
   "execution_count": 16,
   "id": "47015632",
   "metadata": {},
   "outputs": [
    {
     "name": "stdout",
     "output_type": "stream",
     "text": [
      "antr\\T\\; _&6\\T\\; _&5\\T\\; _^7\\T\\; _!^6\\T\\; ant1\\T\\; ant4\\T\\; _!^7\\F\\; ant4\\T\\; ant2\\F\\; _^8\\T\\; ant3\\F\\; ant4\\T\\; _^9\\T\\; ant1\\T\\; ant2\\F\\; _^10\\T\\; ant4\\T\\; antF\\F\\\n",
      "antr\\T\\; _&6\\T\\; _&5\\T\\; _^7\\T\\; _!^6\\F\\; ant1\\F\\; ant4\\T\\; _!^7\\T\\; ant4\\T\\; ant2\\T\\; _^8\\T\\; ant3\\F\\; ant4\\T\\; _^9\\T\\; ant1\\F\\; ant2\\T\\; _^10\\T\\; ant4\\T\\; antF\\F\\\n",
      "\n"
     ]
    }
   ],
   "source": [
    "expression4.reset()\n",
    "assignment4 = antr.assign(expression4)  \n",
    "print(assignment4.solve())\n",
    "\n",
    "# antr\\T\\; ant1\\T\\; ant2\\F\\; ant3\\F\\; ant4\\T\\;\n",
    "# antr\\T\\; ant1\\F\\; ant2\\T\\; ant3\\F\\; ant4\\T\\;"
   ]
  },
  {
   "cell_type": "code",
   "execution_count": 17,
   "id": "eb8e42ba",
   "metadata": {},
   "outputs": [],
   "source": [
    "# assignment4 = antr.assign(expression2)  \n",
    "# print(assignment4.solve())\n",
    "\n",
    "# antr\\T\\; ant1\\F\\; ant2\\T\\; ant3\\F\\; ant4\\T\\; \n",
    "# antr\\T\\; ant1\\T\\; ant2\\F\\; ant3\\F\\; ant4\\T\\; \n"
   ]
  },
  {
   "attachments": {
    "antenna_problem_5_node.png": {
     "image/png": "[encoded data removed]"
    }
   },
   "cell_type": "markdown",
   "id": "0cc8082c",
   "metadata": {},
   "source": [
    "![antenna_problem_5_node.png](attachment:antenna_problem_5_node.png)"
   ]
  },
  {
   "cell_type": "code",
   "execution_count": 19,
   "id": "ef348292",
   "metadata": {},
   "outputs": [
    {
     "name": "stdout",
     "output_type": "stream",
     "text": [
      "antr\\T\\; _&10\\T\\; _^13\\T\\; ant1\\F\\; ant2\\T\\; _!^9\\T\\; ant3\\F\\; antF\\F\\; _^14\\T\\; ant5\\T\\; ant4\\F\\\n",
      "antr\\T\\; _&10\\T\\; _^13\\T\\; ant1\\F\\; ant2\\T\\; _!^9\\T\\; ant3\\F\\; antF\\F\\; _^14\\T\\; ant5\\F\\; ant4\\T\\\n",
      "antr\\T\\; _&10\\T\\; _^13\\T\\; ant1\\T\\; ant2\\F\\; _!^9\\T\\; ant3\\F\\; antF\\F\\; _^14\\T\\; ant5\\T\\; ant4\\F\\\n",
      "antr\\T\\; _&10\\T\\; _^13\\T\\; ant1\\T\\; ant2\\F\\; _!^9\\T\\; ant3\\F\\; antF\\F\\; _^14\\T\\; ant5\\F\\; ant4\\T\\\n",
      "\n"
     ]
    }
   ],
   "source": [
    "ant5 = Qbool(\"ant5\")\n",
    "expression5 = (ant1 ^ ant2) & (ant3.alike(antF)) & (ant5 ^ ant4)\n",
    "assignment5 = antr.assign(expression5)\n",
    "\n",
    "print(assignment5.solve())\n",
    "\n",
    "# using the method alike(antF) on any node (antenna) will make sure it is never turned on\n",
    "# (ant3.alike(antF))\n",
    "\n",
    "# this way will create the least amount of nodes in the quantum equation which will result in simplest and fastest solution\n",
    "\n",
    "# antr\\T\\; ant1\\F\\; ant2\\T\\; ant3\\F\\; ant4\\F\\; ant5\\T\\; = 2, 5\n",
    "# antr\\T\\; ant1\\F\\; ant2\\T\\; ant3\\F\\; ant4\\T\\; ant5\\F\\; = 2, 4\n",
    "# antr\\T\\; ant1\\T\\; ant2\\F\\; ant3\\F\\; ant4\\F\\; ant5\\T\\; = 1, 5\n",
    "# antr\\T\\; ant1\\T\\; ant2\\F\\; ant3\\F\\; ant4\\T\\; ant5\\F\\; = 1, 4"
   ]
  },
  {
   "attachments": {
    "antenna_problem_6_node.png": {
     "image/png": "[encoded data removed]"
    }
   },
   "cell_type": "markdown",
   "id": "0549a11b",
   "metadata": {},
   "source": [
    "![antenna_problem_6_node.png](attachment:antenna_problem_6_node.png)"
   ]
  },
  {
   "cell_type": "code",
   "execution_count": 20,
   "id": "6f256c09",
   "metadata": {},
   "outputs": [
    {
     "name": "stdout",
     "output_type": "stream",
     "text": [
      "antr\\T\\; _&13\\T\\; _&12\\T\\; _|5\\T\\; _^15\\T\\; ant1\\F\\; ant2\\T\\; _^16\\F\\; ant1\\F\\; ant3\\F\\; _!^11\\T\\; _!^10\\F\\; ant1\\F\\; ant2\\T\\; ant3\\F\\; _|6\\T\\; _^17\\T\\; ant4\\F\\; ant5\\T\\; _^18\\F\\; ant4\\F\\; ant6\\F\\; _!^13\\T\\; _!^12\\F\\; ant4\\F\\; ant5\\T\\; ant6\\F\\\n",
      "antr\\T\\; _&13\\T\\; _&12\\T\\; _|5\\T\\; _^15\\T\\; ant1\\F\\; ant2\\T\\; _^16\\F\\; ant1\\F\\; ant3\\F\\; _!^11\\T\\; _!^10\\F\\; ant1\\F\\; ant2\\T\\; ant3\\F\\; _|6\\T\\; _^17\\T\\; ant4\\T\\; ant5\\F\\; _^18\\T\\; ant4\\T\\; ant6\\F\\; _!^13\\T\\; _!^12\\F\\; ant4\\T\\; ant5\\F\\; ant6\\F\\\n",
      "antr\\T\\; _&13\\T\\; _&12\\T\\; _|5\\T\\; _^15\\T\\; ant1\\T\\; ant2\\F\\; _^16\\T\\; ant1\\T\\; ant3\\F\\; _!^11\\T\\; _!^10\\F\\; ant1\\T\\; ant2\\F\\; ant3\\F\\; _|6\\T\\; _^17\\T\\; ant4\\F\\; ant5\\T\\; _^18\\F\\; ant4\\F\\; ant6\\F\\; _!^13\\T\\; _!^12\\F\\; ant4\\F\\; ant5\\T\\; ant6\\F\\\n",
      "antr\\T\\; _&13\\T\\; _&12\\T\\; _|5\\T\\; _^15\\T\\; ant1\\T\\; ant2\\F\\; _^16\\T\\; ant1\\T\\; ant3\\F\\; _!^11\\T\\; _!^10\\F\\; ant1\\T\\; ant2\\F\\; ant3\\F\\; _|6\\T\\; _^17\\T\\; ant4\\T\\; ant5\\F\\; _^18\\T\\; ant4\\T\\; ant6\\F\\; _!^13\\T\\; _!^12\\F\\; ant4\\T\\; ant5\\F\\; ant6\\F\\\n",
      "antr\\T\\; _&13\\T\\; _&12\\T\\; _|5\\T\\; _^15\\T\\; ant1\\F\\; ant2\\T\\; _^16\\F\\; ant1\\F\\; ant3\\F\\; _!^11\\T\\; _!^10\\F\\; ant1\\F\\; ant2\\T\\; ant3\\F\\; _|6\\T\\; _^17\\F\\; ant4\\F\\; ant5\\F\\; _^18\\T\\; ant4\\F\\; ant6\\T\\; _!^13\\T\\; _!^12\\T\\; ant4\\F\\; ant5\\F\\; ant6\\T\\\n",
      "antr\\T\\; _&13\\T\\; _&12\\T\\; _|5\\T\\; _^15\\T\\; ant1\\T\\; ant2\\F\\; _^16\\T\\; ant1\\T\\; ant3\\F\\; _!^11\\T\\; _!^10\\F\\; ant1\\T\\; ant2\\F\\; ant3\\F\\; _|6\\T\\; _^17\\F\\; ant4\\F\\; ant5\\F\\; _^18\\T\\; ant4\\F\\; ant6\\T\\; _!^13\\T\\; _!^12\\T\\; ant4\\F\\; ant5\\F\\; ant6\\T\\\n",
      "antr\\T\\; _&13\\T\\; _&12\\T\\; _|5\\T\\; _^15\\F\\; ant1\\F\\; ant2\\F\\; _^16\\T\\; ant1\\F\\; ant3\\T\\; _!^11\\T\\; _!^10\\T\\; ant1\\F\\; ant2\\F\\; ant3\\T\\; _|6\\T\\; _^17\\T\\; ant4\\F\\; ant5\\T\\; _^18\\F\\; ant4\\F\\; ant6\\F\\; _!^13\\T\\; _!^12\\F\\; ant4\\F\\; ant5\\T\\; ant6\\F\\\n",
      "antr\\T\\; _&13\\T\\; _&12\\T\\; _|5\\T\\; _^15\\F\\; ant1\\F\\; ant2\\F\\; _^16\\T\\; ant1\\F\\; ant3\\T\\; _!^11\\T\\; _!^10\\T\\; ant1\\F\\; ant2\\F\\; ant3\\T\\; _|6\\T\\; _^17\\T\\; ant4\\T\\; ant5\\F\\; _^18\\T\\; ant4\\T\\; ant6\\F\\; _!^13\\T\\; _!^12\\F\\; ant4\\T\\; ant5\\F\\; ant6\\F\\\n",
      "antr\\T\\; _&13\\T\\; _&12\\T\\; _|5\\T\\; _^15\\F\\; ant1\\F\\; ant2\\F\\; _^16\\T\\; ant1\\F\\; ant3\\T\\; _!^11\\T\\; _!^10\\T\\; ant1\\F\\; ant2\\F\\; ant3\\T\\; _|6\\T\\; _^17\\F\\; ant4\\F\\; ant5\\F\\; _^18\\T\\; ant4\\F\\; ant6\\T\\; _!^13\\T\\; _!^12\\T\\; ant4\\F\\; ant5\\F\\; ant6\\T\\\n",
      "\n"
     ]
    }
   ],
   "source": [
    "ant6 = Qbool(\"ant6\")\n",
    "expression6 = ((ant1 ^ ant2) | (ant1 ^ ant3)) & (ant1.alike(ant2).alike(ant3)) & ((ant4 ^ ant5) | (ant4 ^ ant6)) & (ant4.alike(ant5).alike(ant6))  \n",
    "\n",
    "# Add this to create another triangle dependency\n",
    "# might work, takes too long to run on simulator\n",
    "# & ((ant3 ^ ant4) | (ant3 ^ ant5)) & (ant3.alike(ant4).alike(ant5))\n",
    "qAssign6 = antr.assign(expression6)\n",
    "\n",
    "print(qAssign6.solve())\n",
    "\n",
    "# antr\\T\\; ant1\\F\\; ant2\\T\\; ant3\\F\\; ant4\\F\\; ant5\\T\\; ant6\\F\\; = 2, 5 \n",
    "# antr\\T\\; ant1\\F\\; ant2\\T\\; ant3\\F\\; ant4\\T\\; ant5\\F\\; ant6\\F\\; = 2, 4\n",
    "# antr\\T\\; ant1\\T\\; ant2\\F\\; ant3\\F\\; ant4\\F\\; ant5\\T\\; ant6\\F\\; = 1, 5\n",
    "# antr\\T\\; ant1\\T\\; ant2\\F\\; ant3\\F\\; ant4\\T\\; ant5\\F\\; ant6\\F\\; = 1 , 4\n",
    "# antr\\T\\; ant1\\F\\; ant2\\T\\; ant3\\F\\; ant4\\F\\; ant5\\F\\; ant6\\T\\; = 2, 6\n",
    "# antr\\T\\; ant1\\T\\; ant2\\F\\; ant3\\F\\; ant4\\F\\; ant5\\F\\; ant6\\T\\; = 1, 6\n",
    "# antr\\T\\; ant1\\F\\; ant2\\F\\; ant3\\T\\; ant4\\F\\; ant5\\T\\; ant6\\F\\; = 3, 5 * \n",
    "# antr\\T\\; ant1\\F\\; ant2\\F\\; ant3\\T\\; ant4\\T\\; ant5\\F\\; ant6\\F\\; = 3, 4 *\n",
    "# antr\\T\\; ant1\\F\\; ant2\\F\\; ant3\\T\\; ant4\\F\\; ant5\\F\\; ant6\\T\\; = 3, 6\n"
   ]
  },
  {
   "cell_type": "code",
   "execution_count": 35,
   "id": "b4419eb5",
   "metadata": {},
   "outputs": [
    {
     "name": "stdout",
     "output_type": "stream",
     "text": [
      "antr\\T\\; _&79\\T\\; _&78\\T\\; _&77\\T\\; _&76\\T\\; _|34\\T\\; _^84\\F\\; ant1\\F\\; ant2\\F\\; _^85\\T\\; ant1\\F\\; ant3\\T\\; _!^79\\T\\; _!^78\\T\\; ant1\\F\\; ant2\\F\\; ant3\\T\\; _|35\\T\\; _^86\\F\\; ant4\\F\\; ant5\\F\\; _^87\\T\\; ant4\\F\\; ant6\\T\\; _!^81\\T\\; _!^80\\T\\; ant4\\F\\; ant5\\F\\; ant6\\T\\; _|36\\T\\; _^88\\T\\; ant3\\T\\; ant4\\F\\; _^89\\T\\; ant3\\T\\; ant5\\F\\; _!^83\\T\\; _!^82\\F\\; ant3\\T\\; ant4\\F\\; ant5\\F\\\n",
      "\n"
     ]
    }
   ],
   "source": [
    "from dann5.dwave import QuboSolvers\n",
    "\n",
    "ant6 = Qbool(\"ant6\")\n",
    "expression6b = ((ant1 ^ ant2) | (ant1 ^ ant3)) & (ant1.alike(ant2).alike(ant3)) & ((ant4 ^ ant5) | (ant4 ^ ant6)) & (ant4.alike(ant5).alike(ant6)) & ((ant3 ^ ant4) | (ant3 ^ ant5)) & (ant3.alike(ant4).alike(ant5)) \n",
    "\n",
    "qAssign6b = antr.assign(expression6b)\n",
    "\n",
    "Solver.SetActive(QuboSolvers.solver(\"Advantage\"))\n",
    "\n",
    "print(qAssign6b.solve())\n",
    "\n",
    "\n",
    "# Hybrid\n",
    "# antr\\T\\; ant1\\F\\; ant2\\T\\; ant3\\F\\; ant4\\F\\; ant5\\T\\; ant6\\F\\; = 2, 5\n",
    "# antr\\T\\; ant1\\F\\; ant2\\F\\; ant3\\T\\; ant4\\F\\; ant5\\F\\; ant6\\T\\; = 3, 6\n",
    "\n",
    "#Advantage\n",
    "# 1st run\n",
    "# antr\\T\\; ant1\\F\\; ant2\\F\\; ant3\\F\\; ant4\\T\\; ant5\\F\\; ant6\\T\\; \n",
    "# antr\\T\\; ant1\\F\\; ant2\\F\\; ant3\\T\\; ant4\\T\\; ant5\\F\\; ant6\\F\\; \n",
    "# antr\\T\\; ant1\\F\\; ant2\\F\\; ant3\\T\\; ant4\\F\\; ant5\\T\\; ant6\\F\\; \n",
    "\n",
    "# 2nd run\n",
    "# antr\\T\\; ant1\\T\\; ant2\\F\\; ant3\\F\\; ant4\\F\\; ant5\\T\\; ant6\\T\\; \n",
    "\n",
    "# 3rd run\n",
    "# antr\\T\\; ant1\\F\\; ant2\\F\\; ant3\\T\\; ant4\\F\\; ant5\\F\\; ant6\\T\\; = 3, 6\n",
    "\n",
    "# Advantage 2\n",
    "# 1st run\n",
    "# antr\\T\\; ant1\\F\\; ant2\\F\\; ant3\\T\\; ant4\\F\\; ant5\\F\\; ant6\\T\\;\n",
    "\n",
    "# 2nd run\n",
    "# antr\\T\\; ant1\\F\\; ant2\\F\\; ant3\\T\\; ant4\\F\\; ant5\\F\\; ant6\\T\\; = 3, 6\n",
    "# antr\\T\\; ant1\\T\\; ant2\\F\\; ant3\\F\\; ant4\\T\\; ant5\\F\\; ant6\\F\\; = 1, 4\n",
    "# antr\\T\\; ant1\\F\\; ant2\\T\\; ant3\\F\\; ant4\\T\\; ant5\\F\\; ant6\\F\\; = 2, 4\n",
    "# antr\\T\\; ant1\\F\\; ant2\\T\\; ant3\\F\\; ant4\\F\\; ant5\\T\\; ant6\\F\\; = 2, 5"
   ]
  },
  {
   "attachments": {
    "antenna_problem_image.png": {
     "image/png": "[encoded data removed]"
    }
   },
   "cell_type": "markdown",
   "id": "f2bd1df8",
   "metadata": {},
   "source": [
    "![antenna_problem_image.png](attachment:antenna_problem_image.png)"
   ]
  },
  {
   "cell_type": "code",
   "execution_count": 38,
   "id": "c7592f9c",
   "metadata": {},
   "outputs": [
    {
     "name": "stdout",
     "output_type": "stream",
     "text": [
      "antr\\T\\; _&91\\T\\; _&90\\T\\; _&89\\T\\; _!^88\\T\\; ant3\\F\\; antF\\F\\; _!^89\\T\\; ant6\\F\\; antF\\F\\; _^96\\T\\; ant7\\T\\; antF\\F\\; _^97\\T\\; ant1\\T\\; ant2\\F\\; _^98\\T\\; ant4\\F\\; ant5\\T\\\n",
      "antr\\T\\; _&91\\T\\; _&90\\T\\; _&89\\T\\; _!^88\\T\\; ant3\\F\\; antF\\F\\; _!^89\\T\\; ant6\\F\\; antF\\F\\; _^96\\T\\; ant7\\T\\; antF\\F\\; _^97\\T\\; ant1\\F\\; ant2\\T\\; _^98\\T\\; ant4\\T\\; ant5\\F\\\n",
      "antr\\T\\; _&91\\T\\; _&90\\T\\; _&89\\T\\; _!^88\\T\\; ant3\\F\\; antF\\F\\; _!^89\\T\\; ant6\\F\\; antF\\F\\; _^96\\T\\; ant7\\T\\; antF\\F\\; _^97\\T\\; ant1\\F\\; ant2\\T\\; _^98\\T\\; ant4\\F\\; ant5\\T\\\n",
      "antr\\T\\; _&91\\T\\; _&90\\T\\; _&89\\T\\; _!^88\\T\\; ant3\\F\\; antF\\F\\; _!^89\\T\\; ant6\\F\\; antF\\F\\; _^96\\T\\; ant7\\T\\; antF\\F\\; _^97\\T\\; ant1\\T\\; ant2\\F\\; _^98\\T\\; ant4\\T\\; ant5\\F\\\n",
      "\n"
     ]
    }
   ],
   "source": [
    "ant7 = Qbool(\"ant7\")\n",
    "expression7 = (ant3.alike(antF) & ant6.alike(antF) & (ant7 ^ antF)) & (ant1 ^ ant2) & (ant4 ^ ant5)\n",
    "assignment7 = antr.assign(expression7)\n",
    "\n",
    "print(assignment7.solve())\n",
    "\n",
    "# key here is to group all known node values together into one statement, i.e. we know 3, 6 must be off and 7 must be on\n",
    "# (ant3.alike(antF) & ant6.alike(antF) & ant7 ^ antF) \n",
    "\n",
    "# then we can and the other conditions\n",
    "#  & (ant1 ^ ant2) & (ant4 ^ ant5)\n",
    "\n",
    "# antr\\T\\; ant3\\F\\; ant6\\F\\; ant7\\T\\; ant1\\F\\; ant2\\T\\; ant4\\F\\; ant5\\T\\ = 7, 2, 5\n",
    "# antr\\T\\; ant3\\F\\; ant6\\F\\; ant7\\T\\; ant1\\F\\; ant2\\T\\; ant4\\T\\; ant5\\F\\ = 7, 2, 4\n",
    "# antr\\T\\; ant3\\F\\; ant6\\F\\; ant7\\T\\; ant1\\T\\; ant2\\F\\; ant4\\F\\; ant5\\T\\ = 7, 1, 5\n",
    "# antr\\T\\; ant3\\F\\; ant6\\F\\; ant7\\T\\; ant1\\T\\; ant2\\F\\; ant4\\T\\; ant5\\F\\ = 7, 1, 4"
   ]
  },
  {
   "cell_type": "code",
   "execution_count": 68,
   "id": "9e96ab71",
   "metadata": {
    "scrolled": true
   },
   "outputs": [
    {
     "name": "stdout",
     "output_type": "stream",
     "text": [
      "res\\T\\; _|70\\T\\; _&173\\T\\; _^208\\T\\; a\\T\\; b\\F\\; _^209\\T\\; b\\F\\; d\\T\\; _&174\\T\\; _^210\\T\\; a\\T\\; b\\F\\; _^211\\T\\; a\\T\\; c\\F\\; _&172\\T\\; _|69\\T\\; _^206\\T\\; c\\F\\; d\\T\\; _^207\\F\\; c\\F\\; e\\F\\; _!^163\\T\\; _!^162\\F\\; c\\F\\; d\\T\\; e\\F\\\n",
      "res\\T\\; _|70\\T\\; _&173\\T\\; _^208\\T\\; a\\F\\; b\\T\\; _^209\\T\\; b\\T\\; d\\F\\; _&174\\T\\; _^210\\T\\; a\\F\\; b\\T\\; _^211\\T\\; a\\F\\; c\\T\\; _&172\\T\\; _|69\\T\\; _^206\\T\\; c\\T\\; d\\F\\; _^207\\T\\; c\\T\\; e\\F\\; _!^163\\T\\; _!^162\\F\\; c\\T\\; d\\F\\; e\\F\\\n",
      "\n"
     ]
    }
   ],
   "source": [
    "# a == c\\\n",
    "# |    | e\n",
    "# b == d/\n",
    "\n",
    "# a, e \n",
    "# a, d\n",
    "# b, e\n",
    "# b, c\n",
    "\n",
    "a = Qbool(\"a\")\n",
    "b = Qbool(\"b\")\n",
    "c = Qbool(\"c\")\n",
    "d = Qbool(\"d\")\n",
    "e = Qbool(\"e\")\n",
    "result = Qbool(\"res\", True)\n",
    "\n",
    "triExpr = ((c ^ d)| (c ^ e)) & (c.alike(d).alike(e))\n",
    "sqExpr = (((a ^ b) & (b ^ d)) | ((a ^ b) & (a ^ c)))\n",
    "\n",
    "qassignHouse = result.assign(sqExpr & triExpr)\n",
    "\n",
    "print(qassignHouse.solve())\n",
    "\n",
    "# res\\T\\; a\\F\\; b\\T\\; c\\T\\; d\\F\\; e\\F\\; = b, c \n",
    "# res\\T\\; a\\T\\; b\\F\\; c\\F\\; d\\T\\; e\\F\\; = a, d\n",
    "\n",
    "# res\\T\\; a\\T\\; b\\F\\; c\\F\\; d\\T\\; e\\F\\; = a, d\n",
    "# res\\T\\; a\\F\\; b\\T\\; c\\T\\; d\\F\\; e\\F\\; = b, c\n",
    "\n",
    "# res\\T\\; a\\F\\; b\\T\\; c\\F\\; d\\F\\; e\\T\\; = b, e\n",
    "# res\\T\\; a\\T\\; b\\F\\; c\\F\\; d\\F\\; e\\T\\; = a, e\n",
    "\n",
    "# res\\T\\; a\\F\\; b\\T\\; c\\F\\; d\\T\\; e\\F\\; = b, d *\n",
    "# res\\T\\; a\\T\\; b\\F\\; c\\T\\; d\\F\\; e\\F\\; = a, c *\n",
    "\n",
    "\n",
    "# res\\T\\; a\\T\\; b\\F\\; c\\F\\; d\\F\\; e\\T\\\n",
    "# res\\T\\; a\\F\\; b\\T\\; c\\F\\; d\\F\\; e\\T\\\n",
    "# res\\T\\; a\\F\\; b\\T\\; c\\T\\; d\\F\\; e\\F\\\n",
    "\n",
    "\n",
    "# res\\T\\; a\\T\\; b\\F\\; c\\F\\; d\\F\\; e\\T\\; = a, e\n",
    "# res\\T\\; a\\F\\; b\\T\\; c\\T\\; d\\F\\; e\\F\\; = b, c\n",
    "# res\\T\\; a\\T\\; b\\F\\; c\\F\\; d\\T\\; e\\F\\; = a, d\n",
    "\n",
    "# res\\T\\; a\\T\\; b\\F\\; c\\F\\; d\\F\\; e\\T\\; = a, e\n",
    "# res\\T\\; a\\F\\; b\\T\\; c\\F\\; d\\F\\; e\\T\\; = b, e\n",
    "# res\\T\\; a\\F\\; b\\T\\; c\\T\\; d\\F\\; e\\F\\; = b, c\n",
    "\n",
    "# res\\T\\; a\\T\\; b\\F\\; c\\F\\; d\\F\\; e\\T\\; = a, e\n",
    "# res\\T\\; a\\F\\; b\\T\\; c\\F\\; d\\F\\; e\\T\\; = b, e\n",
    "# res\\T\\; a\\T\\; b\\F\\; c\\F\\; d\\T\\; e\\F\\; = a, d\n",
    "\n",
    "# res\\T\\; a\\T\\; b\\F\\; c\\F\\; d\\T\\; e\\F\\;\n",
    "# res\\T\\; a\\F\\; b\\T\\; c\\T\\; d\\F\\; e\\F\\;\n",
    "# res\\T\\; a\\T\\; b\\F\\; c\\F\\; d\\F\\; e\\T\\\n",
    "\n",
    "# res\\T\\; a\\T\\; b\\F\\; c\\F\\; d\\T\\; e\\F\\; \n",
    "# res\\T\\; a\\F\\; b\\T\\; c\\T\\; d\\F\\; e\\F\\;\n"
   ]
  },
  {
   "cell_type": "code",
   "execution_count": 48,
   "id": "6eb7a4d1",
   "metadata": {},
   "outputs": [
    {
     "name": "stdout",
     "output_type": "stream",
     "text": [
      "res\\T\\; _&116\\T\\; _^127\\T\\; a\\T\\; b\\F\\; _^128\\T\\; b\\F\\; d\\T\\; _^129\\T\\; a\\T\\; c\\F\\\n",
      "res\\T\\; _&116\\T\\; _^127\\T\\; a\\F\\; b\\T\\; _^128\\T\\; b\\T\\; d\\F\\; _^129\\T\\; a\\F\\; c\\T\\\n",
      "\n"
     ]
    }
   ],
   "source": [
    "# a == c\n",
    "# |    | \n",
    "# b == d\n",
    "\n",
    "# a, e \n",
    "# a, d\n",
    "# b, e\n",
    "# b, c\n",
    "\n",
    "boxExpr = (a ^ b) & (b ^ d) & (a ^ c)\n",
    "\n",
    "qassignBox = result.assign(boxExpr)\n",
    "\n",
    "print(qassignBox.solve())"
   ]
  },
  {
   "cell_type": "code",
   "execution_count": 74,
   "id": "83128626",
   "metadata": {},
   "outputs": [
    {
     "name": "stdout",
     "output_type": "stream",
     "text": [
      " res\\T\\; _&187\\T\\; _^236\\T\\; a\\T\\; b\\F\\; _^237\\T\\; b\\F\\; d\\T\\; _^238\\T\\; a\\T\\; c\\F\\ res\\T\\; _^232\\T\\; c\\F\\; d\\T\\; _^235\\T\\; _^233\\F\\; d\\T\\; e\\T\\; _^234\\T\\; c\\F\\; e\\T\\\n",
      " res\\T\\; _&187\\T\\; _^236\\T\\; a\\T\\; b\\F\\; _^237\\T\\; b\\F\\; d\\T\\; _^238\\T\\; a\\T\\; c\\F\\ res\\T\\; _^232\\T\\; c\\F\\; d\\T\\; _^235\\T\\; _^233\\T\\; d\\T\\; e\\F\\; _^234\\F\\; c\\F\\; e\\F\\\n",
      " res\\T\\; _&187\\T\\; _^236\\T\\; a\\F\\; b\\T\\; _^237\\T\\; b\\T\\; d\\F\\; _^238\\T\\; a\\F\\; c\\T\\ res\\T\\; _^232\\T\\; c\\T\\; d\\F\\; _^235\\T\\; _^233\\F\\; d\\F\\; e\\F\\; _^234\\T\\; c\\T\\; e\\F\\\n",
      " res\\T\\; _&187\\T\\; _^236\\T\\; a\\F\\; b\\T\\; _^237\\T\\; b\\T\\; d\\F\\; _^238\\T\\; a\\F\\; c\\T\\ res\\T\\; _^232\\T\\; c\\T\\; d\\F\\; _^235\\T\\; _^233\\T\\; d\\F\\; e\\T\\; _^234\\F\\; c\\T\\; e\\T\\\n",
      "\n"
     ]
    }
   ],
   "source": [
    "from dann5.d5 import Qblock\n",
    "triExpr = ((c ^ d)| (c ^ e)) & (c.alike(d).alike(e))\n",
    "sqExpr2 = (a ^ b) & (b ^ d) & (a ^ c)\n",
    "\n",
    "\n",
    "\n",
    "assignTri = result.assign(triExpr2)\n",
    "assignSqr = result.assign(sqExpr2)\n",
    "\n",
    "block = Qblock() << assignSqr << assignTri\n",
    "\n",
    "print(block.solve())\n",
    "\n",
    "# res\\T\\; _&183\\T\\; _^224\\T\\; a\\F\\; b\\T\\; _^225\\T\\; b\\T\\; d\\F\\; _^226\\T\\; a\\F\\; c\\T\\ res\\T\\; _|73\\T\\; _^222\\T\\; c\\T\\; d\\F\\; _^223\\T\\; c\\T\\; e\\F\\; _!^169\\T\\; _!^168\\F\\; c\\T\\; d\\F\\; e\\F\\\n",
    "# res\\T\\; _&183\\T\\; _^224\\T\\; a\\T\\; b\\F\\; _^225\\T\\; b\\F\\; d\\T\\; _^226\\T\\; a\\T\\; c\\F\\ res\\T\\; _|73\\T\\; _^222\\T\\; c\\F\\; d\\T\\; _^223\\F\\; c\\F\\; e\\F\\; _!^169\\T\\; _!^168\\F\\; c\\F\\; d\\T\\; e\\F\\"
   ]
  },
  {
   "cell_type": "code",
   "execution_count": 81,
   "id": "08850b9c",
   "metadata": {},
   "outputs": [
    {
     "name": "stdout",
     "output_type": "stream",
     "text": [
      "res\\T\\; _|79\\T\\; _^247\\T\\; d\\T\\; e\\F\\; _^248\\F\\; c\\F\\; e\\F\\; _!^183\\T\\; _!^182\\F\\; c\\F\\; d\\T\\; e\\F\\\n",
      "res\\T\\; _|79\\T\\; _^247\\F\\; d\\F\\; e\\F\\; _^248\\T\\; c\\T\\; e\\F\\; _!^183\\T\\; _!^182\\F\\; c\\T\\; d\\F\\; e\\F\\\n",
      "res\\T\\; _|79\\T\\; _^247\\T\\; d\\F\\; e\\T\\; _^248\\T\\; c\\F\\; e\\T\\; _!^183\\T\\; _!^182\\T\\; c\\F\\; d\\F\\; e\\T\\\n",
      "\n"
     ]
    }
   ],
   "source": [
    "triExpr3 = ((c ^ d) | (c ^ e)) & (c.alike(d).alike(e))\n",
    "assignTri3 = result.assign(triExpr3)\n",
    "print(assignTri3.solve())\n",
    "            "
   ]
  },
  {
   "cell_type": "code",
   "execution_count": null,
   "id": "e4cf0608",
   "metadata": {},
   "outputs": [],
   "source": []
  }
 ],
 "metadata": {
  "kernelspec": {
   "display_name": "Python 3 (ipykernel)",
   "language": "python",
   "name": "python3"
  },
  "language_info": {
   "codemirror_mode": {
    "name": "ipython",
    "version": 3
   },
   "file_extension": ".py",
   "mimetype": "text/x-python",
   "name": "python",
   "nbconvert_exporter": "python",
   "pygments_lexer": "ipython3",
   "version": "3.10.11"
  }
 },
 "nbformat": 4,
 "nbformat_minor": 5
}
