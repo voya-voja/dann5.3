{
 "cells": [
  {
   "cell_type": "markdown",
   "id": "aea0bcf0",
   "metadata": {},
   "source": [
    "# Chapter 2.3 - Advanced Qbin\n",
    "\n",
    "In this section of chapter 2 we will be walking through how to use Qbin variables in more complex expressions and assignments by chaining multiple operations together. We will also see expand on the real world problem, \"Friends and Enemies\" covered in section 2.1. We will solve the more complex expression using the Dwave quantum computer.\n",
    "\n",
    "To start we will import the Qbin class from dann5 and create our complex expressions:"
   ]
  },
  {
   "cell_type": "code",
   "execution_count": 4,
   "id": "28c96217",
   "metadata": {},
   "outputs": [
    {
     "name": "stdout",
     "output_type": "stream",
     "text": [
      "bn0\\2b:11\\\n",
      "bn1\\3b:U\\\n",
      "bn2\\4b:U\\\n",
      "bn3\\3b:110\\\n",
      "bn4\\2b:U\\\n",
      "bnr\\3b:101\\\n"
     ]
    }
   ],
   "source": [
    "from dann5.d5 import Qbin, Bits\n",
    "\n",
    "bn0 = Qbin(\"bn0\", Bits(0o03)) # you can pass octal numbers\n",
    "bn1 = Qbin(3, \"bn1\")\n",
    "bn2 = Qbin(4, \"bn2\")\n",
    "bn3 = Qbin(\"bn3\", Bits(0b110)) # 6 in binary\n",
    "bn4 = Qbin(2, \"bn4\")\n",
    "bnr = Qbin(\"bnr\", Bits(0x5)) # you can pass hexadecimal numbers\n",
    "\n",
    "print(bn0)\n",
    "print(bn1)\n",
    "print(bn2)\n",
    "print(bn3)\n",
    "print(bn4)\n",
    "print(bnr)"
   ]
  },
  {
   "cell_type": "markdown",
   "id": "6b9bf083",
   "metadata": {},
   "source": [
    "**Note**: we see in the above code that you can pass multiple types of number systems (octal, decimal, hexadecimal, etc.) to the Qbin constructor and all will be converted to binary when using the variable in equations."
   ]
  },
  {
   "cell_type": "code",
   "execution_count": 13,
   "id": "1e33ba82",
   "metadata": {},
   "outputs": [
    {
     "name": "stdout",
     "output_type": "stream",
     "text": [
      "((bn0\\2b:11\\ & bn1\\3b:U\\) | ((bn2\\4b:U\\ ^ bn3\\3b:110\\) == bn4\\2b:U\\))\n"
     ]
    }
   ],
   "source": [
    "expression = ((bn0 & bn1) | ((bn2 ^ bn3) == bn4))\n",
    "print(expression)"
   ]
  },
  {
   "cell_type": "code",
   "execution_count": 6,
   "id": "f3a89f82",
   "metadata": {},
   "outputs": [
    {
     "name": "stdout",
     "output_type": "stream",
     "text": [
      "_|0\\4:0010\\; _&0\\3:000\\; bn0\\2:11\\; bn1\\3:000\\; _^0\\4:0010\\; bn2\\4:0100\\; bn3\\3:110\\; bn4\\2:10\\\n",
      "_|0\\4:0010\\; _&0\\3:000\\; bn0\\2:11\\; bn1\\3:100\\; _^0\\4:0010\\; bn2\\4:0100\\; bn3\\3:110\\; bn4\\2:10\\\n",
      "_|0\\4:0011\\; _&0\\3:000\\; bn0\\2:11\\; bn1\\3:000\\; _^0\\4:0011\\; bn2\\4:0101\\; bn3\\3:110\\; bn4\\2:11\\\n",
      "_|0\\4:0011\\; _&0\\3:000\\; bn0\\2:11\\; bn1\\3:100\\; _^0\\4:0011\\; bn2\\4:0101\\; bn3\\3:110\\; bn4\\2:11\\\n",
      "_|0\\4:0010\\; _&0\\3:010\\; bn0\\2:11\\; bn1\\3:010\\; _^0\\4:0010\\; bn2\\4:0100\\; bn3\\3:110\\; bn4\\2:10\\\n",
      "_|0\\4:0010\\; _&0\\3:010\\; bn0\\2:11\\; bn1\\3:110\\; _^0\\4:0010\\; bn2\\4:0100\\; bn3\\3:110\\; bn4\\2:10\\\n",
      "_|0\\4:0011\\; _&0\\3:010\\; bn0\\2:11\\; bn1\\3:010\\; _^0\\4:0011\\; bn2\\4:0101\\; bn3\\3:110\\; bn4\\2:11\\\n",
      "_|0\\4:0011\\; _&0\\3:010\\; bn0\\2:11\\; bn1\\3:110\\; _^0\\4:0011\\; bn2\\4:0101\\; bn3\\3:110\\; bn4\\2:11\\\n",
      "_|0\\4:0011\\; _&0\\3:001\\; bn0\\2:11\\; bn1\\3:001\\; _^0\\4:0010\\; bn2\\4:0100\\; bn3\\3:110\\; bn4\\2:10\\\n",
      "_|0\\4:0011\\; _&0\\3:001\\; bn0\\2:11\\; bn1\\3:101\\; _^0\\4:0010\\; bn2\\4:0100\\; bn3\\3:110\\; bn4\\2:10\\\n",
      "_|0\\4:0011\\; _&0\\3:001\\; bn0\\2:11\\; bn1\\3:001\\; _^0\\4:0011\\; bn2\\4:0101\\; bn3\\3:110\\; bn4\\2:11\\\n",
      "_|0\\4:0011\\; _&0\\3:001\\; bn0\\2:11\\; bn1\\3:101\\; _^0\\4:0011\\; bn2\\4:0101\\; bn3\\3:110\\; bn4\\2:11\\\n",
      "_|0\\4:0011\\; _&0\\3:011\\; bn0\\2:11\\; bn1\\3:011\\; _^0\\4:0010\\; bn2\\4:0100\\; bn3\\3:110\\; bn4\\2:10\\\n",
      "_|0\\4:0011\\; _&0\\3:011\\; bn0\\2:11\\; bn1\\3:111\\; _^0\\4:0010\\; bn2\\4:0100\\; bn3\\3:110\\; bn4\\2:10\\\n",
      "_|0\\4:0011\\; _&0\\3:011\\; bn0\\2:11\\; bn1\\3:011\\; _^0\\4:0011\\; bn2\\4:0101\\; bn3\\3:110\\; bn4\\2:11\\\n",
      "_|0\\4:0011\\; _&0\\3:011\\; bn0\\2:11\\; bn1\\3:111\\; _^0\\4:0011\\; bn2\\4:0101\\; bn3\\3:110\\; bn4\\2:11\\\n",
      "_|0\\4:0000\\; _&0\\3:000\\; bn0\\2:11\\; bn1\\3:000\\; _^0\\4:0000\\; bn2\\4:0110\\; bn3\\3:110\\; bn4\\2:00\\\n",
      "_|0\\4:0000\\; _&0\\3:000\\; bn0\\2:11\\; bn1\\3:100\\; _^0\\4:0000\\; bn2\\4:0110\\; bn3\\3:110\\; bn4\\2:00\\\n",
      "_|0\\4:0001\\; _&0\\3:000\\; bn0\\2:11\\; bn1\\3:000\\; _^0\\4:0001\\; bn2\\4:0111\\; bn3\\3:110\\; bn4\\2:01\\\n",
      "_|0\\4:0001\\; _&0\\3:000\\; bn0\\2:11\\; bn1\\3:100\\; _^0\\4:0001\\; bn2\\4:0111\\; bn3\\3:110\\; bn4\\2:01\\\n",
      "_|0\\4:0010\\; _&0\\3:010\\; bn0\\2:11\\; bn1\\3:010\\; _^0\\4:0000\\; bn2\\4:0110\\; bn3\\3:110\\; bn4\\2:00\\\n",
      "_|0\\4:0010\\; _&0\\3:010\\; bn0\\2:11\\; bn1\\3:110\\; _^0\\4:0000\\; bn2\\4:0110\\; bn3\\3:110\\; bn4\\2:00\\\n",
      "_|0\\4:0011\\; _&0\\3:010\\; bn0\\2:11\\; bn1\\3:010\\; _^0\\4:0001\\; bn2\\4:0111\\; bn3\\3:110\\; bn4\\2:01\\\n",
      "_|0\\4:0011\\; _&0\\3:010\\; bn0\\2:11\\; bn1\\3:110\\; _^0\\4:0001\\; bn2\\4:0111\\; bn3\\3:110\\; bn4\\2:01\\\n",
      "_|0\\4:0001\\; _&0\\3:001\\; bn0\\2:11\\; bn1\\3:001\\; _^0\\4:0000\\; bn2\\4:0110\\; bn3\\3:110\\; bn4\\2:00\\\n",
      "_|0\\4:0001\\; _&0\\3:001\\; bn0\\2:11\\; bn1\\3:101\\; _^0\\4:0000\\; bn2\\4:0110\\; bn3\\3:110\\; bn4\\2:00\\\n",
      "_|0\\4:0001\\; _&0\\3:001\\; bn0\\2:11\\; bn1\\3:001\\; _^0\\4:0001\\; bn2\\4:0111\\; bn3\\3:110\\; bn4\\2:01\\\n",
      "_|0\\4:0001\\; _&0\\3:001\\; bn0\\2:11\\; bn1\\3:101\\; _^0\\4:0001\\; bn2\\4:0111\\; bn3\\3:110\\; bn4\\2:01\\\n",
      "_|0\\4:0011\\; _&0\\3:011\\; bn0\\2:11\\; bn1\\3:011\\; _^0\\4:0000\\; bn2\\4:0110\\; bn3\\3:110\\; bn4\\2:00\\\n",
      "_|0\\4:0011\\; _&0\\3:011\\; bn0\\2:11\\; bn1\\3:111\\; _^0\\4:0000\\; bn2\\4:0110\\; bn3\\3:110\\; bn4\\2:00\\\n",
      "_|0\\4:0011\\; _&0\\3:011\\; bn0\\2:11\\; bn1\\3:011\\; _^0\\4:0001\\; bn2\\4:0111\\; bn3\\3:110\\; bn4\\2:01\\\n",
      "_|0\\4:0011\\; _&0\\3:011\\; bn0\\2:11\\; bn1\\3:111\\; _^0\\4:0001\\; bn2\\4:0111\\; bn3\\3:110\\; bn4\\2:01\\\n",
      "\n"
     ]
    }
   ],
   "source": [
    "from dann5.dwave import Solver \n",
    "Solver.Active() \n",
    "print(expression.solve())"
   ]
  },
  {
   "cell_type": "code",
   "execution_count": 8,
   "id": "67205d17",
   "metadata": {},
   "outputs": [
    {
     "name": "stdout",
     "output_type": "stream",
     "text": [
      "\n",
      " bnr\\4b:0101\\ = ((bn0\\2b:11\\ & bn1\\3b:U\\) | ((bn2\\4b:U\\ ^ bn3\\3b:110\\) == bn4\\2b:U\\)) \n",
      "\n",
      " bnr0\\1\\ = _&20\\S\\ | _^20\\S\\;\n",
      " _&20\\S\\ = bn00\\1\\ & bn10\\S\\;\n",
      " _^20\\S\\ == bn40\\S\\;\n",
      " _^20\\S\\ = bn20\\S\\ ^ bn30\\0\\;\n",
      " bnr1\\0\\ = _&21\\S\\ | _^21\\S\\;\n",
      " _&21\\S\\ = bn01\\1\\ & bn11\\S\\;\n",
      " _^21\\S\\ == bn41\\S\\;\n",
      " _^21\\S\\ = bn21\\S\\ ^ bn31\\1\\;\n",
      " bnr2\\1\\ = _&22\\0\\ | _^22\\S\\;\n",
      " _&22\\0\\ = bn02\\0\\ & bn12\\S\\;\n",
      " _^22\\S\\ == bn42\\0\\;\n",
      " _^22\\S\\ = bn22\\S\\ ^ bn32\\1\\;\n",
      " bnr3\\0\\ = &3\\0\\ | _^23\\S\\;\n",
      " _^23\\S\\ == bn43\\0\\;\n",
      " _^23\\S\\ = bn23\\S\\ ^ bn33\\0\\;\n",
      " \n",
      "\n"
     ]
    }
   ],
   "source": [
    "qAssign = bnr._(((bn0 & bn1) | ((bn2 ^ bn3) == bn4)))\n",
    "print(\"\\n {} \\n\\n {}\\n\".format(qAssign.toString(), \n",
    "                               qAssign.toString(True).replace(\";\", \";\\n\")))"
   ]
  },
  {
   "cell_type": "code",
   "execution_count": 9,
   "id": "f46b0123",
   "metadata": {},
   "outputs": [
    {
     "name": "stdout",
     "output_type": "stream",
     "text": [
      "Active DWave ADVANTAGE solver solutions: \n",
      "bnr\\4:0101\\; _&2\\3:000\\; bn0\\2:11\\; bn1\\3:000\\; _^2\\4:0101\\; bn2\\4:0011\\; bn3\\3:110\\; bn4\\2:01\\\n",
      "bnr\\4:0101\\; _&2\\3:000\\; bn0\\2:11\\; bn1\\3:100\\; _^2\\4:0101\\; bn2\\4:0011\\; bn3\\3:110\\; bn4\\2:01\\\n",
      "bnr\\4:0101\\; _&2\\3:001\\; bn0\\2:11\\; bn1\\3:001\\; _^2\\4:0100\\; bn2\\4:0010\\; bn3\\3:110\\; bn4\\2:00\\\n",
      "bnr\\4:0101\\; _&2\\3:001\\; bn0\\2:11\\; bn1\\3:101\\; _^2\\4:0100\\; bn2\\4:0010\\; bn3\\3:110\\; bn4\\2:00\\\n",
      "bnr\\4:0101\\; _&2\\3:001\\; bn0\\2:11\\; bn1\\3:001\\; _^2\\4:0101\\; bn2\\4:0011\\; bn3\\3:110\\; bn4\\2:01\\\n",
      "bnr\\4:0101\\; _&2\\3:001\\; bn0\\2:11\\; bn1\\3:101\\; _^2\\4:0101\\; bn2\\4:0011\\; bn3\\3:110\\; bn4\\2:01\\\n",
      "bnr\\4:0101\\; _&2\\3:000\\; bn0\\2:11\\; bn1\\3:000\\; _^2\\4:0001\\; bn2\\4:0111\\; bn3\\3:110\\; bn4\\2:01\\\n",
      "bnr\\4:0101\\; _&2\\3:000\\; bn0\\2:11\\; bn1\\3:100\\; _^2\\4:0001\\; bn2\\4:0111\\; bn3\\3:110\\; bn4\\2:01\\\n",
      "bnr\\4:0101\\; _&2\\3:001\\; bn0\\2:11\\; bn1\\3:001\\; _^2\\4:0000\\; bn2\\4:0110\\; bn3\\3:110\\; bn4\\2:00\\\n",
      "bnr\\4:0101\\; _&2\\3:001\\; bn0\\2:11\\; bn1\\3:101\\; _^2\\4:0000\\; bn2\\4:0110\\; bn3\\3:110\\; bn4\\2:00\\\n",
      "bnr\\4:0101\\; _&2\\3:001\\; bn0\\2:11\\; bn1\\3:001\\; _^2\\4:0001\\; bn2\\4:0111\\; bn3\\3:110\\; bn4\\2:01\\\n",
      "bnr\\4:0101\\; _&2\\3:001\\; bn0\\2:11\\; bn1\\3:101\\; _^2\\4:0001\\; bn2\\4:0111\\; bn3\\3:110\\; bn4\\2:01\\\n",
      "\n",
      "\n"
     ]
    }
   ],
   "source": [
    "print(\"Active DWave ADVANTAGE solver solutions: \\n{}\\n\".format(qAssign.solve()))"
   ]
  },
  {
   "cell_type": "markdown",
   "id": "19f33cf8",
   "metadata": {},
   "source": [
    "Given a set of people and information about some pairs of people that are friends and some pairs that are enemies…..\n",
    "\n",
    "How do we write a program that finds a solution in which all the friend and enemy relationships are true?\n",
    "\n",
    "There are 2 tribes the 0 tribe and the 1 tribe, the 0 tribe are always enemies with the 1 tribe, where can all of these people belong so that all their individual relationships make sense.\n",
    "\n",
    "Now we expand on the original by adding more people.\n",
    "\n"
   ]
  },
  {
   "cell_type": "code",
   "execution_count": 11,
   "id": "d7416cc8",
   "metadata": {},
   "outputs": [
    {
     "name": "stdout",
     "output_type": "stream",
     "text": [
      "(_3\\2b:11\\ == (((~_^3\\2b:U\\ ~ (x\\2b:U\\ ^ y\\2b:U\\)) & (y\\2b:U\\ ^ z\\2b:U\\)) & (~_^5\\2b:U\\ ~ (z\\2b:U\\ ^ w\\2b:U\\))))\n",
      "(_3\\2b:11\\ == (((~_^6\\2b:U\\ ~ (n\\2b:U\\ ^ o\\2b:U\\)) & (o\\2b:U\\ ^ p\\2b:U\\)) & (~_^8\\2b:U\\ ~ (p\\2b:U\\ ^ s\\2b:U\\))))\n",
      "(_1\\1\\ == ((s1\\S\\ ^ y1\\S\\) | (s0\\S\\ ^ y0\\S\\)))\n",
      "(_1\\1\\ == ((s1\\S\\ ^ z1\\S\\) | (s0\\S\\ ^ z0\\S\\)))\n"
     ]
    }
   ],
   "source": [
    "from dann5.d5 import Qbit\n",
    "\n",
    "x = Qbin(2, \"x\"); y = Qbin(2, \"y\"); z = Qbin(2, \"z\"); w = Qbin(2, \"w\"); \n",
    "n = Qbin(2, \"n\"); o = Qbin(2, \"o\"); p = Qbin(2, \"p\"); s = Qbin(2, \"s\");\n",
    "_1 = Qbit(\"_1\", 1); _3 = Qbin(\"_3\", Bits(0b11))\n",
    "\n",
    "expr1 = _3 == ( ~(x ^ y) & (y ^ z) & ~(z ^ w) )\n",
    "print(expr1)\n",
    "expr2 = _3 == ( ~(n ^ o) & (o ^ p) & ~(p ^ s) )\n",
    "print(expr2)\n",
    "expr3 = _1 == ( ( s[1] ^ y[1] ) | ( s[0] ^ y[0] ) )\n",
    "print(expr3)\n",
    "expr4 = _1 == ( ( s[1] ^ z[1] ) | ( s[0] ^ z[0] ) )\n",
    "print(expr4)"
   ]
  },
  {
   "cell_type": "code",
   "execution_count": 12,
   "id": "1f8a2e88",
   "metadata": {},
   "outputs": [
    {
     "name": "stdout",
     "output_type": "stream",
     "text": [
      "{\n",
      "\t(_3\\2b:11\\ == (((~_^3\\2b:U\\ ~ (x\\2b:U\\ ^ y\\2b:U\\)) & (y\\2b:U\\ ^ z\\2b:U\\)) & (~_^5\\2b:U\\ ~ (z\\2b:U\\ ^ w\\2b:U\\))));\n",
      "\t(_3\\2b:11\\ == (((~_^6\\2b:U\\ ~ (n\\2b:U\\ ^ o\\2b:U\\)) & (o\\2b:U\\ ^ p\\2b:U\\)) & (~_^8\\2b:U\\ ~ (p\\2b:U\\ ^ s\\2b:U\\))));\n",
      "\t(_1\\1\\ == ((s1\\S\\ ^ y1\\S\\) | (s0\\S\\ ^ y0\\S\\)));\n",
      "\t(_1\\1\\ == ((s1\\S\\ ^ z1\\S\\) | (s0\\S\\ ^ z0\\S\\)));\n",
      "}\n"
     ]
    }
   ],
   "source": [
    "from dann5.d5 import Qblock\n",
    "eFnE = Qblock() << expr1 << expr2 << expr3 << expr4\n",
    "print(eFnE)"
   ]
  },
  {
   "cell_type": "code",
   "execution_count": null,
   "id": "03686bf4",
   "metadata": {},
   "outputs": [],
   "source": [
    "# change to version 3, add using Dwave computer \n",
    "from dwave.system import DWaveSampler, EmbeddingComposite\n",
    "sampler = DWaveSampler(solver={'topology__type': 'zephyr', 'qpu': True})\n",
    "solver = EmbeddingComposite(sampler)\n",
    "kwargs = {'num_reads': 1000 }\n",
    "\n",
    "sampleset = solver.sample_qubo(qubo, **kwargs)\n",
    "lowEnergy = sampleset.lowest().record['energy'][0]\n",
    "samples = [d5o.SampleEng(dict(sample), lowEnergy) for sample in sampleset.lowest().samples()]\n",
    "eFnE.add(samples)\n",
    "print(\"  {}\".format(eFnE.solutions()))\n",
    "varBind = d5o.Qbinder() << x << y << z << w << n << o << p << s\n",
    "varBind.add(samples)\n",
    "print(varBind)"
   ]
  },
  {
   "cell_type": "markdown",
   "id": "832eeac8",
   "metadata": {},
   "source": [
    "Insert the vertex problem here and expand on it:"
   ]
  }
 ],
 "metadata": {
  "kernelspec": {
   "display_name": "Python 3 (ipykernel)",
   "language": "python",
   "name": "python3"
  },
  "language_info": {
   "codemirror_mode": {
    "name": "ipython",
    "version": 3
   },
   "file_extension": ".py",
   "mimetype": "text/x-python",
   "name": "python",
   "nbconvert_exporter": "python",
   "pygments_lexer": "ipython3",
   "version": "3.10.11"
  }
 },
 "nbformat": 4,
 "nbformat_minor": 5
}
