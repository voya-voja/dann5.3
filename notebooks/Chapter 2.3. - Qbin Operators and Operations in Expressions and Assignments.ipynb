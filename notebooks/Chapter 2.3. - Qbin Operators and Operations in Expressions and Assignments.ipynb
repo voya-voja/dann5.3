{
 "cells": [
  {
   "cell_type": "markdown",
   "id": "8d28b98d",
   "metadata": {},
   "source": [
    "# Chapter 2.3. - Qbin Operators and Operations in Expressions and Assignments\n",
    "\n",
    "In this chapter we will be introducing *Qbin* operators and operations and talking about their differences. Also, we will use them to form more complex expressions and assignments by chaining multiple operations and operators together. In some cases, the use of complex expressions and assignments is quite strait forward. However, as in some cases complex expressions and assignments might result in unexpected solutions, we will investigate some of the possible consequences of chaining certain operators and operations.\n",
    "\n",
    "First, let import the ***Qbin* class from d5 module of dann5 quantum programming package** and then initialize three *Qbin* variables, *x*, *y* and *z*, as we have discussed in chapter 1.3."
   ]
  },
  {
   "cell_type": "code",
   "execution_count": 1,
   "id": "2fcd5107",
   "metadata": {},
   "outputs": [
    {
     "name": "stdout",
     "output_type": "stream",
     "text": [
      "x\\2q:U\\ y\\1q:U\\ z\\2q:U\\\n"
     ]
    }
   ],
   "source": [
    "from dann5.d5 import Qbin\n",
    "x = Qbin(2, \"x\"); y = Qbin(1, \"y\"); z = Qbin(2, \"z\");\n",
    "print(x, y, z)"
   ]
  },
  {
   "cell_type": "markdown",
   "id": "e4e74085",
   "metadata": {},
   "source": [
    "Also, we need to activate the default solver, which will be used to solve quantum problems in this chapter."
   ]
  },
  {
   "cell_type": "code",
   "execution_count": 2,
   "id": "f0b6cb0c",
   "metadata": {},
   "outputs": [
    {
     "name": "stdout",
     "output_type": "stream",
     "text": [
      "<dann5.d5o.D5QuboSolver object at 0x75d1f252bdb0>\n"
     ]
    }
   ],
   "source": [
    "from dann5.dwave import Solver\n",
    "print(Solver.Active())"
   ]
  },
  {
   "cell_type": "markdown",
   "id": "f354b217",
   "metadata": {},
   "source": [
    "## Qbin comparison operators\n",
    "\n",
    "*Qbin* comparison operators create a relationship between one input and one output *Qbin* variable. In a way they are allowing a programmer to define entanglement rules between two quantum binary variables. Thus, the values in a valid solution are enforced on variables to satisfy the specific operator, e.g.\n",
    "> x == y, creates an equal relationship between *Qbin* variables, which enforces that x and y are always equal in a valid solution."
   ]
  },
  {
   "cell_type": "code",
   "execution_count": 3,
   "id": "b4f6e939",
   "metadata": {},
   "outputs": [
    {
     "name": "stdout",
     "output_type": "stream",
     "text": [
      "(x\\2q:U\\ == y\\1q:U\\)\n",
      "x0\\S\\ == y0\\S\\;\n",
      " x1\\S\\ == y1\\0\\;\n",
      " \n"
     ]
    }
   ],
   "source": [
    "eqXpr = x == y\n",
    "print(eqXpr)\n",
    "print(eqXpr.toString(True).replace(\";\", \";\\n\"))"
   ]
  },
  {
   "cell_type": "markdown",
   "id": "8766740f",
   "metadata": {},
   "source": [
    "From d5vc above we see that *Qbin* variable *y* has been extended to match the size of *Qbin* variable *x*, but to preserve its solution capacity the added *Qbit* has value *0*. Also, we see that for *x* and *y* to be equal all their q-bits need to be equal, i.e. in d4vc we are using *Qbit* equal operator (*==*) between respectful q-bits.\n",
    "   \n",
    "- **Note**: q-bit's within *Qbin* variable are identified by its position within the binary sequence and the name of the quantum-binary variable, i.e. the first q-bit within *Qbin* variable defined as \"x\" in quantum space is identified as x1.\n",
    "\n",
    "The solution set bellow, reflexts both, the defined quantum capacities of variables *x* and *y*, and defined quantum comparison rule that their values have to be equal in a valid solution."
   ]
  },
  {
   "cell_type": "code",
   "execution_count": 4,
   "id": "dbd55d93",
   "metadata": {},
   "outputs": [
    {
     "name": "stdout",
     "output_type": "stream",
     "text": [
      "x\\2b:00\\; y\\1b:0\\\n",
      "x\\2b:01\\; y\\1b:1\\\n",
      "\n"
     ]
    }
   ],
   "source": [
    "print(eqXpr.solve())"
   ]
  },
  {
   "cell_type": "markdown",
   "id": "e054bf28",
   "metadata": {},
   "source": [
    "Similarly,\n",
    "> *x != y*, creates a not equal relationship between *Qbin* variables, which enforces that *x* and *y* are always to have different values in a valid solution."
   ]
  },
  {
   "cell_type": "code",
   "execution_count": 5,
   "id": "8d5346b4",
   "metadata": {},
   "outputs": [
    {
     "name": "stdout",
     "output_type": "stream",
     "text": [
      "(x\\3q:U\\ != z\\3q:U\\)\n",
      "{ x0\\S\\ = _!=00\\S\\ .+ z0\\S\\;\n",
      " _1\\1\\ = _!=01\\S\\ | _!=00\\S\\;\n",
      " };\n",
      " { x1\\S\\ = _!=01\\S\\ + z1\\S\\ + #[x0]\\S\\;\n",
      " };\n",
      " { x2\\S\\ = #[x1]\\S\\;\n",
      " };\n",
      " \n"
     ]
    }
   ],
   "source": [
    "neXpr = x != z\n",
    "print(neXpr)\n",
    "print(neXpr.toString(True).replace(\";\", \";\\n\"))"
   ]
  },
  {
   "cell_type": "markdown",
   "id": "093e878c",
   "metadata": {},
   "source": [
    "However, from d5vc we see that the implementation of the *Qbin* comparison not-equal (*!=*) operator requires a different approach than just simply using, in this case, *Qbit* not-equal operators. For two *Qbin* variables, *x* and *y* to be different it means that we need to define a rule where\n",
    "> at least one q-bit of those 2 variables is different.\n",
    "\n",
    "To achieve this we are comparing these *Qbin* variables using *Qwhole* not-equal (*!=*) operator described in the next chapter. As a result, we have the solution set as one in the cell below, where *Qbin* variables *x* and *z* have different binary sequences, which differ in at least one of their q-bits."
   ]
  },
  {
   "cell_type": "code",
   "execution_count": 6,
   "id": "de80e7a6",
   "metadata": {},
   "outputs": [
    {
     "name": "stdout",
     "output_type": "stream",
     "text": [
      "x\\2b:00\\ z\\2b:10\\ \n",
      "x\\2b:10\\ z\\2b:00\\ \n",
      "x\\2b:01\\ z\\2b:11\\ \n",
      "x\\2b:11\\ z\\2b:01\\ \n",
      "x\\2b:01\\ z\\2b:00\\ \n",
      "x\\2b:11\\ z\\2b:10\\ \n",
      "x\\2b:01\\ z\\2b:10\\ \n",
      "x\\2b:11\\ z\\2b:00\\ \n",
      "x\\2b:00\\ z\\2b:11\\ \n",
      "x\\2b:10\\ z\\2b:01\\ \n",
      "x\\2b:00\\ z\\2b:01\\ \n",
      "x\\2b:10\\ z\\2b:11\\ \n",
      "\n"
     ]
    }
   ],
   "source": [
    "print(neXpr.solve())"
   ]
  },
  {
   "cell_type": "markdown",
   "id": "008388b8",
   "metadata": {},
   "source": [
    "- **Note**: Loke *Qbool*, there are only **equal (==)** and **not-equal (!=)** quantum comparison operators for *Qbin* variables."
   ]
  },
  {
   "cell_type": "markdown",
   "id": "bf2549f8",
   "metadata": {},
   "source": [
    "## Qbin bitwise operator\n",
    "\n",
    "Additionally, **inversion ~** (tilde) is a unary *Qbin* bitwise operator, where an automatically generated *Qbin* inverted variable is introduced. \n",
    "> In the following example an inversion of a *Qbin* variable with id *x* is a dann5 system generated *Qbin* variable *~x*.\n",
    "\n",
    "From the first printout we see the inversion expression in quantum space. From the second printout we see valid solutions where each q-bit of *Qbin* variable *~x* has inverted value from the corresponding q-bit of original *Qbin* variable *x*."
   ]
  },
  {
   "cell_type": "code",
   "execution_count": 7,
   "id": "f661241c",
   "metadata": {},
   "outputs": [
    {
     "name": "stdout",
     "output_type": "stream",
     "text": [
      "(~x\\2q:U\\ ~ x\\2q:U\\)\n",
      "~x\\2b:11\\; x\\2b:00\\\n",
      "~x\\2b:01\\; x\\2b:10\\\n",
      "~x\\2b:10\\; x\\2b:01\\\n",
      "~x\\2b:00\\; x\\2b:11\\\n",
      "\n"
     ]
    }
   ],
   "source": [
    "xI = ~x\n",
    "print(xI)\n",
    "print(xI.solve())"
   ]
  },
  {
   "cell_type": "markdown",
   "id": "71c67b33",
   "metadata": {},
   "source": [
    "## Qbin bitwise operations\n",
    "\n",
    "*Qbin* bitwise operations always have two *Qbin* input arguments and at least a resulting *Qbin* output. Qbin **and(&)** and **or(|)** bitwise operations are those with one resulting *Qbin* variable. As we see in the example below, the resulting output variables are automatically generated with the names *_&(plus-number)* or *_|(plus-number)*."
   ]
  },
  {
   "cell_type": "code",
   "execution_count": 8,
   "id": "bb464503",
   "metadata": {},
   "outputs": [
    {
     "name": "stdout",
     "output_type": "stream",
     "text": [
      "(x\\2q:U\\ & y\\1q:U\\)\n",
      "_&00\\S\\ = x0\\S\\ & y0\\S\\; _&01\\0\\ = x1\\S\\ & y1\\0\\; \n",
      "_&0\\2b:00\\; x\\2b:00\\; y\\1b:0\\\n",
      "_&0\\2b:00\\; x\\2b:00\\; y\\1b:1\\\n",
      "_&0\\2b:00\\; x\\2b:10\\; y\\1b:0\\\n",
      "_&0\\2b:00\\; x\\2b:10\\; y\\1b:1\\\n",
      "_&0\\2b:00\\; x\\2b:01\\; y\\1b:0\\\n",
      "_&0\\2b:00\\; x\\2b:11\\; y\\1b:0\\\n",
      "_&0\\2b:01\\; x\\2b:01\\; y\\1b:1\\\n",
      "_&0\\2b:01\\; x\\2b:11\\; y\\1b:1\\\n",
      "\n"
     ]
    }
   ],
   "source": [
    "andXpr = (x & y)\n",
    "print(andXpr)\n",
    "print(andXpr.toString(True))\n",
    "print(andXpr.solve())"
   ]
  },
  {
   "cell_type": "markdown",
   "id": "da12a4c6",
   "metadata": {},
   "source": [
    "The appropriate *Qbit* bitwise operations are applied on corresponding q-bits of two *Qbin* variables, as we see from the resulting solution sets, both for AND (*&*, above) and OR (*|*, below) operations."
   ]
  },
  {
   "cell_type": "code",
   "execution_count": 9,
   "id": "594ff840",
   "metadata": {},
   "outputs": [
    {
     "name": "stdout",
     "output_type": "stream",
     "text": [
      "(x\\2q:U\\ | y\\1q:U\\)\n",
      "_|10\\S\\ = x0\\S\\ | y0\\S\\; _|11\\S\\ = x1\\S\\ | y1\\0\\; \n",
      "_|1\\2b:00\\; x\\2b:00\\; y\\1b:0\\\n",
      "_|1\\2b:10\\; x\\2b:10\\; y\\1b:0\\\n",
      "_|1\\2b:01\\; x\\2b:00\\; y\\1b:1\\\n",
      "_|1\\2b:01\\; x\\2b:01\\; y\\1b:0\\\n",
      "_|1\\2b:01\\; x\\2b:01\\; y\\1b:1\\\n",
      "_|1\\2b:11\\; x\\2b:10\\; y\\1b:1\\\n",
      "_|1\\2b:11\\; x\\2b:11\\; y\\1b:0\\\n",
      "_|1\\2b:11\\; x\\2b:11\\; y\\1b:1\\\n",
      "\n"
     ]
    }
   ],
   "source": [
    "orXpr = (x | y)\n",
    "print(orXpr)\n",
    "print(orXpr.toString(True))\n",
    "print(orXpr.solve())"
   ]
  },
  {
   "cell_type": "markdown",
   "id": "83944d15",
   "metadata": {},
   "source": [
    "*Qbin* **nand** and **nor** are quantum bitwise operations with two input arguments, which can be either *Qbin* variables or expressions (QbinExpr) and with dann5 system generated resulting and auxiliary *Qbin* variable outputs. These operations are implemented as *Qbin* Python methods and in quantum space represented with *!&* and *!|* symbols, respectfully. Thus, the resulting *Qbin* outputs, in the example below, are dann5 system generated names *_!&(plus-number)* or *_!|(plus-number)* and they can be seen in the solution. \n",
    "\n",
    "- **Note**: The auxiliary *Qbin* output variables with dann5 system generated names *?!&(plus-number)* or *?!|(plus-number)* will show up only in the corresponding QUBOs, as they are required nodes for the QUBO transformation, and they will be discussed in the QUBO chapter(s) of the section 4, which will cover Quantum Program Computing using QUBO."
   ]
  },
  {
   "cell_type": "code",
   "execution_count": 10,
   "id": "02410b54",
   "metadata": {},
   "outputs": [
    {
     "name": "stdout",
     "output_type": "stream",
     "text": [
      "(x\\2q:U\\ !& y\\1q:U\\)\n",
      "_!&00\\S\\ = x0\\S\\ !& y0\\S\\; _!&01\\S\\ = x1\\S\\ !& y1\\0\\; \n",
      "_!&0\\2b:11\\; x\\2b:00\\; y\\1b:0\\\n",
      "_!&0\\2b:11\\; x\\2b:00\\; y\\1b:1\\\n",
      "_!&0\\2b:11\\; x\\2b:10\\; y\\1b:0\\\n",
      "_!&0\\2b:11\\; x\\2b:10\\; y\\1b:1\\\n",
      "_!&0\\2b:11\\; x\\2b:01\\; y\\1b:0\\\n",
      "_!&0\\2b:11\\; x\\2b:11\\; y\\1b:0\\\n",
      "_!&0\\2b:10\\; x\\2b:01\\; y\\1b:1\\\n",
      "_!&0\\2b:10\\; x\\2b:11\\; y\\1b:1\\\n",
      "\n"
     ]
    }
   ],
   "source": [
    "nandXpr = x.nand(y)\n",
    "print(nandXpr)\n",
    "print(nandXpr.toString(True))\n",
    "print(nandXpr.solve())"
   ]
  },
  {
   "cell_type": "markdown",
   "id": "c8e3ad60",
   "metadata": {},
   "source": [
    "Again, for these  bitwise operations we see that they are applied on corresponding q-bits of two *Qbin* variables, for both quantum bitwise operations, NAND (*!&*) above, and NOR (*!|*) below."
   ]
  },
  {
   "cell_type": "code",
   "execution_count": 11,
   "id": "41c05041",
   "metadata": {},
   "outputs": [
    {
     "name": "stdout",
     "output_type": "stream",
     "text": [
      "(x\\2q:U\\ !| y\\1q:U\\)\n",
      "_!|00\\S\\ = x0\\S\\ !| y0\\S\\; _!|01\\S\\ = x1\\S\\ !| y1\\0\\; \n",
      "_!|0\\2b:00\\; x\\2b:10\\; y\\1b:1\\\n",
      "_!|0\\2b:00\\; x\\2b:11\\; y\\1b:0\\\n",
      "_!|0\\2b:10\\; x\\2b:00\\; y\\1b:1\\\n",
      "_!|0\\2b:10\\; x\\2b:01\\; y\\1b:0\\\n",
      "_!|0\\2b:01\\; x\\2b:10\\; y\\1b:0\\\n",
      "_!|0\\2b:11\\; x\\2b:00\\; y\\1b:0\\\n",
      "_!|0\\2b:00\\; x\\2b:11\\; y\\1b:1\\\n",
      "_!|0\\2b:10\\; x\\2b:01\\; y\\1b:1\\\n",
      "\n"
     ]
    }
   ],
   "source": [
    "norXpr = x.nor(y)\n",
    "print(norXpr)\n",
    "print(norXpr.toString(True))\n",
    "print(norXpr.solve())"
   ]
  },
  {
   "cell_type": "markdown",
   "id": "13182374",
   "metadata": {},
   "source": [
    "The *Qbin* **xor(^)** is a quantum bitwise operation with two input arguments, which can be *Qbin* variables or expressions, and with dann5 system generated resulting and auxiliary *Qbin* output variables. The resulting *Qbin* output, in below example, is *_^#*, where *#* is an autogenerated number.\n",
    "\n",
    "- **Note**: The auxiliary *Qbin* output variable, e.g. *#[_^0]* will show up only in QUBO, as it is required node of the QUBO transformation. The QUBO transformations of quantum variables will be discussed in chapter 4.1 when we discuss QUBO transformations of d5vc."
   ]
  },
  {
   "cell_type": "code",
   "execution_count": 12,
   "id": "4bbf5932",
   "metadata": {},
   "outputs": [
    {
     "name": "stdout",
     "output_type": "stream",
     "text": [
      "(x\\2q:U\\ ^ y\\1q:U\\)\n",
      "_^00\\S\\ = x0\\S\\ ^ y0\\S\\; _^01\\S\\ = x1\\S\\ ^ y1\\0\\; \n",
      "_^0\\2b:00\\; x\\2b:00\\; y\\1b:0\\\n",
      "_^0\\2b:10\\; x\\2b:10\\; y\\1b:0\\\n",
      "_^0\\2b:01\\; x\\2b:00\\; y\\1b:1\\\n",
      "_^0\\2b:01\\; x\\2b:01\\; y\\1b:0\\\n",
      "_^0\\2b:11\\; x\\2b:10\\; y\\1b:1\\\n",
      "_^0\\2b:11\\; x\\2b:11\\; y\\1b:0\\\n",
      "_^0\\2b:00\\; x\\2b:01\\; y\\1b:1\\\n",
      "_^0\\2b:10\\; x\\2b:11\\; y\\1b:1\\\n",
      "\n"
     ]
    }
   ],
   "source": [
    "xorXpr = (x ^ y)\n",
    "print(xorXpr)\n",
    "print(xorXpr.toString(True))\n",
    "print(xorXpr.solve())"
   ]
  },
  {
   "cell_type": "markdown",
   "id": "a0ff7500",
   "metadata": {},
   "source": [
    "Similar to *nand* and *nor* quantum bitwise operations **nxor** is implemented as a *Qbin* method and in the quantum space is  represented with *!^* symbol. The resulting *Qbin* output, in below example, is *_!^(#)*, where *#* is an autogenerated number. \n",
    "\n",
    "Same as the *xor* quantum operation, the quantum *nxor* operation has a second autogenerated output *Qbin* variable with a dann5 system generated name #[_!^(plus-number)], where (plus-number) is an autogenerated number, like #[_!^0]. As stated earlier, we will be covering these auxiliary *Qbin* variables in chapter 4.1. when we talk about QUBO transformations."
   ]
  },
  {
   "cell_type": "code",
   "execution_count": 13,
   "id": "8ca9e019",
   "metadata": {},
   "outputs": [
    {
     "name": "stdout",
     "output_type": "stream",
     "text": [
      "(x\\2q:U\\ !^ y\\1q:U\\)\n",
      "_!^00\\S\\ = x0\\S\\ !^ y0\\S\\; _!^01\\S\\ = x1\\S\\ !^ y1\\0\\; \n",
      "_!^0\\2b:00\\; x\\2b:10\\; y\\1b:1\\\n",
      "_!^0\\2b:00\\; x\\2b:11\\; y\\1b:0\\\n",
      "_!^0\\2b:10\\; x\\2b:00\\; y\\1b:1\\\n",
      "_!^0\\2b:10\\; x\\2b:01\\; y\\1b:0\\\n",
      "_!^0\\2b:01\\; x\\2b:10\\; y\\1b:0\\\n",
      "_!^0\\2b:11\\; x\\2b:00\\; y\\1b:0\\\n",
      "_!^0\\2b:01\\; x\\2b:11\\; y\\1b:1\\\n",
      "_!^0\\2b:11\\; x\\2b:01\\; y\\1b:1\\\n",
      "\n"
     ]
    }
   ],
   "source": [
    "nxorXpr = x.nxor(y)\n",
    "print(nxorXpr)\n",
    "print(nxorXpr.toString(True))\n",
    "print(nxorXpr.solve())"
   ]
  },
  {
   "cell_type": "markdown",
   "id": "3929fa68",
   "metadata": {},
   "source": [
    "- **NOTE**: *Qbin* **xor** and **unlike** operations are interchangeable, while **nxor** and **alike** operations are interchangeable.\n",
    "\n",
    "Both **unlike** and **like** operations are implemented as *Qbin* methods, as shown in the example below."
   ]
  },
  {
   "cell_type": "code",
   "execution_count": 14,
   "id": "e796c62f",
   "metadata": {},
   "outputs": [
    {
     "name": "stdout",
     "output_type": "stream",
     "text": [
      "(x\\2q:U\\ ^ z\\2q:U\\)\n",
      "_^10\\S\\ = x0\\S\\ ^ z0\\S\\; _^11\\S\\ = x1\\S\\ ^ z1\\S\\; \n",
      "_^1\\2b:00\\; x\\2b:00\\; z\\2b:00\\\n",
      "_^1\\2b:10\\; x\\2b:00\\; z\\2b:10\\\n",
      "_^1\\2b:10\\; x\\2b:10\\; z\\2b:00\\\n",
      "_^1\\2b:01\\; x\\2b:00\\; z\\2b:01\\\n",
      "_^1\\2b:01\\; x\\2b:01\\; z\\2b:00\\\n",
      "_^1\\2b:11\\; x\\2b:00\\; z\\2b:11\\\n",
      "_^1\\2b:11\\; x\\2b:10\\; z\\2b:01\\\n",
      "_^1\\2b:11\\; x\\2b:01\\; z\\2b:10\\\n",
      "_^1\\2b:11\\; x\\2b:11\\; z\\2b:00\\\n",
      "_^1\\2b:00\\; x\\2b:10\\; z\\2b:10\\\n",
      "_^1\\2b:01\\; x\\2b:10\\; z\\2b:11\\\n",
      "_^1\\2b:01\\; x\\2b:11\\; z\\2b:10\\\n",
      "_^1\\2b:00\\; x\\2b:01\\; z\\2b:01\\\n",
      "_^1\\2b:10\\; x\\2b:01\\; z\\2b:11\\\n",
      "_^1\\2b:10\\; x\\2b:11\\; z\\2b:01\\\n",
      "_^1\\2b:00\\; x\\2b:11\\; z\\2b:11\\\n",
      "\n"
     ]
    }
   ],
   "source": [
    "unlikeXpr = x.unlike(z)\n",
    "print(unlikeXpr)\n",
    "print(unlikeXpr.toString(True))\n",
    "print(unlikeXpr.solve())"
   ]
  },
  {
   "cell_type": "markdown",
   "id": "5dda58b4",
   "metadata": {},
   "source": [
    "From the solution sets of both quantum *unlike* (above) and *alike* (below) operation expressions we see that for some solutions the relationship is enforced on all corresponding q-bits of two *Qbin* variables by the resulting variable _^1 having all q-bits with value 1. For the *unlike* operation (above) these are:\n",
    "> _^1\\2b:11\\; x\\2b:00\\; z\\2b:11\\\n",
    ">\n",
    "> _^1\\2b:11\\; x\\2b:10\\; z\\2b:01\\\n",
    ">\n",
    "> _^1\\2b:11\\; x\\2b:01\\; z\\2b:10\\\n",
    ">\n",
    "> _^1\\2b:11\\; x\\2b:11\\; z\\2b:00\\\n",
    "\n",
    "Or, for the *alike* operation (below) those are:\n",
    "> _!^1\\2b:11\\; x\\2b:00\\; z\\2b:00\\\n",
    ">\n",
    "> _!^1\\2b:11\\; x\\2b:10\\; z\\2b:10\\\n",
    ">\n",
    "> _!^1\\2b:11\\; x\\2b:01\\; z\\2b:01\\\n",
    ">\n",
    "> _!^1\\2b:11\\; x\\2b:11\\; z\\2b:11\\\n",
    "\n",
    "Also, we see that opposite solutions for *Qbin* variables *x* and *z* are correct when the rule is enforced with the resulting variable _^1 having all q-bits with value 0. For example, for *unlike* operation these solutions are:\n",
    "> _^1\\2b:00\\; x\\2b:00\\; z\\2b:00\\\n",
    ">\n",
    "> _^1\\2b:00\\; x\\2b:10\\; z\\2b:10\\\n",
    ">\n",
    "> _^1\\2b:00\\; x\\2b:01\\; z\\2b:01\\\n",
    ">\n",
    "> _^1\\2b:00\\; x\\2b:11\\; z\\2b:11\\\n",
    "\n",
    "So, *x* and *z* have the same values as in case of *alike* operation when *_!^1* had all q-bits equal *1*. \n",
    "\n",
    "- **Note**: We will see here, and in the following chapters of this and section 3, how to use just quantum expression or just quantum assignments, or how to combine them into quantum (programming) blocks and routines, to identify a right set of solutions for a particular problem."
   ]
  },
  {
   "cell_type": "code",
   "execution_count": 15,
   "id": "33fa863e",
   "metadata": {},
   "outputs": [
    {
     "name": "stdout",
     "output_type": "stream",
     "text": [
      "(x\\2q:U\\ !^ z\\2q:U\\)\n",
      "_!^10\\S\\ = x0\\S\\ !^ z0\\S\\; _!^11\\S\\ = x1\\S\\ !^ z1\\S\\; \n",
      "_!^1\\2b:00\\; x\\2b:00\\; z\\2b:11\\\n",
      "_!^1\\2b:00\\; x\\2b:10\\; z\\2b:01\\\n",
      "_!^1\\2b:00\\; x\\2b:01\\; z\\2b:10\\\n",
      "_!^1\\2b:00\\; x\\2b:11\\; z\\2b:00\\\n",
      "_!^1\\2b:10\\; x\\2b:00\\; z\\2b:01\\\n",
      "_!^1\\2b:10\\; x\\2b:01\\; z\\2b:00\\\n",
      "_!^1\\2b:01\\; x\\2b:00\\; z\\2b:10\\\n",
      "_!^1\\2b:01\\; x\\2b:10\\; z\\2b:00\\\n",
      "_!^1\\2b:11\\; x\\2b:00\\; z\\2b:00\\\n",
      "_!^1\\2b:10\\; x\\2b:10\\; z\\2b:11\\\n",
      "_!^1\\2b:10\\; x\\2b:11\\; z\\2b:10\\\n",
      "_!^1\\2b:11\\; x\\2b:10\\; z\\2b:10\\\n",
      "_!^1\\2b:01\\; x\\2b:01\\; z\\2b:11\\\n",
      "_!^1\\2b:01\\; x\\2b:11\\; z\\2b:01\\\n",
      "_!^1\\2b:11\\; x\\2b:01\\; z\\2b:01\\\n",
      "_!^1\\2b:11\\; x\\2b:11\\; z\\2b:11\\\n",
      "\n"
     ]
    }
   ],
   "source": [
    "alikeXpr = x.alike(z)\n",
    "print(alikeXpr)\n",
    "print(alikeXpr.toString(True))\n",
    "print(alikeXpr.solve())"
   ]
  },
  {
   "cell_type": "markdown",
   "id": "259c7cae",
   "metadata": {},
   "source": [
    "## Solving a Qbin expressions\n",
    "\n",
    "To start we will initialize six quantum binary (*Qbin*) variables (*bn0-bn4* and *bnr*) to be used in following complex expressions and assignments.\n",
    "\n",
    "- **Note**: We see in the code below that multiple types of number systems (octal, decimal, hexadecimal, etc.) can be passed to the *Qbin* constructor using *Bits* from *d5* module of *dann5* package, and all will be initialized as discretionary *Qbin* variables."
   ]
  },
  {
   "cell_type": "code",
   "execution_count": 16,
   "id": "367d0768",
   "metadata": {},
   "outputs": [
    {
     "name": "stdout",
     "output_type": "stream",
     "text": [
      "bn0\\2q:11\\\n",
      "bn1\\3q:U\\\n",
      "bn2\\4q:U\\\n",
      "bn3\\3q:110\\\n",
      "bn4\\2q:U\\\n",
      "bnr\\3q:101\\\n"
     ]
    }
   ],
   "source": [
    "from dann5.d5 import Bits\n",
    "\n",
    "bn0 = Qbin(\"bn0\", Bits(0o03)) # you can pass octal numbers\n",
    "bn1 = Qbin(3, \"bn1\")\n",
    "bn2 = Qbin(4, \"bn2\")\n",
    "bn3 = Qbin(\"bn3\", Bits(0b110)) # 6 in binary format\n",
    "bn4 = Qbin(2, \"bn4\")\n",
    "bnr = Qbin(\"bnr\", Bits(0x5)) # you can pass hexadecimal numbers\n",
    "\n",
    "print(bn0)\n",
    "print(bn1)\n",
    "print(bn2)\n",
    "print(bn3)\n",
    "print(bn4)\n",
    "print(bnr)"
   ]
  },
  {
   "cell_type": "markdown",
   "id": "bc558093",
   "metadata": {},
   "source": [
    "As with any other quantum type, we can now form a complex quantum expression by using quantum bitwise operations, like *AND (&)*, *OR (|)* and *XOR(^)*, and by using a quantum comparison operator, like *EQUAL (==)*. "
   ]
  },
  {
   "cell_type": "code",
   "execution_count": 17,
   "id": "f925e131",
   "metadata": {},
   "outputs": [
    {
     "name": "stdout",
     "output_type": "stream",
     "text": [
      "\n",
      " ((bn0\\2q:11\\ & bn1\\3q:U\\) | ((bn2\\4q:U\\ ^ bn3\\3q:110\\) == bn4\\2q:U\\)) \n",
      "\n",
      " _|20\\S\\ = _&10\\S\\ | _^20\\S\\;\n",
      " _&10\\S\\ = bn00\\1\\ & bn10\\S\\;\n",
      " _^20\\S\\ == bn40\\S\\;\n",
      " _^20\\S\\ = bn20\\S\\ ^ bn30\\0\\;\n",
      " _|21\\S\\ = _&11\\S\\ | _^21\\S\\;\n",
      " _&11\\S\\ = bn01\\1\\ & bn11\\S\\;\n",
      " _^21\\S\\ == bn41\\S\\;\n",
      " _^21\\S\\ = bn21\\S\\ ^ bn31\\1\\;\n",
      " _|22\\S\\ = _&12\\0\\ | _^22\\S\\;\n",
      " _&12\\0\\ = bn02\\0\\ & bn12\\S\\;\n",
      " _^22\\S\\ == bn42\\0\\;\n",
      " _^22\\S\\ = bn22\\S\\ ^ bn32\\1\\;\n",
      " _|23\\S\\ = &3\\0\\ | _^23\\S\\;\n",
      " _^23\\S\\ == bn43\\0\\;\n",
      " _^23\\S\\ = bn23\\S\\ ^ bn33\\0\\;\n",
      " \n",
      "\n"
     ]
    }
   ],
   "source": [
    "expression = ((bn0 & bn1) | ((bn2 ^ bn3) == bn4))\n",
    "print(\"\\n {} \\n\\n {}\\n\".format(expression.toString(), \n",
    "                               expression.toString(True).replace(\";\", \";\\n\")))"
   ]
  },
  {
   "cell_type": "markdown",
   "id": "b5172dd8",
   "metadata": {},
   "source": [
    "From the *expression*'s d5vc above, we see that some variables will be auto-resized by *dann5* to ensure a uniformity of operation and truthfulness of calculated solutions.\n",
    "\n",
    "1. The variable *bn0/2q:11/* has been defined with 2 q-bits and deterministic value *0b11 (3)*. However, due to *bn0 & bn1* sub-expression and the fact that bn1/3q:U/ has 3 q-bits, *bn0* variable within the quantum expression is modified by introduction of its 3rd q-bit *bn02\\0\\* in *_&02\\0\\ = bn02\\0\\ & bn12\\S\\* line of expression's d5vc.\n",
    "2. Due to *bn2\\4q:U\\* having four q-bits, *bn3\\3q:110\\* and *bn4\\2q:U\\* variables within the quantum expression had to be modified and extended to four q-bit variables\n",
    "    - *bn33\\0\\* q-bit has been added due to *_^03\\S\\ = bn23\\S\\ ^ bn33\\0\\* line, and\n",
    "    - *bn42\\0\\* and *bn43\\0\\* q-bits have been added to *_^02\\S\\ == bn42\\0\\* and *_^03\\S\\ == bn43\\0\\* lines\n",
    "\n",
    "To find the solutions to the problem described by quantum expression called *expression*, we will execute *expression.solve()* method."
   ]
  },
  {
   "cell_type": "code",
   "execution_count": 18,
   "id": "eaf42901",
   "metadata": {},
   "outputs": [
    {
     "name": "stdout",
     "output_type": "stream",
     "text": [
      "dann5 simulator solutions: \n",
      "_|2\\4b:0010\\; _&1\\3b:000\\; bn0\\2b:11\\; bn1\\3b:000\\; _^2\\4b:0010\\; bn2\\4b:0100\\; bn3\\3b:110\\; bn4\\2b:10\\\n",
      "_|2\\4b:0010\\; _&1\\3b:000\\; bn0\\2b:11\\; bn1\\3b:100\\; _^2\\4b:0010\\; bn2\\4b:0100\\; bn3\\3b:110\\; bn4\\2b:10\\\n",
      "_|2\\4b:0011\\; _&1\\3b:000\\; bn0\\2b:11\\; bn1\\3b:000\\; _^2\\4b:0011\\; bn2\\4b:0101\\; bn3\\3b:110\\; bn4\\2b:11\\\n",
      "_|2\\4b:0011\\; _&1\\3b:000\\; bn0\\2b:11\\; bn1\\3b:100\\; _^2\\4b:0011\\; bn2\\4b:0101\\; bn3\\3b:110\\; bn4\\2b:11\\\n",
      "_|2\\4b:0010\\; _&1\\3b:010\\; bn0\\2b:11\\; bn1\\3b:010\\; _^2\\4b:0010\\; bn2\\4b:0100\\; bn3\\3b:110\\; bn4\\2b:10\\\n",
      "_|2\\4b:0010\\; _&1\\3b:010\\; bn0\\2b:11\\; bn1\\3b:110\\; _^2\\4b:0010\\; bn2\\4b:0100\\; bn3\\3b:110\\; bn4\\2b:10\\\n",
      "_|2\\4b:0011\\; _&1\\3b:010\\; bn0\\2b:11\\; bn1\\3b:010\\; _^2\\4b:0011\\; bn2\\4b:0101\\; bn3\\3b:110\\; bn4\\2b:11\\\n",
      "_|2\\4b:0011\\; _&1\\3b:010\\; bn0\\2b:11\\; bn1\\3b:110\\; _^2\\4b:0011\\; bn2\\4b:0101\\; bn3\\3b:110\\; bn4\\2b:11\\\n",
      "_|2\\4b:0011\\; _&1\\3b:001\\; bn0\\2b:11\\; bn1\\3b:001\\; _^2\\4b:0010\\; bn2\\4b:0100\\; bn3\\3b:110\\; bn4\\2b:10\\\n",
      "_|2\\4b:0011\\; _&1\\3b:001\\; bn0\\2b:11\\; bn1\\3b:101\\; _^2\\4b:0010\\; bn2\\4b:0100\\; bn3\\3b:110\\; bn4\\2b:10\\\n",
      "_|2\\4b:0011\\; _&1\\3b:001\\; bn0\\2b:11\\; bn1\\3b:001\\; _^2\\4b:0011\\; bn2\\4b:0101\\; bn3\\3b:110\\; bn4\\2b:11\\\n",
      "_|2\\4b:0011\\; _&1\\3b:001\\; bn0\\2b:11\\; bn1\\3b:101\\; _^2\\4b:0011\\; bn2\\4b:0101\\; bn3\\3b:110\\; bn4\\2b:11\\\n",
      "_|2\\4b:0011\\; _&1\\3b:011\\; bn0\\2b:11\\; bn1\\3b:011\\; _^2\\4b:0010\\; bn2\\4b:0100\\; bn3\\3b:110\\; bn4\\2b:10\\\n",
      "_|2\\4b:0011\\; _&1\\3b:011\\; bn0\\2b:11\\; bn1\\3b:111\\; _^2\\4b:0010\\; bn2\\4b:0100\\; bn3\\3b:110\\; bn4\\2b:10\\\n",
      "_|2\\4b:0011\\; _&1\\3b:011\\; bn0\\2b:11\\; bn1\\3b:011\\; _^2\\4b:0011\\; bn2\\4b:0101\\; bn3\\3b:110\\; bn4\\2b:11\\\n",
      "_|2\\4b:0011\\; _&1\\3b:011\\; bn0\\2b:11\\; bn1\\3b:111\\; _^2\\4b:0011\\; bn2\\4b:0101\\; bn3\\3b:110\\; bn4\\2b:11\\\n",
      "_|2\\4b:0000\\; _&1\\3b:000\\; bn0\\2b:11\\; bn1\\3b:000\\; _^2\\4b:0000\\; bn2\\4b:0110\\; bn3\\3b:110\\; bn4\\2b:00\\\n",
      "_|2\\4b:0000\\; _&1\\3b:000\\; bn0\\2b:11\\; bn1\\3b:100\\; _^2\\4b:0000\\; bn2\\4b:0110\\; bn3\\3b:110\\; bn4\\2b:00\\\n",
      "_|2\\4b:0001\\; _&1\\3b:000\\; bn0\\2b:11\\; bn1\\3b:000\\; _^2\\4b:0001\\; bn2\\4b:0111\\; bn3\\3b:110\\; bn4\\2b:01\\\n",
      "_|2\\4b:0001\\; _&1\\3b:000\\; bn0\\2b:11\\; bn1\\3b:100\\; _^2\\4b:0001\\; bn2\\4b:0111\\; bn3\\3b:110\\; bn4\\2b:01\\\n",
      "_|2\\4b:0010\\; _&1\\3b:010\\; bn0\\2b:11\\; bn1\\3b:010\\; _^2\\4b:0000\\; bn2\\4b:0110\\; bn3\\3b:110\\; bn4\\2b:00\\\n",
      "_|2\\4b:0010\\; _&1\\3b:010\\; bn0\\2b:11\\; bn1\\3b:110\\; _^2\\4b:0000\\; bn2\\4b:0110\\; bn3\\3b:110\\; bn4\\2b:00\\\n",
      "_|2\\4b:0011\\; _&1\\3b:010\\; bn0\\2b:11\\; bn1\\3b:010\\; _^2\\4b:0001\\; bn2\\4b:0111\\; bn3\\3b:110\\; bn4\\2b:01\\\n",
      "_|2\\4b:0011\\; _&1\\3b:010\\; bn0\\2b:11\\; bn1\\3b:110\\; _^2\\4b:0001\\; bn2\\4b:0111\\; bn3\\3b:110\\; bn4\\2b:01\\\n",
      "_|2\\4b:0001\\; _&1\\3b:001\\; bn0\\2b:11\\; bn1\\3b:001\\; _^2\\4b:0000\\; bn2\\4b:0110\\; bn3\\3b:110\\; bn4\\2b:00\\\n",
      "_|2\\4b:0001\\; _&1\\3b:001\\; bn0\\2b:11\\; bn1\\3b:101\\; _^2\\4b:0000\\; bn2\\4b:0110\\; bn3\\3b:110\\; bn4\\2b:00\\\n",
      "_|2\\4b:0001\\; _&1\\3b:001\\; bn0\\2b:11\\; bn1\\3b:001\\; _^2\\4b:0001\\; bn2\\4b:0111\\; bn3\\3b:110\\; bn4\\2b:01\\\n",
      "_|2\\4b:0001\\; _&1\\3b:001\\; bn0\\2b:11\\; bn1\\3b:101\\; _^2\\4b:0001\\; bn2\\4b:0111\\; bn3\\3b:110\\; bn4\\2b:01\\\n",
      "_|2\\4b:0011\\; _&1\\3b:011\\; bn0\\2b:11\\; bn1\\3b:011\\; _^2\\4b:0000\\; bn2\\4b:0110\\; bn3\\3b:110\\; bn4\\2b:00\\\n",
      "_|2\\4b:0011\\; _&1\\3b:011\\; bn0\\2b:11\\; bn1\\3b:111\\; _^2\\4b:0000\\; bn2\\4b:0110\\; bn3\\3b:110\\; bn4\\2b:00\\\n",
      "_|2\\4b:0011\\; _&1\\3b:011\\; bn0\\2b:11\\; bn1\\3b:011\\; _^2\\4b:0001\\; bn2\\4b:0111\\; bn3\\3b:110\\; bn4\\2b:01\\\n",
      "_|2\\4b:0011\\; _&1\\3b:011\\; bn0\\2b:11\\; bn1\\3b:111\\; _^2\\4b:0001\\; bn2\\4b:0111\\; bn3\\3b:110\\; bn4\\2b:01\\\n",
      "\n",
      "\n"
     ]
    }
   ],
   "source": [
    "print(\"dann5 simulator solutions: \\n{}\\n\".format(expression.solve()))"
   ]
  },
  {
   "cell_type": "markdown",
   "id": "8764652e",
   "metadata": {},
   "source": [
    "By reviewing the calculated solutions we can see that the 2nd q-bit of auto-generated quantum variable named *_&0* will always be *0* due to the fact that undefined 2nd q-bit of *bn0* quantum variable was automatically set to be *0*. Similarly, q-bits 2 and 3 of *_^0* are always 0, due to being *EQUAL (==)* to bn4, which was automatically resized by adding q-bits 2 and 3 with values *0*.\n",
    "\n",
    "We can adjust the *Qbin* varaibles, by resizing and setting the specific values of variables q-bits, like in the code cell below."
   ]
  },
  {
   "cell_type": "code",
   "execution_count": 19,
   "id": "a63efa37",
   "metadata": {},
   "outputs": [
    {
     "name": "stdout",
     "output_type": "stream",
     "text": [
      "After resize:\t\t\tbn0\\3q:011\\; bn4\\4q:bn43\\S\\;bn42\\S\\;bn41\\S\\;bn40\\S\\;\\\n",
      "\n",
      "After setting q-bit values:\tbn0\\3q:111\\; bn4\\4q:bn43\\0\\;bn42\\S\\;bn41\\S\\;bn40\\S\\;\\\n"
     ]
    }
   ],
   "source": [
    "bn0.resize(3)\n",
    "bn4.resize(4)\n",
    "print(\"After resize:\\t\\t\\t{}; {}\\n\".format(bn0, bn4.toString(True)))\n",
    "      \n",
    "bn0[2] = 1\n",
    "bn4[3] = 0\n",
    "print(\"After setting q-bit values:\\t{}; {}\".format(bn0, bn4.toString(True)))"
   ]
  },
  {
   "cell_type": "markdown",
   "id": "8b2793d9",
   "metadata": {},
   "source": [
    "## Solving a quantum assignment\n",
    "\n",
    "Now we can limit the scope of the solutions by defining a quantum assignment. In the code below we will request all quantum expression solutions that result in a binary sequence 0b101.\n",
    "\n",
    "- **Note**: To assign an expression to a resulting *Qbin* variable we can use ***variable.assign(expression)*** or ***variable._(expression)*** methods.\n",
    "\n",
    "If we make a quantum assignment by using the same expression (with modified *bn0* and *bn4* variables) and using *bnr\\3q:101\\* as an assignee, we can see from assignment's d5vc in the following code cell output that the second q-bit of *bn0*, *bn02* is set to 1, and the second q-bit of *bn2* is in superposition state, *bn22\\S\\*. Also, the *bnr* variable is extended and additional *bnr3* Qbit with value 0 is added."
   ]
  },
  {
   "cell_type": "code",
   "execution_count": 20,
   "id": "d56c4d51",
   "metadata": {},
   "outputs": [
    {
     "name": "stdout",
     "output_type": "stream",
     "text": [
      "\n",
      " bnr\\4q:0101\\ = ((bn0\\3q:111\\ & bn1\\3q:U\\) | ((bn2\\4q:U\\ ^ bn3\\3q:110\\) == bn4\\4q:U\\)) \n",
      "\n",
      " bnr0\\1\\ = _&20\\S\\ | _^30\\S\\;\n",
      " _&20\\S\\ = bn00\\1\\ & bn10\\S\\;\n",
      " _^30\\S\\ == bn40\\S\\;\n",
      " _^30\\S\\ = bn20\\S\\ ^ bn30\\0\\;\n",
      " bnr1\\0\\ = _&21\\S\\ | _^31\\S\\;\n",
      " _&21\\S\\ = bn01\\1\\ & bn11\\S\\;\n",
      " _^31\\S\\ == bn41\\S\\;\n",
      " _^31\\S\\ = bn21\\S\\ ^ bn31\\1\\;\n",
      " bnr2\\1\\ = _&22\\S\\ | _^32\\S\\;\n",
      " _&22\\S\\ = bn02\\1\\ & bn12\\S\\;\n",
      " _^32\\S\\ == bn42\\S\\;\n",
      " _^32\\S\\ = bn22\\S\\ ^ bn32\\1\\;\n",
      " bnr3\\0\\ = &3\\0\\ | _^33\\S\\;\n",
      " _^33\\S\\ == bn43\\0\\;\n",
      " _^33\\S\\ = bn23\\S\\ ^ bn33\\0\\;\n",
      " \n",
      "\n"
     ]
    }
   ],
   "source": [
    "qAssign = bnr._(((bn0 & bn1) | ((bn2 ^ bn3) == bn4)))\n",
    "print(\"\\n {} \\n\\n {}\\n\".format(qAssign.toString(), \n",
    "                               qAssign.toString(True).replace(\";\", \";\\n\")))"
   ]
  },
  {
   "cell_type": "markdown",
   "id": "d16b9273",
   "metadata": {},
   "source": [
    "- **Note**:  Without setting the 3rd q-bit of *bn0* variable to 1 or allowing for the 3rd q-bit of *bn4* to be in superposition state, the quantum assignment *qAssign* would be illogical and we would not be able to calculate a single correct solution. \n",
    "\n",
    "We are basing this conclusion on the fact that the quantum assignment's expression is same as previously (above) discussed quantum expression named *expression*. However, when we inspect the solutions of the *expression*, we see that there is not a single solution where the resulting auto-generated quantum *Qbin* variable *_|2* has a binary value *0b0101*. Considering that by forming an assignment the deterministic *Qbin* variable *bnr* as an assignee will bind to the *expression* by replacing the system-generated *_|2 Qbin* variable, its deterministic value has to be within the set of valid solutions for *_|2*."
   ]
  },
  {
   "cell_type": "code",
   "execution_count": 21,
   "id": "98e4ac37",
   "metadata": {},
   "outputs": [
    {
     "name": "stdout",
     "output_type": "stream",
     "text": [
      "dann5 simulator solutions: \n",
      "bnr\\4b:0101\\; _&2\\3b:000\\; bn0\\3b:111\\; bn1\\3b:000\\; _^3\\4b:0101\\; bn2\\4b:0011\\; bn3\\3b:110\\; bn4\\4b:0101\\\n",
      "bnr\\4b:0101\\; _&2\\3b:100\\; bn0\\3b:111\\; bn1\\3b:100\\; _^3\\4b:0101\\; bn2\\4b:0011\\; bn3\\3b:110\\; bn4\\4b:0101\\\n",
      "bnr\\4b:0101\\; _&2\\3b:001\\; bn0\\3b:111\\; bn1\\3b:001\\; _^3\\4b:0100\\; bn2\\4b:0010\\; bn3\\3b:110\\; bn4\\4b:0100\\\n",
      "bnr\\4b:0101\\; _&2\\3b:001\\; bn0\\3b:111\\; bn1\\3b:001\\; _^3\\4b:0101\\; bn2\\4b:0011\\; bn3\\3b:110\\; bn4\\4b:0101\\\n",
      "bnr\\4b:0101\\; _&2\\3b:101\\; bn0\\3b:111\\; bn1\\3b:101\\; _^3\\4b:0100\\; bn2\\4b:0010\\; bn3\\3b:110\\; bn4\\4b:0100\\\n",
      "bnr\\4b:0101\\; _&2\\3b:101\\; bn0\\3b:111\\; bn1\\3b:101\\; _^3\\4b:0101\\; bn2\\4b:0011\\; bn3\\3b:110\\; bn4\\4b:0101\\\n",
      "bnr\\4b:0101\\; _&2\\3b:100\\; bn0\\3b:111\\; bn1\\3b:100\\; _^3\\4b:0001\\; bn2\\4b:0111\\; bn3\\3b:110\\; bn4\\4b:0001\\\n",
      "bnr\\4b:0101\\; _&2\\3b:101\\; bn0\\3b:111\\; bn1\\3b:101\\; _^3\\4b:0000\\; bn2\\4b:0110\\; bn3\\3b:110\\; bn4\\4b:0000\\\n",
      "bnr\\4b:0101\\; _&2\\3b:101\\; bn0\\3b:111\\; bn1\\3b:101\\; _^3\\4b:0001\\; bn2\\4b:0111\\; bn3\\3b:110\\; bn4\\4b:0001\\\n",
      "\n",
      "\n"
     ]
    }
   ],
   "source": [
    "print(\"dann5 simulator solutions: \\n{}\\n\".format(qAssign.solve()))"
   ]
  },
  {
   "cell_type": "markdown",
   "id": "9cf11d55",
   "metadata": {},
   "source": [
    "In **the next chapter, 2.4**, we will be covering the ***Qwhole* Operators and Operations in Expressions and Assignments**. In chapter 3.2., we will expand and look at how to use *Qbin* expressions and assignments to solve practical problems."
   ]
  }
 ],
 "metadata": {
  "kernelspec": {
   "display_name": "Python 3 (ipykernel)",
   "language": "python",
   "name": "python3"
  },
  "language_info": {
   "codemirror_mode": {
    "name": "ipython",
    "version": 3
   },
   "file_extension": ".py",
   "mimetype": "text/x-python",
   "name": "python",
   "nbconvert_exporter": "python",
   "pygments_lexer": "ipython3",
   "version": "3.10.12"
  }
 },
 "nbformat": 4,
 "nbformat_minor": 5
}
