{
 "cells": [
  {
   "cell_type": "markdown",
   "id": "b5a31799",
   "metadata": {},
   "source": [
    "# Chapter 2.1 - Advanced Qbit\n",
    "\n",
    "In this section of chapter 2 we will be walking through how to use Qbit variables in more complex expressions and assignments by chaining multiple operations together. We will also see how to analyze real world problems and break them down into an expression that can be solved by the Dwave quantum computer.\n",
    "\n",
    "To start we will import the Qbit class from dann5 and create our complex expressions:"
   ]
  },
  {
   "cell_type": "code",
   "execution_count": 57,
   "id": "a7056841",
   "metadata": {},
   "outputs": [
    {
     "name": "stdout",
     "output_type": "stream",
     "text": [
      "a0\\1\\\n",
      "a1\\S\\\n",
      "a2\\S\\\n",
      "a3\\0\\\n",
      "a4\\S\\\n"
     ]
    }
   ],
   "source": [
    "from dann5.d5 import Qbit\n",
    "\n",
    "a0 = Qbit(\"a0\", 1) \n",
    "a1 = Qbit(\"a1\")\n",
    "a2 = Qbit(\"a2\")\n",
    "a3 = Qbit(\"a3\", 0)\n",
    "a4 = Qbit(\"a4\")\n",
    "\n",
    "print(a0)\n",
    "print(a1)\n",
    "print(a2)\n",
    "print(a3)\n",
    "print(a4)"
   ]
  },
  {
   "cell_type": "markdown",
   "id": "74b2f585",
   "metadata": {},
   "source": [
    "Within the dann5 library there is a distinct difference between binary bitwise operators (i.e. xor, and, or) and quantum comparison (i.e. ==, !=, <, >, ~) operators. \n",
    "\n",
    "When we see quantum comparison operations we can think of them as rules for the sets of possibilities given, we are creating a relationship between multiple quantum variables that will be enforced in every solution presented. For instance the following code symbolizes that the XOR operation between variable a2 and variable a3 must always be equal to the value of a4.\n",
    "\n",
    "> ((a2\\S\\ ^ a3\\0\\) == a4\\S\\))"
   ]
  },
  {
   "cell_type": "code",
   "execution_count": 58,
   "id": "1fcafc9e",
   "metadata": {
    "scrolled": true
   },
   "outputs": [
    {
     "name": "stdout",
     "output_type": "stream",
     "text": [
      "((a0\\1\\ & a1\\S\\) | ((a2\\S\\ ^ a3\\0\\) == a4\\S\\))\n"
     ]
    }
   ],
   "source": [
    "expression = (a0 & a1) | ((a2 ^ a3) == a4)\n",
    "print(expression)"
   ]
  },
  {
   "cell_type": "markdown",
   "id": "077a93f4",
   "metadata": {},
   "source": [
    "When using the decomposed line output function the first line in the output is always from outermost operation (top) to innermost (down). Priority of operators is enforced by the syntax, which is the same as in classical computing, in this case sinse we are using Python the priority of operators in Python determines the order. So the top most output is for OR operation of the two sub expressions:\n",
    "\n",
    "> _|8\\S\\ = _&16\\S\\ **|** _^20\\S\\;\n",
    "\n",
    "For the third line in the output we see the rule that we created in the expression, this is showing the above definition of the following code: \n",
    "\n",
    "> (a2\\S\\ ^ a3\\0\\) == a4\\S\\\n",
    "\n",
    "So now when it is printed in the decomposed version the code generates a variable _^0\\S\\ to symolize the operation between a2 and a3 variable, as shown below: \n",
    "\n",
    "> _^0\\S\\ == a4\\S\\;\n"
   ]
  },
  {
   "cell_type": "code",
   "execution_count": 59,
   "id": "f4a9e760",
   "metadata": {},
   "outputs": [
    {
     "name": "stdout",
     "output_type": "stream",
     "text": [
      "((a0\\1\\ & a1\\S\\) | ((a2\\S\\ ^ a3\\0\\) == a4\\S\\)) \n",
      "\n",
      "_|15\\S\\ = _&23\\S\\ | _^27\\S\\;\n",
      " _&23\\S\\ = a0\\1\\ & a1\\S\\;\n",
      " _^27\\S\\ == a4\\S\\;\n",
      " _^27\\S\\ = a2\\S\\ ^ a3\\0\\;\n",
      " \n"
     ]
    }
   ],
   "source": [
    "print(expression, \"\\n\")\n",
    "print(expression.toString(True).replace(\";\", \";\\n\"))"
   ]
  },
  {
   "cell_type": "markdown",
   "id": "ea9cb7dd",
   "metadata": {},
   "source": [
    "Now if we examine the first line in the decomposed logic we will see that the variable  _^0\\S\\ is used in the first line next to the OR operator. This is due to the fact that since  _^0\\S\\ and the a4 variable must have the same value we can interchangeably use them in that place.\n",
    "\n",
    "The code however does not anticipate which variable you would like to pass to the higher level in the decomposed logic. Simply it takes the left variable in the == comparison operation and passes that variable to the higher level operation, as shown in the below code if you switch them around you will now see a4 variable in the first line:\n",
    "\n",
    "> _|1\\S\\ = _&3\\S\\ | **a4\\S\\**; \n",
    "\n",
    "**Note**: make sure to double check the number next to the operator symbol for each generated variable, it will increase so that every variable is unique. This is especially important when using two or more of the same operator in an expression\n",
    "\n",
    "**Note**: Bitwise operations work as above OR operation (XOR, NOR, AND, NAND & NXOR) and comparison operations work similar to == above (!=, <, >, <=, >=). \n",
    "\n",
    "**Note** Tilda function (~) is unique as it is a bitwise operation but it functions similar to comparison operations."
   ]
  },
  {
   "cell_type": "code",
   "execution_count": 60,
   "id": "fc6597cd",
   "metadata": {},
   "outputs": [
    {
     "name": "stdout",
     "output_type": "stream",
     "text": [
      "((a0\\1\\ & a1\\S\\) | ((a2\\S\\ ^ a3\\0\\) == a4\\S\\)) \n",
      "\n",
      "_|15\\S\\ = _&23\\S\\ | _^27\\S\\;\n",
      " _&23\\S\\ = a0\\1\\ & a1\\S\\;\n",
      " _^27\\S\\ == a4\\S\\;\n",
      " _^27\\S\\ = a2\\S\\ ^ a3\\0\\;\n",
      " \n",
      "((a0\\1\\ & a1\\S\\) | (a4\\S\\ == (a2\\S\\ ^ a3\\0\\))) \n",
      "\n",
      "_|16\\S\\ = _&24\\S\\ | a4\\S\\;\n",
      " _&24\\S\\ = a0\\1\\ & a1\\S\\;\n",
      " a4\\S\\ == _^28\\S\\;\n",
      " _^28\\S\\ = a2\\S\\ ^ a3\\0\\;\n",
      " \n"
     ]
    }
   ],
   "source": [
    "print(expression, \"\\n\")\n",
    "print(expression.toString(True).replace(\";\", \";\\n\"))\n",
    "\n",
    "expression1 = (a0 & a1) | (a4 == (a2 ^ a3))\n",
    "print(expression1, \"\\n\")\n",
    "print(expression1.toString(True).replace(\";\", \";\\n\"))"
   ]
  },
  {
   "cell_type": "markdown",
   "id": "8cddd672",
   "metadata": {},
   "source": [
    "All variable values will be listed above as well as intermediary generated values. The line below is a one possible solution for the values, you can double check that all the decomposed expressions work with these values:\n",
    "\n",
    "> _|0\\0\\;  _&0\\0\\;  a0\\1\\;  a1\\0\\;  _^0\\0\\;  a2\\0\\;  a3\\0\\;  a4\\0\\\n",
    ">\n",
    "> ((a0\\1\\ & a1\\S\\) | (a4\\S\\ == (a2\\S\\ ^ a3\\0\\)))"
   ]
  },
  {
   "cell_type": "markdown",
   "id": "fd889254",
   "metadata": {},
   "source": [
    "Now we can import the solver and solve the complex expression. The most important variables to look at are the a1, a2, a3, a4 and _|3. You can then grab the values for these variables for each solution and insert them into the expression or the decomposed expression to see that they are all correct:"
   ]
  },
  {
   "cell_type": "code",
   "execution_count": 61,
   "id": "fa5a656a",
   "metadata": {},
   "outputs": [
    {
     "name": "stdout",
     "output_type": "stream",
     "text": [
      "_|15\\0\\; _&23\\0\\; a0\\1\\; a1\\0\\; _^27\\0\\; a2\\0\\; a3\\0\\; a4\\0\\\n",
      "_|15\\1\\; _&23\\0\\; a0\\1\\; a1\\0\\; _^27\\1\\; a2\\1\\; a3\\0\\; a4\\1\\\n",
      "_|15\\1\\; _&23\\1\\; a0\\1\\; a1\\1\\; _^27\\0\\; a2\\0\\; a3\\0\\; a4\\0\\\n",
      "_|15\\1\\; _&23\\1\\; a0\\1\\; a1\\1\\; _^27\\1\\; a2\\1\\; a3\\0\\; a4\\1\\\n",
      "\n"
     ]
    }
   ],
   "source": [
    "from dann5.dwave import Solver \n",
    "Solver.Active() \n",
    "print(expression.solve())"
   ]
  },
  {
   "cell_type": "markdown",
   "id": "6973bed8",
   "metadata": {},
   "source": [
    "Here we are solving the secondary expression we created where we flipped the left side and right side of the equal (==) comparison operation. As we can see by analyzing the solutions, the values are the same, only the order to which the variables are outputted from left to right has changed:"
   ]
  },
  {
   "cell_type": "code",
   "execution_count": 62,
   "id": "010cc0c9",
   "metadata": {},
   "outputs": [
    {
     "name": "stdout",
     "output_type": "stream",
     "text": [
      "_|16\\0\\; _&24\\0\\; a0\\1\\; a1\\0\\; a4\\0\\; _^28\\0\\; a2\\0\\; a3\\0\\\n",
      "_|16\\1\\; _&24\\0\\; a0\\1\\; a1\\0\\; a4\\1\\; _^28\\1\\; a2\\1\\; a3\\0\\\n",
      "_|16\\1\\; _&24\\1\\; a0\\1\\; a1\\1\\; a4\\0\\; _^28\\0\\; a2\\0\\; a3\\0\\\n",
      "_|16\\1\\; _&24\\1\\; a0\\1\\; a1\\1\\; a4\\1\\; _^28\\1\\; a2\\1\\; a3\\0\\\n",
      "\n"
     ]
    }
   ],
   "source": [
    "print(expression1.solve())"
   ]
  },
  {
   "cell_type": "markdown",
   "id": "a43c3323",
   "metadata": {},
   "source": [
    "Now we can limit the scope of the solutions by setting an assignment. In the code below we will now request all solutions that have a final value of 1 for the entire expression:"
   ]
  },
  {
   "cell_type": "code",
   "execution_count": 63,
   "id": "fb3508ef",
   "metadata": {},
   "outputs": [],
   "source": [
    "ar = Qbit(\"ar\",1)\n",
    "qAssign = ar._((a0 & a1) | ((a2 ^ a3) == a4))"
   ]
  },
  {
   "cell_type": "markdown",
   "id": "f416922b",
   "metadata": {},
   "source": [
    "After printing the decomposed version of the assignment we see that it is exacty the same as the decomposed output for the expression:"
   ]
  },
  {
   "cell_type": "code",
   "execution_count": 65,
   "id": "4cef3dfa",
   "metadata": {},
   "outputs": [
    {
     "name": "stdout",
     "output_type": "stream",
     "text": [
      "\n",
      " ar\\1\\ = ((a0\\1\\ & a1\\S\\) | ((a2\\S\\ ^ a3\\0\\) == a4\\S\\)) \n",
      "\n",
      " ar\\1\\ = _&25\\S\\ | _^29\\S\\;\n",
      " _&25\\S\\ = a0\\1\\ & a1\\S\\;\n",
      " _^29\\S\\ == a4\\S\\;\n",
      " _^29\\S\\ = a2\\S\\ ^ a3\\0\\;\n",
      " \n",
      "\n"
     ]
    }
   ],
   "source": [
    "print(\"\\n {} \\n\\n {}\\n\".format(qAssign, \n",
    "                                   qAssign.toString(True).replace(\";\", \";\\n\")))"
   ]
  },
  {
   "cell_type": "markdown",
   "id": "7ac22510",
   "metadata": {},
   "source": [
    "And now we can solve the assignment and see that we do not get all 4 possible outputs, but only the 3 that had a final value of 1: "
   ]
  },
  {
   "cell_type": "code",
   "execution_count": 20,
   "id": "bc541068",
   "metadata": {},
   "outputs": [
    {
     "name": "stdout",
     "output_type": "stream",
     "text": [
      "ar\\1\\; _&11\\0\\; a0\\1\\; a1\\0\\; _^14\\1\\; a2\\1\\; a3\\0\\; a4\\1\\\n",
      "ar\\1\\; _&11\\1\\; a0\\1\\; a1\\1\\; _^14\\0\\; a2\\0\\; a3\\0\\; a4\\0\\\n",
      "ar\\1\\; _&11\\1\\; a0\\1\\; a1\\1\\; _^14\\1\\; a2\\1\\; a3\\0\\; a4\\1\\\n",
      "\n"
     ]
    }
   ],
   "source": [
    "print(qAssign.solve())"
   ]
  },
  {
   "cell_type": "code",
   "execution_count": null,
   "id": "9f747e52",
   "metadata": {},
   "outputs": [],
   "source": [
    "expression = (a0 & a1) | ((a2 ^ a3) == a4)\n",
    "print(expression)"
   ]
  },
  {
   "cell_type": "markdown",
   "id": "4cf5fe74",
   "metadata": {},
   "source": [
    "# Real World Problem\n",
    "\n",
    "Now we are going to see how we can generate a quantum expression to solve a real problem. The following problem is called \"Friends and Enemies\": \n",
    "\n",
    "Given a set of people and information about some pairs of people that are friends and some pairs that are enemies…..\n",
    "\n",
    "How do we write a program that finds a solution in which all the friend and enemy relationships are true?\n",
    "\n",
    "There are 2 tribes the 0 tribe and the 1 tribe, the 0 tribe are always enemies with the 1 tribe, where can all of these people belong so that all their individual relationships make sense. \n",
    "\n",
    "\n",
    "X (Xavier): 0\n",
    "Y (Yolanda): 0  \n",
    "Z (Zeke): 1\n",
    "W (Wanda): 1\n",
    "\n",
    "X & Y and W & Z: Friends (same qubit value)\n",
    "\n",
    "Y & Z: Enemies (different qubit value)\n",
    "\n",
    "This is a valid solution.\n",
    "\n",
    "Can the D-Wave system find this solution for us? "
   ]
  },
  {
   "cell_type": "markdown",
   "id": "40a4b25a",
   "metadata": {},
   "source": [
    "To start we need to define all the people that belong to either tribe. That we do by setting the Qbit variables: w, x, y and z."
   ]
  },
  {
   "cell_type": "code",
   "execution_count": 66,
   "id": "0f35e577",
   "metadata": {},
   "outputs": [
    {
     "name": "stdout",
     "output_type": "stream",
     "text": [
      "wanda\\S\\\n",
      "xaviar\\S\\\n",
      "yolanda\\S\\\n",
      "zeke\\S\\\n"
     ]
    }
   ],
   "source": [
    "x = Qbit(\"xaviar\")\n",
    "y = Qbit(\"yolanda\")\n",
    "z = Qbit(\"zeke\")\n",
    "w = Qbit(\"wanda\")\n",
    "_1 = Qbit(\"_1\", 1)\n",
    "\n",
    "print(w)\n",
    "print(x)\n",
    "print(y)\n",
    "print(z)"
   ]
  },
  {
   "cell_type": "markdown",
   "id": "3b36ab27",
   "metadata": {},
   "source": [
    "The key peices of information to create an expression for any scenario are the following:\n",
    "\n",
    "1) That XOR: \"**^**\" is equal to an **\"unlike\"** function, so if you want two variables to be enemies use this. \n",
    "\n",
    "2) That NXOR: ~(var1 ^ var2) or var1.nxor(var2) is equal to a **\"like\"** function. So if you want two variables to be friends use this\n",
    "\n",
    "3) The expression includes all possible versions, so that includes versions where all the relationships are not true, these equal to a result of 0 (which can be thought of as false)\n",
    "\n",
    "4) So by assigning all the possible solutions to 1 (can be thought of as True) we will get all the possibilities where the relationships are true \n",
    "\n",
    "With the following two rules in mind we can now write out the above scenario, where the following relationships exist: \n",
    "\n",
    "X & Y and W & Z: Friends\n",
    "\n",
    "Y & Z: Enemies"
   ]
  },
  {
   "cell_type": "code",
   "execution_count": 67,
   "id": "ffd1e515",
   "metadata": {},
   "outputs": [
    {
     "name": "stdout",
     "output_type": "stream",
     "text": [
      "_1\\1\\ = ((~_^30\\S\\ ~ (xaviar\\S\\ ^ yolanda\\S\\)) & ((yolanda\\S\\ ^ zeke\\S\\) & (~_^32\\S\\ ~ (zeke\\S\\ ^ wanda\\S\\))))\n",
      "\n",
      "_1\\1\\ = ~_^30\\S\\ & _&26\\S\\;\n",
      " ~_^30\\S\\ ~ _^30\\S\\;\n",
      " _^30\\S\\ = xaviar\\S\\ ^ yolanda\\S\\;\n",
      " _&26\\S\\ = _^31\\S\\ & ~_^32\\S\\;\n",
      " _^31\\S\\ = yolanda\\S\\ ^ zeke\\S\\;\n",
      " ~_^32\\S\\ ~ _^32\\S\\;\n",
      " _^32\\S\\ = zeke\\S\\ ^ wanda\\S\\;\n",
      " \n"
     ]
    }
   ],
   "source": [
    "fEAssignment = _1._(~(x ^ y) & ((y ^ z) & ~(z ^ w)));\n",
    "\n",
    "# Same as:\n",
    "# _1.assign(x.nxor(y) & ((y ^ z) & z.nxor(w)))\n",
    "# _1.assign(x.alike(y) & y.unlike(z) & z.alike(w))\n",
    "\n",
    "print(fEAssignment)\n",
    "print()\n",
    "print(fEAssignment.toString(True).replace(\";\", \";\\n\"))"
   ]
  },
  {
   "cell_type": "markdown",
   "id": "6b2d869a",
   "metadata": {},
   "source": [
    "**Note**: In the decomposed output above we see a invert rule declared in a few lines that means that the element on the left side of the ~ operator has to be the invert of the variable on the right side of the operator\n",
    "\n",
    "**Note**: The above expression is most optimal, we can add OR operator to list all possible scenarios where x and y are enemies to z and w, but that will add more nodes to the equation and cause it to run longer on simulator, without changing the logic"
   ]
  },
  {
   "cell_type": "markdown",
   "id": "8a87f2d9",
   "metadata": {},
   "source": [
    "So we can write any expression with these 4 people where some are friends and some are enemies. And the quantum computing simulator will come up with all the possibilities where all of the relationships are true. \n",
    "\n",
    "Now to solve the assignment we have defined above we will use a slightly different method:"
   ]
  },
  {
   "cell_type": "markdown",
   "id": "1b628cba",
   "metadata": {},
   "source": [
    "We will import the Qbinder class and use it to display the solutions to the assignment defined above.\n",
    "\n",
    "We will start by defining a qbinder variable and passing the Qbit variables into it usign the \"**<<**\" symbol:\n",
    "\n",
    "> Qbinder_var_name = Qbinder() << var1 << var2 << var3 ... \n",
    "\n",
    "We will then use the compute() function instead of solve to get the solutions (in this case called evaluations) and the compute function will return a list of possible solutions that we can iterate over and print out:"
   ]
  },
  {
   "cell_type": "code",
   "execution_count": 70,
   "id": "99b3e99b",
   "metadata": {
    "scrolled": true
   },
   "outputs": [
    {
     "name": "stdout",
     "output_type": "stream",
     "text": [
      "['#[_^30]: 0; #[_^31]: 0; #[_^32]: 1; _&26: 1; _^30: 0; _^31: 1; _^32: 0; wanda: 1; xaviar: 0; yolanda: 0; zeke: 1; ~_^30: 1; ~_^32: 1; \\n', '#[_^30]: 1; #[_^31]: 0; #[_^32]: 0; _&26: 1; _^30: 0; _^31: 1; _^32: 0; wanda: 0; xaviar: 1; yolanda: 1; zeke: 0; ~_^30: 1; ~_^32: 1; \\n']\n"
     ]
    }
   ],
   "source": [
    "from dann5.d5 import Qbinder\n",
    "\n",
    "qbinder = Qbinder() << x << y << z << w\n",
    "\n",
    "evaluations = fEAssignment.compute()\n",
    "print(['{}\\n'.format(evaluation) for evaluation in evaluations])"
   ]
  },
  {
   "cell_type": "markdown",
   "id": "c01cec39",
   "metadata": {},
   "source": [
    "Finally we will add the list of solutions (evaluations variable) to the qbinder variable and print. \n",
    "\n",
    "In the below output for the solutions we see only the relevant variables that we defined at the beginning we see there are two possible solutions to the constraints we imposed at the start of the problem. To refresh here were the conditions: \n",
    "\n",
    "X & Y and W & Z: Friends\n",
    "\n",
    "Y & Z: Enemies\n",
    "\n",
    "And we know that anyone belonging to tribe 0 cannot be friends with anyone from tribe 1. And all members of a tribe are friends. So we see that in the two solutions, both conditions are satisfied. Taking the first as an example:\n",
    "\n",
    "> xaviar\\0\\ yolanda\\0\\ zeke\\1\\ wanda\\1\\ \n",
    "\n",
    "Xaviar and Yolanda are in Tribe 0 so they are friends. Wanda and Zeke are in tribe 1 so they are friends. And Yolanda and Zeke are in two different tribes so they are enemies."
   ]
  },
  {
   "cell_type": "code",
   "execution_count": 72,
   "id": "41f559a6",
   "metadata": {},
   "outputs": [
    {
     "name": "stdout",
     "output_type": "stream",
     "text": [
      "xaviar\\S\\ yolanda\\S\\ zeke\\S\\ wanda\\S\\ {\n",
      "xaviar\\0\\ yolanda\\0\\ zeke\\1\\ wanda\\1\\ \n",
      "xaviar\\1\\ yolanda\\1\\ zeke\\0\\ wanda\\0\\ \n",
      "xaviar\\0\\ yolanda\\0\\ zeke\\1\\ wanda\\1\\ \n",
      "xaviar\\1\\ yolanda\\1\\ zeke\\0\\ wanda\\0\\ \n",
      "}\n"
     ]
    }
   ],
   "source": [
    "qbinder.add(evaluations);\n",
    "print(qbinder)"
   ]
  },
  {
   "cell_type": "markdown",
   "id": "b72b3bf7",
   "metadata": {},
   "source": [
    "One more concept to cover are the other comparison operators and how they work slightly differently to the equal (==) comparison operator. \n",
    "\n",
    "So in this example we have pretty much the same expression as the one covered at the top of this section. However, we are now using the less than (<) comparison operator instead.\n",
    "\n",
    "Now when we see the decomposed version we see that the left side variable in the following line is being passed up to the higher level operation:\n",
    "\n",
    "> Line 3: \n",
    ">  **_^18\\S\\** < a4\\S\\\\;\n",
    "\n",
    "> Line 1:\n",
    "> _|6\\S\\ = _&14\\S\\ | _^18\\S\\\\;"
   ]
  },
  {
   "cell_type": "code",
   "execution_count": 44,
   "id": "1366e78c",
   "metadata": {},
   "outputs": [
    {
     "name": "stdout",
     "output_type": "stream",
     "text": [
      "((a0\\1\\ & a1\\S\\) | ((a2\\S\\ ^ a3\\0\\) < a4\\S\\)) \n",
      "\n",
      "_|6\\S\\ = _&14\\S\\ | _^18\\S\\;\n",
      " _&14\\S\\ = a0\\1\\ & a1\\S\\;\n",
      " _^18\\S\\ < a4\\S\\;\n",
      " _^18\\S\\ = a2\\S\\ ^ a3\\0\\;\n",
      " \n",
      "_|6\\0\\; _&14\\0\\; a0\\1\\; a1\\0\\; _^18\\0\\; a2\\0\\; a3\\0\\; a4\\1\\\n",
      "_|6\\1\\; _&14\\1\\; a0\\1\\; a1\\1\\; _^18\\0\\; a2\\0\\; a3\\0\\; a4\\1\\\n",
      "\n"
     ]
    }
   ],
   "source": [
    "expression2 = (a0 & a1) | ((a2 ^ a3) < a4)\n",
    "print(expression2, \"\\n\")\n",
    "print(expression2.toString(True).replace(\";\", \";\\n\"))\n",
    "print(expression2.solve())"
   ]
  },
  {
   "cell_type": "markdown",
   "id": "cee1eccc",
   "metadata": {},
   "source": [
    "We also see here that now when we switch the a4 variable to the left side of the less than (<) operator. We now get different results: \n",
    "\n",
    "> _|7\\0\\; _&15\\0\\; a0\\1\\; a1\\0\\; **a4\\0\\;** _^19\\1\\; **a2\\1\\;** a3\\0\\\n",
    "\n",
    "v.s.\n",
    "\n",
    "> _|6\\0\\; _&14\\0\\; a0\\1\\; a1\\0\\; _^18\\0\\; **a2\\0\\;** a3\\0\\; **a4\\1\\**\n",
    "\n",
    "This is due to the fact that we fundamentally changed the higher level operation by switching the place in the comparison operation rule. This is true with any comparison operator that is not equal to (==). So be careful when writing these complex equations with comparison operators.\n",
    "\n",
    "Always remember that the left side of the comparison operator is what will be passed along to higher levels in an expression."
   ]
  },
  {
   "cell_type": "code",
   "execution_count": 45,
   "id": "3c48577a",
   "metadata": {},
   "outputs": [
    {
     "name": "stdout",
     "output_type": "stream",
     "text": [
      "((a0\\1\\ & a1\\S\\) | (a4\\S\\ < (a2\\S\\ ^ a3\\0\\))) \n",
      "\n",
      "_|7\\S\\ = _&15\\S\\ | a4\\S\\;\n",
      " _&15\\S\\ = a0\\1\\ & a1\\S\\;\n",
      " a4\\S\\ < _^19\\S\\;\n",
      " _^19\\S\\ = a2\\S\\ ^ a3\\0\\;\n",
      " \n",
      "_|7\\0\\; _&15\\0\\; a0\\1\\; a1\\0\\; a4\\0\\; _^19\\1\\; a2\\1\\; a3\\0\\\n",
      "_|7\\1\\; _&15\\1\\; a0\\1\\; a1\\1\\; a4\\0\\; _^19\\1\\; a2\\1\\; a3\\0\\\n",
      "\n"
     ]
    }
   ],
   "source": [
    "expression3 = (a0 & a1) | (a4 < (a2 ^ a3))\n",
    "print(expression3, \"\\n\")\n",
    "print(expression3.toString(True).replace(\";\", \";\\n\"))\n",
    "print(expression3.solve())"
   ]
  }
 ],
 "metadata": {
  "kernelspec": {
   "display_name": "Python 3 (ipykernel)",
   "language": "python",
   "name": "python3"
  },
  "language_info": {
   "codemirror_mode": {
    "name": "ipython",
    "version": 3
   },
   "file_extension": ".py",
   "mimetype": "text/x-python",
   "name": "python",
   "nbconvert_exporter": "python",
   "pygments_lexer": "ipython3",
   "version": "3.10.11"
  }
 },
 "nbformat": 4,
 "nbformat_minor": 5
}
