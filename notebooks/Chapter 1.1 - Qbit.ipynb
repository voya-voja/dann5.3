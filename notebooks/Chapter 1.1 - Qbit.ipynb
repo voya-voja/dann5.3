{
 "cells": [
  {
   "cell_type": "markdown",
   "id": "cf8922ab",
   "metadata": {},
   "source": [
    "# Chapter 1.1 - Qbit\n",
    "\n",
    "In this chapter we will be walking through how to set Qbit variables, create expressions and assignments with those variables and solve those expressions and assignments. \n",
    "\n",
    "\n",
    "**Qbit, Quantum bit,** is a quantum type supporting instantiation of and operations over variables which can **have values 0, 1 or superposition**. A *Qbit* can be set into superposition state by initializing an instance with a value of character ***'S'* (*83* as per ASCII)**.\n",
    "\n",
    "To start you must import the ***Qbit*** class from **d5 module of dann5 package**.\n",
    "\n",
    "An instance of *Qbit* can be created by use of default constructor, which will initialize the instance in superposition state:"
   ]
  },
  {
   "cell_type": "code",
   "execution_count": 1,
   "id": "66e8c086",
   "metadata": {},
   "outputs": [
    {
     "name": "stdout",
     "output_type": "stream",
     "text": [
      "\\S\\\n"
     ]
    }
   ],
   "source": [
    "from dann5.d5 import Qbit\n",
    "q_bit = Qbit()\n",
    "print(q_bit)"
   ]
  },
  {
   "cell_type": "markdown",
   "id": "d5dc6bcb",
   "metadata": {},
   "source": [
    "> python variable *q_bit* is a reference to an instance of *Qbit* object that is initialized in superposition (**S**) state.\n",
    "\n",
    "*For a problem to be solvable all the quantum variables, used to express the problem, need to have **quantum identity** defined.* This can be done by explicitly calling *id()* method or by using overloaded Qbit constructor:"
   ]
  },
  {
   "cell_type": "code",
   "execution_count": 2,
   "id": "a39de40a",
   "metadata": {
    "scrolled": true
   },
   "outputs": [
    {
     "name": "stdout",
     "output_type": "stream",
     "text": [
      "qBit\\S\\ ,  r\\S\\\n"
     ]
    }
   ],
   "source": [
    "q_bit.id('qBit')\n",
    "r = Qbit(\"r\")\n",
    "print(q_bit, ', ', r)"
   ]
  },
  {
   "cell_type": "markdown",
   "id": "a5afe86f",
   "metadata": {},
   "source": [
    "- **Note**: As all quantum variables will need specified quantum identity, the best practice is to specify the identity at the time of definition of a quantum variable.\n",
    "\n",
    "Additionally, it is possible to initialize a *Qbit* variable with a specific deterministic value as a quantum constant, like *_0_* and *_1_* defined in the code cell below:"
   ]
  },
  {
   "cell_type": "code",
   "execution_count": 3,
   "id": "eafaa5fd",
   "metadata": {},
   "outputs": [
    {
     "name": "stdout",
     "output_type": "stream",
     "text": [
      "_0_\\0\\, _1_\\1\\, y\\S\\\n"
     ]
    }
   ],
   "source": [
    "_0_ = Qbit(\"_0_\", 0)\n",
    "_1_ = Qbit(\"_1_\", 1)\n",
    "y = Qbit(\"y\", 5)\n",
    "print(\"{}, {}, {}\".format(_0_, _1_, y))"
   ]
  },
  {
   "cell_type": "markdown",
   "id": "d4a82ab5",
   "metadata": {},
   "source": [
    "A *Qbit* variable can be initialized to *0, 1* or *S*(uperposition) state only. Any deterministic value different than *0* and *1* sets a quantum variable into a superposition state. i.e. in above example *y Qbit* variable is initialized in a *S*(uperposition) state.\n",
    "\n",
    "- **Note**: Even though we can use '*S*' or 83 to initialize *Qbit* variable, the proper way of initializing a *Qbit* variable is use of *Superposition()* state method or not specifying any value when initializing a *Qbit* variable in python."
   ]
  },
  {
   "cell_type": "code",
   "execution_count": 4,
   "id": "8122d43e",
   "metadata": {},
   "outputs": [
    {
     "name": "stdout",
     "output_type": "stream",
     "text": [
      "b\\S\\, z\\S\\, x\\S\\\n"
     ]
    }
   ],
   "source": [
    "from dann5.d5 import Superposition\n",
    "b = Qbit('b', ord('S'))\n",
    "z = Qbit(\"z\", 83)\n",
    "x = Qbit('x', Superposition())\n",
    "print(\"{}, {}, {}\".format(b, z, x))"
   ]
  },
  {
   "cell_type": "markdown",
   "id": "2a8b788a",
   "metadata": {},
   "source": [
    "A value of a *Qbit* variable can be explicitly set or retrieved by use of *value()* methods, like in the following example. We see that the value of Qbit *b* has been changed to 1, while variables *z* and *x* stayed in superposition state (*S*, i.e. value 83)."
   ]
  },
  {
   "cell_type": "code",
   "execution_count": 5,
   "id": "db7caa41",
   "metadata": {},
   "outputs": [
    {
     "name": "stdout",
     "output_type": "stream",
     "text": [
      "b\\1\\, z\\S\\, x\\S\\\n",
      "1, 83, 83\n"
     ]
    }
   ],
   "source": [
    "b.value(1)\n",
    "print(\"{}, {}, {}\".format(b, z, x))\n",
    "print(\"{}, {}, {}\".format(b.value(), z.value(), x.value()))"
   ]
  },
  {
   "cell_type": "markdown",
   "id": "b36624bf",
   "metadata": {},
   "source": [
    "## Qbit expressions\n",
    "Now we will set two *Qbit* variables for use in a quantum expression."
   ]
  },
  {
   "cell_type": "code",
   "execution_count": 6,
   "id": "95ec4cc2",
   "metadata": {},
   "outputs": [],
   "source": [
    "jim = Qbit(\"jim\")\n",
    "pam = Qbit(\"pam\")"
   ]
  },
  {
   "cell_type": "markdown",
   "id": "1658ebb0",
   "metadata": {},
   "source": [
    "When printing the above variables the value will be \"S\" which stands for superposition state. This means that the variable does not yet have a defined value (in the acse of *Qbit* \"0\" or \"1\") and is somewhere in between.\n",
    "\n",
    "The output of the varible will look as follows:\n",
    "\n",
    "> variable_name\\value_of_variable\\"
   ]
  },
  {
   "cell_type": "code",
   "execution_count": 7,
   "id": "ead6af32",
   "metadata": {},
   "outputs": [
    {
     "name": "stdout",
     "output_type": "stream",
     "text": [
      "jim\\S\\\n",
      "pam\\S\\\n"
     ]
    }
   ],
   "source": [
    "print(jim)\n",
    "print(pam)"
   ]
  },
  {
   "cell_type": "markdown",
   "id": "9f426b19",
   "metadata": {},
   "source": [
    "Now we will create a **quantum expression** with the two variables we have set. In this case we would like to use the *AND (&)* operator to see all possibilities. \n",
    "\n",
    "There are other operators we could use, any of the bitwise expressions seen in classical computers (*OR (|), NOR, XOR (^), NAND, etc.)*. We will cover others operator later in this chapter and in the chapter 2.1.\n",
    "\n",
    "In this case, to set the expression we simply use the following syntax:\n",
    "\n",
    "> expression_variable_name = qbit_variable_name & qbit_variable_name"
   ]
  },
  {
   "cell_type": "code",
   "execution_count": 8,
   "id": "9121f930",
   "metadata": {},
   "outputs": [
    {
     "name": "stdout",
     "output_type": "stream",
     "text": [
      "(jim\\S\\ & pam\\S\\)\n"
     ]
    }
   ],
   "source": [
    "expression1 = jim & pam;\n",
    "\n",
    "print(expression1)"
   ]
  },
  {
   "cell_type": "markdown",
   "id": "42893fc5",
   "metadata": {},
   "source": [
    "When printing the quantum expression (i.e. *expression1*) we can see the decomposed version of quantum logic by using the method *toString()* and passing the parameter *True*.\n",
    "\n",
    "> expression_variable.toString(True)\n",
    "\n",
    "This will output the full decomposed version of the expression. In this case we will see a quantum expression resulting variable like \"*_&0\\S\\*\"\n",
    "\n",
    "- **Note**: The dann5 system generated auxiliary variables start with the underscore character. The value next to the operation (&) is simply to ensure unique variable names and will increase as needed. \n",
    "\n",
    "The symbol next to the underscore indicates that the expression has an operation of type \"*AND (&)*\". The value between the backslash (\\\\) characters indicates the variable value, which in this case is in the *S*(uperposition) state.\n",
    "\n",
    "- **Note**: In this and following chapters we will be refering to the \"decomposed version of quantum logic\" as **dann5 virtual code (d5vc)**."
   ]
  },
  {
   "cell_type": "code",
   "execution_count": 9,
   "id": "8876e736",
   "metadata": {},
   "outputs": [
    {
     "name": "stdout",
     "output_type": "stream",
     "text": [
      "_&0\\S\\ = jim\\S\\ & pam\\S\\; \n"
     ]
    }
   ],
   "source": [
    "print(expression1.toString(True))"
   ]
  },
  {
   "cell_type": "markdown",
   "id": "94bad1a0",
   "metadata": {},
   "source": [
    "To solve the expression, we must import the **Solver** and activate the default solver instance, so the dann5 virtual machine knows what type of solver to use. In this case we are importing *Solver* from *dwave* module of *dann5* package. \n",
    "\n",
    "As of right now you can picture the solver as a black box that does all the quantum magic calculations. Later in this course we will further dive into how the solver works. \n",
    "\n",
    "To solve a quantum expression we simply call it’s *solve()* method. \n",
    "> expression_variable_name.solve()"
   ]
  },
  {
   "cell_type": "code",
   "execution_count": 10,
   "id": "60d1a1aa",
   "metadata": {},
   "outputs": [
    {
     "name": "stdout",
     "output_type": "stream",
     "text": [
      "_&0\\0\\; jim\\0\\; pam\\0\\\n",
      "_&0\\0\\; jim\\0\\; pam\\1\\\n",
      "_&0\\0\\; jim\\1\\; pam\\0\\\n",
      "_&0\\1\\; jim\\1\\; pam\\1\\\n",
      "\n"
     ]
    }
   ],
   "source": [
    "from dann5.dwave import Solver\n",
    "Solver.Active()\n",
    "print(expression1.solve())"
   ]
  },
  {
   "cell_type": "markdown",
   "id": "3d391e4f",
   "metadata": {},
   "source": [
    "We see from the output that all the possibilities of the *AND (&)* operation containing two q-bits are shown along with the results that they will create in the expression. Taking the first line to dissect the solution we see:\n",
    "\n",
    "> _&#\\0\\\\; jim\\0\\\\; pam\\0\\\n",
    "\n",
    "- **Note**: # sign represents any number generated\n",
    "> When the definition of the quantum expression *expression1* is executed the first time in this notebook, the resulting variable name will be *_&0*. The # will increase for any future execution of a definition of a quantum expression which uses quantum bitwise operation *AND (&).\n",
    "\n",
    "The way we read the first solution of this expression is that it’s resulting *Qbit* variable *_&#* has a value of \"*0*\" when *Qbit* variable *jim* has a value of \"*0*\" and *Qbit* variable *pam* has a value of \"*0*\".\n",
    "\n",
    "We see that for the result the only value of *1* is the final line, which is when both *Qbit* variables also have a value of *1*."
   ]
  },
  {
   "cell_type": "markdown",
   "id": "752583a5",
   "metadata": {},
   "source": [
    "## Qbit assignments\n",
    "If we would like to specify a target result value, so that we only see one or a smaller set of results, we use a **quantum assignment** instead of a quantum expression.\n",
    "- **Note**: To narrow down the solutions, we will begin with specifying a target result value that we are looking for, so the result variable must be of the same type as the variables used. \n",
    "\n",
    "We do this the same way as defining the input quantum variables, with the only difference being that we need to add an additional parameter to the Qbit() constructor method, i.e. we are defining a quantum constant as we have discussed earlier:\n",
    "\n",
    "> result_variable = Qbit(\"result_variable_name\", deterministic_value) \n",
    "\n",
    "In the example below we are setting the variable called *result* to the value *1*."
   ]
  },
  {
   "cell_type": "code",
   "execution_count": 11,
   "id": "edda0789",
   "metadata": {},
   "outputs": [
    {
     "name": "stdout",
     "output_type": "stream",
     "text": [
      "result\\1\\\n"
     ]
    }
   ],
   "source": [
    "result = Qbit(\"result\", 1)\n",
    "print(result)"
   ]
  },
  {
   "cell_type": "markdown",
   "id": "34c30cd1",
   "metadata": {},
   "source": [
    "Now we can define a quantum assignment based on the previously defined quantum expression *expression1*. \n",
    "\n",
    "- **Note**: We must use the *reset()* method on the *expression1* as we solved the quantum expression in the above cells. This will remove previously calculated solutions and ensure the result is correct. ***When reusing a quantum expression and encounter illogical output errors make sure to reset the expression.***\n",
    "\n",
    "To set the assignment we use the following syntax:\n",
    " > assignment_variable = result_variable.assign( expression_variable )\n",
    "\n",
    "- **Note**: We do not have to explicitly define a quantum expression variable for a quantum assignment, we can simply state the quantum expression inside the *assign()* function.\n",
    "\n",
    "In quantum space, the following Python definition of quantum assignment variable *assignment1* is equivalent to the definition of the *assignment1* in the code cell below.\n",
    "> assignment1 = result.assign(jim & pam)"
   ]
  },
  {
   "cell_type": "code",
   "execution_count": 12,
   "id": "065d4838",
   "metadata": {},
   "outputs": [
    {
     "name": "stdout",
     "output_type": "stream",
     "text": [
      "result\\1\\ = (jim\\S\\ & pam\\S\\)\n",
      "result\\1\\ = jim\\S\\ & pam\\S\\; \n"
     ]
    }
   ],
   "source": [
    "expression1.reset()\n",
    "assignment1 = result.assign(expression1)\n",
    "\n",
    "print(assignment1)\n",
    "print(assignment1.toString(True))"
   ]
  },
  {
   "cell_type": "markdown",
   "id": "460d7e3b",
   "metadata": {},
   "source": [
    "From the output above we see the whole quantum assignment and it's d5vc. It states that we are looking for all possibilities of values for *jim* and *pam* q-bits where their *AND (&)* quantum expression is equal to *1*.\n",
    "\n",
    "- **Note**: The decomposed version of the quantum assignment (d5vc) above and non-decomposed version are the same as this an elementary quantum operation of a quantum atomic type. When the operations become more complex there should be additional values presented in the decomposed version.\n",
    "    > This means that there is simple and direct transformation to a defined quantum expression using a single *AND (&)* quantum operation for *Qbit* type. \n",
    "\n",
    "To solve the quantum assignment is the same as solving a quantum expression, we are using the quantum assignment *solve()* method."
   ]
  },
  {
   "cell_type": "code",
   "execution_count": 13,
   "id": "dbfede59",
   "metadata": {},
   "outputs": [
    {
     "name": "stdout",
     "output_type": "stream",
     "text": [
      "result\\1\\; jim\\1\\; pam\\1\\\n",
      "\n"
     ]
    }
   ],
   "source": [
    "print(assignment1.solve())"
   ]
  },
  {
   "cell_type": "markdown",
   "id": "2484e9d4",
   "metadata": {},
   "source": [
    "As expected, based on the solutions of the quantum expression *expression1* from the above output, there is only one possibility where the result will be of value *1*. And that is when both *Qbit*-s, *jim* and *pam*, are *1*."
   ]
  },
  {
   "cell_type": "code",
   "execution_count": 14,
   "id": "9c7e1340",
   "metadata": {},
   "outputs": [
    {
     "name": "stdout",
     "output_type": "stream",
     "text": [
      "result2\\0\\ = (jim\\S\\ & pam\\S\\)\n",
      "result2\\0\\; jim\\0\\; pam\\0\\\n",
      "result2\\0\\; jim\\0\\; pam\\1\\\n",
      "result2\\0\\; jim\\1\\; pam\\0\\\n",
      "\n"
     ]
    }
   ],
   "source": [
    "result2 = Qbit(\"result2\", 0)\n",
    "\n",
    "assignment2 = result2.assign(jim & pam)\n",
    "\n",
    "print(assignment2)\n",
    "print(assignment2.solve())"
   ]
  },
  {
   "cell_type": "markdown",
   "id": "d2d54c54",
   "metadata": {},
   "source": [
    "And now since we set the result target value to \"0\" in the above code cell, the quantum assignment *assignment2* has the other 3 possibilities as a set of valid solutions."
   ]
  },
  {
   "cell_type": "markdown",
   "id": "c418ad97",
   "metadata": {},
   "source": [
    "## Try it\n",
    "We will cover one more operator in the next example. Feel free to change this code to see how different values and different quantum bitwise operations will create different results. In this case we will try the OR operator using different *Qbit* variables.\n",
    "\n",
    "- **Note**: If you encounter illogical solutions after changing the code and reusing the previously defined quantum assignments, you can try the quantum assignment *reset()* method to remove any previously accumulated solutions."
   ]
  },
  {
   "cell_type": "code",
   "execution_count": 15,
   "id": "abeafa31",
   "metadata": {},
   "outputs": [
    {
     "name": "stdout",
     "output_type": "stream",
     "text": [
      "result2\\1\\ = (roger\\S\\ | bobby\\S\\)\n",
      "result2\\1\\; roger\\1\\; bobby\\0\\\n",
      "result2\\1\\; roger\\0\\; bobby\\1\\\n",
      "result2\\1\\; roger\\1\\; bobby\\1\\\n",
      "\n"
     ]
    }
   ],
   "source": [
    "roger = Qbit(\"roger\")\n",
    "bobby = Qbit(\"bobby\")\n",
    "result3 = Qbit(\"result2\", 1)\n",
    "\n",
    "assignment3 = result3.assign(roger | bobby)\n",
    "print(assignment3)\n",
    "\n",
    "print(assignment3.solve())"
   ]
  },
  {
   "cell_type": "markdown",
   "id": "0a6d5eae",
   "metadata": {},
   "source": [
    "*Qbit* quantum bitwise operations are:\n",
    "\n",
    "    Type     Operation\n",
    "\n",
    "    AND       x & y\n",
    "\n",
    "    OR        x | y\n",
    "\n",
    "    XOR       x ^ y\n",
    "\n",
    "    NAND     x.nand(y)\n",
    "\n",
    "    NOR      x.nor(y)\n",
    "\n",
    "    NXOR     x.nxor(y) "
   ]
  },
  {
   "cell_type": "markdown",
   "id": "2edf5d66",
   "metadata": {},
   "source": [
    "In **the next chapter, 1.2**, we will be covering the ***Qbool* type**. In chapter 2.1., we will expand and look at how *Qbit* operations and operands are used to define more complex quantum expressions and assignments."
   ]
  }
 ],
 "metadata": {
  "kernelspec": {
   "display_name": "Python 3 (ipykernel)",
   "language": "python",
   "name": "python3"
  },
  "language_info": {
   "codemirror_mode": {
    "name": "ipython",
    "version": 3
   },
   "file_extension": ".py",
   "mimetype": "text/x-python",
   "name": "python",
   "nbconvert_exporter": "python",
   "pygments_lexer": "ipython3",
   "version": "3.10.6"
  }
 },
 "nbformat": 4,
 "nbformat_minor": 5
}
