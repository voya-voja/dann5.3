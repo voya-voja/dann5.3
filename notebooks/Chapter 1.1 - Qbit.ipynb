{
 "cells": [
  {
   "cell_type": "markdown",
   "id": "cf8922ab",
   "metadata": {},
   "source": [
    "# Chapter 1.1 - Qbit\n",
    "\n",
    "In this section of chapter 1 we will be walking through how to set Qbit variables, create expressions and assignments with those variables and solve those expressions and assignments. \n",
    "\n",
    "\n",
    "Qbit\n",
    "Quantum bit, Qbit is a quantum type supporting instantiation of and operations over variables which can have values 0, 1 or superposition. A Qbit can be set into superposition state by initializing an instance with a value of character 'S' (83 as per ASCII).\n",
    "\n",
    "To start you must import the Qbit class from dann5.\n",
    "\n",
    "An instance of Qbit can be created by use of default constructor, which will initialize the instance in superposition state:"
   ]
  },
  {
   "cell_type": "code",
   "execution_count": 27,
   "id": "66e8c086",
   "metadata": {},
   "outputs": [
    {
     "name": "stdout",
     "output_type": "stream",
     "text": [
      "\\S\\\n"
     ]
    }
   ],
   "source": [
    "from dann5.d5 import Qbit\n",
    "q_bit = Qbit()\n",
    "print(q_bit)"
   ]
  },
  {
   "cell_type": "markdown",
   "id": "d5dc6bcb",
   "metadata": {},
   "source": [
    "> python variable *q_bit* is a reference to an instance of Qbit object that is initialized in superposition (**S**) state.\n",
    "\n",
    "*For a problem to be solvable all the quantum variables, used to express the problem, need to have **quantum identity** defined.* This can be done by explicitly calling *id()* method or by using overloaded Qbit constructor:"
   ]
  },
  {
   "cell_type": "code",
   "execution_count": 29,
   "id": "a39de40a",
   "metadata": {
    "scrolled": true
   },
   "outputs": [
    {
     "name": "stdout",
     "output_type": "stream",
     "text": [
      "qBit\\S\\ ,  r\\S\\\n"
     ]
    }
   ],
   "source": [
    "q_bit.id('qBit')\n",
    "r = Qbit(\"r\")\n",
    "print(q_bit, ', ', r)"
   ]
  },
  {
   "cell_type": "markdown",
   "id": "a5afe86f",
   "metadata": {},
   "source": [
    "NOTE: As all quantum variables will need specified quantum identity, the best practice is to use overloaded constructors to specify the identity at the time of instantiation of a quantum variable.\n",
    "\n",
    "Additionally, it is possible to initialize a Qbit variable with a specific value:"
   ]
  },
  {
   "cell_type": "code",
   "execution_count": 30,
   "id": "eafaa5fd",
   "metadata": {},
   "outputs": [
    {
     "name": "stdout",
     "output_type": "stream",
     "text": [
      "_0_\\0\\, _1_\\1\\, y\\S\\\n"
     ]
    }
   ],
   "source": [
    "_0_ = Qbit(\"_0_\", 0)\n",
    "_1_ = Qbit(\"_1_\", 1)\n",
    "y = Qbit(\"y\", 5)\n",
    "print(\"{}, {}, {}\".format(_0_, _1_, y))"
   ]
  },
  {
   "cell_type": "markdown",
   "id": "d4a82ab5",
   "metadata": {},
   "source": [
    "A Qbit variable can be initialized to 0, 1 or S(uperposition) state only. Any deterministic value different that 0 and 1 sets a quantum variable into a superposition state. i.e. in above example y Qbit variable is initialized in a S(uperposition) state.\n",
    "\n",
    "NOTE: Even though we can use 'S' or 83 to initialize Qbit variable, the proper way of initializing a Qbit variable is use of Superposition() state method or not specifying any value when initializing a Qbit variable in python."
   ]
  },
  {
   "cell_type": "markdown",
   "id": "b36624bf",
   "metadata": {},
   "source": [
    "Now we will set two qbit variables for use in our expression."
   ]
  },
  {
   "cell_type": "code",
   "execution_count": 40,
   "id": "95ec4cc2",
   "metadata": {},
   "outputs": [],
   "source": [
    "jim = Qbit(\"jim\")\n",
    "pam = Qbit(\"pam\")"
   ]
  },
  {
   "cell_type": "markdown",
   "id": "1658ebb0",
   "metadata": {},
   "source": [
    "When printing the vairiables if the method to which they have been set is the one above the value of both variables will be \"S\" which stands for superposition state. This means that the variable does not yet have a defined value (in the Qbit case \"0\" or \"1\") and is somewhere in between.\n",
    "\n",
    "The output of the varible will look as follows:\n",
    "\n",
    "variable_name\\value_of_variable\\"
   ]
  },
  {
   "cell_type": "code",
   "execution_count": 41,
   "id": "ead6af32",
   "metadata": {},
   "outputs": [
    {
     "name": "stdout",
     "output_type": "stream",
     "text": [
      "jim\\S\\\n",
      "pam\\S\\\n"
     ]
    }
   ],
   "source": [
    "print(jim)\n",
    "print(pam)"
   ]
  },
  {
   "cell_type": "markdown",
   "id": "9f426b19",
   "metadata": {},
   "source": [
    "Now we will create an expression with the two variables we have set. In this case we would like to use the AND operator to see all possibilities where the result will be 1. \n",
    "\n",
    "There are other operators we could use any of the logical expressions seen in classical computers (OR, NOR, XOR, NAND, etc.). We will cover another example of operator later in this section.\n",
    "\n",
    "In this case to set the expression we simply use the following syntax:\n",
    "\n",
    "expression_variable_name = qbit_variable_name & qbit_variable_name"
   ]
  },
  {
   "cell_type": "code",
   "execution_count": 42,
   "id": "9121f930",
   "metadata": {},
   "outputs": [
    {
     "name": "stdout",
     "output_type": "stream",
     "text": [
      "(jim\\S\\ & pam\\S\\)\n"
     ]
    }
   ],
   "source": [
    "expression = jim & pam;\n",
    "\n",
    "print(expression)"
   ]
  },
  {
   "cell_type": "markdown",
   "id": "42893fc5",
   "metadata": {},
   "source": [
    "When printing the expression we can see the decomposed version by using the method toString() and passing the parameter True to see decomposed version.\n",
    "\n",
    "e.g. expression_variable_name.toString(True)\n",
    "\n",
    "This will output the full decomposed version of the expression, in this case we will see \"_&1\\S\\\" \n",
    "\n",
    "This variable format is to indicate that the expression is of type & and it also is in the superposition state as its value is not yet determined. \n",
    "\n",
    "*Note: The value next to the & is simply to ensure unique varibale names and will increase as needed."
   ]
  },
  {
   "cell_type": "code",
   "execution_count": 34,
   "id": "8876e736",
   "metadata": {},
   "outputs": [
    {
     "name": "stdout",
     "output_type": "stream",
     "text": [
      "_&3\\S\\ = jim\\S\\ & pam\\S\\; \n"
     ]
    }
   ],
   "source": [
    "print(expression.toString(True))"
   ]
  },
  {
   "cell_type": "markdown",
   "id": "94bad1a0",
   "metadata": {},
   "source": [
    "To now solve the expression we must import the Solver and activate the solver so that the quantum simulator knows what type of solver method to use. In this case we are importing the dwave solver. \n",
    "\n",
    "As of right now you can picture the solver as a black box that does all the quantum magic calculations. Later in this course we will further dive into how the solver works. \n",
    "\n",
    "The to solve the expression we simply call the solve() method. \n",
    "i.e. expression_variable_name.solve()"
   ]
  },
  {
   "cell_type": "code",
   "execution_count": 35,
   "id": "60d1a1aa",
   "metadata": {},
   "outputs": [
    {
     "name": "stdout",
     "output_type": "stream",
     "text": [
      "_&3\\0\\; jim\\0\\; pam\\0\\\n",
      "_&3\\0\\; jim\\0\\; pam\\1\\\n",
      "_&3\\0\\; jim\\1\\; pam\\0\\\n",
      "_&3\\1\\; jim\\1\\; pam\\1\\\n",
      "\n"
     ]
    }
   ],
   "source": [
    "from dann5.dwave import Solver\n",
    "Solver.Active()\n",
    "print(expression.solve())"
   ]
  },
  {
   "cell_type": "markdown",
   "id": "3d391e4f",
   "metadata": {},
   "source": [
    "We see from the output that all the possibilities of the AND of the two qbits is shown along with the results that they will create in the expression. Taking the first line to dissect the solution we see:\n",
    "\n",
    "_&2\\0\\; jim\\0\\; pam\\0\\\n",
    "\n",
    "The way we read this is that the expression(_&2) has a value of \"0\" when qbit variable jim has a value of \"0\" and qbit variable pam has a value of \"0\".\n",
    "\n",
    "We see that for the result the only value of 1 is the final line, which is when both qbit variables also have a value of 1. Now if we would like to specify result values so that we only see one result or a small set of results with a target value that is where we will use quantum assignment instead of quantum expression."
   ]
  },
  {
   "cell_type": "markdown",
   "id": "752583a5",
   "metadata": {},
   "source": [
    "To narrow down the answers we will begin with specifying a result value that we are looking for. This result must be of the same type as the variables supplied. \n",
    "\n",
    "We do this the same way as setting variables, with the only difference being that we need to add an additional parameter to the Qbit() consructor method:\n",
    "\n",
    "result_variable_name = Qbit(\"result_variable_name\", value_of_result) \n",
    "\n",
    "In the below case we are setting the result value to 1, which means when printing it will no longer be of value superposition (\"S\")."
   ]
  },
  {
   "cell_type": "code",
   "execution_count": 36,
   "id": "edda0789",
   "metadata": {},
   "outputs": [
    {
     "name": "stdout",
     "output_type": "stream",
     "text": [
      "result\\1\\\n"
     ]
    }
   ],
   "source": [
    "result = Qbit(\"result\", 1)\n",
    "print(result)"
   ]
  },
  {
   "cell_type": "markdown",
   "id": "34c30cd1",
   "metadata": {},
   "source": [
    "Now we can set an assignment based on the expression created. \n",
    "*Note: we must use the reset() method on the expression as we solved the expression in the above cells. This will ensure the result is correct and not output any errors.\n",
    "\n",
    "To set the assignment we use the following syntax:\n",
    "assignment_var_name = result_var_name.assign(\"expression_var_name)\n",
    "\n",
    "*Note we do not have to create an expression variable we can simply pass the whole expression inside, i.e. assignment = result.assign(jim & pam)"
   ]
  },
  {
   "cell_type": "code",
   "execution_count": 37,
   "id": "065d4838",
   "metadata": {},
   "outputs": [
    {
     "name": "stdout",
     "output_type": "stream",
     "text": [
      "result\\1\\ = (jim\\S\\ & pam\\S\\)\n",
      "result\\1\\ = jim\\S\\ & pam\\S\\; \n"
     ]
    }
   ],
   "source": [
    "expression.reset()\n",
    "assignment = result.assign(expression)\n",
    "\n",
    "print(assignment)\n",
    "print(assignment.toString(True))"
   ]
  },
  {
   "cell_type": "markdown",
   "id": "460d7e3b",
   "metadata": {},
   "source": [
    "Now in the output above we see the whole assignment that is stating we are looking for all possibilities of values for jim and pam qbits where their AND expression is equal to 1.\n",
    "\n",
    "And now we solve the assignment."
   ]
  },
  {
   "cell_type": "code",
   "execution_count": 38,
   "id": "dbfede59",
   "metadata": {},
   "outputs": [
    {
     "name": "stdout",
     "output_type": "stream",
     "text": [
      "result\\1\\; jim\\1\\; pam\\1\\\n",
      "\n"
     ]
    }
   ],
   "source": [
    "print(assignment.solve())"
   ]
  },
  {
   "cell_type": "markdown",
   "id": "2484e9d4",
   "metadata": {},
   "source": [
    "And we see from the above output that there is only one possibility where the result will be of value 1. And that is when both qbits jim and pam are eqaul to 1. "
   ]
  },
  {
   "cell_type": "markdown",
   "id": "c418ad97",
   "metadata": {},
   "source": [
    "Now we will cover one more operator. Feel free to change this code to see how different values will create different results. In this case we will try the OR operator."
   ]
  },
  {
   "cell_type": "code",
   "execution_count": 39,
   "id": "abeafa31",
   "metadata": {},
   "outputs": [
    {
     "name": "stdout",
     "output_type": "stream",
     "text": [
      "result2\\1\\ = (roger\\S\\ | bobby\\S\\)\n",
      "result2\\1\\; roger\\1\\; bobby\\0\\\n",
      "result2\\1\\; roger\\0\\; bobby\\1\\\n",
      "result2\\1\\; roger\\1\\; bobby\\1\\\n",
      "\n"
     ]
    }
   ],
   "source": [
    "roger = Qbit(\"roger\")\n",
    "bobby = Qbit(\"bobby\")\n",
    "result2 = Qbit(\"result2\", 1)\n",
    "\n",
    "assignment2 = result2.assign(roger | bobby)\n",
    "print(assignment2)\n",
    "\n",
    "print(assignment2.solve())"
   ]
  },
  {
   "cell_type": "markdown",
   "id": "0a6d5eae",
   "metadata": {},
   "source": [
    "Logical operators:\n",
    "\n",
    "    Type Symbol\n",
    "\n",
    "    AND &\n",
    "\n",
    "    OR |\n",
    "\n",
    "    XOR ^\n",
    "\n",
    "    NAND !('x' & 'y')\n",
    "\n",
    "    NOR !('x' | 'y')\n",
    "\n",
    "    NXOR !('x' ^ 'y') "
   ]
  },
  {
   "cell_type": "markdown",
   "id": "2edf5d66",
   "metadata": {},
   "source": [
    "In the next section, Chapter 1.2, we will be covering the Qbool type."
   ]
  }
 ],
 "metadata": {
  "kernelspec": {
   "display_name": "Python 3 (ipykernel)",
   "language": "python",
   "name": "python3"
  },
  "language_info": {
   "codemirror_mode": {
    "name": "ipython",
    "version": 3
   },
   "file_extension": ".py",
   "mimetype": "text/x-python",
   "name": "python",
   "nbconvert_exporter": "python",
   "pygments_lexer": "ipython3",
   "version": "3.10.11"
  }
 },
 "nbformat": 4,
 "nbformat_minor": 5
}
