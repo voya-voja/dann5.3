{
 "cells": [
  {
   "cell_type": "markdown",
   "id": "3dbce3b9",
   "metadata": {},
   "source": [
    "# Create Local Quantum Development Environment (Windows)\n",
    "\n",
    "## Download and install [Python 3.10.11 (64-bit)](https://www.python.org/downloads/release/python-31011/)\n",
    "**Python** will be installed in *%userprofile%/AppData/Local/Programs/Python/Python310* folder.\n",
    "Set up Python environment variables:\n",
    "1. Open *Administrative Tools* (i.e. *Control Panel*)\n",
    "2. Using *Search Control Panel* box (in top right corner) search for *environment* and press *enter*\n",
    "3. Click on *Edit the system environment variables* link\n",
    "4. *System Properties* box will open, click on *Environment variables...* button (at bottom-right corner)\n",
    "5. *Environment variables* box will open\n",
    "6. If *PYTHONHOME* already exist in *User variables for ...*, use *Edit...\" button to change it, otherwise use *New...* button\n",
    "7. Set *PYTHONHOME* to *%userprofile%/AppData/Local/Programs/Python/Python310*\n",
    "8. If *PYTHONPATH* already exist in *User variables for ...*, use *Edit...\" button to change it, otherwise use *New...* button\n",
    "9. Set *PYTHONPATH* to *%PYTHONHOME%*\n",
    "10. If *PATH* already exist in *User variables for ...*, use *Edit...\" button to change it, otherwise use *New...* button\n",
    "11. Make sure that *PATH* includes *%userprofile%\\AppData\\Local\\Programs\\Python\\Python310\\Scripts\\* and %userprofile%\\AppData\\Local\\Programs\\Python\\Python310\\* paths\n",
    "\n",
    "Now **python** is ready to set up a new virtual environment. To verify all is ready, open *Command Prompt* window and run \n",
    "> python --version\n",
    "\n",
    "Python 3.10.11"
   ]
  },
  {
   "cell_type": "markdown",
   "id": "5ef83a9a",
   "metadata": {},
   "source": [
    "## Create python virtual environment for quantum development\n",
    "Create a virtual environment for your Quantum work. To create **d5** virtual environment:\n",
    "1. Open *Command Prompt* window\n",
    "2. Go to folder where *d5* virtual environment folder should be created\n",
    "    - e.g. you can create *Envs* folder in *%userprofile%/AppData/Local* folder and run the following command\n",
    "    > cd %userprofile%/AppData/Local/Envs\n",
    "3. Run the following command to create a virtual environment called *d5*\n",
    "    > python -m venv d5\n",
    "4. *Activate* the virtual environment by running:\n",
    "    > %userprofile%/AppData/Local/Envs/d5/Scripts/activate\n",
    "5. As a result, the prompt will change to begin with *(d5)*\n",
    "6. Upgrade *pip* by running:\n",
    "    > python -m pip install --upgrade pip\n",
    "7. To be able to execute or create *jupyterlab and notebook* [install jupyter packages](https://jupyter.org/install) by running:\n",
    "    > pip install --upgrade jupyterlab\n",
    "    \n",
    "    > pip install --upgrade notebook\n",
    "    # make sure spyder kernel version is correct \n",
    "8. To be able to write or debug python code download and install [Spyder 5.5.1](https://www.spyder-ide.org/)\n",
    "    - Spyder comes with selected python 3.7.9 package. To use the *quantum virtual environment (QVE)* and Python 3.10.11\n",
    "    1. Install spyder-kernels and matplotlib, using *Command Prompt* in the **active QVE** \n",
    "        > pip install --upgrade matplotlib\n",
    "        >\n",
    "        > pip install spyder‐kernels==5.5.*\n",
    "    2. Open Spyder from *Windows Start menu*\n",
    "    3. Change Spyder’s default Python interpreter by click the name of the current environment (i.e. *custom(Python 3.7.5)*) in the status bar, \n",
    "    4. then click *Change default environment in Preferences...*, which will open the *Preferences* dialog in the Python interpreter section. \n",
    "    5. select the option *Use the following Python interpreter*, \n",
    "    6. use the text box or the Select file button to enter the path to the Python interpreter you want to use, e.g.:\n",
    "        > %userprofile%/AppData/Local/Envs/d5/Scripts/python.exe \n",
    "    - The name of the current environment in the status bar should change to *custom(Python 3.10.11)*. \n",
    "    - See the [IPython Console](https://docs.spyder-ide.org/current/panes/ipythonconsole.html)  for more information."
   ]
  },
  {
   "cell_type": "markdown",
   "id": "657eeb70",
   "metadata": {},
   "source": [
    "## To Use DWave Install [Ocean Tools](https://docs.ocean.dwavesys.com/en/latest/overview/install.html)\n",
    "If you would like to develop a quantum solution to be executed on *DWave quantum annealer, hybrid-computer or simulator*, you have to create a developer account in *DWave Leap* cloud and install *DWave Ocean SDK* in local *QVE*.\n",
    "1. To create DWave Leap developer account you need a *[github account](https://github.com/)*. If you don't, [create one](https://docs.github.com/en/get-started/signing-up-for-github/signing-up-for-a-new-github-account).\n",
    "2. Create a developer account on [*DWave Leap*](https://cloud.dwavesys.com/leap/signup/).\n",
    "3. [Log in](https://cloud.dwavesys.com/leap/login/?next=/leap/) using your DWave Leap developer account.\n",
    "    - Explore DWave Leap landing page and locate *API Token*, which you will need to configure DWave Ocean in your local QVE.\n",
    "    - You can develop/debug DWave specialized quantum solutions in Leap, by creating your *Leap IDE*, under *Resources*.\n",
    "4. [Install](https://docs.ocean.dwavesys.com/en/latest/overview/install.html) and  by running following commands using *Command Prompt* in your local **active QVE**\n",
    "    > pip install --upgrade dwave-ocean-sdk\n",
    "5. [configure](https://docs.ocean.dwavesys.com/en/stable/docs_cli.html) DWave Ocean in your local QVE by running:\n",
    "    > dwave config create\n",
    "    1. when prompted *Available profiles: defaults* just press *enter* \n",
    "    2. when prompted *Profile (select existing or create new) [defaults]:* just press *enter* \n",
    "    3. when prompted to enter *Authentication token [skip]:* past the *API Token* that you have copied from your DWave Leap landing page and press *enter*\n",
    "    - The result should be:\n",
    "        > Using the simplified configuration flow.\n",
    "        >\n",
    "        > Try 'dwave config create --full' for more options.\n",
    "        >\n",
    "        >\n",
    "        > Updating existing configuration file: %userprofile%\\AppData\\Local\\dwavesystem\\dwave\\dwave.conf\n",
    "        >\n",
    "        > **Available profiles: defaults**\n",
    "        >\n",
    "        > **Profile (select existing or create new) [defaults]:**\n",
    "        >\n",
    "        > Updating existing profile: defaults\n",
    "        >\n",
    "        > **Authentication token [skip]:** DEV-#########################\n",
    "        >\n",
    "        > Configuration saved.\n",
    "\n",
    "6. [Test communications](https://docs.ocean.dwavesys.com/en/latest/overview/sapi.html) with the DWave quantum computer by running:\n",
    "    > dwave ping --client qpu\n",
    "    - If you encounter SSLError, you need to download and past certificates recognised by DWave endpoint into *cacert.pem* file located in *Lib\\site-packages\\certifi\\* in your local *QVE* by following these [instructions](https://support.dwavesys.com/hc/en-us/community/posts/360018930954-Resolving-SSL-certificate-verify-fails-error-message-from-dwave-ping-command). Step-by-step instructions for Windows are one third down the page. Serach for *Windows specific instructions* to locate them.\n",
    "\n",
    "Now your local *QVE* is ready for development of quantum solutions, which you can confirm by submitting a random problem to a remote solver by running follwoing command using *Command Prompt* in **active QVE**.\n",
    "> dwave sample --random-problem\n",
    "\n",
    "Also, you can use installed *python* and *spyder* IDEs to develop python code and test it on [DWave simulators](https://docs.ocean.dwavesys.com/en/latest/docs_dimod/reference/sampler_composites/samplers.html), [quantum solvers](https://docs.ocean.dwavesys.com/en/stable/overview/qpu.html#using-qpu) or [hybrid  sampler](https://docs.ocean.dwavesys.com/en/stable/overview/samplers.html)."
   ]
  },
  {
   "cell_type": "markdown",
   "id": "5ee03042",
   "metadata": {},
   "source": [
    "## Quantum coding with [dann5.d5](https://pypi.org/project/dann5/) \n",
    "To write a simple quantum code that you can run on a quantum simulator, annealer or computer you should install *dann5* library **d5**, version 3 for Windows.\n",
    "> pip install --upgrade dann5\n",
    "\n",
    "This will install pybind11 and dann5 packages into %userprofile%/AppData/Local/Envs/d5/Lib/site-packages.\n",
    "\n",
    "To test your local quantum virtual environment, you can run the following code using **python** from a *Command Prompt* or use **spyder** as an *IDE*.\n",
    "> The following code finds all possible combinations of 3 factors of a number 18, where factor **p** is *unknown q-whole number with 3 q-bits in superposition state*, while **q** and **r** are two *unknown q-whole numbers with 2 q-bits* each.\n",
    ">\n",
    "> The *mM.solve()* method uses dann5.d5o quantum annealing simulator to identify all possible solutions for **p, q and r** (shown below).\n",
    ">\n",
    "> You will need to insert *Solver.Active()* to activate the default dann5 solver for simulating solutions."
   ]
  },
  {
   "cell_type": "code",
   "execution_count": 5,
   "id": "804b7e38",
   "metadata": {},
   "outputs": [
    {
     "name": "stdout",
     "output_type": "stream",
     "text": [
      "d5o simulation solutions: \n",
      "M\\5:18\\; _+10\\4:0\\; p\\3:0\\; q\\2:0\\; r\\2:2\\\n",
      "M\\5:18\\; _+10\\4:2\\; p\\3:0\\; q\\2:2\\; r\\2:0\\\n",
      "M\\5:18\\; _+10\\4:2\\; p\\3:2\\; q\\2:0\\; r\\2:0\\\n",
      "M\\5:18\\; _+10\\4:2\\; p\\3:0\\; q\\2:1\\; r\\2:1\\\n",
      "M\\5:18\\; _+10\\4:2\\; p\\3:1\\; q\\2:0\\; r\\2:1\\\n",
      "M\\5:18\\; _+10\\4:2\\; p\\3:1\\; q\\2:1\\; r\\2:0\\\n",
      "\n"
     ]
    }
   ],
   "source": [
    "import dann5.d5 as d5\n",
    "from dann5.dwave import Solver\n",
    "Solver.Active()\n",
    "p = d5.Qwhole(3,\"p\")\n",
    "q = d5.Qwhole(2, \"q\")\n",
    "r = d5.Qwhole(2, \"r\")\n",
    "M = d5.Qwhole(\"M\", 18)\n",
    "mM = M.assign(p + q + r)\n",
    "mM.solve()\n",
    "print(\"d5o simulation solutions: \\n{}\".format(mM.solutions()))"
   ]
  },
  {
   "cell_type": "markdown",
   "id": "e00dd406",
   "metadata": {},
   "source": [
    "The *mM.solutions()* method returns line by line all found solutions of expression **M = 18 = p[3] * q[2] * r[2]**, where each variable is presented as \n",
    "- *variable_name* ***/*** *#_of_q-bits* ***:*** *varaible_value* ***/***\n",
    "\n",
    "Additionally, any variable named **'_*#'** (where *#* is a number) is a temporary multiplication variable representing a result of **_*# = p * q** expression.\n",
    "\n",
    "Furthermore, we can easily prepare the assignment for execution on a quantum computer, by retrieving its QUBO presentation.\n",
    "> The *assignment mM* is converted into its **qubo** presentation via *mM.qubo()* call, below.\n",
    "> While **Qanalyzer** provides number of *logical quantum nodes and branches* required to process the given qubo."
   ]
  },
  {
   "cell_type": "code",
   "execution_count": 2,
   "id": "b9dab755",
   "metadata": {},
   "outputs": [
    {
     "name": "stdout",
     "output_type": "stream",
     "text": [
      "--- Reduced discrete values Qubo --- {('#0', '#0'): 10.0, ('#0', '#1'): -8.0, ('#0', '_*02'): -4.0, ('#1', '#1'): 10.0, ('#1', '_*03'): -4.0, ('#1', '_*04'): -8.0, ('#3', '#3'): 9.0, ('#3', '#4'): -4.0, ('#4', '#4'): 5.0, ('#4', '#5'): -4.0, ('#5', '#5'): 3.0, ('#5', '#6'): -4.0, ('#6', '#6'): 9.0, ('_&1', '#0'): -8.0, ('_&1', '_&1'): 8.0, ('_&1', '_*01'): -4.0, ('_&10', '#3'): 2.0, ('_&10', '#4'): -4.0, ('_&10', '_&10'): 4.0, ('_&10', '_&9'): 2.0, ('_&11', '#4'): 2.0, ('_&11', '#5'): -4.0, ('_&11', '_&11'): 4.0, ('_&12', '#4'): 2.0, ('_&12', '#5'): -4.0, ('_&12', '_&11'): 2.0, ('_&12', '_&12'): 4.0, ('_&13', '#5'): 2.0, ('_&13', '#6'): -4.0, ('_&13', '_&13'): 2.0, ('_&14', '#5'): 2.0, ('_&14', '#6'): -4.0, ('_&14', '_&13'): 2.0, ('_&14', '_&14'): 2.0, ('_&15', '#6'): 2.0, ('_&15', '_&15'): 4.0, ('_&2', '#0'): -8.0, ('_&2', '_&1'): 4.0, ('_&2', '_&2'): 8.0, ('_&2', '_*01'): -4.0, ('_&3', '#0'): 4.0, ('_&3', '#1'): -8.0, ('_&3', '_&3'): 8.0, ('_&3', '_*02'): -4.0, ('_&4', '#0'): 4.0, ('_&4', '#1'): -8.0, ('_&4', '_&3'): 4.0, ('_&4', '_&4'): 8.0, ('_&4', '_*02'): -4.0, ('_&5', '#1'): 4.0, ('_&5', '_&5'): 8.0, ('_&5', '_*03'): -4.0, ('_&5', '_*04'): -8.0, ('_&7', '#3'): -4.0, ('_&7', '_&7'): 2.0, ('_&8', '#3'): -4.0, ('_&8', '_&7'): 2.0, ('_&8', '_&8'): 2.0, ('_&9', '#3'): 2.0, ('_&9', '#4'): -4.0, ('_&9', '_&9'): 4.0, ('_*00', '_&7'): -2.0, ('_*00', '_*00'): 6.0, ('_*00', 'r0'): 1.0, ('_*00', 'r1'): 1.0, ('_*01', '#0'): 8.0, ('_*01', '_&8'): -2.0, ('_*01', '_&9'): -2.0, ('_*01', '_*01'): 2.0, ('_*01', 'r0'): 1.0, ('_*01', 'r1'): 1.0, ('_*02', '#1'): 8.0, ('_*02', '_&10'): -2.0, ('_*02', '_&11'): -2.0, ('_*02', '_*02'): 2.0, ('_*02', 'r0'): 1.0, ('_*02', 'r1'): 1.0, ('_*03', '_&12'): -2.0, ('_*03', '_&13'): -2.0, ('_*03', '_*03'): 2.0, ('_*03', '_*04'): 8.0, ('_*03', 'r0'): 1.0, ('_*03', 'r1'): 1.0, ('_*04', '_&14'): -2.0, ('_*04', '_&15'): -2.0, ('_*04', '_*04'): 8.0, ('_*04', 'r0'): 1.0, ('_*04', 'r1'): 1.0, ('p0', '_&1'): -4.0, ('p0', '_*00'): -4.0, ('p0', 'p0'): 0.0, ('p0', 'q0'): 2.0, ('p0', 'q1'): 2.0, ('p1', '_&2'): -4.0, ('p1', '_&3'): -4.0, ('p1', 'p1'): 0.0, ('p1', 'q0'): 2.0, ('p1', 'q1'): 2.0, ('p2', '_&4'): -4.0, ('p2', '_&5'): -4.0, ('p2', 'p2'): 0.0, ('p2', 'q0'): 2.0, ('p2', 'q1'): 2.0, ('q0', '_&2'): -4.0, ('q0', '_&4'): -4.0, ('q0', '_*00'): -4.0, ('q0', 'q0'): 0.0, ('q1', '_&1'): -4.0, ('q1', '_&3'): -4.0, ('q1', '_&5'): -4.0, ('q1', 'q1'): 0.0, ('r0', '_&10'): -2.0, ('r0', '_&12'): -2.0, ('r0', '_&14'): -2.0, ('r0', '_&8'): -2.0, ('r0', 'r0'): 0.0, ('r1', '_&11'): -2.0, ('r1', '_&13'): -2.0, ('r1', '_&15'): -2.0, ('r1', '_&7'): -2.0, ('r1', '_&9'): -2.0, ('r1', 'r1'): 0.0}\n",
      "\n",
      "# of nodes: 32\t# of branches: 90\n"
     ]
    }
   ],
   "source": [
    "# this will need to change, reference basic_types.py for new format (using QCompiler)\n",
    "qubo = mM.qubo()\n",
    "print(\"--- Reduced discrete values Qubo --- {}\\n\".format(qubo))\n",
    "analyze = d5o.Qanalyzer(qubo)\n",
    "print(\"# of nodes: {}\\t# of branches: {}\".format(analyze.nodesNo(), analyze.branchesNo()))"
   ]
  },
  {
   "cell_type": "markdown",
   "id": "3984110f",
   "metadata": {},
   "source": [
    "The created qubo can be executed on DWave Hybrid computer as in the following example:\n",
    "> *mM.reset()* sets the assignment into its initial stage, i.e. without solutions.\n",
    "> The *qubo* is sent to **LeapHybridSampler** via *hybrid.sample_qubo(...)* call, which returns a sampleset. As we are interested in solutions of the assignment, *samples* dictionary is created containing *lowest samples from the sampleset*.\n",
    ">\n",
    "> The retrieved *samples* are added to the original assignment *mM*, in order for the assignment to interpret the solution.\n",
    "- **NOTE**: Hybrid sampler always returns just one of the possible minimums..."
   ]
  },
  {
   "cell_type": "code",
   "execution_count": 3,
   "id": "32db64ba",
   "metadata": {},
   "outputs": [
    {
     "name": "stdout",
     "output_type": "stream",
     "text": [
      "DWave Hybrid-sampler QUBO solutions: \n",
      "M/7:18/; _*0/5:18/; p/3:6/; q/2:3/; r/2:1/\n",
      "\n"
     ]
    }
   ],
   "source": [
    "mM.reset()\n",
    "\n",
    "from dwave.system.samplers import LeapHybridSampler\n",
    "hybrid = LeapHybridSampler()\n",
    "sampleset = hybrid.sample_qubo(qubo)\n",
    "samples = [dict(sample) for sample in sampleset.lowest().samples()]\n",
    "mM.add(samples)\n",
    "print(\"DWave Hybrid-sampler QUBO solutions: \\n{}\".format(mM.solutions()))"
   ]
  },
  {
   "cell_type": "markdown",
   "id": "6581f22d",
   "metadata": {},
   "source": [
    "- **NOTE**: ... however, the hybrid sampler doesn't always return the same minimum.\n",
    "> In this example the *qubo* is converted into DWave's BQM presentation of *mM assignment* and *hybrid.sample(...)* call is used to send the *bqm* to hybrid-sampler and to receive a sampleset, that is converted into a solution of mM assignment.  "
   ]
  },
  {
   "cell_type": "code",
   "execution_count": 4,
   "id": "6e076d3b",
   "metadata": {},
   "outputs": [
    {
     "name": "stdout",
     "output_type": "stream",
     "text": [
      "DWave Hybrid-sampler BQM solutions: \n",
      "M/7:18/; _*0/5:18/; p/3:6/; q/2:3/; r/2:1/\n",
      "\n"
     ]
    }
   ],
   "source": [
    "import dimod\n",
    "bqm = dimod.BQM.from_qubo(qubo)\n",
    "sampleset = hybrid.sample(bqm)\n",
    "samples = [dict(sample) for sample in sampleset.lowest().samples()]\n",
    "mM.reset()\n",
    "mM.add(samples)\n",
    "print(\"DWave Hybrid-sampler BQM solutions: \\n{}\".format(mM.solutions()))"
   ]
  },
  {
   "cell_type": "markdown",
   "id": "7581b476",
   "metadata": {},
   "source": [
    "Also, the same problem can be solved using **Dwave Advantage quantum annealer** as it is presented in the following example.\n",
    "> Important to notice that the quantum annealer will require additional operational arguments specified in [**kwargs**](https://docs.dwavesys.com/docs/latest/c_solver_parameters.html)."
   ]
  },
  {
   "cell_type": "code",
   "execution_count": 5,
   "id": "12ae6a03",
   "metadata": {},
   "outputs": [
    {
     "name": "stdout",
     "output_type": "stream",
     "text": [
      "DWave Advantage solutions: \n",
      "M/7:18/; _*0/5:18/; p/3:6/; q/2:3/; r/2:1/\n",
      "M/7:18/; _*0/5:9/; p/3:3/; q/2:3/; r/2:2/\n",
      "M/7:18/; _*0/5:6/; p/3:3/; q/2:2/; r/2:3/\n",
      "M/7:18/; _*0/5:6/; p/3:6/; q/2:1/; r/2:3/\n",
      "M/7:18/; _*0/5:6/; p/3:2/; q/2:3/; r/2:3/\n",
      "M/7:18/; _*0/5:6/; p/3:6/; q/2:1/; r/2:3/\n",
      "M/7:18/; _*0/5:18/; p/3:6/; q/2:3/; r/2:1/\n",
      "\n"
     ]
    }
   ],
   "source": [
    "mM.reset()\n",
    "\n",
    "from dwave.system import DWaveSampler, EmbeddingComposite\n",
    "qpu_advantage = DWaveSampler(solver={'topology__type': 'pegasus', 'qpu': True})\n",
    "kwargs = {'num_reads': 1000,\n",
    "            'answer_mode': 'histogram',\n",
    "            'chain_strength': 2  \n",
    "        }\n",
    "advantage = EmbeddingComposite(qpu_advantage)\n",
    "sampleset = advantage.sample_qubo(qubo, **kwargs)\n",
    "samples = [dict(sample) for sample in sampleset.lowest().samples()]\n",
    "mM.add(samples)\n",
    "print(\"DWave Advantage solutions: \\n{}\".format(mM.solutions()))"
   ]
  },
  {
   "cell_type": "markdown",
   "id": "73296007",
   "metadata": {},
   "source": [
    "## Add [IBM Qiskit](https://qiskit.org/documentation/getting_started.html) to local quantum virtual environment \n",
    "To be able to use IBM's analog quantum gates computer you will need to create IBM Quantum cloud account, install Qiskit python package and set up your API key. \n",
    "1. You can sign in to [IBM Quantum](https://quantum-computing.ibm.com/) using your github account\n",
    "2. Run the following command in your local quantum virtual environment to install qiskit package\n",
    "    > pip install --upgrade qiskit[visualization]\n",
    "    \n",
    "    This will install the Qiskit package with the extra visualization support to use visualization functionality or Jupyter notebooks.\n",
    "    \n",
    "3. [Instal your IBM Quantum API key](https://subscription.packtpub.com/book/programming/9781838828448/1/ch01lvl1sec06/installing-your-api-key-and-accessing-your-provider)\n",
    "    1. Copy API token from you IBM Quantum dashboard\n",
    "    2. From *Command Prompt* with active quantum virtual environment run \n",
    "        > python\n",
    "    3. In python run\n",
    "        > \\>>> from qiskit import IBMQ \n",
    "        >\n",
    "        > \\>>> IBMQ.save_account('#########')\n",
    "        >\n",
    "        > \\>>> exit()\n",
    "        \n",
    "        - NOTE: in the code above replace *#########* with the **API token** that you have copied\n",
    "\n",
    "Once all is done, you can run the follwing code to execute multiplication's qubo on IBM's quantum computer using qiskit QAOA and MinimumEigenOptimizer."
   ]
  },
  {
   "cell_type": "code",
   "execution_count": 9,
   "id": "45d2584a",
   "metadata": {},
   "outputs": [
    {
     "name": "stdout",
     "output_type": "stream",
     "text": [
      "d5o simulation solutions: \n",
      "A/4:3/; p/3:0/; q/2:3/\n",
      "A/4:3/; p/3:2/; q/2:1/\n",
      "A/4:3/; p/3:1/; q/2:2/\n",
      "A/4:3/; p/3:3/; q/2:0/\n",
      "\n"
     ]
    }
   ],
   "source": [
    "A = d5o.Qwhole(\"A\", 3)\n",
    "aA = A.assign(p + q)\n",
    "aA.reset()\n",
    "aA.solve()\n",
    "print(\"d5o simulation solutions: \\n{}\".format(aA.solutions()))"
   ]
  },
  {
   "cell_type": "code",
   "execution_count": 10,
   "id": "cc8466e7",
   "metadata": {},
   "outputs": [
    {
     "ename": "ModuleNotFoundError",
     "evalue": "No module named 'qiskit.aqua'",
     "output_type": "error",
     "traceback": [
      "\u001b[1;31m---------------------------------------------------------------------------\u001b[0m",
      "\u001b[1;31mModuleNotFoundError\u001b[0m                       Traceback (most recent call last)",
      "Input \u001b[1;32mIn [10]\u001b[0m, in \u001b[0;36m<module>\u001b[1;34m\u001b[0m\n\u001b[0;32m      1\u001b[0m aA\u001b[38;5;241m.\u001b[39mreset()\n\u001b[1;32m----> 3\u001b[0m \u001b[38;5;28;01mfrom\u001b[39;00m \u001b[38;5;21;01mdann5\u001b[39;00m\u001b[38;5;21;01m.\u001b[39;00m\u001b[38;5;21;01mqiskit\u001b[39;00m \u001b[38;5;28;01mimport\u001b[39;00m QuantumRequest\n\u001b[0;32m      5\u001b[0m request \u001b[38;5;241m=\u001b[39m QuantumRequest(aA)\n\u001b[0;32m      6\u001b[0m request\u001b[38;5;241m.\u001b[39mexecute()\n",
      "File \u001b[1;32m~\\AppData\\Local\\Envs\\d5o\\lib\\site-packages\\dann5\\qiskit.py:9\u001b[0m, in \u001b[0;36m<module>\u001b[1;34m\u001b[0m\n\u001b[0;32m      2\u001b[0m \u001b[38;5;124;03m\"\"\"\u001b[39;00m\n\u001b[0;32m      3\u001b[0m \u001b[38;5;124;03mCreated on Fri Oct 15 13:16:43 2021\u001b[39;00m\n\u001b[0;32m      4\u001b[0m \n\u001b[0;32m      5\u001b[0m \u001b[38;5;124;03m@author: Nebojsa.Vojinovic\u001b[39;00m\n\u001b[0;32m      6\u001b[0m \u001b[38;5;124;03m\"\"\"\u001b[39;00m\n\u001b[0;32m      7\u001b[0m \u001b[38;5;28;01mfrom\u001b[39;00m \u001b[38;5;21;01mqiskit\u001b[39;00m \u001b[38;5;28;01mimport\u001b[39;00m IBMQ\n\u001b[1;32m----> 9\u001b[0m \u001b[38;5;28;01mfrom\u001b[39;00m \u001b[38;5;21;01mqiskit\u001b[39;00m\u001b[38;5;21;01m.\u001b[39;00m\u001b[38;5;21;01maqua\u001b[39;00m \u001b[38;5;28;01mimport\u001b[39;00m aqua_globals, QuantumInstance\n\u001b[0;32m     10\u001b[0m \u001b[38;5;28;01mfrom\u001b[39;00m \u001b[38;5;21;01mqiskit\u001b[39;00m\u001b[38;5;21;01m.\u001b[39;00m\u001b[38;5;21;01maqua\u001b[39;00m\u001b[38;5;21;01m.\u001b[39;00m\u001b[38;5;21;01malgorithms\u001b[39;00m \u001b[38;5;28;01mimport\u001b[39;00m QAOA, NumPyMinimumEigensolver\n\u001b[0;32m     11\u001b[0m \u001b[38;5;28;01mfrom\u001b[39;00m \u001b[38;5;21;01mqiskit\u001b[39;00m\u001b[38;5;21;01m.\u001b[39;00m\u001b[38;5;21;01moptimization\u001b[39;00m\u001b[38;5;21;01m.\u001b[39;00m\u001b[38;5;21;01malgorithms\u001b[39;00m \u001b[38;5;28;01mimport\u001b[39;00m MinimumEigenOptimizer, RecursiveMinimumEigenOptimizer\n",
      "\u001b[1;31mModuleNotFoundError\u001b[0m: No module named 'qiskit.aqua'"
     ]
    }
   ],
   "source": [
    "aA.reset()\n",
    "\n",
    "from dann5.qiskit import QuantumRequest\n",
    "\n",
    "request = QuantumRequest(aA)\n",
    "request.execute()\n",
    "print(\"\\nQiskit Quantum solutions: \\n{}\".format(aA.solutions()))"
   ]
  }
 ],
 "metadata": {
  "kernelspec": {
   "display_name": "Python 3 (ipykernel)",
   "language": "python",
   "name": "python3"
  },
  "language_info": {
   "codemirror_mode": {
    "name": "ipython",
    "version": 3
   },
   "file_extension": ".py",
   "mimetype": "text/x-python",
   "name": "python",
   "nbconvert_exporter": "python",
   "pygments_lexer": "ipython3",
   "version": "3.10.11"
  }
 },
 "nbformat": 4,
 "nbformat_minor": 5
}
