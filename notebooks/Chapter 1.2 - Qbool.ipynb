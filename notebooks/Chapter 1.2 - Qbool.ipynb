{
 "cells": [
  {
   "cell_type": "markdown",
   "id": "2b3f22ea",
   "metadata": {},
   "source": [
    "# Chapter 1.2 - Qbool \n",
    "\n",
    "In this section of chapter 1 we will be walking through how to set Qbool variables, create expressions and assignments with those variables and solve those expressions and assignments.\n",
    "\n",
    "Qbool, Quantum boolean, is a quantum type supporting instantiation of and operations over variables which can have values True, False or superposition.\n",
    "\n",
    "To start you must import the Qbool class from dann5.\n",
    "\n",
    "An instance of Qbool can be created by use of constructor with a string parameter, which will initialize the instance in superposition state:"
   ]
  },
  {
   "cell_type": "code",
   "execution_count": 3,
   "id": "13fd24f2",
   "metadata": {},
   "outputs": [
    {
     "name": "stdout",
     "output_type": "stream",
     "text": [
      "\\S\\\n",
      "id\\S\\\n"
     ]
    }
   ],
   "source": [
    "from dann5.d5 import Qbool\n",
    "q_bool = Qbool()\n",
    "print(q_bool)\n",
    "\n",
    "q_bool.id(\"id\")\n",
    "print(q_bool)"
   ]
  },
  {
   "cell_type": "code",
   "execution_count": 9,
   "id": "16d002a3",
   "metadata": {},
   "outputs": [
    {
     "name": "stdout",
     "output_type": "stream",
     "text": [
      "q_bool\\S\\\n"
     ]
    }
   ],
   "source": [
    "q_bool = Qbool(\"q_bool\")\n",
    "print(q_bool)"
   ]
  },
  {
   "cell_type": "markdown",
   "id": "872d9ad0",
   "metadata": {},
   "source": [
    "Now we will set two Qbool variables for use in our expression."
   ]
  },
  {
   "cell_type": "code",
   "execution_count": 10,
   "id": "3e9fac29",
   "metadata": {},
   "outputs": [
    {
     "name": "stdout",
     "output_type": "stream",
     "text": [
      "nik\\S\\\n",
      "shawnie\\S\\\n"
     ]
    }
   ],
   "source": [
    "nik = Qbool(\"nik\")\n",
    "shawnie = Qbool(\"shawnie\")\n",
    "\n",
    "print(nik)\n",
    "print(shawnie)"
   ]
  },
  {
   "cell_type": "markdown",
   "id": "b65acbae",
   "metadata": {},
   "source": [
    "Now to set the expression for Qbool variables we use the same process as as we did for Qbits. \n",
    "\n",
    "In this case for Qbool types we will use the \"AND\" operation, which is a common operator to use for boolean types. \n",
    "\n",
    "As we covered in Qbit section (1.1), when outputting the decomposed version, using toString(True), we will see superposition values for all the variables."
   ]
  },
  {
   "cell_type": "code",
   "execution_count": 11,
   "id": "64a87cf1",
   "metadata": {},
   "outputs": [
    {
     "name": "stdout",
     "output_type": "stream",
     "text": [
      "(nik\\S\\ & shawnie\\S\\)\n",
      "_&1\\S\\ = nik\\S\\ & shawnie\\S\\; \n"
     ]
    }
   ],
   "source": [
    "expression = nik & shawnie;\n",
    "print(expression)\n",
    "print(expression.toString(True))"
   ]
  },
  {
   "cell_type": "markdown",
   "id": "c5d96d37",
   "metadata": {},
   "source": [
    "Now we can import the solver and activate it to solve the expression. \n",
    "\n",
    "All of the potential solutions will be printed. \n",
    "\n",
    "This time instead of 0 and 1 values in case of Qbit, we have T (true) or F (false) values."
   ]
  },
  {
   "cell_type": "code",
   "execution_count": 12,
   "id": "5909ce9f",
   "metadata": {},
   "outputs": [
    {
     "name": "stdout",
     "output_type": "stream",
     "text": [
      "_&1\\F\\; nik\\F\\; shawnie\\F\\\n",
      "_&1\\F\\; nik\\F\\; shawnie\\T\\\n",
      "_&1\\F\\; nik\\T\\; shawnie\\F\\\n",
      "_&1\\T\\; nik\\T\\; shawnie\\T\\\n",
      "\n"
     ]
    }
   ],
   "source": [
    "from dann5.dwave import Solver\n",
    "Solver.Active()\n",
    "print(expression.solve())"
   ]
  },
  {
   "cell_type": "markdown",
   "id": "80b076db",
   "metadata": {},
   "source": [
    "Now we can use a result variable to create an assignment, instead of an expression, for Qbool. This is to specify certain result values we are looking for (reference chapter 1.1). \n",
    "\n",
    "This time we set the value of the result variable as follows:\n",
    "\n",
    "> result_variable_name = Qbool(\"result_variable_name\", True)\n",
    "\n",
    "When we print the \"result\" variable, we see the value is true."
   ]
  },
  {
   "cell_type": "code",
   "execution_count": 14,
   "id": "e9c50280",
   "metadata": {},
   "outputs": [
    {
     "name": "stdout",
     "output_type": "stream",
     "text": [
      "result\\T\\\n"
     ]
    }
   ],
   "source": [
    "result = Qbool(\"result\",True)\n",
    "print(result)"
   ]
  },
  {
   "cell_type": "markdown",
   "id": "b7c69067",
   "metadata": {},
   "source": [
    "Now as we saw in the last section (1.1) we must reset the expression before we pass it to the assignment.\n",
    "\n",
    "**Note** we can use ._() after the result instead of .assign() as a shorthand for that function "
   ]
  },
  {
   "cell_type": "code",
   "execution_count": 15,
   "id": "4b2b1f20",
   "metadata": {},
   "outputs": [
    {
     "name": "stdout",
     "output_type": "stream",
     "text": [
      "result\\T\\ = (nik\\S\\ & shawnie\\S\\)\n",
      "result\\T\\; nik\\T\\; shawnie\\T\\\n",
      "\n"
     ]
    }
   ],
   "source": [
    "expression.reset()\n",
    "\n",
    "assignment = result._(expression) # same as result.assign(expression)\n",
    "\n",
    "print(assignment.toString())\n",
    "print(assignment.solve())"
   ]
  },
  {
   "cell_type": "markdown",
   "id": "e4babbae",
   "metadata": {},
   "source": [
    "Feel free to use the cell below to play around with the other operators on Qbool types. \n",
    "\n",
    "All operators are listed at the bottom of this notebook."
   ]
  },
  {
   "cell_type": "code",
   "execution_count": 17,
   "id": "fe966bb5",
   "metadata": {},
   "outputs": [
    {
     "name": "stdout",
     "output_type": "stream",
     "text": [
      "result2\\T\\ = (roger\\S\\ !^ bobby\\S\\)\n",
      "result2\\T\\; roger\\F\\; bobby\\F\\\n",
      "result2\\T\\; roger\\T\\; bobby\\T\\\n",
      "\n"
     ]
    }
   ],
   "source": [
    "roger = Qbool(\"roger\")\n",
    "bobby = Qbool(\"bobby\")\n",
    "result2 = Qbool(\"result2\", 1)\n",
    "\n",
    "assignment2 = result2.assign(roger.nxor(bobby))\n",
    "print(assignment2)\n",
    "\n",
    "print(assignment2.solve())"
   ]
  },
  {
   "cell_type": "markdown",
   "id": "932e6051",
   "metadata": {},
   "source": [
    "Logical operators:\n",
    "\n",
    "    Type     Operation\n",
    "\n",
    "    AND       x & y\n",
    "\n",
    "    OR        x | y\n",
    "\n",
    "    XOR       x ^ y           \n",
    "\n",
    "    NAND     !(x & y)            \n",
    "\n",
    "    NOR      !(x | y)\n",
    "\n",
    "    NXOR     x.nxor(y) "
   ]
  },
  {
   "cell_type": "markdown",
   "id": "ce4bdec1",
   "metadata": {},
   "source": [
    "In the next section of this chapter we will cover Qbin type."
   ]
  }
 ],
 "metadata": {
  "kernelspec": {
   "display_name": "Python 3 (ipykernel)",
   "language": "python",
   "name": "python3"
  },
  "language_info": {
   "codemirror_mode": {
    "name": "ipython",
    "version": 3
   },
   "file_extension": ".py",
   "mimetype": "text/x-python",
   "name": "python",
   "nbconvert_exporter": "python",
   "pygments_lexer": "ipython3",
   "version": "3.10.11"
  }
 },
 "nbformat": 4,
 "nbformat_minor": 5
}
