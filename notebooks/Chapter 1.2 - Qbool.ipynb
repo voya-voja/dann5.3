{
 "cells": [
  {
   "cell_type": "markdown",
   "id": "2b3f22ea",
   "metadata": {},
   "source": [
    "# Chapter 1.2 - Qbool \n",
    "\n",
    "In this chapter we will be walking through how to define *Qbool* variables, create quantum expressions and assignments by using those variables, and solve those expressions and assignments.\n",
    "\n",
    "***Qbool*, Quantum boolean**, is a quantum type supporting instantiation of and operations over variables which can **have values *True, False* or superposition**.\n",
    "\n",
    "To start you must import the *Qbool* class from d5 module of dann5 package.\n",
    "\n",
    "Like in case of *Qbit*, an instance of *Qbool* object can be created in Python by use of a constructor without any parameter, which will initialize the instance without a name in a superposition state:"
   ]
  },
  {
   "cell_type": "code",
   "execution_count": 1,
   "id": "87def8a6",
   "metadata": {},
   "outputs": [
    {
     "name": "stdout",
     "output_type": "stream",
     "text": [
      "\\S\\\n",
      "id\\S\\\n"
     ]
    }
   ],
   "source": [
    "from dann5.d5 import Qbool\n",
    "q_bool = Qbool()\n",
    "print(q_bool)\n",
    "\n",
    "q_bool.id(\"id\")\n",
    "print(q_bool)"
   ]
  },
  {
   "cell_type": "markdown",
   "id": "09699035",
   "metadata": {},
   "source": [
    "Again, as is the case with all other quantum types, we see from the example above and below that the identity of a *Qbool* variable in a quantum space can be modified or retrieved by use of *id()* (setter and getter) methods.\n",
    "\n",
    "An instance of *Qbool* can be created by use of constructor with a string parameter, which will initialize the instance in a superposition state:"
   ]
  },
  {
   "cell_type": "code",
   "execution_count": 2,
   "id": "16d002a3",
   "metadata": {},
   "outputs": [
    {
     "name": "stdout",
     "output_type": "stream",
     "text": [
      "q_bool\\S\\\n",
      "q_bool\n"
     ]
    }
   ],
   "source": [
    "q_bool = Qbool(\"q_bool\")\n",
    "print(q_bool)\n",
    "print(q_bool.id())"
   ]
  },
  {
   "cell_type": "markdown",
   "id": "1738d2bf",
   "metadata": {},
   "source": [
    "- **Note**: As all quantum variables will need specified quantum identity, the best practice is to specify the identity at the time of definition of a quantum variable.\n",
    "\n",
    "As in case of other quantum types, it is possible to initialize a *Qbool* variable with a specific deterministic value as a quantum constant, like *_F_* and *_T_* defined in the code cell below:"
   ]
  },
  {
   "cell_type": "code",
   "execution_count": 3,
   "id": "1e87844d",
   "metadata": {},
   "outputs": [
    {
     "name": "stdout",
     "output_type": "stream",
     "text": [
      "_F_\\F\\, _T_\\T\\, y\\S\\\n"
     ]
    }
   ],
   "source": [
    "_F_ = Qbool(\"_F_\", False)\n",
    "_T_ = Qbool(\"_T_\", True)\n",
    "y = Qbool(\"y\", 5)\n",
    "print(\"{}, {}, {}\".format(_F_, _T_, y))"
   ]
  },
  {
   "cell_type": "markdown",
   "id": "9244062f",
   "metadata": {},
   "source": [
    "A value of a *Qbool* variable can be explicitly set or retrieved by use of *value()* methods, like in the following example.\n",
    "- **Note**:\n",
    "    - The value of previously defined *Qbool* variable *y* has been changed to *T*(rue) state while *q_bool* has been changed to *F*(alse) state.\n",
    "    - The Python values *True*, *1* and *ord('T')*, or *False*, *0* and *ord('F')* are interchangeable when setting, retrieving or initializing *Qbool* variables with deterministic values.\n",
    "    - Use of any other value will initialize or set the value of *Qbool* variables to *S*(uperposition) state, i.e. value *83*."
   ]
  },
  {
   "cell_type": "code",
   "execution_count": 4,
   "id": "4ce913dd",
   "metadata": {},
   "outputs": [
    {
     "name": "stdout",
     "output_type": "stream",
     "text": [
      "_F_\\F\\, _T_\\T\\, y\\T\\, q_bool\\F\\\n",
      "0, 1, 1, 0\n",
      "\n",
      "a\\T\\, b\\F\\, c\\S\\, y\\S\\\n",
      "1, 0, 83, 83\n"
     ]
    }
   ],
   "source": [
    "y.value(True)\n",
    "q_bool.value(0)\n",
    "print(\"{}, {}, {}, {}\".format(_F_, _T_, y, q_bool))\n",
    "print(\"{}, {}, {}, {}\\n\".format(_F_.value(), _T_.value(), y.value(), q_bool.value()))\n",
    "\n",
    "a = Qbool(\"a\", 1)\n",
    "b = Qbool(\"b\", ord('F'))\n",
    "c = Qbool(\"c\", 5)\n",
    "y.value(ord('M'))\n",
    "print(\"{}, {}, {}, {}\".format(a, b, c, y))\n",
    "print(\"{}, {}, {}, {}\".format(a.value(), b.value(), c.value(), y.value()))"
   ]
  },
  {
   "cell_type": "markdown",
   "id": "872d9ad0",
   "metadata": {},
   "source": [
    "## Qbool expressions\n",
    "Now we will set two *Qbool* variables for use in a **quantum expression**."
   ]
  },
  {
   "cell_type": "code",
   "execution_count": 5,
   "id": "3e9fac29",
   "metadata": {},
   "outputs": [
    {
     "name": "stdout",
     "output_type": "stream",
     "text": [
      "nik\\S\\\n",
      "shawnie\\S\\\n"
     ]
    }
   ],
   "source": [
    "nik = Qbool(\"nik\")\n",
    "shawnie = Qbool(\"shawnie\")\n",
    "\n",
    "print(nik)\n",
    "print(shawnie)"
   ]
  },
  {
   "cell_type": "markdown",
   "id": "b65acbae",
   "metadata": {},
   "source": [
    "To set a quantum expression for defined *Qbool* variables, *nik* and *shawnie*, we use the same syntax as as we did for *Qbit*-s in previous chapter. \n",
    "\n",
    "Again, we are going to use ***AND (&)*** operation, common for bit and boolean types. However, in case of boolean types, like *Qbool*, semantically it is considered a logical operation. In dann5 it **is a quantum logical operation**.\n",
    "\n",
    "As we covered in *Qbit* chapter (1.1), when printing the decomposed version (d5vc) of a quantum expression, using *toString(True)*, we will see dann5 system generated resulting variable for the expression in superposition state."
   ]
  },
  {
   "cell_type": "code",
   "execution_count": 6,
   "id": "64a87cf1",
   "metadata": {},
   "outputs": [
    {
     "name": "stdout",
     "output_type": "stream",
     "text": [
      "(nik\\S\\ & shawnie\\S\\)\n",
      "_&0\\S\\ = nik\\S\\ & shawnie\\S\\; \n"
     ]
    }
   ],
   "source": [
    "expression = nik & shawnie;\n",
    "print(expression)\n",
    "print(expression.toString(True))"
   ]
  },
  {
   "cell_type": "markdown",
   "id": "c5d96d37",
   "metadata": {},
   "source": [
    "Like in the previous chapter, we can import and activate the default solver to solve the quantum expression. \n",
    "\n",
    "The quantum expression *solve()* method will return a string presentation of all potential solutions, which can be printed. \n",
    "\n",
    "This time instead of *0* and *1* values in case of *Qbit* type, the *Qbool* variables will have *T* (true) or *F* (false) values."
   ]
  },
  {
   "cell_type": "code",
   "execution_count": 7,
   "id": "5909ce9f",
   "metadata": {},
   "outputs": [
    {
     "name": "stdout",
     "output_type": "stream",
     "text": [
      "_&0\\F\\; nik\\F\\; shawnie\\F\\\n",
      "_&0\\F\\; nik\\F\\; shawnie\\T\\\n",
      "_&0\\F\\; nik\\T\\; shawnie\\F\\\n",
      "_&0\\T\\; nik\\T\\; shawnie\\T\\\n",
      "\n"
     ]
    }
   ],
   "source": [
    "from dann5.dwave import Solver\n",
    "Solver.Active()\n",
    "print(expression.solve())"
   ]
  },
  {
   "cell_type": "markdown",
   "id": "80b076db",
   "metadata": {},
   "source": [
    "## Qbool assignments\n",
    "\n",
    "We can define a target result variable to create a **quantum assignment**, instead of a quantum expression, for *Qbool* variables. This is to specify the result value we are looking for (reference chapter 1.1). \n",
    "\n",
    "This time we set the value of the result variable as follows:\n",
    "\n",
    "> result_variable = Qbool(\"result_variable_name\", True)\n",
    "\n",
    "When we print the \"*result*\" variable, we see its value is *T* (true) in quantum space."
   ]
  },
  {
   "cell_type": "code",
   "execution_count": 8,
   "id": "e9c50280",
   "metadata": {},
   "outputs": [
    {
     "name": "stdout",
     "output_type": "stream",
     "text": [
      "result\\T\\\n"
     ]
    }
   ],
   "source": [
    "result = Qbool(\"result\",True)\n",
    "print(result)"
   ]
  },
  {
   "cell_type": "markdown",
   "id": "b7c69067",
   "metadata": {},
   "source": [
    "As we saw in the previous chapter (1.1) we must reset the *expression* before it is reused to define the quantum assignment (referenced by Python variable *assignment*).\n",
    "\n",
    "**Note** we can use *._()* after the result variable instead of *.assign()* as a shorthand for that function."
   ]
  },
  {
   "cell_type": "code",
   "execution_count": 9,
   "id": "4b2b1f20",
   "metadata": {},
   "outputs": [
    {
     "name": "stdout",
     "output_type": "stream",
     "text": [
      "result\\T\\ = (nik\\S\\ & shawnie\\S\\)\n",
      "result\\T\\; nik\\T\\; shawnie\\T\\\n",
      "\n"
     ]
    }
   ],
   "source": [
    "expression.reset()\n",
    "\n",
    "assignment = result._(expression) # same as result.assign(expression)\n",
    "\n",
    "print(assignment.toString())\n",
    "print(assignment.solve())"
   ]
  },
  {
   "cell_type": "markdown",
   "id": "d57b0bc5",
   "metadata": {},
   "source": [
    "## Try it\n",
    "Feel free to use the cell below to play around with the other logical operations and operators of the *Qbool* type. \n",
    "\n",
    "The use of all operations including the use of tilde operator (inversion) is listed at the bottom of this notebook."
   ]
  },
  {
   "cell_type": "code",
   "execution_count": 10,
   "id": "55935fcb",
   "metadata": {},
   "outputs": [
    {
     "name": "stdout",
     "output_type": "stream",
     "text": [
      "result2\\T\\ = (result2\\T\\ ~ (roger\\S\\ & bobby\\S\\))\n",
      "result2\\T\\; _&1\\F\\; roger\\F\\; bobby\\F\\\n",
      "result2\\T\\; _&1\\F\\; roger\\T\\; bobby\\F\\\n",
      "result2\\T\\; _&1\\F\\; roger\\F\\; bobby\\T\\\n",
      "\n"
     ]
    }
   ],
   "source": [
    "roger = Qbool(\"roger\")\n",
    "bobby = Qbool(\"bobby\")\n",
    "result2 = Qbool(\"result2\", 1)\n",
    "\n",
    "assignment2 = result2.assign(~(roger & bobby))\n",
    "print(assignment2)\n",
    "\n",
    "print(assignment2.solve())"
   ]
  },
  {
   "cell_type": "markdown",
   "id": "9c35781a",
   "metadata": {},
   "source": [
    "Logical operators:\n",
    "\n",
    "    Type     Operation\n",
    "\n",
    "    AND       x & y\n",
    "\n",
    "    OR        x | y\n",
    "\n",
    "    XOR       x ^ y           \n",
    "\n",
    "    NAND     !(x & y)            \n",
    "\n",
    "    NOR      !(x | y)\n",
    "\n",
    "    NXOR     x.nxor(y) "
   ]
  },
  {
   "cell_type": "markdown",
   "id": "ce4bdec1",
   "metadata": {},
   "source": [
    "**The next chapter** we will cover ***Qbin* type**. In chapter 2.2., we will expand and look at how *Qbool* operations and operands are used to define more complex quantum expressions and assignments."
   ]
  }
 ],
 "metadata": {
  "kernelspec": {
   "display_name": "Python 3 (ipykernel)",
   "language": "python",
   "name": "python3"
  },
  "language_info": {
   "codemirror_mode": {
    "name": "ipython",
    "version": 3
   },
   "file_extension": ".py",
   "mimetype": "text/x-python",
   "name": "python",
   "nbconvert_exporter": "python",
   "pygments_lexer": "ipython3",
   "version": "3.10.4"
  }
 },
 "nbformat": 4,
 "nbformat_minor": 5
}
