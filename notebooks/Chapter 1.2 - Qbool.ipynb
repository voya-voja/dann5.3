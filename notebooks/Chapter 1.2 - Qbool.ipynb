{
 "cells": [
  {
   "cell_type": "markdown",
   "id": "2b3f22ea",
   "metadata": {},
   "source": [
    "# Chapter 1.2 - Qbool \n",
    "\n",
    "In this section of chapter 1 we will be walking through how to set Qbool variables, create expressions and assignments with those variables and solve those expressions and assignments.\n",
    "\n",
    "Qbool Quantum boolean, Qbool is a quantum type supporting instantiation of and operations over variables which can have values True, False or superposition.\n",
    "\n",
    "To start you must import the Qbool class from dann5.\n",
    "\n",
    "An instance of Qbool can be created by use of constructor with a string parameter, which will initialize the instance in superposition state:"
   ]
  },
  {
   "cell_type": "code",
   "execution_count": 3,
   "id": "16d002a3",
   "metadata": {},
   "outputs": [
    {
     "name": "stdout",
     "output_type": "stream",
     "text": [
      "q_bool\\S\\\n"
     ]
    }
   ],
   "source": [
    "from dann5.d5 import Qbool\n",
    "q_bool = Qbool(\"q_bool\")\n",
    "print(q_bool)"
   ]
  },
  {
   "cell_type": "markdown",
   "id": "872d9ad0",
   "metadata": {},
   "source": [
    "Now we will set two Qbool variables for use in our expression."
   ]
  },
  {
   "cell_type": "code",
   "execution_count": 4,
   "id": "3e9fac29",
   "metadata": {},
   "outputs": [
    {
     "name": "stdout",
     "output_type": "stream",
     "text": [
      "nik\\S\\\n",
      "shawnie\\S\\\n"
     ]
    }
   ],
   "source": [
    "nik = Qbool(\"nik\")\n",
    "shawnie = Qbool(\"shawnie\")\n",
    "\n",
    "print(nik)\n",
    "print(shawnie)"
   ]
  },
  {
   "cell_type": "code",
   "execution_count": 5,
   "id": "64a87cf1",
   "metadata": {},
   "outputs": [
    {
     "name": "stdout",
     "output_type": "stream",
     "text": [
      "(nik\\S\\ & shawnie\\S\\)\n",
      "_&0\\S\\ = nik\\S\\ & shawnie\\S\\; \n"
     ]
    }
   ],
   "source": [
    "expression = nik & shawnie;\n",
    "print(expression)\n",
    "print(expression.toString(True))"
   ]
  },
  {
   "cell_type": "code",
   "execution_count": 6,
   "id": "5909ce9f",
   "metadata": {},
   "outputs": [
    {
     "name": "stdout",
     "output_type": "stream",
     "text": [
      "_&0\\F\\; nik\\F\\; shawnie\\F\\\n",
      "_&0\\F\\; nik\\F\\; shawnie\\T\\\n",
      "_&0\\F\\; nik\\T\\; shawnie\\F\\\n",
      "_&0\\T\\; nik\\T\\; shawnie\\T\\\n",
      "\n"
     ]
    }
   ],
   "source": [
    "from dann5.dwave import Solver\n",
    "Solver.Active()\n",
    "print(expression.solve())"
   ]
  },
  {
   "cell_type": "code",
   "execution_count": 7,
   "id": "e9c50280",
   "metadata": {},
   "outputs": [
    {
     "name": "stdout",
     "output_type": "stream",
     "text": [
      "result\\T\\\n"
     ]
    }
   ],
   "source": [
    "result = Qbool(\"result\",True)\n",
    "print(result)"
   ]
  },
  {
   "cell_type": "code",
   "execution_count": 8,
   "id": "4b2b1f20",
   "metadata": {},
   "outputs": [
    {
     "name": "stdout",
     "output_type": "stream",
     "text": [
      "result\\T\\ = (nik\\S\\ & shawnie\\S\\)\n",
      "result\\T\\; nik\\T\\; shawnie\\T\\\n",
      "\n"
     ]
    }
   ],
   "source": [
    "expression.reset()\n",
    "\n",
    "\n",
    "assignment = result._(expression)\n",
    "\n",
    "print(assignment.toString())\n",
    "print(assignment.solve())"
   ]
  },
  {
   "cell_type": "markdown",
   "id": "ce4bdec1",
   "metadata": {},
   "source": [
    "In the next section we will cover Qbin type."
   ]
  }
 ],
 "metadata": {
  "kernelspec": {
   "display_name": "Python 3 (ipykernel)",
   "language": "python",
   "name": "python3"
  },
  "language_info": {
   "codemirror_mode": {
    "name": "ipython",
    "version": 3
   },
   "file_extension": ".py",
   "mimetype": "text/x-python",
   "name": "python",
   "nbconvert_exporter": "python",
   "pygments_lexer": "ipython3",
   "version": "3.10.11"
  }
 },
 "nbformat": 4,
 "nbformat_minor": 5
}
